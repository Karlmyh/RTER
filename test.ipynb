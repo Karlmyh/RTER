{
 "cells": [
  {
   "cell_type": "markdown",
   "id": "b252df77",
   "metadata": {},
   "source": [
    "## Test Distribution Visualization"
   ]
  },
  {
   "cell_type": "code",
   "execution_count": 1,
   "id": "494109e0",
   "metadata": {},
   "outputs": [],
   "source": [
    "from RTER import RegressionTree\n",
    "from distribution import TestDistribution\n",
    "import numpy as np\n",
    "\n",
    "\n",
    "from sklearn.metrics import mean_squared_error as MSE\n",
    "import matplotlib.pyplot as plt\n",
    "\n",
    "from IPython.core.interactiveshell import InteractiveShell\n",
    "InteractiveShell.ast_node_interactivity = \"all\"\n",
    "\n",
    "from time import time\n",
    "\n",
    "from comparison.ensemble import RegressionTreeBoosting, RegressionTreeEnsemble\n",
    "from comparison.EKNN import EKNN"
   ]
  },
  {
   "cell_type": "code",
   "execution_count": 3,
   "id": "fa6d479e",
   "metadata": {},
   "outputs": [
    {
     "data": {
      "text/plain": [
       "0.08027985527365845"
      ]
     },
     "execution_count": 3,
     "metadata": {},
     "output_type": "execute_result"
    },
    {
     "data": {
      "text/plain": [
       "<matplotlib.contour.QuadContourSet at 0x7fba28f5bb90>"
      ]
     },
     "execution_count": 3,
     "metadata": {},
     "output_type": "execute_result"
    },
    {
     "data": {
      "text/plain": [
       "<matplotlib.colorbar.Colorbar at 0x7fba28eba350>"
      ]
     },
     "execution_count": 3,
     "metadata": {},
     "output_type": "execute_result"
    },
    {
     "data": {
      "image/png": "[encoded data removed]",
      "text/plain": [
       "<Figure size 432x288 with 2 Axes>"
      ]
     },
     "metadata": {
      "needs_background": "light"
     },
     "output_type": "display_data"
    }
   ],
   "source": [
    "generator=TestDistribution(6).returnDistribution()\n",
    "np.random.seed(3)\n",
    "X_train,Y_train=generator.generate(1000)\n",
    "axis0,axis1 = np.meshgrid(np.arange(0,1,0.01),np.arange(0,1,0.01))\n",
    "X_grid = np.array([axis0.ravel(),axis1.ravel()]).T\n",
    "model = RegressionTree(estimator=\"extrapolation_estimator\",\n",
    "                         splitter=\"maxedge\",\n",
    "                         min_samples_split=30,\n",
    "                         max_depth=3,\n",
    "                         order=1,\n",
    "                         random_state=4,\n",
    "                         truncate_ratio_low= 0.1,\n",
    "                         truncate_ratio_up= 0.98)\n",
    "model.fit(X_train, Y_train)\n",
    "predict_result=model.predict(X_grid).reshape(-1,100)\n",
    "np.mean((model.predict(X_grid)-np.mean(X_grid,axis=1))**2)\n",
    "plt.contourf(axis0, axis1,predict_result) #,vmin=0,vmax=20)\n",
    "plt.colorbar()"
   ]
  },
  {
   "cell_type": "code",
   "execution_count": null,
   "id": "eb447bf0",
   "metadata": {},
   "outputs": [],
   "source": []
  },
  {
   "cell_type": "code",
   "execution_count": null,
   "id": "23312396",
   "metadata": {},
   "outputs": [],
   "source": []
  },
  {
   "cell_type": "code",
   "execution_count": 4,
   "id": "c6be2a13",
   "metadata": {},
   "outputs": [
    {
     "data": {
      "text/plain": [
       "GradientBoostingRegressor(n_estimators=2)"
      ]
     },
     "execution_count": 4,
     "metadata": {},
     "output_type": "execute_result"
    },
    {
     "data": {
      "text/plain": [
       "0.02700280573473826"
      ]
     },
     "execution_count": 4,
     "metadata": {},
     "output_type": "execute_result"
    }
   ],
   "source": [
    "from sklearn.ensemble import GradientBoostingRegressor\n",
    "\n",
    "\n",
    "model_GBRT = GradientBoostingRegressor(n_estimators = 2)\n",
    "\n",
    "model_GBRT.fit(X_train, Y_train.ravel())\n",
    "y_hat=model_GBRT.predict(X_grid)\n",
    "mse_score = MSE(y_hat, np.mean(X_grid,axis=1))\n",
    "mse_score"
   ]
  },
  {
   "cell_type": "code",
   "execution_count": 1,
   "id": "2b180660",
   "metadata": {},
   "outputs": [],
   "source": [
    "from RTER import RegressionTree\n",
    "from distribution import TestDistribution\n",
    "import numpy as np\n",
    "\n",
    "\n",
    "from sklearn.metrics import mean_squared_error as MSE\n",
    "import matplotlib.pyplot as plt\n",
    "\n",
    "from IPython.core.interactiveshell import InteractiveShell\n",
    "InteractiveShell.ast_node_interactivity = \"all\"\n",
    "\n",
    "from time import time\n"
   ]
  },
  {
   "cell_type": "code",
   "execution_count": 2,
   "id": "45fc440b",
   "metadata": {},
   "outputs": [
    {
     "data": {
      "text/plain": [
       "<matplotlib.contour.QuadContourSet at 0x7fd786c98f40>"
      ]
     },
     "execution_count": 2,
     "metadata": {},
     "output_type": "execute_result"
    },
    {
     "data": {
      "text/plain": [
       "<matplotlib.colorbar.Colorbar at 0x7fd784a35e80>"
      ]
     },
     "execution_count": 2,
     "metadata": {},
     "output_type": "execute_result"
    },
    {
     "data": {
      "image/png": "[encoded data removed]",
      "text/plain": [
       "<Figure size 432x288 with 2 Axes>"
      ]
     },
     "metadata": {
      "needs_background": "light"
     },
     "output_type": "display_data"
    }
   ],
   "source": [
    "generator=TestDistribution(8).returnDistribution()\n",
    "np.random.seed(3)\n",
    "\n",
    "axis0,axis1 = np.meshgrid(np.arange(0,1,0.01),np.arange(0,1,0.01))\n",
    "X_grid = np.array([axis0.ravel(),axis1.ravel()]).T\n",
    "\n",
    "predict_result=generator.evaluate(X_grid).reshape(-1,100)\n",
    "plt.contourf(axis0, axis1,predict_result) #,vmin=0,vmax=20)\n",
    "plt.colorbar()"
   ]
  },
  {
   "cell_type": "code",
   "execution_count": null,
   "id": "9cd2aae8",
   "metadata": {},
   "outputs": [],
   "source": []
  },
  {
   "cell_type": "code",
   "execution_count": 3,
   "id": "69919989",
   "metadata": {},
   "outputs": [
    {
     "data": {
      "text/plain": [
       "<matplotlib.contour.QuadContourSet at 0x7fd7840c3280>"
      ]
     },
     "execution_count": 3,
     "metadata": {},
     "output_type": "execute_result"
    },
    {
     "data": {
      "text/plain": [
       "<matplotlib.colorbar.Colorbar at 0x7fd783a75ac0>"
      ]
     },
     "execution_count": 3,
     "metadata": {},
     "output_type": "execute_result"
    },
    {
     "data": {
      "text/plain": [
       "0.01694696023816199"
      ]
     },
     "execution_count": 3,
     "metadata": {},
     "output_type": "execute_result"
    },
    {
     "data": {
      "text/plain": [
       "0.1167940165552408"
      ]
     },
     "execution_count": 3,
     "metadata": {},
     "output_type": "execute_result"
    },
    {
     "data": {
      "image/png": "[encoded data removed]",
      "text/plain": [
       "<Figure size 432x288 with 2 Axes>"
      ]
     },
     "metadata": {
      "needs_background": "light"
     },
     "output_type": "display_data"
    }
   ],
   "source": [
    "generator=TestDistribution(8).returnDistribution()\n",
    "np.random.seed(1)\n",
    "X_train,Y_train=generator.generate(3000)\n",
    "X_test,Y_test = generator.generate(10000)\n",
    "axis0,axis1 = np.meshgrid(np.arange(0,1,0.01),np.arange(0,1,0.01))\n",
    "X_grid = np.array([axis0.ravel(),axis1.ravel()]).T\n",
    "model = RegressionTree(estimator=\"pointwise_extrapolation_estimator\",\n",
    "                         splitter=\"maxedge\",\n",
    "                         min_samples_split=10,\n",
    "                         max_depth=4,\n",
    "                         order=13,\n",
    "                         random_state=4,\n",
    "                         truncate_ratio_low=0,\n",
    "                         truncate_ratio_up= 1,\n",
    "                      r_range_low=0,\n",
    "                      r_range_up=0.7,\n",
    "                      step=2,\n",
    "                      lamda=0.5)\n",
    "model.fit(X_train, Y_train)\n",
    "predict_result=model.predict(X_grid).reshape(-1,100)\n",
    "plt.contourf(axis0, axis1,predict_result) #,vmin=0,vmax=20)\n",
    "plt.colorbar()\n",
    "MSE(model.predict(X_grid),generator.evaluate(X_grid))\n",
    "MSE(model.predict(X_test),Y_test)\n"
   ]
  },
  {
   "cell_type": "code",
   "execution_count": null,
   "id": "0c8486dd",
   "metadata": {},
   "outputs": [],
   "source": []
  },
  {
   "cell_type": "code",
   "execution_count": 4,
   "id": "1cd66fd3",
   "metadata": {},
   "outputs": [
    {
     "data": {
      "text/plain": [
       "0.10963126846177852"
      ]
     },
     "execution_count": 4,
     "metadata": {},
     "output_type": "execute_result"
    }
   ],
   "source": [
    "from sklearn.ensemble import GradientBoostingRegressor\n",
    "\n",
    "\n",
    "model_GBRT = GradientBoostingRegressor(n_estimators = 150)\n",
    "\n",
    "_=model_GBRT.fit(X_train, Y_train)\n",
    "y_hat=model_GBRT.predict(X_test)\n",
    "mse_score = MSE(y_hat, Y_test)\n",
    "mse_score"
   ]
  },
  {
   "cell_type": "code",
   "execution_count": null,
   "id": "06f3bd90",
   "metadata": {},
   "outputs": [],
   "source": []
  },
  {
   "cell_type": "code",
   "execution_count": null,
   "id": "07009759",
   "metadata": {},
   "outputs": [],
   "source": []
  },
  {
   "cell_type": "code",
   "execution_count": 5,
   "id": "ec9f7fe7",
   "metadata": {},
   "outputs": [
    {
     "data": {
      "text/plain": [
       "array([[0.  , 0.  ],\n",
       "       [0.25, 0.25]])"
      ]
     },
     "execution_count": 5,
     "metadata": {},
     "output_type": "execute_result"
    },
    {
     "ename": "TypeError",
     "evalue": "get_node_extrapolation() missing 1 required positional argument: 'lamda'",
     "output_type": "error",
     "traceback": [
      "\u001b[0;31m---------------------------------------------------------------------------\u001b[0m",
      "\u001b[0;31mTypeError\u001b[0m                                 Traceback (most recent call last)",
      "\u001b[0;32m/tmp/ipykernel_32537/4135673218.py\u001b[0m in \u001b[0;36m<module>\u001b[0;34m\u001b[0m\n\u001b[1;32m      7\u001b[0m \u001b[0morder\u001b[0m\u001b[0;34m,\u001b[0m \u001b[0mtruncate_ratio_low\u001b[0m\u001b[0;34m,\u001b[0m \u001b[0mtruncate_ratio_up\u001b[0m \u001b[0;34m,\u001b[0m \u001b[0mr_range_low\u001b[0m\u001b[0;34m,\u001b[0m \u001b[0mr_range_up\u001b[0m\u001b[0;34m,\u001b[0m \u001b[0mstep\u001b[0m\u001b[0;34m=\u001b[0m \u001b[0;36m1\u001b[0m\u001b[0;34m,\u001b[0m\u001b[0;36m0\u001b[0m\u001b[0;34m,\u001b[0m\u001b[0;36m1\u001b[0m\u001b[0;34m,\u001b[0m\u001b[0;36m0\u001b[0m\u001b[0;34m,\u001b[0m\u001b[0;36m0.7\u001b[0m\u001b[0;34m,\u001b[0m\u001b[0;36m2\u001b[0m\u001b[0;34m\u001b[0m\u001b[0;34m\u001b[0m\u001b[0m\n\u001b[1;32m      8\u001b[0m \u001b[0;34m\u001b[0m\u001b[0m\n\u001b[0;32m----> 9\u001b[0;31m \u001b[0msorted_ratio\u001b[0m\u001b[0;34m,\u001b[0m \u001b[0msorted_prediction\u001b[0m\u001b[0;34m,\u001b[0m \u001b[0mintercept\u001b[0m \u001b[0;34m=\u001b[0m \u001b[0mERT_model\u001b[0m\u001b[0;34m.\u001b[0m\u001b[0mget_node_extrapolation\u001b[0m\u001b[0;34m(\u001b[0m\u001b[0mdt_X\u001b[0m\u001b[0;34m,\u001b[0m \u001b[0mdt_Y\u001b[0m\u001b[0;34m,\u001b[0m \u001b[0mX_extra\u001b[0m\u001b[0;34m,\u001b[0m \u001b[0mX_range\u001b[0m\u001b[0;34m,\u001b[0m \u001b[0morder\u001b[0m\u001b[0;34m,\u001b[0m \u001b[0mtruncate_ratio_low\u001b[0m\u001b[0;34m,\u001b[0m \u001b[0mtruncate_ratio_up\u001b[0m\u001b[0;34m,\u001b[0m\u001b[0mr_range_low\u001b[0m\u001b[0;34m,\u001b[0m \u001b[0mr_range_up\u001b[0m\u001b[0;34m,\u001b[0m\u001b[0mstep\u001b[0m\u001b[0;34m)\u001b[0m\u001b[0;34m\u001b[0m\u001b[0;34m\u001b[0m\u001b[0m\n\u001b[0m\u001b[1;32m     10\u001b[0m \u001b[0m_\u001b[0m\u001b[0;34m=\u001b[0m\u001b[0mplt\u001b[0m\u001b[0;34m.\u001b[0m\u001b[0mscatter\u001b[0m\u001b[0;34m(\u001b[0m\u001b[0;34m(\u001b[0m\u001b[0msorted_ratio\u001b[0m\u001b[0;34m)\u001b[0m\u001b[0;34m,\u001b[0m\u001b[0msorted_prediction\u001b[0m\u001b[0;34m)\u001b[0m\u001b[0;34m\u001b[0m\u001b[0;34m\u001b[0m\u001b[0m\n\u001b[1;32m     11\u001b[0m \u001b[0m_\u001b[0m\u001b[0;34m=\u001b[0m\u001b[0mplt\u001b[0m\u001b[0;34m.\u001b[0m\u001b[0mscatter\u001b[0m\u001b[0;34m(\u001b[0m\u001b[0;34m(\u001b[0m\u001b[0msorted_ratio\u001b[0m\u001b[0;34m)\u001b[0m\u001b[0;34m[\u001b[0m\u001b[0mint\u001b[0m\u001b[0;34m(\u001b[0m\u001b[0mlen\u001b[0m\u001b[0;34m(\u001b[0m\u001b[0msorted_ratio\u001b[0m\u001b[0;34m)\u001b[0m\u001b[0;34m*\u001b[0m\u001b[0mtruncate_ratio_low\u001b[0m\u001b[0;34m)\u001b[0m\u001b[0;34m:\u001b[0m\u001b[0mint\u001b[0m\u001b[0;34m(\u001b[0m\u001b[0mlen\u001b[0m\u001b[0;34m(\u001b[0m\u001b[0msorted_ratio\u001b[0m\u001b[0;34m)\u001b[0m\u001b[0;34m*\u001b[0m\u001b[0mtruncate_ratio_up\u001b[0m\u001b[0;34m)\u001b[0m\u001b[0;34m]\u001b[0m\u001b[0;34m,\u001b[0m\u001b[0msorted_prediction\u001b[0m\u001b[0;34m[\u001b[0m\u001b[0mint\u001b[0m\u001b[0;34m(\u001b[0m\u001b[0mlen\u001b[0m\u001b[0;34m(\u001b[0m\u001b[0msorted_prediction\u001b[0m\u001b[0;34m)\u001b[0m\u001b[0;34m*\u001b[0m\u001b[0mtruncate_ratio_low\u001b[0m\u001b[0;34m)\u001b[0m\u001b[0;34m:\u001b[0m\u001b[0mint\u001b[0m\u001b[0;34m(\u001b[0m\u001b[0mlen\u001b[0m\u001b[0;34m(\u001b[0m\u001b[0msorted_prediction\u001b[0m\u001b[0;34m)\u001b[0m\u001b[0;34m*\u001b[0m\u001b[0mtruncate_ratio_up\u001b[0m\u001b[0;34m)\u001b[0m\u001b[0;34m]\u001b[0m\u001b[0;34m)\u001b[0m\u001b[0;34m\u001b[0m\u001b[0;34m\u001b[0m\u001b[0m\n",
      "\u001b[0;31mTypeError\u001b[0m: get_node_extrapolation() missing 1 required positional argument: 'lamda'"
     ]
    }
   ],
   "source": [
    "node_idx=0\n",
    "ERT_model=model\n",
    "query_obj=list(ERT_model.tree_.leafnode_fun.values())[node_idx]\n",
    "X_range,dt_X, dt_Y = query_obj.X_range, query_obj.dt_X, query_obj.dt_Y\n",
    "X_range\n",
    "X_extra= X_range.mean(axis=0)+0.05\n",
    "order, truncate_ratio_low, truncate_ratio_up , r_range_low, r_range_up, step= 1,0,1,0,0.7,2\n",
    "\n",
    "sorted_ratio, sorted_prediction, intercept = ERT_model.get_node_extrapolation(dt_X, dt_Y, X_extra, X_range, order, truncate_ratio_low, truncate_ratio_up,r_range_low, r_range_up,step)\n",
    "_=plt.scatter((sorted_ratio),sorted_prediction)\n",
    "_=plt.scatter((sorted_ratio)[int(len(sorted_ratio)*truncate_ratio_low):int(len(sorted_ratio)*truncate_ratio_up)],sorted_prediction[int(len(sorted_prediction)*truncate_ratio_low):int(len(sorted_prediction)*truncate_ratio_up)])\n",
    "_=plt.axhline(intercept,color=\"red\")\n",
    "_=plt.axhline(generator.evaluate(X_extra.reshape(1,-1)),color=\"blue\")"
   ]
  },
  {
   "cell_type": "code",
   "execution_count": null,
   "id": "7d42d408",
   "metadata": {},
   "outputs": [],
   "source": []
  },
  {
   "cell_type": "markdown",
   "id": "7a221ee2",
   "metadata": {},
   "source": [
    "## Ensemble "
   ]
  },
  {
   "cell_type": "code",
   "execution_count": 1,
   "id": "e27a5b23",
   "metadata": {},
   "outputs": [],
   "source": [
    "from RTER import RegressionTree\n",
    "from distribution import TestDistribution\n",
    "import numpy as np\n",
    "\n",
    "\n",
    "from sklearn.metrics import mean_squared_error as MSE\n",
    "import matplotlib.pyplot as plt\n",
    "\n",
    "from IPython.core.interactiveshell import InteractiveShell\n",
    "InteractiveShell.ast_node_interactivity = \"all\"\n",
    "\n",
    "from time import time\n",
    "\n",
    "from comparison.ensemble import RegressionTreeBoosting, RegressionTreeEnsemble\n",
    "from comparison.EKNN import EKNN"
   ]
  },
  {
   "cell_type": "code",
   "execution_count": 2,
   "id": "b8858315",
   "metadata": {},
   "outputs": [
    {
     "data": {
      "text/plain": [
       "0.19528987180570548"
      ]
     },
     "execution_count": 2,
     "metadata": {},
     "output_type": "execute_result"
    }
   ],
   "source": [
    "generator=TestDistribution(7).returnDistribution()\n",
    "np.random.seed(1)\n",
    "X_train,Y_train=generator.generate(2000)\n",
    "X_test,Y_test = generator.generate(1000)\n",
    "model_boosting = RegressionTreeBoosting(rho=0.1,\n",
    "                      boost_num= 100,\n",
    "                      estimator=\"naive_estimator\",\n",
    "                         splitter=\"maxedge\",\n",
    "                         min_samples_split=10,\n",
    "                         max_depth=4,)\n",
    "\n",
    "_=model_boosting.fit(X_train, Y_train)\n",
    "y_hat=model_boosting.predict(X_test)\n",
    "mse_score = MSE(y_hat, Y_test)\n",
    "mse_score"
   ]
  },
  {
   "cell_type": "code",
   "execution_count": 3,
   "id": "bb933dc0",
   "metadata": {},
   "outputs": [
    {
     "data": {
      "text/plain": [
       "0.22979486890973255"
      ]
     },
     "execution_count": 3,
     "metadata": {},
     "output_type": "execute_result"
    }
   ],
   "source": [
    "generator=TestDistribution(7).returnDistribution()\n",
    "np.random.seed(1)\n",
    "X_train,Y_train=generator.generate(2000)\n",
    "X_test,Y_test = generator.generate(1000)\n",
    "model_EKNN = EKNN(V=5,C=10)\n",
    "\n",
    "_=model_EKNN.fit(X_train, Y_train)\n",
    "y_hat=model_EKNN.predict(X_test)\n",
    "mse_score = MSE(y_hat, Y_test)\n",
    "mse_score"
   ]
  },
  {
   "cell_type": "code",
   "execution_count": 1,
   "id": "d179a9e9",
   "metadata": {},
   "outputs": [],
   "source": [
    "from RTER import RegressionTree\n",
    "from distribution import TestDistribution\n",
    "import numpy as np\n",
    "\n",
    "\n",
    "from sklearn.metrics import mean_squared_error as MSE\n",
    "import matplotlib.pyplot as plt\n",
    "\n",
    "from IPython.core.interactiveshell import InteractiveShell\n",
    "InteractiveShell.ast_node_interactivity = \"all\"\n",
    "\n",
    "from time import time\n",
    "\n",
    "from comparison.ensemble import RegressionTreeBoosting, RegressionTreeEnsemble\n",
    "from comparison.EKNN import EKNN\n",
    "from sklearn.model_selection import GridSearchCV\n"
   ]
  },
  {
   "cell_type": "code",
   "execution_count": 28,
   "id": "f90e1138",
   "metadata": {},
   "outputs": [
    {
     "data": {
      "text/plain": [
       "0.11485798045507124"
      ]
     },
     "execution_count": 28,
     "metadata": {},
     "output_type": "execute_result"
    },
    {
     "data": {
      "text/plain": [
       "0.11514230743396138"
      ]
     },
     "execution_count": 28,
     "metadata": {},
     "output_type": "execute_result"
    }
   ],
   "source": [
    "order, truncate_ratio_low, truncate_ratio_up , r_range_low, r_range_up ,step, lamda = 1,0,0.6,0,1,2,7\n",
    "\n",
    "generator=TestDistribution(7).returnDistribution()\n",
    "np.random.seed(1)\n",
    "X_train,Y_train=generator.generate(3000)\n",
    "X_test,Y_test = generator.generate(1000)\n",
    "\n",
    "model = RegressionTree(estimator=\"pointwise_extrapolation_estimator\",\n",
    "                         splitter=\"maxedge\",\n",
    "                         min_samples_split=30,\n",
    "                         max_depth=1,\n",
    "                         order=order,\n",
    "                         random_state=4,\n",
    "                         truncate_ratio_low=truncate_ratio_low,\n",
    "                         truncate_ratio_up= truncate_ratio_up,\n",
    "                      r_range_low=r_range_low,\n",
    "                      r_range_up=r_range_up,\n",
    "                      step=step,\n",
    "                      lamda = lamda)\n",
    "model.fit(X_train, Y_train)\n",
    "MSE(model.predict(X_test),Y_test)\n",
    "\n",
    "model_ensemble = RegressionTreeEnsemble(splitter=\"maxedge\",\n",
    "                         min_samples_split=10,\n",
    "                         max_depth=4,\n",
    "                        ensemble_num=200)\n",
    "model_ensemble.fit(X_train, Y_train)\n",
    "MSE(model_ensemble.predict(X_test),Y_test)"
   ]
  },
  {
   "cell_type": "code",
   "execution_count": null,
   "id": "9a067ea4",
   "metadata": {},
   "outputs": [],
   "source": []
  },
  {
   "cell_type": "code",
   "execution_count": 25,
   "id": "5c382637",
   "metadata": {},
   "outputs": [
    {
     "data": {
      "text/plain": [
       "array([[0. , 0. , 0.5, 0. , 0. ],\n",
       "       [1. , 1. , 1. , 1. , 1. ]])"
      ]
     },
     "execution_count": 25,
     "metadata": {},
     "output_type": "execute_result"
    },
    {
     "data": {
      "image/png": "[encoded data removed]",
      "text/plain": [
       "<Figure size 432x288 with 1 Axes>"
      ]
     },
     "metadata": {
      "needs_background": "light"
     },
     "output_type": "display_data"
    }
   ],
   "source": [
    "node_idx=1\n",
    "\n",
    "query_obj=list(model.tree_.leafnode_fun.values())[node_idx]\n",
    "X_range,dt_X, dt_Y = query_obj.X_range, query_obj.dt_X, query_obj.dt_Y\n",
    "X_range\n",
    "X_extra= X_range.mean(axis=0)+0.1\n",
    "order, truncate_ratio_low, truncate_ratio_up , r_range_low, r_range_up= order, truncate_ratio_low, truncate_ratio_up , r_range_low, r_range_up\n",
    "\n",
    "sorted_ratio, sorted_prediction, intercept , weight_sum = ERT_model.get_node_extrapolation(dt_X, dt_Y, X_extra, X_range, order, truncate_ratio_low, truncate_ratio_up,r_range_low, r_range_up,step,lamda=lamda)\n",
    "_=plt.scatter((sorted_ratio),sorted_prediction)\n",
    "_=plt.scatter((sorted_ratio)[int(len(sorted_ratio)*truncate_ratio_low):int(len(sorted_ratio)*truncate_ratio_up):step],sorted_prediction[int(len(sorted_prediction)*truncate_ratio_low):int(len(sorted_prediction)*truncate_ratio_up):step])\n",
    "_=plt.axhline(intercept,color=\"red\")\n",
    "_=plt.axhline(generator.evaluate(X_extra.reshape(1,-1)),color=\"blue\")"
   ]
  },
  {
   "cell_type": "code",
   "execution_count": 26,
   "id": "b9f407d3",
   "metadata": {},
   "outputs": [
    {
     "data": {
      "text/plain": [
       "13.46705479723812"
      ]
     },
     "execution_count": 26,
     "metadata": {},
     "output_type": "execute_result"
    }
   ],
   "source": [
    "weight_sum"
   ]
  },
  {
   "cell_type": "code",
   "execution_count": 58,
   "id": "9cf4a0b8",
   "metadata": {},
   "outputs": [
    {
     "data": {
      "text/plain": [
       "GridSearchCV(cv=10,\n",
       "             estimator=<RTER.tree.RegressionTree object at 0x7fccbf5acdf0>,\n",
       "             n_jobs=-1,\n",
       "             param_grid={'max_depth': [5], 'min_samples_split': [30],\n",
       "                         'order': [1], 'r_range_low': [0], 'r_range_up': [1],\n",
       "                         'splitter': ['maxedge'], 'truncate_ratio_low': [0.1],\n",
       "                         'truncate_ratio_up': [0.2]})"
      ]
     },
     "execution_count": 58,
     "metadata": {},
     "output_type": "execute_result"
    },
    {
     "name": "stdout",
     "output_type": "stream",
     "text": [
      "RTER: mse 1.0274370850231658 time 4.897901773452759\n"
     ]
    }
   ],
   "source": [
    "\n",
    "\n",
    "\n",
    "sample_generator=TestDistribution(7).returnDistribution()\n",
    "n_test, n_train = 2000,3000\n",
    "X_train, Y_train = sample_generator.generate(n_train)\n",
    "X_test, Y_test = sample_generator.generate(n_test)\n",
    "\n",
    "\n",
    "\n",
    "# RTER with cv\n",
    "time_start=time()\n",
    "parameters={\"truncate_ratio_low\":[0.1], \"truncate_ratio_up\":[0.2],\n",
    "           \"min_samples_split\":[30], \"max_depth\":[5],\n",
    "           \"order\":[1],\"splitter\":[\"maxedge\"],\n",
    "           \"r_range_low\":[0],\"r_range_up\":[1]}\n",
    "cv_model_RTER=GridSearchCV(estimator=RegressionTree(),param_grid=parameters, cv=10, n_jobs=-1)\n",
    "cv_model_RTER.fit(X_train, Y_train)\n",
    "\n",
    "RTER_model = cv_model_RTER.best_estimator_\n",
    "mse_score= - RTER_model.score(X_test, Y_test)\n",
    "y_hat_RTER = RTER_model.predict(X_test)\n",
    "\n",
    "time_end=time()\n",
    "\n",
    "print(\"RTER: mse {} time {}\".format(mse_score,time_end-time_start))\n"
   ]
  },
  {
   "cell_type": "code",
   "execution_count": 59,
   "id": "17dc1565",
   "metadata": {},
   "outputs": [
    {
     "data": {
      "text/plain": [
       "{'max_depth': 5,\n",
       " 'min_samples_split': 30,\n",
       " 'order': 1,\n",
       " 'r_range_low': 0,\n",
       " 'r_range_up': 1,\n",
       " 'splitter': 'maxedge',\n",
       " 'truncate_ratio_low': 0.1,\n",
       " 'truncate_ratio_up': 0.2}"
      ]
     },
     "execution_count": 59,
     "metadata": {},
     "output_type": "execute_result"
    }
   ],
   "source": [
    "cv_model_RTER.best_params_"
   ]
  },
  {
   "cell_type": "code",
   "execution_count": 64,
   "id": "fad5e859",
   "metadata": {},
   "outputs": [
    {
     "data": {
      "text/plain": [
       "array([[0.5, 0.5, 0. , 0. , 0. ],\n",
       "       [1. , 1. , 0.5, 0.5, 0.5]])"
      ]
     },
     "execution_count": 64,
     "metadata": {},
     "output_type": "execute_result"
    },
    {
     "data": {
      "image/png": "[encoded data removed]",
      "text/plain": [
       "<Figure size 432x288 with 1 Axes>"
      ]
     },
     "metadata": {
      "needs_background": "light"
     },
     "output_type": "display_data"
    }
   ],
   "source": [
    "node_idx=3\n",
    "order, truncate_ratio_low, truncate_ratio_up , r_range_low, r_range_up = 1,0.05,0.25,0,1\n",
    "query_obj=list(RTER_model.tree_.leafnode_fun.values())[node_idx]\n",
    "X_range,dt_X, dt_Y = query_obj.X_range, query_obj.dt_X, query_obj.dt_Y\n",
    "X_range\n",
    "X_extra= X_range.mean(axis=0)+0.12\n",
    "order, truncate_ratio_low, truncate_ratio_up , r_range_low, r_range_up= order, truncate_ratio_low, truncate_ratio_up , r_range_low, r_range_up\n",
    "\n",
    "sorted_ratio, sorted_prediction, intercept = ERT_model.get_node_extrapolation(dt_X, dt_Y, X_extra, X_range, order, truncate_ratio_low, truncate_ratio_up,r_range_low, r_range_up)\n",
    "_=plt.scatter((sorted_ratio),sorted_prediction)\n",
    "_=plt.scatter((sorted_ratio)[int(len(sorted_ratio)*truncate_ratio_low):int(len(sorted_ratio)*truncate_ratio_up)],sorted_prediction[int(len(sorted_prediction)*truncate_ratio_low):int(len(sorted_prediction)*truncate_ratio_up)])\n",
    "_=plt.axhline(intercept,color=\"red\")\n",
    "_=plt.axhline(generator.evaluate(X_extra.reshape(1,-1)),color=\"blue\")"
   ]
  },
  {
   "cell_type": "code",
   "execution_count": 92,
   "id": "d6e1225e",
   "metadata": {},
   "outputs": [
    {
     "data": {
      "text/plain": [
       "LinearRegression()"
      ]
     },
     "execution_count": 92,
     "metadata": {},
     "output_type": "execute_result"
    },
    {
     "data": {
      "text/plain": [
       "array([0.19607196])"
      ]
     },
     "execution_count": 92,
     "metadata": {},
     "output_type": "execute_result"
    }
   ],
   "source": [
    "\n",
    "from sklearn.linear_model import LinearRegression\n",
    "\n",
    "idx = [int(7*i+3) for i in range(5) ]\n",
    "x_vec = sorted_ratio[idx].reshape(-1,1)\n",
    "y_vec = sorted_prediction[idx]\n",
    "\n",
    "linear_model = LinearRegression()\n",
    "linear_model.fit(x_vec,y_vec)\n",
    "linear_model.intercept_"
   ]
  },
  {
   "cell_type": "code",
   "execution_count": 93,
   "id": "fa62f9e2",
   "metadata": {},
   "outputs": [
    {
     "data": {
      "image/png": "[encoded data removed]",
      "text/plain": [
       "<Figure size 432x288 with 1 Axes>"
      ]
     },
     "metadata": {
      "needs_background": "light"
     },
     "output_type": "display_data"
    }
   ],
   "source": [
    "_=plt.scatter((sorted_ratio),sorted_prediction)\n",
    "_=plt.scatter(sorted_ratio[idx], sorted_prediction[idx])\n",
    "_=plt.axhline(intercept,color=\"red\")\n",
    "_=plt.axhline(generator.evaluate(X_extra.reshape(1,-1)),color=\"blue\")\n",
    "_=plt.axhline(linear_model.intercept_,color=\"yellow\")"
   ]
  },
  {
   "cell_type": "code",
   "execution_count": 52,
   "id": "1ecf31bd",
   "metadata": {},
   "outputs": [],
   "source": [
    "def f_7(x):\n",
    "    return np.abs(np.sin(np.pi*2*x[0]))*np.abs(np.sin(np.pi*2*x[1]))*np.abs(np.sin(np.pi*2*x[2]))*np.abs(np.sin(np.pi*2*x[3]))*np.abs(np.sin(np.pi*2*x[4]))"
   ]
  },
  {
   "cell_type": "code",
   "execution_count": 53,
   "id": "f186cc4d",
   "metadata": {},
   "outputs": [
    {
     "data": {
      "text/plain": [
       "0.07016062134056032"
      ]
     },
     "execution_count": 53,
     "metadata": {},
     "output_type": "execute_result"
    }
   ],
   "source": [
    "f_7(X_extra)"
   ]
  },
  {
   "cell_type": "code",
   "execution_count": 7,
   "id": "2250a958",
   "metadata": {},
   "outputs": [],
   "source": [
    "a= [i for i in range(10)]"
   ]
  },
  {
   "cell_type": "code",
   "execution_count": 8,
   "id": "e5c65d50",
   "metadata": {},
   "outputs": [
    {
     "data": {
      "text/plain": [
       "[2, 3, 4, 5, 6, 7, 8]"
      ]
     },
     "execution_count": 8,
     "metadata": {},
     "output_type": "execute_result"
    }
   ],
   "source": [
    "a[2:9:1]"
   ]
  },
  {
   "cell_type": "code",
   "execution_count": 16,
   "id": "e38ee0ff",
   "metadata": {},
   "outputs": [
    {
     "data": {
      "text/plain": [
       "array([[0., 0., 0., 0., 0., 0., 0., 0., 0., 0.],\n",
       "       [0., 1., 0., 0., 0., 0., 0., 0., 0., 0.],\n",
       "       [0., 0., 1., 0., 0., 0., 0., 0., 0., 0.],\n",
       "       [0., 0., 0., 1., 0., 0., 0., 0., 0., 0.],\n",
       "       [0., 0., 0., 0., 1., 0., 0., 0., 0., 0.],\n",
       "       [0., 0., 0., 0., 0., 1., 0., 0., 0., 0.],\n",
       "       [0., 0., 0., 0., 0., 0., 1., 0., 0., 0.],\n",
       "       [0., 0., 0., 0., 0., 0., 0., 1., 0., 0.],\n",
       "       [0., 0., 0., 0., 0., 0., 0., 0., 1., 0.],\n",
       "       [0., 0., 0., 0., 0., 0., 0., 0., 0., 1.]])"
      ]
     },
     "execution_count": 16,
     "metadata": {},
     "output_type": "execute_result"
    }
   ],
   "source": [
    "a=np.eye(10)\n",
    "a[0]=0\n",
    "a"
   ]
  },
  {
   "cell_type": "code",
   "execution_count": null,
   "id": "7bf256fd",
   "metadata": {},
   "outputs": [],
   "source": []
  }
 ],
 "metadata": {
  "kernelspec": {
   "display_name": "Python 3 (ipykernel)",
   "language": "python",
   "name": "python3"
  },
  "language_info": {
   "codemirror_mode": {
    "name": "ipython",
    "version": 3
   },
   "file_extension": ".py",
   "mimetype": "text/x-python",
   "name": "python",
   "nbconvert_exporter": "python",
   "pygments_lexer": "ipython3",
   "version": "3.9.7"
  }
 },
 "nbformat": 4,
 "nbformat_minor": 5
}
