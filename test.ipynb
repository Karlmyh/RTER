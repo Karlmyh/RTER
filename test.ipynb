{
 "cells": [
  {
   "cell_type": "code",
   "execution_count": 1,
   "id": "4955a3b5",
   "metadata": {},
   "outputs": [],
   "source": [
    "from ETDE import DensityTree\n",
    "from Distribution import TestDistribution\n",
    "import numpy as np"
   ]
  },
  {
   "cell_type": "code",
   "execution_count": 2,
   "id": "211a4479",
   "metadata": {},
   "outputs": [],
   "source": [
    "density=TestDistribution(15,3).returnDistribution()\n",
    "np.random.seed(1)\n",
    "X_train,pdf_X_train=density.generate(1000)\n",
    "X_test,pdf_test=density.generate(100)\n",
    "\n"
   ]
  },
  {
   "cell_type": "code",
   "execution_count": 5,
   "id": "1d6a372e",
   "metadata": {},
   "outputs": [
    {
     "data": {
      "text/plain": [
       "array([0.83609973, 0.95356188, 0.85398493, 1.42952851, 0.78638781,\n",
       "       1.09969832, 1.42952851, 0.86972911, 1.09969832, 1.1018548 ,\n",
       "       1.75876607, 0.98385213, 1.15777583, 0.94235929, 0.98282722,\n",
       "       0.97332861, 0.83609973, 0.99058141, 0.94235929, 1.1727976 ,\n",
       "       1.34201668, 1.03084177, 1.21896354, 0.83609973, 0.99058141,\n",
       "       0.37720783, 0.86972911, 1.57403622, 0.93762548, 1.45408384,\n",
       "       1.10437893, 1.03084177, 0.82770349, 0.72561887, 1.04206018,\n",
       "       0.98282722, 0.99058141, 0.97332861, 1.1018548 , 1.02675362,\n",
       "       1.1018548 , 1.42952851, 1.04206018, 0.78638781, 1.23418565,\n",
       "       0.92648984, 0.78638781, 1.57403622, 0.91449229, 0.75817141,\n",
       "       1.21896354, 1.20105965, 0.95356188, 0.86972911, 1.05573797,\n",
       "       1.34201668, 0.95356188, 0.72561887, 1.03171186, 0.7287131 ,\n",
       "       1.23418565, 1.05573797, 1.21896354, 1.04206018, 1.20105965,\n",
       "       1.09969832, 1.53223385, 1.03171186, 0.80280524, 0.93762548,\n",
       "       1.21896354, 1.1727976 , 0.83609973, 0.8248031 , 0.69383108,\n",
       "       1.15777583, 0.27239326, 0.91449229, 1.45408384, 0.86972911,\n",
       "       0.80280524, 0.85398493, 0.54471021, 1.17635039, 1.03084177,\n",
       "       0.96911209, 0.78638781, 0.93762548, 0.        , 0.86972911,\n",
       "       0.81170089, 0.81170089, 1.10437893, 0.83609973, 0.78638781,\n",
       "       0.75817141, 1.05573797, 1.15194534, 0.93762548, 0.9673721 ])"
      ]
     },
     "execution_count": 5,
     "metadata": {},
     "output_type": "execute_result"
    }
   ],
   "source": [
    "DT_model_den=DensityTree(estimator=\"density_estimator\",min_samples_split=30,max_depth=2,random_state=1)\n",
    "DT_model_den.fit(X_train)\n",
    "DT_model_den.predict(X_test)"
   ]
  },
  {
   "cell_type": "code",
   "execution_count": 6,
   "id": "d5dcf5e5",
   "metadata": {},
   "outputs": [
    {
     "name": "stdout",
     "output_type": "stream",
     "text": [
      "[[ 1.20190299e+08 -8.05917565e+08  3.18485751e+09 -8.21459784e+09\n",
      "   1.44497080e+10 -1.75553149e+10  1.45461252e+10 -7.86699503e+09\n",
      "   2.50777742e+09 -3.57811461e+08]]\n",
      "[[4.72089430e-01 2.22868430e-01 1.05213830e-01 4.96703369e-02\n",
      "  2.34488410e-02 1.10699500e-02 5.22600637e-03 2.46714237e-03\n",
      "  1.16471183e-03 5.49848145e-04]\n",
      " [5.32399734e-01 2.83449477e-01 1.50908426e-01 8.03436059e-02\n",
      "  4.27749144e-02 2.27733531e-02 1.21245271e-02 6.45509502e-03\n",
      "  3.43669087e-03 1.82969331e-03]\n",
      " [5.73781975e-01 3.29225755e-01 1.88903804e-01 1.08389598e-01\n",
      "  6.21919976e-02 3.56846472e-02 2.04752074e-02 1.17483049e-02\n",
      "  6.74096561e-03 3.86784456e-03]\n",
      " [6.14936720e-01 3.78147170e-01 2.32536581e-01 1.42995282e-01\n",
      "  8.79330499e-02 5.40732613e-02 3.32516340e-02 2.04476508e-02\n",
      "  1.25740113e-02 7.73222127e-03]\n",
      " [6.55233540e-01 4.29330992e-01 2.81312066e-01 1.84325101e-01\n",
      "  1.20775988e-01 7.91364784e-02 5.18528749e-02 3.39757428e-02\n",
      "  2.22620462e-02 1.45868393e-02]\n",
      " [6.60643626e-01 4.36450000e-01 2.88337911e-01 1.90488603e-01\n",
      "  1.25845081e-01 8.31387508e-02 5.49250858e-02 3.62859078e-02\n",
      "  2.39720537e-02 1.58369845e-02]\n",
      " [7.28053363e-01 5.30061699e-01 3.85913202e-01 2.80965405e-01\n",
      "  2.04557808e-01 1.48929000e-01 1.08428259e-01 7.89415586e-02\n",
      "  5.74736672e-02 4.18438966e-02]\n",
      " [7.55950559e-01 5.71461248e-01 4.31996449e-01 3.26567957e-01\n",
      "  2.46869230e-01 1.86620932e-01 1.41076198e-01 1.06646631e-01\n",
      "  8.06195802e-02 6.09444167e-02]\n",
      " [8.28908412e-01 6.87089156e-01 5.69533981e-01 4.72091508e-01\n",
      "  3.91320623e-01 3.24368956e-01 2.68872156e-01 2.22870392e-01\n",
      "  1.84739143e-01 1.53131830e-01]\n",
      " [9.27485610e-01 8.60229556e-01 7.97850534e-01 7.39994889e-01\n",
      "  6.86334611e-01 6.36565475e-01 5.90405318e-01 5.47592436e-01\n",
      "  5.07884104e-01 4.71055198e-01]\n",
      " [9.28437792e-01 8.61996733e-01 8.00310344e-01 7.43038368e-01\n",
      "  6.89864902e-01 6.40496646e-01 5.94661292e-01 5.52106016e-01\n",
      "  5.12596091e-01 4.75913583e-01]\n",
      " [9.38547232e-01 8.80870906e-01 8.26738951e-01 7.75933554e-01\n",
      "  7.28250289e-01 6.83497293e-01 6.41494492e-01 6.02072880e-01\n",
      "  5.65073835e-01 5.30348483e-01]]\n",
      "[1.90245364 1.73293516 1.67795694 1.62869666 1.58655412 1.67157905\n",
      " 1.53518923 1.53635022 1.41238011 1.25610816 1.31688512 1.35736389]\n"
     ]
    },
    {
     "ename": "ValueError",
     "evalue": "",
     "output_type": "error",
     "traceback": [
      "\u001b[0;31m---------------------------------------------------------------------------\u001b[0m",
      "\u001b[0;31mValueError\u001b[0m                                Traceback (most recent call last)",
      "\u001b[0;32m/var/folders/xd/hvhjp1lx2qb7swy9ch3nz92r0000gn/T/ipykernel_87097/2846732639.py\u001b[0m in \u001b[0;36m<module>\u001b[0;34m\u001b[0m\n\u001b[1;32m      1\u001b[0m \u001b[0mDT_model_ext\u001b[0m\u001b[0;34m=\u001b[0m\u001b[0mDensityTree\u001b[0m\u001b[0;34m(\u001b[0m\u001b[0mestimator\u001b[0m\u001b[0;34m=\u001b[0m\u001b[0;34m\"extrapolation_estimator\"\u001b[0m\u001b[0;34m,\u001b[0m\u001b[0mmin_samples_split\u001b[0m\u001b[0;34m=\u001b[0m\u001b[0;36m30\u001b[0m\u001b[0;34m,\u001b[0m\u001b[0mmax_depth\u001b[0m\u001b[0;34m=\u001b[0m\u001b[0;36m2\u001b[0m\u001b[0;34m,\u001b[0m\u001b[0morder\u001b[0m\u001b[0;34m=\u001b[0m\u001b[0;36m10\u001b[0m\u001b[0;34m,\u001b[0m\u001b[0mrandom_state\u001b[0m\u001b[0;34m=\u001b[0m\u001b[0;36m1\u001b[0m\u001b[0;34m)\u001b[0m\u001b[0;34m\u001b[0m\u001b[0;34m\u001b[0m\u001b[0m\n\u001b[0;32m----> 2\u001b[0;31m \u001b[0mDT_model_ext\u001b[0m\u001b[0;34m.\u001b[0m\u001b[0mfit\u001b[0m\u001b[0;34m(\u001b[0m\u001b[0mX_train\u001b[0m\u001b[0;34m)\u001b[0m\u001b[0;34m\u001b[0m\u001b[0;34m\u001b[0m\u001b[0m\n\u001b[0m\u001b[1;32m      3\u001b[0m \u001b[0mDT_model_ext\u001b[0m\u001b[0;34m.\u001b[0m\u001b[0mpredict\u001b[0m\u001b[0;34m(\u001b[0m\u001b[0mX_test\u001b[0m\u001b[0;34m)\u001b[0m\u001b[0;34m\u001b[0m\u001b[0;34m\u001b[0m\u001b[0m\n",
      "\u001b[0;32m~/Documents/GitHub/ETDE/ETDE/tree.py\u001b[0m in \u001b[0;36mfit\u001b[0;34m(self, X, X_range)\u001b[0m\n\u001b[1;32m     49\u001b[0m             \u001b[0mX_range\u001b[0m\u001b[0;34m[\u001b[0m\u001b[0;36m0\u001b[0m\u001b[0;34m]\u001b[0m \u001b[0;34m=\u001b[0m \u001b[0mX\u001b[0m\u001b[0;34m.\u001b[0m\u001b[0mmin\u001b[0m\u001b[0;34m(\u001b[0m\u001b[0maxis\u001b[0m\u001b[0;34m=\u001b[0m\u001b[0;36m0\u001b[0m\u001b[0;34m)\u001b[0m\u001b[0;34m\u001b[0m\u001b[0;34m\u001b[0m\u001b[0m\n\u001b[1;32m     50\u001b[0m             \u001b[0mX_range\u001b[0m\u001b[0;34m[\u001b[0m\u001b[0;36m1\u001b[0m\u001b[0;34m]\u001b[0m \u001b[0;34m=\u001b[0m \u001b[0mX\u001b[0m\u001b[0;34m.\u001b[0m\u001b[0mmax\u001b[0m\u001b[0;34m(\u001b[0m\u001b[0maxis\u001b[0m\u001b[0;34m=\u001b[0m\u001b[0;36m0\u001b[0m\u001b[0;34m)\u001b[0m\u001b[0;34m\u001b[0m\u001b[0;34m\u001b[0m\u001b[0m\n\u001b[0;32m---> 51\u001b[0;31m         \u001b[0msuper\u001b[0m\u001b[0;34m(\u001b[0m\u001b[0mDensityTree\u001b[0m\u001b[0;34m,\u001b[0m \u001b[0mself\u001b[0m\u001b[0;34m)\u001b[0m\u001b[0;34m.\u001b[0m\u001b[0mfit\u001b[0m\u001b[0;34m(\u001b[0m\u001b[0mX\u001b[0m\u001b[0;34m,\u001b[0m \u001b[0mX_range\u001b[0m\u001b[0;34m)\u001b[0m\u001b[0;34m\u001b[0m\u001b[0;34m\u001b[0m\u001b[0m\n\u001b[0m\u001b[1;32m     52\u001b[0m         \u001b[0mself\u001b[0m\u001b[0;34m.\u001b[0m\u001b[0mX_range\u001b[0m \u001b[0;34m=\u001b[0m \u001b[0mX_range\u001b[0m\u001b[0;34m\u001b[0m\u001b[0;34m\u001b[0m\u001b[0m\n\u001b[1;32m     53\u001b[0m     \u001b[0;32mdef\u001b[0m \u001b[0mpredict\u001b[0m\u001b[0;34m(\u001b[0m\u001b[0mself\u001b[0m\u001b[0;34m,\u001b[0m \u001b[0mX\u001b[0m\u001b[0;34m)\u001b[0m\u001b[0;34m:\u001b[0m\u001b[0;34m\u001b[0m\u001b[0;34m\u001b[0m\u001b[0m\n",
      "\u001b[0;32m~/Documents/GitHub/ETDE/ETDE/tree.py\u001b[0m in \u001b[0;36mfit\u001b[0;34m(self, X, X_range)\u001b[0m\n\u001b[1;32m     34\u001b[0m         \u001b[0mself\u001b[0m\u001b[0;34m.\u001b[0m\u001b[0mtree_\u001b[0m \u001b[0;34m=\u001b[0m \u001b[0mTreeStruct\u001b[0m\u001b[0;34m(\u001b[0m\u001b[0mself\u001b[0m\u001b[0;34m.\u001b[0m\u001b[0mn_samples\u001b[0m\u001b[0;34m,\u001b[0m \u001b[0mself\u001b[0m\u001b[0;34m.\u001b[0m\u001b[0mn_features\u001b[0m\u001b[0;34m,\u001b[0m \u001b[0mself\u001b[0m\u001b[0;34m.\u001b[0m\u001b[0mlog_Xrange\u001b[0m\u001b[0;34m)\u001b[0m\u001b[0;34m\u001b[0m\u001b[0;34m\u001b[0m\u001b[0m\n\u001b[1;32m     35\u001b[0m         \u001b[0mbuilder\u001b[0m \u001b[0;34m=\u001b[0m \u001b[0mRecursiveTreeBuilder\u001b[0m\u001b[0;34m(\u001b[0m\u001b[0msplitter\u001b[0m\u001b[0;34m,\u001b[0m \u001b[0mEstimator\u001b[0m\u001b[0;34m,\u001b[0m \u001b[0mself\u001b[0m\u001b[0;34m.\u001b[0m\u001b[0mmin_samples_split\u001b[0m\u001b[0;34m,\u001b[0m \u001b[0mmax_depth\u001b[0m\u001b[0;34m,\u001b[0m \u001b[0morder\u001b[0m\u001b[0;34m)\u001b[0m\u001b[0;34m\u001b[0m\u001b[0;34m\u001b[0m\u001b[0m\n\u001b[0;32m---> 36\u001b[0;31m         \u001b[0mbuilder\u001b[0m\u001b[0;34m.\u001b[0m\u001b[0mbuild\u001b[0m\u001b[0;34m(\u001b[0m\u001b[0mself\u001b[0m\u001b[0;34m.\u001b[0m\u001b[0mtree_\u001b[0m\u001b[0;34m,\u001b[0m \u001b[0mX\u001b[0m\u001b[0;34m,\u001b[0m \u001b[0mX_range\u001b[0m\u001b[0;34m)\u001b[0m\u001b[0;34m\u001b[0m\u001b[0;34m\u001b[0m\u001b[0m\n\u001b[0m\u001b[1;32m     37\u001b[0m     \u001b[0;32mdef\u001b[0m \u001b[0mapply\u001b[0m\u001b[0;34m(\u001b[0m\u001b[0mself\u001b[0m\u001b[0;34m,\u001b[0m \u001b[0mX\u001b[0m\u001b[0;34m)\u001b[0m\u001b[0;34m:\u001b[0m\u001b[0;34m\u001b[0m\u001b[0;34m\u001b[0m\u001b[0m\n\u001b[1;32m     38\u001b[0m         \u001b[0;32mreturn\u001b[0m \u001b[0mself\u001b[0m\u001b[0;34m.\u001b[0m\u001b[0mtree_\u001b[0m\u001b[0;34m.\u001b[0m\u001b[0mapply\u001b[0m\u001b[0;34m(\u001b[0m\u001b[0mX\u001b[0m\u001b[0;34m)\u001b[0m\u001b[0;34m\u001b[0m\u001b[0;34m\u001b[0m\u001b[0m\n",
      "\u001b[0;32m~/Documents/GitHub/ETDE/ETDE/_tree.py\u001b[0m in \u001b[0;36mbuild\u001b[0;34m(self, tree, X, X_range)\u001b[0m\n\u001b[1;32m    121\u001b[0m                 \u001b[0mnode_id\u001b[0m \u001b[0;34m=\u001b[0m \u001b[0mtree\u001b[0m\u001b[0;34m.\u001b[0m\u001b[0m_add_node\u001b[0m\u001b[0;34m(\u001b[0m\u001b[0mparent\u001b[0m\u001b[0;34m,\u001b[0m \u001b[0mis_left\u001b[0m\u001b[0;34m,\u001b[0m \u001b[0mis_leaf\u001b[0m\u001b[0;34m,\u001b[0m \u001b[0;32mNone\u001b[0m\u001b[0;34m,\u001b[0m \u001b[0;32mNone\u001b[0m\u001b[0;34m,\u001b[0m \u001b[0mn_node_samples\u001b[0m\u001b[0;34m,\u001b[0m \u001b[0mnode_range\u001b[0m\u001b[0;34m)\u001b[0m\u001b[0;34m\u001b[0m\u001b[0;34m\u001b[0m\u001b[0m\n\u001b[1;32m    122\u001b[0m                 \u001b[0mtree\u001b[0m\u001b[0;34m.\u001b[0m\u001b[0mleafnode_fun\u001b[0m\u001b[0;34m[\u001b[0m\u001b[0mnode_id\u001b[0m\u001b[0;34m]\u001b[0m \u001b[0;34m=\u001b[0m \u001b[0mself\u001b[0m\u001b[0;34m.\u001b[0m\u001b[0mEstimator\u001b[0m\u001b[0;34m(\u001b[0m\u001b[0mnode_range\u001b[0m\u001b[0;34m,\u001b[0m \u001b[0mnum_samples\u001b[0m\u001b[0;34m,\u001b[0m\u001b[0mdt_X\u001b[0m\u001b[0;34m,\u001b[0m\u001b[0mself\u001b[0m\u001b[0;34m.\u001b[0m\u001b[0morder\u001b[0m\u001b[0;34m)\u001b[0m\u001b[0;34m\u001b[0m\u001b[0;34m\u001b[0m\u001b[0m\n\u001b[0;32m--> 123\u001b[0;31m                 \u001b[0mtree\u001b[0m\u001b[0;34m.\u001b[0m\u001b[0mleafnode_fun\u001b[0m\u001b[0;34m[\u001b[0m\u001b[0mnode_id\u001b[0m\u001b[0;34m]\u001b[0m\u001b[0;34m.\u001b[0m\u001b[0mfit\u001b[0m\u001b[0;34m(\u001b[0m\u001b[0;34m)\u001b[0m\u001b[0;34m\u001b[0m\u001b[0;34m\u001b[0m\u001b[0m\n\u001b[0m\u001b[1;32m    124\u001b[0m             \u001b[0;31m# begin branching if the node is not leaf\u001b[0m\u001b[0;34m\u001b[0m\u001b[0;34m\u001b[0m\u001b[0;34m\u001b[0m\u001b[0m\n\u001b[1;32m    125\u001b[0m             \u001b[0;32mif\u001b[0m \u001b[0;32mnot\u001b[0m \u001b[0mis_leaf\u001b[0m\u001b[0;34m:\u001b[0m\u001b[0;34m\u001b[0m\u001b[0;34m\u001b[0m\u001b[0m\n",
      "\u001b[0;32m~/Documents/GitHub/ETDE/ETDE/_estimator.py\u001b[0m in \u001b[0;36mfit\u001b[0;34m(self)\u001b[0m\n\u001b[1;32m     96\u001b[0m             \u001b[0mpdf\u001b[0m\u001b[0;34m=\u001b[0m\u001b[0mself\u001b[0m\u001b[0;34m.\u001b[0m\u001b[0mn_node_samples\u001b[0m \u001b[0;34m/\u001b[0m \u001b[0;34m(\u001b[0m\u001b[0mself\u001b[0m\u001b[0;34m.\u001b[0m\u001b[0mnum_samples\u001b[0m \u001b[0;34m*\u001b[0m \u001b[0mself\u001b[0m\u001b[0;34m.\u001b[0m\u001b[0mvolume\u001b[0m\u001b[0;34m)\u001b[0m\u001b[0;34m\u001b[0m\u001b[0;34m\u001b[0m\u001b[0m\n\u001b[1;32m     97\u001b[0m         \u001b[0;32melse\u001b[0m\u001b[0;34m:\u001b[0m\u001b[0;34m\u001b[0m\u001b[0;34m\u001b[0m\u001b[0m\n\u001b[0;32m---> 98\u001b[0;31m             \u001b[0mpdf\u001b[0m\u001b[0;34m=\u001b[0m\u001b[0mself\u001b[0m\u001b[0;34m.\u001b[0m\u001b[0mextrapolation_vector\u001b[0m\u001b[0;34m(\u001b[0m\u001b[0mself\u001b[0m\u001b[0;34m.\u001b[0m\u001b[0mtruncate\u001b[0m\u001b[0;34m)\u001b[0m\u001b[0;34m\u001b[0m\u001b[0;34m\u001b[0m\u001b[0m\n\u001b[0m\u001b[1;32m     99\u001b[0m \u001b[0;34m\u001b[0m\u001b[0m\n\u001b[1;32m    100\u001b[0m         \u001b[0mself\u001b[0m\u001b[0;34m.\u001b[0m\u001b[0mden\u001b[0m \u001b[0;34m=\u001b[0m \u001b[0mDensityConstantEstimator\u001b[0m\u001b[0;34m(\u001b[0m\u001b[0;34m)\u001b[0m\u001b[0;34m\u001b[0m\u001b[0;34m\u001b[0m\u001b[0m\n",
      "\u001b[0;32m~/Documents/GitHub/ETDE/ETDE/_estimator.py\u001b[0m in \u001b[0;36mextrapolation_vector\u001b[0;34m(self, truncate)\u001b[0m\n\u001b[1;32m     82\u001b[0m             \u001b[0mprint\u001b[0m\u001b[0;34m(\u001b[0m\u001b[0mnp\u001b[0m\u001b[0;34m.\u001b[0m\u001b[0marray\u001b[0m\u001b[0;34m(\u001b[0m\u001b[0mratio_mat\u001b[0m\u001b[0;34m)\u001b[0m\u001b[0;34m[\u001b[0m\u001b[0mtruncate\u001b[0m\u001b[0;34m:\u001b[0m\u001b[0;34m]\u001b[0m\u001b[0;34m)\u001b[0m\u001b[0;34m\u001b[0m\u001b[0;34m\u001b[0m\u001b[0m\n\u001b[1;32m     83\u001b[0m             \u001b[0mprint\u001b[0m\u001b[0;34m(\u001b[0m\u001b[0mnp\u001b[0m\u001b[0;34m.\u001b[0m\u001b[0marray\u001b[0m\u001b[0;34m(\u001b[0m\u001b[0mpre_vec\u001b[0m\u001b[0;34m[\u001b[0m\u001b[0mtruncate\u001b[0m\u001b[0;34m:\u001b[0m\u001b[0;34m]\u001b[0m\u001b[0;34m)\u001b[0m\u001b[0;34m)\u001b[0m\u001b[0;34m\u001b[0m\u001b[0;34m\u001b[0m\u001b[0m\n\u001b[0;32m---> 84\u001b[0;31m             \u001b[0;32mraise\u001b[0m \u001b[0mValueError\u001b[0m\u001b[0;34m\u001b[0m\u001b[0;34m\u001b[0m\u001b[0m\n\u001b[0m\u001b[1;32m     85\u001b[0m \u001b[0;34m\u001b[0m\u001b[0m\n\u001b[1;32m     86\u001b[0m \u001b[0;34m\u001b[0m\u001b[0m\n",
      "\u001b[0;31mValueError\u001b[0m: "
     ]
    }
   ],
   "source": [
    "DT_model_ext=DensityTree(estimator=\"extrapolation_estimator\",min_samples_split=30,max_depth=2,order=10,random_state=1)\n",
    "DT_model_ext.fit(X_train)\n",
    "DT_model_ext.predict(X_test)"
   ]
  },
  {
   "cell_type": "code",
   "execution_count": null,
   "id": "749fd3d5",
   "metadata": {},
   "outputs": [],
   "source": []
  },
  {
   "cell_type": "code",
   "execution_count": null,
   "id": "22c1d5af",
   "metadata": {},
   "outputs": [],
   "source": []
  }
 ],
 "metadata": {
  "kernelspec": {
   "display_name": "Python 3 (ipykernel)",
   "language": "python",
   "name": "python3"
  },
  "language_info": {
   "codemirror_mode": {
    "name": "ipython",
    "version": 3
   },
   "file_extension": ".py",
   "mimetype": "text/x-python",
   "name": "python",
   "nbconvert_exporter": "python",
   "pygments_lexer": "ipython3",
   "version": "3.8.2"
  }
 },
 "nbformat": 4,
 "nbformat_minor": 5
}
