{
 "cells": [
  {
   "cell_type": "markdown",
   "id": "b252df77",
   "metadata": {},
   "source": [
    "## Test Distribution Visualization"
   ]
  },
  {
   "cell_type": "code",
   "execution_count": 1,
   "id": "494109e0",
   "metadata": {},
   "outputs": [],
   "source": [
    "from RTER import RegressionTree\n",
    "from distribution import TestDistribution\n",
    "import numpy as np\n",
    "\n",
    "\n",
    "from sklearn.metrics import mean_squared_error as MSE\n",
    "import matplotlib.pyplot as plt\n",
    "\n",
    "from IPython.core.interactiveshell import InteractiveShell\n",
    "InteractiveShell.ast_node_interactivity = \"all\"\n",
    "\n",
    "from time import time\n",
    "\n",
    "from comparison.ensemble import RegressionTreeBoosting, RegressionTreeEnsemble\n",
    "from comparison.EKNN import EKNN\n",
    "from sklearn.model_selection import GridSearchCV\n",
    "\n",
    "\n",
    "from sklearn.ensemble import GradientBoostingRegressor"
   ]
  },
  {
   "cell_type": "code",
   "execution_count": 2,
   "id": "1a47c53e",
   "metadata": {},
   "outputs": [
    {
     "data": {
      "text/plain": [
       "<matplotlib.contour.QuadContourSet at 0x7efd2f4ac640>"
      ]
     },
     "execution_count": 2,
     "metadata": {},
     "output_type": "execute_result"
    },
    {
     "data": {
      "text/plain": [
       "<matplotlib.colorbar.Colorbar at 0x7efd2d2478b0>"
      ]
     },
     "execution_count": 2,
     "metadata": {},
     "output_type": "execute_result"
    },
    {
     "data": {
      "image/png": "[encoded data removed]",
      "text/plain": [
       "<Figure size 432x288 with 2 Axes>"
      ]
     },
     "metadata": {
      "needs_background": "light"
     },
     "output_type": "display_data"
    }
   ],
   "source": [
    "generator=TestDistribution(9).returnDistribution()\n",
    "np.random.seed(3)\n",
    "\n",
    "axis0,axis1 = np.meshgrid(np.arange(0,1,0.01),np.arange(0,1,0.01))\n",
    "X_grid = np.array([axis0.ravel(),axis1.ravel()]).T\n",
    "\n",
    "predict_result=generator.evaluate(X_grid).reshape(-1,100)\n",
    "plt.contourf(axis0, axis1,predict_result) #,vmin=0,vmax=20)\n",
    "plt.colorbar()"
   ]
  },
  {
   "cell_type": "code",
   "execution_count": 10,
   "id": "fa6d479e",
   "metadata": {},
   "outputs": [
    {
     "data": {
      "text/plain": [
       "<matplotlib.contour.QuadContourSet at 0x7efd2c17ff40>"
      ]
     },
     "execution_count": 10,
     "metadata": {},
     "output_type": "execute_result"
    },
    {
     "data": {
      "text/plain": [
       "<matplotlib.colorbar.Colorbar at 0x7efd2c3d6c40>"
      ]
     },
     "execution_count": 10,
     "metadata": {},
     "output_type": "execute_result"
    },
    {
     "data": {
      "text/plain": [
       "3.810656163088871"
      ]
     },
     "execution_count": 10,
     "metadata": {},
     "output_type": "execute_result"
    },
    {
     "data": {
      "image/png": "[encoded data removed]",
      "text/plain": [
       "<Figure size 432x288 with 2 Axes>"
      ]
     },
     "metadata": {
      "needs_background": "light"
     },
     "output_type": "display_data"
    }
   ],
   "source": [
    "generator=TestDistribution(9).returnDistribution()\n",
    "np.random.seed(3)\n",
    "X_train,Y_train=generator.generate(3000)\n",
    "X_test,Y_test = generator.generate(1000)\n",
    "axis0,axis1 = np.meshgrid(np.arange(0,1,0.01),np.arange(0,1,0.01))\n",
    "X_grid = np.array([axis0.ravel(),axis1.ravel()]).T\n",
    "max_depth,order, truncate_ratio_low, truncate_ratio_up , r_range_low, r_range_up ,step, lamda = 5,0,0,0.6,0,1,1, 0\n",
    "model = RegressionTree(estimator=\"pointwise_extrapolation_estimator\",\n",
    "                         splitter=\"varreduction\",\n",
    "                         min_samples_split=3,\n",
    "                         max_depth=max_depth,\n",
    "                         order=order,\n",
    "                         random_state=4,\n",
    "                         truncate_ratio_low= truncate_ratio_low,\n",
    "                         truncate_ratio_up= truncate_ratio_up,\n",
    "                         step = step,\n",
    "                         lamda = lamda)\n",
    "model.fit(X_train, Y_train)\n",
    "predict_result=model.predict(X_grid).reshape(-1,100)\n",
    "plt.contourf(axis0, axis1,predict_result) #,vmin=0,vmax=20)\n",
    "plt.colorbar()\n",
    "\n",
    "MSE(model.predict(X_test),Y_test)"
   ]
  },
  {
   "cell_type": "code",
   "execution_count": null,
   "id": "eb447bf0",
   "metadata": {},
   "outputs": [],
   "source": []
  },
  {
   "cell_type": "code",
   "execution_count": null,
   "id": "23312396",
   "metadata": {},
   "outputs": [],
   "source": []
  },
  {
   "cell_type": "code",
   "execution_count": 16,
   "id": "c6be2a13",
   "metadata": {},
   "outputs": [
    {
     "data": {
      "text/plain": [
       "GradientBoostingRegressor(n_estimators=500)"
      ]
     },
     "execution_count": 16,
     "metadata": {},
     "output_type": "execute_result"
    },
    {
     "data": {
      "text/plain": [
       "167.2057502948516"
      ]
     },
     "execution_count": 16,
     "metadata": {},
     "output_type": "execute_result"
    },
    {
     "data": {
      "text/plain": [
       "30476.697196049055"
      ]
     },
     "execution_count": 16,
     "metadata": {},
     "output_type": "execute_result"
    },
    {
     "data": {
      "text/plain": [
       "805.6007052231561"
      ]
     },
     "execution_count": 16,
     "metadata": {},
     "output_type": "execute_result"
    }
   ],
   "source": [
    "\n",
    "generator=TestDistribution(3).returnDistribution()\n",
    "np.random.seed(3)\n",
    "X_train,Y_train=generator.generate(3000)\n",
    "X_test,Y_test = generator.generate(1000)\n",
    "\n",
    "\n",
    "model_GBRT = GradientBoostingRegressor(n_estimators = 500)\n",
    "\n",
    "model_GBRT.fit(X_train, Y_train)\n",
    "y_hat=model_GBRT.predict(X_test)\n",
    "mse_score = MSE(y_hat, Y_test)\n",
    "mse_score\n",
    "\n",
    "max_depth , order, truncate_ratio_low, truncate_ratio_up , r_range_low, r_range_up ,step, lamda =6, 1,0,0.6,0,1,2, 0.001\n",
    "\n",
    "\n",
    "model = RegressionTree(estimator=\"naive_estimator\",\n",
    "                         splitter=\"maxedge\",\n",
    "                         min_samples_split=5,\n",
    "                         max_depth=5,\n",
    "                         order=order,\n",
    "                         random_state=1,\n",
    "                         truncate_ratio_low=truncate_ratio_low,\n",
    "                         truncate_ratio_up= truncate_ratio_up,\n",
    "                      r_range_low=r_range_low,\n",
    "                      r_range_up=r_range_up,\n",
    "                      step=step,\n",
    "                      lamda = lamda)\n",
    "model.fit(X_train, Y_train)\n",
    "MSE(model.predict(X_test),Y_test)\n",
    "\n",
    "model = RegressionTree(estimator=\"pointwise_extrapolation_estimator\",\n",
    "                         splitter=\"varreduction\",\n",
    "                         min_samples_split=5,\n",
    "                         max_depth=max_depth,\n",
    "                         order=order,\n",
    "                         random_state=1,\n",
    "                         truncate_ratio_low=truncate_ratio_low,\n",
    "                         truncate_ratio_up= truncate_ratio_up,\n",
    "                      r_range_low=r_range_low,\n",
    "                      r_range_up=r_range_up,\n",
    "                      step=step,\n",
    "                      lamda = lamda)\n",
    "model.fit(X_train, Y_train)\n",
    "MSE(model.predict(X_test),Y_test)\n",
    "\n",
    "\n"
   ]
  },
  {
   "cell_type": "code",
   "execution_count": 12,
   "id": "7bf256fd",
   "metadata": {},
   "outputs": [
    {
     "data": {
      "text/plain": [
       "array([[0.        , 0.        , 0.        , 0.        ],\n",
       "       [1.        , 1.        , 0.46369689, 1.        ]])"
      ]
     },
     "execution_count": 12,
     "metadata": {},
     "output_type": "execute_result"
    },
    {
     "data": {
      "image/png": "[encoded data removed]",
      "text/plain": [
       "<Figure size 432x288 with 1 Axes>"
      ]
     },
     "metadata": {
      "needs_background": "light"
     },
     "output_type": "display_data"
    }
   ],
   "source": [
    "node_idx=0\n",
    "query_obj=list(model.tree_.leafnode_fun.values())[node_idx]\n",
    "X_range,dt_X, dt_Y = query_obj.X_range, query_obj.dt_X, query_obj.dt_Y\n",
    "X_range\n",
    "X_extra= X_range.mean(axis=0)+0.12\n",
    "order, truncate_ratio_low, truncate_ratio_up = order, truncate_ratio_low, truncate_ratio_up \n",
    "\n",
    "sorted_ratio, sorted_prediction, intercept ,_= model.get_node_extrapolation(dt_X, dt_Y, X_extra, X_range, order, truncate_ratio_low, truncate_ratio_up,0,1,step,lamda)\n",
    "_=plt.scatter((sorted_ratio),sorted_prediction)\n",
    "_=plt.scatter((sorted_ratio)[int(len(sorted_ratio)*truncate_ratio_low):int(len(sorted_ratio)*truncate_ratio_up)],sorted_prediction[int(len(sorted_prediction)*truncate_ratio_low):int(len(sorted_prediction)*truncate_ratio_up)])\n",
    "_=plt.axhline(intercept,color=\"red\")\n",
    "_=plt.axhline(generator.evaluate(X_extra.reshape(1,-1)),color=\"blue\")"
   ]
  },
  {
   "cell_type": "code",
   "execution_count": null,
   "id": "04b54fab",
   "metadata": {},
   "outputs": [],
   "source": []
  }
 ],
 "metadata": {
  "kernelspec": {
   "display_name": "Python 3 (ipykernel)",
   "language": "python",
   "name": "python3"
  },
  "language_info": {
   "codemirror_mode": {
    "name": "ipython",
    "version": 3
   },
   "file_extension": ".py",
   "mimetype": "text/x-python",
   "name": "python",
   "nbconvert_exporter": "python",
   "pygments_lexer": "ipython3",
   "version": "3.9.7"
  }
 },
 "nbformat": 4,
 "nbformat_minor": 5
}
