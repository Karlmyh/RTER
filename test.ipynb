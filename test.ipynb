{
 "cells": [
  {
   "cell_type": "code",
   "execution_count": 1,
   "id": "4955a3b5",
   "metadata": {},
   "outputs": [],
   "source": [
    "from RTER import RegressionTree\n",
    "from Distribution import TestDistribution\n",
    "import numpy as np\n",
    "\n",
    "\n",
    "from sklearn.metrics import mean_squared_error as MSE\n",
    "import matplotlib.pyplot as plt\n",
    "\n",
    "from IPython.core.interactiveshell import InteractiveShell\n",
    "InteractiveShell.ast_node_interactivity = \"all\"\n",
    "\n",
    "from multiprocessing import Pool"
   ]
  },
  {
   "cell_type": "code",
   "execution_count": 2,
   "id": "211a4479",
   "metadata": {},
   "outputs": [],
   "source": [
    "density=TestDistribution(15,1).returnDistribution()\n",
    "np.random.seed(2)\n",
    "#X_train,pdf_X_train=density.generate(1000)\n",
    "X_train= np.arange(0,1,0.001).reshape(-1,1)\n",
    "Y_train_true = np.sin(X_train).ravel()\n",
    "Y_train_noise = np.random.normal(scale=0.1,size=X_train.shape[0])\n",
    "Y_train=Y_train_true+Y_train_noise\n",
    "\n",
    "X_test= np.arange(0,1,0.005).reshape(-1,1)\n",
    "Y_test_true = np.sin(X_test).ravel()\n",
    "\n"
   ]
  },
  {
   "cell_type": "code",
   "execution_count": null,
   "id": "00969b6e",
   "metadata": {},
   "outputs": [],
   "source": []
  },
  {
   "cell_type": "code",
   "execution_count": 3,
   "id": "1d6a372e",
   "metadata": {},
   "outputs": [
    {
     "data": {
      "text/plain": [
       "0.00035515492866956876"
      ]
     },
     "execution_count": 3,
     "metadata": {},
     "output_type": "execute_result"
    }
   ],
   "source": [
    "MSE_sum=0\n",
    "repeat_time=20\n",
    "for seed in range(repeat_time):\n",
    "    np.random.seed(seed)\n",
    "    X_train= np.arange(0,1,0.001).reshape(-1,1)\n",
    "    Y_train_true = np.sin(X_train).ravel()\n",
    "    Y_train_noise = np.random.normal(scale=0.1,size=X_train.shape[0])\n",
    "    Y_train=Y_train_true+Y_train_noise\n",
    "\n",
    "    X_test= np.arange(0,1,0.005).reshape(-1,1)\n",
    "    Y_test_true = np.sin(X_test).ravel()\n",
    "    RT_model=RegressionTree(estimator=\"naive_estimator\",splitter=\"midpoint\",min_samples_split=30,max_depth=5,random_state=1)\n",
    "    RT_model.fit(X_train,Y_train)\n",
    "    Y_hat=RT_model.predict(X_test)\n",
    "    MSE_sum+=MSE(Y_hat,Y_test_true)\n",
    "MSE_sum/repeat_time"
   ]
  },
  {
   "cell_type": "code",
   "execution_count": 4,
   "id": "0ad2e3a0",
   "metadata": {},
   "outputs": [
    {
     "data": {
      "text/plain": [
       "[<matplotlib.lines.Line2D at 0x7f550598eb20>]"
      ]
     },
     "execution_count": 4,
     "metadata": {},
     "output_type": "execute_result"
    },
    {
     "data": {
      "text/plain": [
       "[<matplotlib.lines.Line2D at 0x7f550598ef40>]"
      ]
     },
     "execution_count": 4,
     "metadata": {},
     "output_type": "execute_result"
    },
    {
     "data": {
      "image/png": "[encoded data removed]",
      "text/plain": [
       "<Figure size 432x288 with 1 Axes>"
      ]
     },
     "metadata": {
      "needs_background": "light"
     },
     "output_type": "display_data"
    }
   ],
   "source": [
    "plt.plot(Y_hat)\n",
    "plt.plot(Y_test_true)"
   ]
  },
  {
   "cell_type": "markdown",
   "id": "a42e09c9",
   "metadata": {},
   "source": [
    "## Ensemble"
   ]
  },
  {
   "cell_type": "code",
   "execution_count": 5,
   "id": "2ecc1742",
   "metadata": {},
   "outputs": [
    {
     "data": {
      "text/plain": [
       "0.0005999437643960439"
      ]
     },
     "execution_count": 5,
     "metadata": {},
     "output_type": "execute_result"
    }
   ],
   "source": [
    "MSE_sum=0\n",
    "repeat_time=20\n",
    "ensemble_time=100\n",
    "for seed in range(repeat_time):\n",
    "    np.random.seed(seed)\n",
    "    X_train= np.arange(0,1,0.001).reshape(-1,1)\n",
    "    Y_train_true = np.sin(X_train).ravel()\n",
    "    Y_train_noise = np.random.normal(scale=0.1,size=X_train.shape[0])\n",
    "    Y_train=Y_train_true+Y_train_noise\n",
    "\n",
    "    X_test= np.arange(0,1,0.005).reshape(-1,1)\n",
    "    Y_test_true = np.sin(X_test).ravel()\n",
    "    \n",
    "    pre_vec=np.zeros(Y_test_true.shape[0])\n",
    "    for ensemble_idx in range(ensemble_time):\n",
    "    \n",
    "    \n",
    "        RT_model=RegressionTree(estimator=\"naive_estimator\",splitter=\"midpoint\",min_samples_split=30,max_depth=6,random_state=ensemble_idx)\n",
    "        RT_model.fit(X_train,Y_train)\n",
    "        pre_vec+=RT_model.predict(X_test)\n",
    "    \n",
    "    pre_vec/=ensemble_time\n",
    "    MSE_sum+=MSE(pre_vec,Y_test_true)\n",
    "MSE_sum/repeat_time"
   ]
  },
  {
   "cell_type": "code",
   "execution_count": null,
   "id": "75eede47",
   "metadata": {},
   "outputs": [],
   "source": []
  },
  {
   "cell_type": "code",
   "execution_count": 6,
   "id": "9c055989",
   "metadata": {},
   "outputs": [
    {
     "data": {
      "text/plain": [
       "[<matplotlib.lines.Line2D at 0x7f55038877f0>]"
      ]
     },
     "execution_count": 6,
     "metadata": {},
     "output_type": "execute_result"
    },
    {
     "data": {
      "text/plain": [
       "[<matplotlib.lines.Line2D at 0x7f5503887c10>]"
      ]
     },
     "execution_count": 6,
     "metadata": {},
     "output_type": "execute_result"
    },
    {
     "data": {
      "image/png": "[encoded data removed]",
      "text/plain": [
       "<Figure size 432x288 with 1 Axes>"
      ]
     },
     "metadata": {
      "needs_background": "light"
     },
     "output_type": "display_data"
    }
   ],
   "source": [
    "plt.plot(pre_vec)\n",
    "plt.plot(Y_test_true)"
   ]
  },
  {
   "cell_type": "code",
   "execution_count": null,
   "id": "64287bcb",
   "metadata": {},
   "outputs": [],
   "source": []
  },
  {
   "cell_type": "code",
   "execution_count": 7,
   "id": "d5dcf5e5",
   "metadata": {},
   "outputs": [
    {
     "data": {
      "text/plain": [
       "0.0006658819683385687"
      ]
     },
     "execution_count": 7,
     "metadata": {},
     "output_type": "execute_result"
    }
   ],
   "source": [
    "ERT_model=RegressionTree(estimator=\"extrapolation_estimator\",\n",
    "                         splitter=\"midpoint\",\n",
    "                         min_samples_split=30,\n",
    "                         max_depth=4,\n",
    "                         order=1,\n",
    "                         random_state=1,\n",
    "                         truncate_ratio_low=0.45,\n",
    "                         truncate_ratio_up=0.8)\n",
    "ERT_model.fit(X_train,Y_train)\n",
    "Y_hat=ERT_model.predict(X_test)\n",
    "\n",
    "#np.arange(0.0001,0.04,0.0005).reshape(-1,1)\n",
    "MSE(Y_hat,Y_test_true)"
   ]
  },
  {
   "cell_type": "code",
   "execution_count": 8,
   "id": "0612d29f",
   "metadata": {},
   "outputs": [
    {
     "data": {
      "text/plain": [
       "0.0007298776424295655"
      ]
     },
     "execution_count": 8,
     "metadata": {},
     "output_type": "execute_result"
    }
   ],
   "source": [
    "MSE_sum=0\n",
    "repeat_time=20\n",
    "for seed in range(repeat_time):\n",
    "    np.random.seed(seed)\n",
    "    X_train= np.arange(0,1,0.001).reshape(-1,1)\n",
    "    Y_train_true = np.sin(X_train).ravel()\n",
    "    Y_train_noise = np.random.normal(scale=0.1,size=X_train.shape[0])\n",
    "    Y_train=Y_train_true+Y_train_noise\n",
    "\n",
    "    X_test= np.arange(0,1,0.005).reshape(-1,1)\n",
    "    Y_test_true = np.sin(X_test).ravel()\n",
    "    ERT_model=RegressionTree(estimator=\"extrapolation_estimator\",\n",
    "                         splitter=\"midpoint\",\n",
    "                         min_samples_split=30,\n",
    "                         max_depth=4,\n",
    "                         order=1,\n",
    "                         random_state=1,\n",
    "                         truncate_ratio_low=0.45,\n",
    "                         truncate_ratio_up=0.8)\n",
    "    ERT_model.fit(X_train,Y_train)\n",
    "    Y_hat=ERT_model.predict(X_test)\n",
    "    MSE_sum+=MSE(Y_hat,Y_test_true)\n",
    "MSE_sum/repeat_time"
   ]
  },
  {
   "cell_type": "code",
   "execution_count": 9,
   "id": "19e6f719",
   "metadata": {},
   "outputs": [],
   "source": [
    "node_range,dt_X, dt_Y,sorted_ratio,sorted_prediction,intercept= ERT_model.get_node_information(9)"
   ]
  },
  {
   "cell_type": "code",
   "execution_count": 10,
   "id": "b01a2a18",
   "metadata": {},
   "outputs": [
    {
     "data": {
      "text/plain": [
       "[<matplotlib.lines.Line2D at 0x7f55038016a0>]"
      ]
     },
     "execution_count": 10,
     "metadata": {},
     "output_type": "execute_result"
    },
    {
     "data": {
      "image/png": "[encoded data removed]",
      "text/plain": [
       "<Figure size 432x288 with 1 Axes>"
      ]
     },
     "metadata": {
      "needs_background": "light"
     },
     "output_type": "display_data"
    }
   ],
   "source": [
    "plt.plot(dt_X.ravel(),dt_Y.ravel())"
   ]
  },
  {
   "cell_type": "code",
   "execution_count": 11,
   "id": "8910e24c",
   "metadata": {},
   "outputs": [
    {
     "data": {
      "text/plain": [
       "[<matplotlib.lines.Line2D at 0x7f550375a220>]"
      ]
     },
     "execution_count": 11,
     "metadata": {},
     "output_type": "execute_result"
    },
    {
     "data": {
      "text/plain": [
       "[<matplotlib.lines.Line2D at 0x7f550375a670>]"
      ]
     },
     "execution_count": 11,
     "metadata": {},
     "output_type": "execute_result"
    },
    {
     "data": {
      "image/png": "[encoded data removed]",
      "text/plain": [
       "<Figure size 432x288 with 1 Axes>"
      ]
     },
     "metadata": {
      "needs_background": "light"
     },
     "output_type": "display_data"
    }
   ],
   "source": [
    "plt.plot(sorted_ratio,sorted_prediction)\n",
    "plt.plot(sorted_ratio[int(len(sorted_ratio)*0.45):int(len(sorted_ratio)*0.8)],sorted_prediction[int(len(sorted_prediction)*0.45):int(len(sorted_prediction)*0.8)])\n"
   ]
  },
  {
   "cell_type": "code",
   "execution_count": null,
   "id": "d50a852e",
   "metadata": {},
   "outputs": [],
   "source": []
  },
  {
   "cell_type": "code",
   "execution_count": null,
   "id": "a4f31ca0",
   "metadata": {},
   "outputs": [],
   "source": []
  },
  {
   "cell_type": "code",
   "execution_count": null,
   "id": "25fc5609",
   "metadata": {},
   "outputs": [],
   "source": []
  },
  {
   "cell_type": "code",
   "execution_count": 12,
   "id": "749fd3d5",
   "metadata": {},
   "outputs": [
    {
     "data": {
      "text/plain": [
       "[<matplotlib.lines.Line2D at 0x7f5503729e20>]"
      ]
     },
     "execution_count": 12,
     "metadata": {},
     "output_type": "execute_result"
    },
    {
     "data": {
      "text/plain": [
       "[<matplotlib.lines.Line2D at 0x7f5503738280>]"
      ]
     },
     "execution_count": 12,
     "metadata": {},
     "output_type": "execute_result"
    },
    {
     "data": {
      "image/png": "[encoded data removed]",
      "text/plain": [
       "<Figure size 432x288 with 1 Axes>"
      ]
     },
     "metadata": {
      "needs_background": "light"
     },
     "output_type": "display_data"
    }
   ],
   "source": [
    "plt.plot(Y_hat)\n",
    "plt.plot(Y_test_true)"
   ]
  },
  {
   "cell_type": "markdown",
   "id": "30b5549e",
   "metadata": {},
   "source": [
    "# only index at center"
   ]
  },
  {
   "cell_type": "code",
   "execution_count": 13,
   "id": "f3edcf81",
   "metadata": {},
   "outputs": [],
   "source": [
    "\n",
    "\n",
    "def compute_MSE_node_central(model,func):\n",
    "    X_test=model.tree_.node_range.mean(axis=1)\n",
    "    X_test=np.array(X_test)\n",
    "    Y_hat=model.predict(X_test)\n",
    "    \n",
    "    Y_true=func(X_test).ravel()\n",
    "\n",
    "   \n",
    "    return MSE(Y_hat,Y_true)\n",
    "    "
   ]
  },
  {
   "cell_type": "code",
   "execution_count": null,
   "id": "22c1d5af",
   "metadata": {},
   "outputs": [],
   "source": []
  },
  {
   "cell_type": "code",
   "execution_count": 14,
   "id": "aa4ebe38",
   "metadata": {},
   "outputs": [
    {
     "data": {
      "text/plain": [
       "0.0008487394025040297"
      ]
     },
     "execution_count": 14,
     "metadata": {},
     "output_type": "execute_result"
    },
    {
     "data": {
      "text/plain": [
       "0.00048705378442812395"
      ]
     },
     "execution_count": 14,
     "metadata": {},
     "output_type": "execute_result"
    }
   ],
   "source": [
    "compute_MSE_node_central(ERT_model,np.sin)\n",
    "compute_MSE_node_central(RT_model,np.sin)"
   ]
  },
  {
   "cell_type": "code",
   "execution_count": 15,
   "id": "f6c4cf3a",
   "metadata": {},
   "outputs": [],
   "source": [
    "## repeat experiment\n",
    "error_RT=0\n",
    "error_ERT=0\n",
    "for seed in range(50):\n",
    "    np.random.seed(seed)\n",
    "    func=np.sin\n",
    "    #X_train,pdf_X_train=density.generate(1000)\n",
    "    X_train= np.arange(0,1,0.001).reshape(-1,1)\n",
    "    Y_train_true = func(X_train).ravel()\n",
    "    Y_train_noise = np.random.normal(scale=0.1,size=X_train.shape[0])\n",
    "    Y_train=Y_train_true+Y_train_noise\n",
    "\n",
    "    X_test= np.arange(0,1,0.005).reshape(-1,1)\n",
    "    Y_test_true = func(X_test).ravel()\n",
    "    min_samples_split=120\n",
    "    max_depth=6\n",
    "    RT_model=RegressionTree(estimator=\"naive_estimator\",\n",
    "                            splitter=\"midpoint\",\n",
    "                            min_samples_split=min_samples_split,\n",
    "                            max_depth=max_depth,\n",
    "                            random_state=1)\n",
    "    RT_model.fit(X_train,Y_train)\n",
    "    ERT_model=RegressionTree(estimator=\"extrapolation_estimator\",\n",
    "                             splitter=\"midpoint\",\n",
    "                             min_samples_split=min_samples_split,\n",
    "                             max_depth=max_depth,\n",
    "                             order=1,\n",
    "                             random_state=1,\n",
    "                             truncate_ratio_low=0.45,\n",
    "                             truncate_ratio_up=0.8)\n",
    "    ERT_model.fit(X_train,Y_train)\n",
    "    \n",
    "    error_RT+=compute_MSE_node_central(ERT_model,func)\n",
    "    error_ERT+=compute_MSE_node_central(RT_model,func)"
   ]
  },
  {
   "cell_type": "code",
   "execution_count": 16,
   "id": "503048e1",
   "metadata": {},
   "outputs": [
    {
     "data": {
      "text/plain": [
       "0.04297188407679876"
      ]
     },
     "execution_count": 16,
     "metadata": {},
     "output_type": "execute_result"
    },
    {
     "data": {
      "text/plain": [
       "0.02617943566743878"
      ]
     },
     "execution_count": 16,
     "metadata": {},
     "output_type": "execute_result"
    }
   ],
   "source": [
    "error_RT\n",
    "error_ERT"
   ]
  },
  {
   "cell_type": "markdown",
   "id": "6a93bb06",
   "metadata": {},
   "source": [
    "# Pointwise Extrapolation Estimator"
   ]
  },
  {
   "cell_type": "code",
   "execution_count": 3,
   "id": "19e8569a",
   "metadata": {},
   "outputs": [
    {
     "data": {
      "text/plain": [
       "0.0005780942929730944"
      ]
     },
     "execution_count": 3,
     "metadata": {},
     "output_type": "execute_result"
    }
   ],
   "source": [
    "ERT_model=RegressionTree(estimator=\"pointwise_extrapolation_estimator\",\n",
    "                         splitter=\"midpoint\",\n",
    "                         min_samples_split=30,\n",
    "                         max_depth=4,\n",
    "                         order=1,\n",
    "                         random_state=1,\n",
    "                         truncate_ratio_low=0.45,\n",
    "                         truncate_ratio_up=0.8)\n",
    "ERT_model.fit(X_train,Y_train)\n",
    "Y_hat=ERT_model.predict(X_test)\n",
    "\n",
    "#np.arange(0.0001,0.04,0.0005).reshape(-1,1)\n",
    "MSE(Y_hat,Y_test_true)"
   ]
  },
  {
   "cell_type": "code",
   "execution_count": 18,
   "id": "4cf1bbfc",
   "metadata": {},
   "outputs": [
    {
     "data": {
      "text/plain": [
       "0.00032587283371684215"
      ]
     },
     "execution_count": 18,
     "metadata": {},
     "output_type": "execute_result"
    }
   ],
   "source": [
    "MSE_sum=0\n",
    "repeat_time=20\n",
    "for seed in range(repeat_time):\n",
    "    np.random.seed(seed)\n",
    "    X_train= np.arange(0,1,0.001).reshape(-1,1)\n",
    "    Y_train_true = np.sin(X_train).ravel()\n",
    "    Y_train_noise = np.random.normal(scale=0.1,size=X_train.shape[0])\n",
    "    Y_train=Y_train_true+Y_train_noise\n",
    "\n",
    "    X_test= np.arange(0,1,0.005).reshape(-1,1)\n",
    "    Y_test_true = np.sin(X_test).ravel()\n",
    "    ERT_model=RegressionTree(estimator=\"pointwise_extrapolation_estimator\",\n",
    "                         splitter=\"midpoint\",\n",
    "                         min_samples_split=30,\n",
    "                         max_depth=3,\n",
    "                         order=1,\n",
    "                         random_state=1,\n",
    "                         truncate_ratio_low=0.3,\n",
    "                         truncate_ratio_up=0.7)\n",
    "    ERT_model.fit(X_train,Y_train)\n",
    "    Y_hat=ERT_model.predict(X_test)\n",
    "    MSE_sum+=MSE(Y_hat,Y_test_true)\n",
    "MSE_sum/repeat_time"
   ]
  },
  {
   "cell_type": "code",
   "execution_count": 19,
   "id": "922a8a9f",
   "metadata": {},
   "outputs": [
    {
     "data": {
      "text/plain": [
       "[<matplotlib.lines.Line2D at 0x7f55036acd60>]"
      ]
     },
     "execution_count": 19,
     "metadata": {},
     "output_type": "execute_result"
    },
    {
     "data": {
      "text/plain": [
       "[<matplotlib.lines.Line2D at 0x7f55036b81c0>]"
      ]
     },
     "execution_count": 19,
     "metadata": {},
     "output_type": "execute_result"
    },
    {
     "data": {
      "image/png": "[encoded data removed]",
      "text/plain": [
       "<Figure size 432x288 with 1 Axes>"
      ]
     },
     "metadata": {
      "needs_background": "light"
     },
     "output_type": "display_data"
    }
   ],
   "source": [
    "plt.plot(Y_hat)\n",
    "plt.plot(Y_test_true)"
   ]
  },
  {
   "cell_type": "markdown",
   "id": "c16624ca",
   "metadata": {},
   "source": [
    "## Numba Acceleration"
   ]
  },
  {
   "cell_type": "code",
   "execution_count": 6,
   "id": "c4feefd7",
   "metadata": {},
   "outputs": [
    {
     "data": {
      "text/plain": [
       "0.0005857000985224971"
      ]
     },
     "execution_count": 6,
     "metadata": {},
     "output_type": "execute_result"
    }
   ],
   "source": [
    "ERT_model=RegressionTree(estimator=\"pointwise_extrapolation_estimator\",\n",
    "                         splitter=\"midpoint\",\n",
    "                         min_samples_split=30,\n",
    "                         max_depth=4,\n",
    "                         order=1,\n",
    "                         random_state=1,\n",
    "                         truncate_ratio_low=0.45,\n",
    "                         truncate_ratio_up=0.8,\n",
    "                        numba_acc=0)\n",
    "ERT_model.fit(X_train,Y_train)\n",
    "Y_hat=ERT_model.predict(X_test)\n",
    "\n",
    "#np.arange(0.0001,0.04,0.0005).reshape(-1,1)\n",
    "MSE(Y_hat,Y_test_true)"
   ]
  },
  {
   "cell_type": "code",
   "execution_count": null,
   "id": "12fc8262",
   "metadata": {},
   "outputs": [],
   "source": []
  },
  {
   "cell_type": "code",
   "execution_count": 7,
   "id": "97724e47",
   "metadata": {},
   "outputs": [
    {
     "data": {
      "text/plain": [
       "0.00032789852982465986"
      ]
     },
     "execution_count": 7,
     "metadata": {},
     "output_type": "execute_result"
    }
   ],
   "source": [
    "MSE_sum=0\n",
    "repeat_time=20\n",
    "for seed in range(repeat_time):\n",
    "    np.random.seed(seed)\n",
    "    X_train= np.arange(0,1,0.001).reshape(-1,1)\n",
    "    Y_train_true = np.sin(X_train).ravel()\n",
    "    Y_train_noise = np.random.normal(scale=0.1,size=X_train.shape[0])\n",
    "    Y_train=Y_train_true+Y_train_noise\n",
    "\n",
    "    X_test= np.arange(0,1,0.005).reshape(-1,1)\n",
    "    Y_test_true = np.sin(X_test).ravel()\n",
    "    ERT_model=RegressionTree(estimator=\"pointwise_extrapolation_estimator\",\n",
    "                         splitter=\"midpoint\",\n",
    "                         min_samples_split=30,\n",
    "                         max_depth=3,\n",
    "                         order=1,\n",
    "                         random_state=1,\n",
    "                         truncate_ratio_low=0.3,\n",
    "                         truncate_ratio_up=0.7,\n",
    "                            numba_acc=0)\n",
    "    ERT_model.fit(X_train,Y_train)\n",
    "    Y_hat=ERT_model.predict(X_test)\n",
    "    MSE_sum+=MSE(Y_hat,Y_test_true)\n",
    "MSE_sum/repeat_time"
   ]
  },
  {
   "cell_type": "code",
   "execution_count": 8,
   "id": "ba60aac9",
   "metadata": {},
   "outputs": [
    {
     "data": {
      "text/plain": [
       "[<matplotlib.lines.Line2D at 0x7f713106ca30>]"
      ]
     },
     "execution_count": 8,
     "metadata": {},
     "output_type": "execute_result"
    },
    {
     "data": {
      "text/plain": [
       "[<matplotlib.lines.Line2D at 0x7f7131069c40>]"
      ]
     },
     "execution_count": 8,
     "metadata": {},
     "output_type": "execute_result"
    },
    {
     "data": {
      "image/png": "[encoded data removed]",
      "text/plain": [
       "<Figure size 432x288 with 1 Axes>"
      ]
     },
     "metadata": {
      "needs_background": "light"
     },
     "output_type": "display_data"
    }
   ],
   "source": [
    "plt.plot(Y_hat)\n",
    "plt.plot(Y_test_true)"
   ]
  },
  {
   "cell_type": "code",
   "execution_count": null,
   "id": "9efcfeb6",
   "metadata": {},
   "outputs": [],
   "source": []
  },
  {
   "cell_type": "markdown",
   "id": "bc63e5dd",
   "metadata": {},
   "source": [
    "## Parallel Computation"
   ]
  },
  {
   "cell_type": "code",
   "execution_count": null,
   "id": "4ebd1030",
   "metadata": {},
   "outputs": [],
   "source": []
  },
  {
   "cell_type": "code",
   "execution_count": 3,
   "id": "5ea8f85d",
   "metadata": {},
   "outputs": [
    {
     "data": {
      "text/plain": [
       "0.0005857000985224971"
      ]
     },
     "execution_count": 3,
     "metadata": {},
     "output_type": "execute_result"
    }
   ],
   "source": [
    "ERT_model=RegressionTree(estimator=\"pointwise_extrapolation_estimator\",\n",
    "                         splitter=\"midpoint\",\n",
    "                         min_samples_split=30,\n",
    "                         max_depth=4,\n",
    "                         order=1,\n",
    "                         random_state=1,\n",
    "                         truncate_ratio_low=0.45,\n",
    "                         truncate_ratio_up=0.8,\n",
    "                        parallel_jobs=1)\n",
    "ERT_model.fit(X_train,Y_train)\n",
    "Y_hat=ERT_model.predict(X_test)\n",
    "\n",
    "#np.arange(0.0001,0.04,0.0005).reshape(-1,1)\n",
    "MSE(Y_hat,Y_test_true)"
   ]
  },
  {
   "cell_type": "code",
   "execution_count": 5,
   "id": "e8af3642",
   "metadata": {},
   "outputs": [],
   "source": [
    "from time import time"
   ]
  },
  {
   "cell_type": "code",
   "execution_count": 7,
   "id": "ddd2ee5c",
   "metadata": {},
   "outputs": [
    {
     "data": {
      "text/plain": [
       "0.00012188304213675589"
      ]
     },
     "execution_count": 7,
     "metadata": {},
     "output_type": "execute_result"
    },
    {
     "name": "stdout",
     "output_type": "stream",
     "text": [
      "time used : 57.92785716056824 s\n"
     ]
    },
    {
     "data": {
      "text/plain": [
       "0.00012188304213675589"
      ]
     },
     "execution_count": 7,
     "metadata": {},
     "output_type": "execute_result"
    },
    {
     "name": "stdout",
     "output_type": "stream",
     "text": [
      "time used : 409.89631700515747 s\n"
     ]
    }
   ],
   "source": [
    "time_s=time()\n",
    "MSE_sum=0\n",
    "repeat_time=20\n",
    "for seed in range(repeat_time):\n",
    "    np.random.seed(seed)\n",
    "    X_train= np.arange(0,1,0.0002).reshape(-1,1)\n",
    "    Y_train_true = np.sin(X_train).ravel()\n",
    "    Y_train_noise = np.random.normal(scale=0.1,size=X_train.shape[0])\n",
    "    Y_train=Y_train_true+Y_train_noise\n",
    "\n",
    "    X_test= np.arange(0,1,0.0005).reshape(-1,1)\n",
    "    Y_test_true = np.sin(X_test).ravel()\n",
    "    ERT_model=RegressionTree(estimator=\"pointwise_extrapolation_estimator\",\n",
    "                         splitter=\"midpoint\",\n",
    "                         min_samples_split=30,\n",
    "                         max_depth=3,\n",
    "                         order=1,\n",
    "                         random_state=1,\n",
    "                         truncate_ratio_low=0.3,\n",
    "                         truncate_ratio_up=0.7,\n",
    "                         parallel_jobs=8)\n",
    "    ERT_model.fit(X_train,Y_train)\n",
    "    Y_hat=ERT_model.predict(X_test)\n",
    "    MSE_sum+=MSE(Y_hat,Y_test_true)\n",
    "MSE_sum/repeat_time\n",
    "time_e=time()\n",
    "print(\"time used : {} s\".format(time_e-time_s))\n",
    "\n",
    "time_s=time()\n",
    "MSE_sum=0\n",
    "repeat_time=20\n",
    "for seed in range(repeat_time):\n",
    "    np.random.seed(seed)\n",
    "    X_train= np.arange(0,1,0.0002).reshape(-1,1)\n",
    "    Y_train_true = np.sin(X_train).ravel()\n",
    "    Y_train_noise = np.random.normal(scale=0.1,size=X_train.shape[0])\n",
    "    Y_train=Y_train_true+Y_train_noise\n",
    "\n",
    "    X_test= np.arange(0,1,0.0005).reshape(-1,1)\n",
    "    Y_test_true = np.sin(X_test).ravel()\n",
    "    ERT_model=RegressionTree(estimator=\"pointwise_extrapolation_estimator\",\n",
    "                         splitter=\"midpoint\",\n",
    "                         min_samples_split=30,\n",
    "                         max_depth=3,\n",
    "                         order=1,\n",
    "                         random_state=1,\n",
    "                         truncate_ratio_low=0.3,\n",
    "                         truncate_ratio_up=0.7,\n",
    "                         parallel_jobs=0)\n",
    "    ERT_model.fit(X_train,Y_train)\n",
    "    Y_hat=ERT_model.predict(X_test)\n",
    "    MSE_sum+=MSE(Y_hat,Y_test_true)\n",
    "MSE_sum/repeat_time\n",
    "time_e=time()\n",
    "print(\"time used : {} s\".format(time_e-time_s))"
   ]
  },
  {
   "cell_type": "code",
   "execution_count": 8,
   "id": "95366970",
   "metadata": {},
   "outputs": [
    {
     "data": {
      "text/plain": [
       "[<matplotlib.lines.Line2D at 0x7f7974fd8040>]"
      ]
     },
     "execution_count": 8,
     "metadata": {},
     "output_type": "execute_result"
    },
    {
     "data": {
      "text/plain": [
       "[<matplotlib.lines.Line2D at 0x7f7974fd8460>]"
      ]
     },
     "execution_count": 8,
     "metadata": {},
     "output_type": "execute_result"
    },
    {
     "data": {
      "image/png": "[encoded data removed]",
      "text/plain": [
       "<Figure size 432x288 with 1 Axes>"
      ]
     },
     "metadata": {
      "needs_background": "light"
     },
     "output_type": "display_data"
    }
   ],
   "source": [
    "plt.plot(Y_hat)\n",
    "plt.plot(Y_test_true)"
   ]
  },
  {
   "cell_type": "code",
   "execution_count": null,
   "id": "770dc09e",
   "metadata": {},
   "outputs": [],
   "source": []
  }
 ],
 "metadata": {
  "kernelspec": {
   "display_name": "Python 3 (ipykernel)",
   "language": "python",
   "name": "python3"
  },
  "language_info": {
   "codemirror_mode": {
    "name": "ipython",
    "version": 3
   },
   "file_extension": ".py",
   "mimetype": "text/x-python",
   "name": "python",
   "nbconvert_exporter": "python",
   "pygments_lexer": "ipython3",
   "version": "3.9.7"
  }
 },
 "nbformat": 4,
 "nbformat_minor": 5
}
