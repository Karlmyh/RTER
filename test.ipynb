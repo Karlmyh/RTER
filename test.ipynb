{
 "cells": [
  {
   "cell_type": "markdown",
   "id": "f9866094",
   "metadata": {},
   "source": [
    "## Test Distribution Visualization"
   ]
  },
  {
   "cell_type": "code",
   "execution_count": 1,
   "id": "8261b3d2",
   "metadata": {},
   "outputs": [],
   "source": [
    "from RTER import RegressionTree\n",
    "from distribution import TestDistribution\n",
    "import numpy as np\n",
    "\n",
    "\n",
    "from sklearn.metrics import mean_squared_error as MSE\n",
    "import matplotlib.pyplot as plt\n",
    "\n",
    "from IPython.core.interactiveshell import InteractiveShell\n",
    "InteractiveShell.ast_node_interactivity = \"all\"\n",
    "\n",
    "from time import time\n",
    "\n",
    "from comparison.ensemble import RegressionTreeBoosting, RegressionTreeEnsemble\n",
    "from comparison.EKNN import EKNN\n",
    "from sklearn.model_selection import GridSearchCV\n",
    "\n",
    "\n",
    "from sklearn.ensemble import GradientBoostingRegressor"
   ]
  },
  {
   "cell_type": "code",
   "execution_count": 2,
   "id": "5be26cb3",
   "metadata": {},
   "outputs": [
    {
     "data": {
      "text/plain": [
       "<matplotlib.contour.QuadContourSet at 0x7f426b2d77c0>"
      ]
     },
     "execution_count": 2,
     "metadata": {},
     "output_type": "execute_result"
    },
    {
     "data": {
      "text/plain": [
       "<matplotlib.colorbar.Colorbar at 0x7f4269071790>"
      ]
     },
     "execution_count": 2,
     "metadata": {},
     "output_type": "execute_result"
    },
    {
     "data": {
      "image/png": "[encoded data removed]",
      "text/plain": [
       "<Figure size 432x288 with 2 Axes>"
      ]
     },
     "metadata": {
      "needs_background": "light"
     },
     "output_type": "display_data"
    }
   ],
   "source": [
    "generator=TestDistribution(8).returnDistribution()\n",
    "np.random.seed(3)\n",
    "\n",
    "axis0,axis1 = np.meshgrid(np.arange(0,1,0.01),np.arange(0,1,0.01))\n",
    "X_grid = np.array([axis0.ravel(),axis1.ravel()]).T\n",
    "\n",
    "predict_result=generator.evaluate(X_grid).reshape(-1,100)\n",
    "plt.contourf(axis0, axis1,predict_result) #,vmin=0,vmax=20)\n",
    "plt.colorbar()"
   ]
  },
  {
   "cell_type": "code",
   "execution_count": 13,
   "id": "0257c969",
   "metadata": {},
   "outputs": [
    {
     "data": {
      "text/plain": [
       "0.1296392432449996"
      ]
     },
     "execution_count": 13,
     "metadata": {},
     "output_type": "execute_result"
    },
    {
     "data": {
      "text/plain": [
       "<matplotlib.contour.QuadContourSet at 0x7f4267866040>"
      ]
     },
     "execution_count": 13,
     "metadata": {},
     "output_type": "execute_result"
    },
    {
     "data": {
      "text/plain": [
       "<matplotlib.colorbar.Colorbar at 0x7f4267836ca0>"
      ]
     },
     "execution_count": 13,
     "metadata": {},
     "output_type": "execute_result"
    },
    {
     "data": {
      "image/png": "[encoded data removed]",
      "text/plain": [
       "<Figure size 432x288 with 2 Axes>"
      ]
     },
     "metadata": {
      "needs_background": "light"
     },
     "output_type": "display_data"
    }
   ],
   "source": [
    "generator=TestDistribution(8).returnDistribution()\n",
    "np.random.seed(3)\n",
    "X_train,Y_train=generator.generate(1000)\n",
    "X_test,Y_test = generator.generate(1000)\n",
    "axis0,axis1 = np.meshgrid(np.arange(0,1,0.01),np.arange(0,1,0.01))\n",
    "X_grid = np.array([axis0.ravel(),axis1.ravel()]).T\n",
    "max_depth,order, lamda = 4,1, 0.00000001\n",
    "model = RegressionTree(estimator=\"pointwise_extrapolation_estimator\",\n",
    "                         splitter=\"maxedge\",\n",
    "                         min_samples_split=3,\n",
    "                         max_depth=max_depth,\n",
    "                         order=order,\n",
    "                         lamda = lamda,\n",
    "                          V=10)\n",
    "model.fit(X_train, Y_train)\n",
    "predict_result=model.predict(X_grid).reshape(-1,100)\n",
    "MSE(model.predict(X_test),Y_test)\n",
    "\n",
    "\n",
    "predict_result[predict_result>1.1] = 1.1\n",
    "\n",
    "plt.contourf(axis0, axis1,predict_result) #,vmin=0,vmax=20)\n",
    "plt.colorbar()\n",
    "\n"
   ]
  },
  {
   "cell_type": "code",
   "execution_count": null,
   "id": "13170699",
   "metadata": {},
   "outputs": [],
   "source": []
  },
  {
   "cell_type": "code",
   "execution_count": 16,
   "id": "8a533a17",
   "metadata": {},
   "outputs": [],
   "source": [
    "R = np.ones(5).reshape(1,-1)"
   ]
  },
  {
   "cell_type": "code",
   "execution_count": 23,
   "id": "4b0d42ba",
   "metadata": {},
   "outputs": [
    {
     "data": {
      "text/plain": [
       "array([[5.]])"
      ]
     },
     "execution_count": 23,
     "metadata": {},
     "output_type": "execute_result"
    }
   ],
   "source": [
    "R @ R.T"
   ]
  },
  {
   "cell_type": "code",
   "execution_count": 22,
   "id": "4234e0f9",
   "metadata": {},
   "outputs": [
    {
     "data": {
      "text/plain": [
       "array([[ 8.03921569, -1.96078431, -1.96078431, -1.96078431, -1.96078431],\n",
       "       [-1.96078431,  8.03921569, -1.96078431, -1.96078431, -1.96078431],\n",
       "       [-1.96078431, -1.96078431,  8.03921569, -1.96078431, -1.96078431],\n",
       "       [-1.96078431, -1.96078431, -1.96078431,  8.03921569, -1.96078431],\n",
       "       [-1.96078431, -1.96078431, -1.96078431, -1.96078431,  8.03921569]])"
      ]
     },
     "execution_count": 22,
     "metadata": {},
     "output_type": "execute_result"
    }
   ],
   "source": [
    "np.linalg.inv(inv_mat)"
   ]
  },
  {
   "cell_type": "code",
   "execution_count": null,
   "id": "36757f1f",
   "metadata": {},
   "outputs": [],
   "source": []
  },
  {
   "cell_type": "code",
   "execution_count": null,
   "id": "19e4fa95",
   "metadata": {},
   "outputs": [],
   "source": []
  },
  {
   "cell_type": "code",
   "execution_count": null,
   "id": "2d2c60d0",
   "metadata": {},
   "outputs": [],
   "source": []
  },
  {
   "cell_type": "code",
   "execution_count": null,
   "id": "0164c80a",
   "metadata": {},
   "outputs": [],
   "source": []
  },
  {
   "cell_type": "code",
   "execution_count": 4,
   "id": "d8394f5d",
   "metadata": {},
   "outputs": [
    {
     "data": {
      "text/plain": [
       "GradientBoostingRegressor(n_estimators=500)"
      ]
     },
     "execution_count": 4,
     "metadata": {},
     "output_type": "execute_result"
    },
    {
     "data": {
      "text/plain": [
       "0.111484205447525"
      ]
     },
     "execution_count": 4,
     "metadata": {},
     "output_type": "execute_result"
    },
    {
     "data": {
      "text/plain": [
       "<matplotlib.contour.QuadContourSet at 0x7f456af5c670>"
      ]
     },
     "execution_count": 4,
     "metadata": {},
     "output_type": "execute_result"
    },
    {
     "data": {
      "text/plain": [
       "<matplotlib.colorbar.Colorbar at 0x7f456aef9550>"
      ]
     },
     "execution_count": 4,
     "metadata": {},
     "output_type": "execute_result"
    },
    {
     "data": {
      "image/png": "[encoded data removed]",
      "text/plain": [
       "<Figure size 432x288 with 2 Axes>"
      ]
     },
     "metadata": {
      "needs_background": "light"
     },
     "output_type": "display_data"
    }
   ],
   "source": [
    "model_GBRT = GradientBoostingRegressor(n_estimators = 500)\n",
    "\n",
    "model_GBRT.fit(X_train, Y_train)\n",
    "y_hat=model_GBRT.predict(X_test)\n",
    "mse_score = MSE(y_hat, Y_test)\n",
    "mse_score\n",
    "predict_result=model_GBRT.predict(X_grid).reshape(-1,100)\n",
    "plt.contourf(axis0, axis1,predict_result) #,vmin=0,vmax=20)\n",
    "plt.colorbar()"
   ]
  },
  {
   "cell_type": "code",
   "execution_count": 18,
   "id": "be3fe99c",
   "metadata": {},
   "outputs": [
    {
     "data": {
      "text/plain": [
       "DecisionTreeRegressor(max_depth=2)"
      ]
     },
     "execution_count": 18,
     "metadata": {},
     "output_type": "execute_result"
    },
    {
     "data": {
      "text/plain": [
       "0.17891237402226512"
      ]
     },
     "execution_count": 18,
     "metadata": {},
     "output_type": "execute_result"
    },
    {
     "data": {
      "text/plain": [
       "<matplotlib.contour.QuadContourSet at 0x7f456d3bb460>"
      ]
     },
     "execution_count": 18,
     "metadata": {},
     "output_type": "execute_result"
    },
    {
     "data": {
      "text/plain": [
       "<matplotlib.colorbar.Colorbar at 0x7f456d453ac0>"
      ]
     },
     "execution_count": 18,
     "metadata": {},
     "output_type": "execute_result"
    },
    {
     "data": {
      "image/png": "[encoded data removed]",
      "text/plain": [
       "<Figure size 432x288 with 2 Axes>"
      ]
     },
     "metadata": {
      "needs_background": "light"
     },
     "output_type": "display_data"
    }
   ],
   "source": [
    "from sklearn.tree import DecisionTreeRegressor\n",
    "\n",
    "model_DT = DecisionTreeRegressor(max_depth = 2)\n",
    "\n",
    "model_DT.fit(X_train, Y_train)\n",
    "y_hat=model_DT.predict(X_test)\n",
    "mse_score = MSE(y_hat, Y_test)\n",
    "mse_score\n",
    "predict_result=model_DT.predict(X_grid).reshape(-1,100)\n",
    "plt.contourf(axis0, axis1,predict_result) #,vmin=0,vmax=20)\n",
    "plt.colorbar()"
   ]
  },
  {
   "cell_type": "code",
   "execution_count": null,
   "id": "36a89705",
   "metadata": {},
   "outputs": [],
   "source": []
  },
  {
   "cell_type": "code",
   "execution_count": 16,
   "id": "d9178475",
   "metadata": {},
   "outputs": [
    {
     "data": {
      "text/plain": [
       "GradientBoostingRegressor(n_estimators=500)"
      ]
     },
     "execution_count": 16,
     "metadata": {},
     "output_type": "execute_result"
    },
    {
     "data": {
      "text/plain": [
       "167.2057502948516"
      ]
     },
     "execution_count": 16,
     "metadata": {},
     "output_type": "execute_result"
    },
    {
     "data": {
      "text/plain": [
       "30476.697196049055"
      ]
     },
     "execution_count": 16,
     "metadata": {},
     "output_type": "execute_result"
    },
    {
     "data": {
      "text/plain": [
       "805.6007052231561"
      ]
     },
     "execution_count": 16,
     "metadata": {},
     "output_type": "execute_result"
    }
   ],
   "source": [
    "\n",
    "generator=TestDistribution(3).returnDistribution()\n",
    "np.random.seed(3)\n",
    "X_train,Y_train=generator.generate(3000)\n",
    "X_test,Y_test = generator.generate(1000)\n",
    "\n",
    "\n",
    "model_GBRT = GradientBoostingRegressor(n_estimators = 500)\n",
    "\n",
    "model_GBRT.fit(X_train, Y_train)\n",
    "y_hat=model_GBRT.predict(X_test)\n",
    "mse_score = MSE(y_hat, Y_test)\n",
    "mse_score\n",
    "\n",
    "max_depth , order, truncate_ratio_low, truncate_ratio_up , r_range_low, r_range_up ,step, lamda =6, 1,0,0.6,0,1,2, 0.001\n",
    "\n",
    "\n",
    "model = RegressionTree(estimator=\"naive_estimator\",\n",
    "                         splitter=\"maxedge\",\n",
    "                         min_samples_split=5,\n",
    "                         max_depth=5,\n",
    "                         order=order,\n",
    "                         random_state=1,\n",
    "                         truncate_ratio_low=truncate_ratio_low,\n",
    "                         truncate_ratio_up= truncate_ratio_up,\n",
    "                      r_range_low=r_range_low,\n",
    "                      r_range_up=r_range_up,\n",
    "                      step=step,\n",
    "                      lamda = lamda)\n",
    "model.fit(X_train, Y_train)\n",
    "MSE(model.predict(X_test),Y_test)\n",
    "\n",
    "model = RegressionTree(estimator=\"pointwise_extrapolation_estimator\",\n",
    "                         splitter=\"varreduction\",\n",
    "                         min_samples_split=5,\n",
    "                         max_depth=max_depth,\n",
    "                         order=order,\n",
    "                         random_state=1,\n",
    "                         truncate_ratio_low=truncate_ratio_low,\n",
    "                         truncate_ratio_up= truncate_ratio_up,\n",
    "                      r_range_low=r_range_low,\n",
    "                      r_range_up=r_range_up,\n",
    "                      step=step,\n",
    "                      lamda = lamda)\n",
    "model.fit(X_train, Y_train)\n",
    "MSE(model.predict(X_test),Y_test)\n",
    "\n",
    "\n"
   ]
  },
  {
   "cell_type": "code",
   "execution_count": 12,
   "id": "6bed277a",
   "metadata": {},
   "outputs": [
    {
     "data": {
      "text/plain": [
       "array([[0.        , 0.        , 0.        , 0.        ],\n",
       "       [1.        , 1.        , 0.46369689, 1.        ]])"
      ]
     },
     "execution_count": 12,
     "metadata": {},
     "output_type": "execute_result"
    },
    {
     "data": {
      "image/png": "[encoded data removed]",
      "text/plain": [
       "<Figure size 432x288 with 1 Axes>"
      ]
     },
     "metadata": {
      "needs_background": "light"
     },
     "output_type": "display_data"
    }
   ],
   "source": [
    "node_idx=0\n",
    "query_obj=list(model.tree_.leafnode_fun.values())[node_idx]\n",
    "X_range,dt_X, dt_Y = query_obj.X_range, query_obj.dt_X, query_obj.dt_Y\n",
    "X_range\n",
    "X_extra= X_range.mean(axis=0)+0.12\n",
    "order, truncate_ratio_low, truncate_ratio_up = order, truncate_ratio_low, truncate_ratio_up \n",
    "\n",
    "sorted_ratio, sorted_prediction, intercept ,_= model.get_node_extrapolation(dt_X, dt_Y, X_extra, X_range, order, truncate_ratio_low, truncate_ratio_up,0,1,step,lamda)\n",
    "_=plt.scatter((sorted_ratio),sorted_prediction)\n",
    "_=plt.scatter((sorted_ratio)[int(len(sorted_ratio)*truncate_ratio_low):int(len(sorted_ratio)*truncate_ratio_up)],sorted_prediction[int(len(sorted_prediction)*truncate_ratio_low):int(len(sorted_prediction)*truncate_ratio_up)])\n",
    "_=plt.axhline(intercept,color=\"red\")\n",
    "_=plt.axhline(generator.evaluate(X_extra.reshape(1,-1)),color=\"blue\")"
   ]
  },
  {
   "cell_type": "code",
   "execution_count": null,
   "id": "4db6eeac",
   "metadata": {},
   "outputs": [],
   "source": []
  },
  {
   "cell_type": "code",
   "execution_count": 38,
   "id": "1663be2b",
   "metadata": {},
   "outputs": [],
   "source": [
    "X = np.arange(-1,1,0.001)\n",
    "Y = np.exp(-((X-0.4)/0.1)**2)+np.exp(-((X+0.4)/0.1)**2)"
   ]
  },
  {
   "cell_type": "code",
   "execution_count": 39,
   "id": "d1345397",
   "metadata": {},
   "outputs": [
    {
     "data": {
      "text/plain": [
       "[<matplotlib.lines.Line2D at 0x7fec78caadf0>]"
      ]
     },
     "execution_count": 39,
     "metadata": {},
     "output_type": "execute_result"
    },
    {
     "data": {
      "image/png": "[encoded data removed]",
      "text/plain": [
       "<Figure size 432x288 with 1 Axes>"
      ]
     },
     "metadata": {
      "needs_background": "light"
     },
     "output_type": "display_data"
    }
   ],
   "source": [
    "plt.plot(X,Y)"
   ]
  },
  {
   "cell_type": "code",
   "execution_count": 44,
   "id": "eb083357",
   "metadata": {},
   "outputs": [],
   "source": [
    "model = RegressionTree(estimator=\"pointwise_extrapolation_estimator\",\n",
    "                         splitter=\"varreduction\",\n",
    "                         min_samples_split=1,\n",
    "                         max_depth=1,\n",
    "                         order=order,\n",
    "                         random_state=1,\n",
    "                         truncate_ratio_low=truncate_ratio_low,\n",
    "                         truncate_ratio_up= truncate_ratio_up,\n",
    "                      r_range_low=r_range_low,\n",
    "                      r_range_up=r_range_up,\n",
    "                      step=step,\n",
    "                      lamda = lamda)"
   ]
  },
  {
   "cell_type": "code",
   "execution_count": 49,
   "id": "7908f47b",
   "metadata": {},
   "outputs": [],
   "source": [
    "model.fit(X.reshape(-1,1), Y)\n",
    "node_idx = 0\n",
    "query_obj=list(model.tree_.leafnode_fun.values())[node_idx]\n",
    "X_range,dt_X, dt_Y = query_obj.X_range, query_obj.dt_X, query_obj.dt_Y"
   ]
  },
  {
   "cell_type": "code",
   "execution_count": 10,
   "id": "df335a77",
   "metadata": {},
   "outputs": [],
   "source": [
    "a= np.array([1,2,3,1])"
   ]
  },
  {
   "cell_type": "code",
   "execution_count": 9,
   "id": "18954475",
   "metadata": {},
   "outputs": [
    {
     "data": {
      "text/plain": [
       "array([1, 2, 3])"
      ]
     },
     "execution_count": 9,
     "metadata": {},
     "output_type": "execute_result"
    }
   ],
   "source": [
    "np.unique(a)"
   ]
  },
  {
   "cell_type": "code",
   "execution_count": 11,
   "id": "5fce76b1",
   "metadata": {},
   "outputs": [
    {
     "data": {
      "text/plain": [
       "array([1. , 1. , 1. , 1. , 1.2, 1.5, 1.8, 2.1, 2.4, 2.7])"
      ]
     },
     "execution_count": 11,
     "metadata": {},
     "output_type": "execute_result"
    }
   ],
   "source": [
    "np.quantile(a,[i/10 for i in range(10)])"
   ]
  },
  {
   "cell_type": "code",
   "execution_count": 21,
   "id": "850f83c3",
   "metadata": {},
   "outputs": [],
   "source": [
    "import os\n",
    "import pandas as pd\n",
    "from sklearn.preprocessing import MinMaxScaler\n",
    "\n",
    "data_file_dir = \"./data/real_data_cleaned/\"\n",
    "\n",
    "data_file_name = \"abalone.csv\"\n",
    "\n",
    "log_file_dir = \"./results/realdata/\"\n",
    "\n",
    "\n",
    "data_name = os.path.splitext(data_file_name)[0]\n",
    "data_file_path = os.path.join(data_file_dir, data_file_name)\n",
    "data = pd.read_csv(data_file_path)\n",
    "data = np.array(data)\n",
    "X = data[:,1:]\n",
    "y = data[:,0]\n",
    "\n",
    "scaler = MinMaxScaler()\n",
    "X = scaler.fit_transform(X)\n",
    "\n"
   ]
  },
  {
   "cell_type": "code",
   "execution_count": 24,
   "id": "eea36c8b",
   "metadata": {},
   "outputs": [
    {
     "data": {
      "text/plain": [
       "array([[0.        , 0.5135135 , 0.5210084 , ..., 0.1503025 , 0.132324  ,\n",
       "        0.147982  ],\n",
       "       [0.        , 0.3716215 , 0.352941  , ..., 0.066241  , 0.0631995 ,\n",
       "        0.068261  ],\n",
       "       [0.5       , 0.614865  , 0.6134455 , ..., 0.1718225 , 0.1856485 ,\n",
       "        0.207773  ],\n",
       "       ...,\n",
       "       [0.        , 0.7094595 , 0.7058825 , ..., 0.3527235 , 0.37788   ,\n",
       "        0.305431  ],\n",
       "       [0.5       , 0.743243  , 0.722689  , ..., 0.3564225 , 0.342989  ,\n",
       "        0.293473  ],\n",
       "       [0.        , 0.858108  , 0.840336  , ..., 0.6351715 , 0.49506254,\n",
       "        0.49177875]])"
      ]
     },
     "execution_count": 24,
     "metadata": {},
     "output_type": "execute_result"
    }
   ],
   "source": [
    "X"
   ]
  },
  {
   "cell_type": "code",
   "execution_count": 43,
   "id": "26923d9a",
   "metadata": {},
   "outputs": [
    {
     "data": {
      "text/plain": [
       "array([[1.0000000e-01, 1.0000000e-02, 1.0000000e-03, 1.0000000e-04,\n",
       "        1.0000000e-05, 1.0000000e-06, 1.0000000e-07, 1.0000000e-08],\n",
       "       [2.0000000e-01, 4.0000000e-02, 8.0000000e-03, 1.6000000e-03,\n",
       "        3.2000000e-04, 6.4000000e-05, 1.2800000e-05, 2.5600000e-06],\n",
       "       [3.0000000e-01, 9.0000000e-02, 2.7000000e-02, 8.1000000e-03,\n",
       "        2.4300000e-03, 7.2900000e-04, 2.1870000e-04, 6.5610000e-05],\n",
       "       [4.0000000e-01, 1.6000000e-01, 6.4000000e-02, 2.5600000e-02,\n",
       "        1.0240000e-02, 4.0960000e-03, 1.6384000e-03, 6.5536000e-04],\n",
       "       [5.0000000e-01, 2.5000000e-01, 1.2500000e-01, 6.2500000e-02,\n",
       "        3.1250000e-02, 1.5625000e-02, 7.8125000e-03, 3.9062500e-03],\n",
       "       [6.0000000e-01, 3.6000000e-01, 2.1600000e-01, 1.2960000e-01,\n",
       "        7.7760000e-02, 4.6656000e-02, 2.7993600e-02, 1.6796160e-02],\n",
       "       [7.0000000e-01, 4.9000000e-01, 3.4300000e-01, 2.4010000e-01,\n",
       "        1.6807000e-01, 1.1764900e-01, 8.2354300e-02, 5.7648010e-02],\n",
       "       [8.0000000e-01, 6.4000000e-01, 5.1200000e-01, 4.0960000e-01,\n",
       "        3.2768000e-01, 2.6214400e-01, 2.0971520e-01, 1.6777216e-01],\n",
       "       [9.0000000e-01, 8.1000000e-01, 7.2900000e-01, 6.5610000e-01,\n",
       "        5.9049000e-01, 5.3144100e-01, 4.7829690e-01, 4.3046721e-01],\n",
       "       [1.0000000e+00, 1.0000000e+00, 1.0000000e+00, 1.0000000e+00,\n",
       "        1.0000000e+00, 1.0000000e+00, 1.0000000e+00, 1.0000000e+00]])"
      ]
     },
     "execution_count": 43,
     "metadata": {},
     "output_type": "execute_result"
    }
   ],
   "source": [
    "R"
   ]
  },
  {
   "cell_type": "code",
   "execution_count": 8,
   "id": "6030c613",
   "metadata": {},
   "outputs": [],
   "source": [
    "C = 5\n",
    "V = 7\n",
    "R = np.array([[(j/V)**i for i in range(1,C+1)] for j in range(1,V+1)])"
   ]
  },
  {
   "cell_type": "code",
   "execution_count": 9,
   "id": "9b8487df",
   "metadata": {},
   "outputs": [
    {
     "data": {
      "text/plain": [
       "array([ 5.14285713, -9.85714283,  7.14285713,  2.14285714, -6.85714284,\n",
       "        4.14285714, -0.85714287])"
      ]
     },
     "execution_count": 9,
     "metadata": {},
     "output_type": "execute_result"
    }
   ],
   "source": [
    " (np.eye(V)- R @ np.linalg.pinv(R.T @ R) @ R.T).sum(axis =1 )/(V -(R @ np.linalg.pinv(R.T @ R) @ R.T).sum())"
   ]
  },
  {
   "cell_type": "code",
   "execution_count": 10,
   "id": "6baa3a14",
   "metadata": {},
   "outputs": [
    {
     "data": {
      "text/plain": [
       "array([[    593.644537  ,   -4679.12846227,   12406.86445045,\n",
       "         -13499.7413863 ,    5179.83358928],\n",
       "       [  -4679.12846227,   38887.32464546, -106577.09782071,\n",
       "         118593.88837681,  -46240.96764918],\n",
       "       [  12406.86445046, -106577.09782073,  298805.14409102,\n",
       "        -337997.32446053,  133418.30967286],\n",
       "       [ -13499.74138631,  118593.88837685, -337997.32446057,\n",
       "         387092.94888117, -154267.7388806 ],\n",
       "       [   5179.83358928,  -46240.96764919,  133418.30967288,\n",
       "        -154267.73888061,   61948.13889423]])"
      ]
     },
     "execution_count": 10,
     "metadata": {},
     "output_type": "execute_result"
    }
   ],
   "source": [
    "np.linalg.pinv(R.T @ R)"
   ]
  },
  {
   "cell_type": "code",
   "execution_count": 11,
   "id": "f554dbf3",
   "metadata": {},
   "outputs": [
    {
     "ename": "NameError",
     "evalue": "name 'a' is not defined",
     "output_type": "error",
     "traceback": [
      "\u001b[0;31m---------------------------------------------------------------------------\u001b[0m",
      "\u001b[0;31mNameError\u001b[0m                                 Traceback (most recent call last)",
      "\u001b[0;32m/tmp/ipykernel_17525/3922212990.py\u001b[0m in \u001b[0;36m<module>\u001b[0;34m\u001b[0m\n\u001b[0;32m----> 1\u001b[0;31m \u001b[0mnp\u001b[0m\u001b[0;34m.\u001b[0m\u001b[0mwhere\u001b[0m\u001b[0;34m(\u001b[0m\u001b[0ma\u001b[0m\u001b[0;34m>\u001b[0m\u001b[0;36m1000\u001b[0m\u001b[0;34m)\u001b[0m\u001b[0;34m[\u001b[0m\u001b[0;36m0\u001b[0m\u001b[0;34m]\u001b[0m\u001b[0;34m\u001b[0m\u001b[0;34m\u001b[0m\u001b[0m\n\u001b[0m",
      "\u001b[0;31mNameError\u001b[0m: name 'a' is not defined"
     ]
    }
   ],
   "source": [
    "np.where(a>1000)[0]"
   ]
  },
  {
   "cell_type": "code",
   "execution_count": 12,
   "id": "9036ab6b",
   "metadata": {},
   "outputs": [
    {
     "name": "stdout",
     "output_type": "stream",
     "text": [
      "10\n",
      "9\n",
      "8\n",
      "7\n",
      "6\n",
      "5\n",
      "4\n",
      "3\n",
      "2\n",
      "1\n",
      "0\n"
     ]
    }
   ],
   "source": [
    "for i in range(10,-1,-1):\n",
    "    print(i)"
   ]
  },
  {
   "cell_type": "code",
   "execution_count": 19,
   "id": "a5789dd7",
   "metadata": {},
   "outputs": [
    {
     "name": "stderr",
     "output_type": "stream",
     "text": [
      "/tmp/ipykernel_17525/2151815024.py:1: DeprecationWarning: `np.int` is a deprecated alias for the builtin `int`. To silence this warning, use `int` by itself. Doing this will not modify any behavior and is safe. When replacing `np.int`, you may wish to use e.g. `np.int64` or `np.int32` to specify the precision. If you wish to review your current use, check the release note link for additional information.\n",
      "Deprecated in NumPy 1.20; for more details and guidance: https://numpy.org/devdocs/release/1.20.0-notes.html#deprecations\n",
      "  np.int(R)\n"
     ]
    },
    {
     "ename": "TypeError",
     "evalue": "only size-1 arrays can be converted to Python scalars",
     "output_type": "error",
     "traceback": [
      "\u001b[0;31m---------------------------------------------------------------------------\u001b[0m",
      "\u001b[0;31mTypeError\u001b[0m                                 Traceback (most recent call last)",
      "\u001b[0;32m/tmp/ipykernel_17525/2151815024.py\u001b[0m in \u001b[0;36m<module>\u001b[0;34m\u001b[0m\n\u001b[0;32m----> 1\u001b[0;31m \u001b[0mnp\u001b[0m\u001b[0;34m.\u001b[0m\u001b[0mint\u001b[0m\u001b[0;34m(\u001b[0m\u001b[0mR\u001b[0m\u001b[0;34m)\u001b[0m\u001b[0;34m\u001b[0m\u001b[0;34m\u001b[0m\u001b[0m\n\u001b[0m",
      "\u001b[0;31mTypeError\u001b[0m: only size-1 arrays can be converted to Python scalars"
     ]
    }
   ],
   "source": [
    "np.int(R)"
   ]
  },
  {
   "cell_type": "code",
   "execution_count": 20,
   "id": "ace1bd04",
   "metadata": {},
   "outputs": [],
   "source": [
    "a = R[0]"
   ]
  },
  {
   "cell_type": "code",
   "execution_count": 22,
   "id": "22224466",
   "metadata": {},
   "outputs": [
    {
     "data": {
      "text/plain": [
       "[0, 0, 0, 0, 0]"
      ]
     },
     "execution_count": 22,
     "metadata": {},
     "output_type": "execute_result"
    }
   ],
   "source": [
    "[int(i) for i in a]"
   ]
  },
  {
   "cell_type": "code",
   "execution_count": null,
   "id": "7842deec",
   "metadata": {},
   "outputs": [],
   "source": []
  }
 ],
 "metadata": {
  "kernelspec": {
   "display_name": "Python 3 (ipykernel)",
   "language": "python",
   "name": "python3"
  },
  "language_info": {
   "codemirror_mode": {
    "name": "ipython",
    "version": 3
   },
   "file_extension": ".py",
   "mimetype": "text/x-python",
   "name": "python",
   "nbconvert_exporter": "python",
   "pygments_lexer": "ipython3",
   "version": "3.9.7"
  }
 },
 "nbformat": 4,
 "nbformat_minor": 5
}
