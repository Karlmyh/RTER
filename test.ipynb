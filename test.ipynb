{
 "cells": [
  {
   "cell_type": "markdown",
   "id": "b252df77",
   "metadata": {},
   "source": [
    "## Test Distribution Visualization"
   ]
  },
  {
   "cell_type": "code",
   "execution_count": 1,
   "id": "494109e0",
   "metadata": {},
   "outputs": [],
   "source": [
    "from RTER import RegressionTree\n",
    "from distribution import TestDistribution\n",
    "import numpy as np\n",
    "\n",
    "\n",
    "from sklearn.metrics import mean_squared_error as MSE\n",
    "import matplotlib.pyplot as plt\n",
    "\n",
    "from IPython.core.interactiveshell import InteractiveShell\n",
    "InteractiveShell.ast_node_interactivity = \"all\"\n",
    "\n",
    "from time import time\n",
    "\n",
    "from comparison.ensemble import RegressionTreeBoosting, RegressionTreeEnsemble\n",
    "from comparison.EKNN import EKNN"
   ]
  },
  {
   "cell_type": "code",
   "execution_count": 3,
   "id": "fa6d479e",
   "metadata": {},
   "outputs": [
    {
     "data": {
      "text/plain": [
       "0.08027985527365845"
      ]
     },
     "execution_count": 3,
     "metadata": {},
     "output_type": "execute_result"
    },
    {
     "data": {
      "text/plain": [
       "<matplotlib.contour.QuadContourSet at 0x7fba28f5bb90>"
      ]
     },
     "execution_count": 3,
     "metadata": {},
     "output_type": "execute_result"
    },
    {
     "data": {
      "text/plain": [
       "<matplotlib.colorbar.Colorbar at 0x7fba28eba350>"
      ]
     },
     "execution_count": 3,
     "metadata": {},
     "output_type": "execute_result"
    },
    {
     "data": {
      "image/png": "[encoded data removed]",
      "text/plain": [
       "<Figure size 432x288 with 2 Axes>"
      ]
     },
     "metadata": {
      "needs_background": "light"
     },
     "output_type": "display_data"
    }
   ],
   "source": [
    "generator=TestDistribution(6).returnDistribution()\n",
    "np.random.seed(3)\n",
    "X_train,Y_train=generator.generate(1000)\n",
    "axis0,axis1 = np.meshgrid(np.arange(0,1,0.01),np.arange(0,1,0.01))\n",
    "X_grid = np.array([axis0.ravel(),axis1.ravel()]).T\n",
    "model = RegressionTree(estimator=\"extrapolation_estimator\",\n",
    "                         splitter=\"maxedge\",\n",
    "                         min_samples_split=30,\n",
    "                         max_depth=3,\n",
    "                         order=1,\n",
    "                         random_state=4,\n",
    "                         truncate_ratio_low= 0.1,\n",
    "                         truncate_ratio_up= 0.98)\n",
    "model.fit(X_train, Y_train)\n",
    "predict_result=model.predict(X_grid).reshape(-1,100)\n",
    "np.mean((model.predict(X_grid)-np.mean(X_grid,axis=1))**2)\n",
    "plt.contourf(axis0, axis1,predict_result) #,vmin=0,vmax=20)\n",
    "plt.colorbar()"
   ]
  },
  {
   "cell_type": "code",
   "execution_count": null,
   "id": "eb447bf0",
   "metadata": {},
   "outputs": [],
   "source": []
  },
  {
   "cell_type": "code",
   "execution_count": null,
   "id": "23312396",
   "metadata": {},
   "outputs": [],
   "source": []
  },
  {
   "cell_type": "code",
   "execution_count": 4,
   "id": "c6be2a13",
   "metadata": {},
   "outputs": [
    {
     "data": {
      "text/plain": [
       "GradientBoostingRegressor(n_estimators=2)"
      ]
     },
     "execution_count": 4,
     "metadata": {},
     "output_type": "execute_result"
    },
    {
     "data": {
      "text/plain": [
       "0.02700280573473826"
      ]
     },
     "execution_count": 4,
     "metadata": {},
     "output_type": "execute_result"
    }
   ],
   "source": [
    "from sklearn.ensemble import GradientBoostingRegressor\n",
    "\n",
    "\n",
    "model_GBRT = GradientBoostingRegressor(n_estimators = 2)\n",
    "\n",
    "model_GBRT.fit(X_train, Y_train.ravel())\n",
    "y_hat=model_GBRT.predict(X_grid)\n",
    "mse_score = MSE(y_hat, np.mean(X_grid,axis=1))\n",
    "mse_score"
   ]
  },
  {
   "cell_type": "code",
   "execution_count": 1,
   "id": "2b180660",
   "metadata": {},
   "outputs": [],
   "source": [
    "from RTER import RegressionTree\n",
    "from distribution import TestDistribution\n",
    "import numpy as np\n",
    "\n",
    "\n",
    "from sklearn.metrics import mean_squared_error as MSE\n",
    "import matplotlib.pyplot as plt\n",
    "\n",
    "from IPython.core.interactiveshell import InteractiveShell\n",
    "InteractiveShell.ast_node_interactivity = \"all\"\n",
    "\n",
    "from time import time\n"
   ]
  },
  {
   "cell_type": "code",
   "execution_count": 2,
   "id": "45fc440b",
   "metadata": {},
   "outputs": [
    {
     "data": {
      "text/plain": [
       "<matplotlib.contour.QuadContourSet at 0x7fd786c98f40>"
      ]
     },
     "execution_count": 2,
     "metadata": {},
     "output_type": "execute_result"
    },
    {
     "data": {
      "text/plain": [
       "<matplotlib.colorbar.Colorbar at 0x7fd784a35e80>"
      ]
     },
     "execution_count": 2,
     "metadata": {},
     "output_type": "execute_result"
    },
    {
     "data": {
      "image/png": "[encoded data removed]",
      "text/plain": [
       "<Figure size 432x288 with 2 Axes>"
      ]
     },
     "metadata": {
      "needs_background": "light"
     },
     "output_type": "display_data"
    }
   ],
   "source": [
    "generator=TestDistribution(8).returnDistribution()\n",
    "np.random.seed(3)\n",
    "\n",
    "axis0,axis1 = np.meshgrid(np.arange(0,1,0.01),np.arange(0,1,0.01))\n",
    "X_grid = np.array([axis0.ravel(),axis1.ravel()]).T\n",
    "\n",
    "predict_result=generator.evaluate(X_grid).reshape(-1,100)\n",
    "plt.contourf(axis0, axis1,predict_result) #,vmin=0,vmax=20)\n",
    "plt.colorbar()"
   ]
  },
  {
   "cell_type": "code",
   "execution_count": null,
   "id": "9cd2aae8",
   "metadata": {},
   "outputs": [],
   "source": []
  },
  {
   "cell_type": "code",
   "execution_count": 53,
   "id": "69919989",
   "metadata": {},
   "outputs": [
    {
     "ename": "IndexError",
     "evalue": "index 2 is out of bounds for axis 1 with size 2",
     "output_type": "error",
     "traceback": [
      "\u001b[0;31m---------------------------------------------------------------------------\u001b[0m",
      "\u001b[0;31mIndexError\u001b[0m                                Traceback (most recent call last)",
      "\u001b[0;32m/tmp/ipykernel_33117/3381893023.py\u001b[0m in \u001b[0;36m<module>\u001b[0;34m\u001b[0m\n\u001b[1;32m     18\u001b[0m                       lamda=0.05)\n\u001b[1;32m     19\u001b[0m \u001b[0mmodel\u001b[0m\u001b[0;34m.\u001b[0m\u001b[0mfit\u001b[0m\u001b[0;34m(\u001b[0m\u001b[0mX_train\u001b[0m\u001b[0;34m,\u001b[0m \u001b[0mY_train\u001b[0m\u001b[0;34m)\u001b[0m\u001b[0;34m\u001b[0m\u001b[0;34m\u001b[0m\u001b[0m\n\u001b[0;32m---> 20\u001b[0;31m \u001b[0mpredict_result\u001b[0m\u001b[0;34m=\u001b[0m\u001b[0mmodel\u001b[0m\u001b[0;34m.\u001b[0m\u001b[0mpredict\u001b[0m\u001b[0;34m(\u001b[0m\u001b[0mX_grid\u001b[0m\u001b[0;34m)\u001b[0m\u001b[0;34m.\u001b[0m\u001b[0mreshape\u001b[0m\u001b[0;34m(\u001b[0m\u001b[0;34m-\u001b[0m\u001b[0;36m1\u001b[0m\u001b[0;34m,\u001b[0m\u001b[0;36m100\u001b[0m\u001b[0;34m)\u001b[0m\u001b[0;34m\u001b[0m\u001b[0;34m\u001b[0m\u001b[0m\n\u001b[0m\u001b[1;32m     21\u001b[0m \u001b[0mplt\u001b[0m\u001b[0;34m.\u001b[0m\u001b[0mcontourf\u001b[0m\u001b[0;34m(\u001b[0m\u001b[0maxis0\u001b[0m\u001b[0;34m,\u001b[0m \u001b[0maxis1\u001b[0m\u001b[0;34m,\u001b[0m\u001b[0mpredict_result\u001b[0m\u001b[0;34m)\u001b[0m \u001b[0;31m#,vmin=0,vmax=20)\u001b[0m\u001b[0;34m\u001b[0m\u001b[0;34m\u001b[0m\u001b[0m\n\u001b[1;32m     22\u001b[0m \u001b[0mplt\u001b[0m\u001b[0;34m.\u001b[0m\u001b[0mcolorbar\u001b[0m\u001b[0;34m(\u001b[0m\u001b[0;34m)\u001b[0m\u001b[0;34m\u001b[0m\u001b[0;34m\u001b[0m\u001b[0m\n",
      "\u001b[0;32m~/RTER/RTER/tree.py\u001b[0m in \u001b[0;36mpredict\u001b[0;34m(self, X)\u001b[0m\n\u001b[1;32m    104\u001b[0m     \u001b[0;32mdef\u001b[0m \u001b[0mpredict\u001b[0m\u001b[0;34m(\u001b[0m\u001b[0mself\u001b[0m\u001b[0;34m,\u001b[0m \u001b[0mX\u001b[0m\u001b[0;34m)\u001b[0m\u001b[0;34m:\u001b[0m\u001b[0;34m\u001b[0m\u001b[0;34m\u001b[0m\u001b[0m\n\u001b[1;32m    105\u001b[0m \u001b[0;34m\u001b[0m\u001b[0m\n\u001b[0;32m--> 106\u001b[0;31m         \u001b[0my_hat\u001b[0m \u001b[0;34m=\u001b[0m \u001b[0msuper\u001b[0m\u001b[0;34m(\u001b[0m\u001b[0mRegressionTree\u001b[0m\u001b[0;34m,\u001b[0m \u001b[0mself\u001b[0m\u001b[0;34m)\u001b[0m\u001b[0;34m.\u001b[0m\u001b[0mpredict\u001b[0m\u001b[0;34m(\u001b[0m\u001b[0mX\u001b[0m\u001b[0;34m)\u001b[0m\u001b[0;34m\u001b[0m\u001b[0;34m\u001b[0m\u001b[0m\n\u001b[0m\u001b[1;32m    107\u001b[0m \u001b[0;34m\u001b[0m\u001b[0m\n\u001b[1;32m    108\u001b[0m \u001b[0;34m\u001b[0m\u001b[0m\n",
      "\u001b[0;32m~/RTER/RTER/tree.py\u001b[0m in \u001b[0;36mpredict\u001b[0;34m(self, X)\u001b[0m\n\u001b[1;32m     84\u001b[0m             \u001b[0;32mreturn\u001b[0m \u001b[0mself\u001b[0m\u001b[0;34m.\u001b[0m\u001b[0mtree_\u001b[0m\u001b[0;34m.\u001b[0m\u001b[0mpredict_parallel\u001b[0m\u001b[0;34m(\u001b[0m\u001b[0mX\u001b[0m\u001b[0;34m,\u001b[0m \u001b[0mself\u001b[0m\u001b[0;34m.\u001b[0m\u001b[0mnumba_acc\u001b[0m\u001b[0;34m,\u001b[0m\u001b[0mparallel_jobs\u001b[0m\u001b[0;34m=\u001b[0m\u001b[0mself\u001b[0m\u001b[0;34m.\u001b[0m\u001b[0mparallel_jobs\u001b[0m\u001b[0;34m)\u001b[0m\u001b[0;34m\u001b[0m\u001b[0;34m\u001b[0m\u001b[0m\n\u001b[1;32m     85\u001b[0m         \u001b[0;32melse\u001b[0m\u001b[0;34m:\u001b[0m\u001b[0;34m\u001b[0m\u001b[0;34m\u001b[0m\u001b[0m\n\u001b[0;32m---> 86\u001b[0;31m             \u001b[0;32mreturn\u001b[0m \u001b[0mself\u001b[0m\u001b[0;34m.\u001b[0m\u001b[0mtree_\u001b[0m\u001b[0;34m.\u001b[0m\u001b[0mpredict\u001b[0m\u001b[0;34m(\u001b[0m\u001b[0mX\u001b[0m\u001b[0;34m,\u001b[0m \u001b[0mself\u001b[0m\u001b[0;34m.\u001b[0m\u001b[0mnumba_acc\u001b[0m\u001b[0;34m)\u001b[0m\u001b[0;34m\u001b[0m\u001b[0;34m\u001b[0m\u001b[0m\n\u001b[0m\u001b[1;32m     87\u001b[0m \u001b[0;34m\u001b[0m\u001b[0m\n\u001b[1;32m     88\u001b[0m \u001b[0;34m\u001b[0m\u001b[0m\n",
      "\u001b[0;32m~/RTER/RTER/_tree.py\u001b[0m in \u001b[0;36mpredict\u001b[0;34m(self, X, numba_acc)\u001b[0m\n\u001b[1;32m     82\u001b[0m \u001b[0;34m\u001b[0m\u001b[0m\n\u001b[1;32m     83\u001b[0m     \u001b[0;32mdef\u001b[0m \u001b[0mpredict\u001b[0m\u001b[0;34m(\u001b[0m\u001b[0mself\u001b[0m\u001b[0;34m,\u001b[0m \u001b[0mX\u001b[0m\u001b[0;34m,\u001b[0m \u001b[0mnumba_acc\u001b[0m\u001b[0;34m=\u001b[0m\u001b[0;36m0\u001b[0m\u001b[0;34m)\u001b[0m\u001b[0;34m:\u001b[0m\u001b[0;34m\u001b[0m\u001b[0;34m\u001b[0m\u001b[0m\n\u001b[0;32m---> 84\u001b[0;31m         \u001b[0mnode_affi\u001b[0m \u001b[0;34m=\u001b[0m \u001b[0mself\u001b[0m\u001b[0;34m.\u001b[0m\u001b[0mapply\u001b[0m\u001b[0;34m(\u001b[0m\u001b[0mX\u001b[0m\u001b[0;34m)\u001b[0m\u001b[0;34m\u001b[0m\u001b[0;34m\u001b[0m\u001b[0m\n\u001b[0m\u001b[1;32m     85\u001b[0m         \u001b[0my_predict_hat\u001b[0m \u001b[0;34m=\u001b[0m \u001b[0mnp\u001b[0m\u001b[0;34m.\u001b[0m\u001b[0mzeros\u001b[0m\u001b[0;34m(\u001b[0m\u001b[0mX\u001b[0m\u001b[0;34m.\u001b[0m\u001b[0mshape\u001b[0m\u001b[0;34m[\u001b[0m\u001b[0;36m0\u001b[0m\u001b[0;34m]\u001b[0m\u001b[0;34m)\u001b[0m\u001b[0;34m\u001b[0m\u001b[0;34m\u001b[0m\u001b[0m\n\u001b[1;32m     86\u001b[0m         \u001b[0;32mfor\u001b[0m \u001b[0mleaf_id\u001b[0m \u001b[0;32min\u001b[0m \u001b[0mself\u001b[0m\u001b[0;34m.\u001b[0m\u001b[0mleaf_ids\u001b[0m\u001b[0;34m:\u001b[0m\u001b[0;34m\u001b[0m\u001b[0;34m\u001b[0m\u001b[0m\n",
      "\u001b[0;32m~/RTER/RTER/_tree.py\u001b[0m in \u001b[0;36mapply\u001b[0;34m(self, X)\u001b[0m\n\u001b[1;32m     67\u001b[0m             \u001b[0mself\u001b[0m\u001b[0;34m.\u001b[0m\u001b[0mnode_range\u001b[0m \u001b[0;34m=\u001b[0m \u001b[0mnp\u001b[0m\u001b[0;34m.\u001b[0m\u001b[0marray\u001b[0m\u001b[0;34m(\u001b[0m\u001b[0mself\u001b[0m\u001b[0;34m.\u001b[0m\u001b[0mnode_range\u001b[0m\u001b[0;34m,\u001b[0m \u001b[0mdtype\u001b[0m\u001b[0;34m=\u001b[0m\u001b[0mnp\u001b[0m\u001b[0;34m.\u001b[0m\u001b[0mfloat64\u001b[0m\u001b[0;34m)\u001b[0m\u001b[0;34m\u001b[0m\u001b[0;34m\u001b[0m\u001b[0m\n\u001b[1;32m     68\u001b[0m     \u001b[0;32mdef\u001b[0m \u001b[0mapply\u001b[0m\u001b[0;34m(\u001b[0m\u001b[0mself\u001b[0m\u001b[0;34m,\u001b[0m \u001b[0mX\u001b[0m\u001b[0;34m)\u001b[0m\u001b[0;34m:\u001b[0m\u001b[0;34m\u001b[0m\u001b[0;34m\u001b[0m\u001b[0m\n\u001b[0;32m---> 69\u001b[0;31m         \u001b[0;32mreturn\u001b[0m \u001b[0mself\u001b[0m\u001b[0;34m.\u001b[0m\u001b[0m_apply_dense\u001b[0m\u001b[0;34m(\u001b[0m\u001b[0mX\u001b[0m\u001b[0;34m)\u001b[0m\u001b[0;34m\u001b[0m\u001b[0;34m\u001b[0m\u001b[0m\n\u001b[0m\u001b[1;32m     70\u001b[0m     \u001b[0;32mdef\u001b[0m \u001b[0m_apply_dense\u001b[0m\u001b[0;34m(\u001b[0m\u001b[0mself\u001b[0m\u001b[0;34m,\u001b[0m \u001b[0mX\u001b[0m\u001b[0;34m)\u001b[0m\u001b[0;34m:\u001b[0m\u001b[0;34m\u001b[0m\u001b[0;34m\u001b[0m\u001b[0m\n\u001b[1;32m     71\u001b[0m         \u001b[0mn\u001b[0m \u001b[0;34m=\u001b[0m \u001b[0mX\u001b[0m\u001b[0;34m.\u001b[0m\u001b[0mshape\u001b[0m\u001b[0;34m[\u001b[0m\u001b[0;36m0\u001b[0m\u001b[0;34m]\u001b[0m\u001b[0;34m\u001b[0m\u001b[0;34m\u001b[0m\u001b[0m\n",
      "\u001b[0;32m~/RTER/RTER/_tree.py\u001b[0m in \u001b[0;36m_apply_dense\u001b[0;34m(self, X)\u001b[0m\n\u001b[1;32m     74\u001b[0m             \u001b[0mnode_id\u001b[0m \u001b[0;34m=\u001b[0m \u001b[0;36m0\u001b[0m\u001b[0;34m\u001b[0m\u001b[0;34m\u001b[0m\u001b[0m\n\u001b[1;32m     75\u001b[0m             \u001b[0;32mwhile\u001b[0m \u001b[0mself\u001b[0m\u001b[0;34m.\u001b[0m\u001b[0mleft_child\u001b[0m\u001b[0;34m[\u001b[0m\u001b[0mnode_id\u001b[0m\u001b[0;34m]\u001b[0m \u001b[0;34m!=\u001b[0m \u001b[0m_TREE_LEAF\u001b[0m\u001b[0;34m:\u001b[0m\u001b[0;34m\u001b[0m\u001b[0;34m\u001b[0m\u001b[0m\n\u001b[0;32m---> 76\u001b[0;31m                 \u001b[0;32mif\u001b[0m \u001b[0mX\u001b[0m\u001b[0;34m[\u001b[0m\u001b[0mi\u001b[0m\u001b[0;34m,\u001b[0m \u001b[0mself\u001b[0m\u001b[0;34m.\u001b[0m\u001b[0mfeature\u001b[0m\u001b[0;34m[\u001b[0m\u001b[0mnode_id\u001b[0m\u001b[0;34m]\u001b[0m\u001b[0;34m]\u001b[0m \u001b[0;34m<\u001b[0m \u001b[0mself\u001b[0m\u001b[0;34m.\u001b[0m\u001b[0mthreshold\u001b[0m\u001b[0;34m[\u001b[0m\u001b[0mnode_id\u001b[0m\u001b[0;34m]\u001b[0m\u001b[0;34m:\u001b[0m\u001b[0;34m\u001b[0m\u001b[0;34m\u001b[0m\u001b[0m\n\u001b[0m\u001b[1;32m     77\u001b[0m                     \u001b[0mnode_id\u001b[0m \u001b[0;34m=\u001b[0m \u001b[0mself\u001b[0m\u001b[0;34m.\u001b[0m\u001b[0mleft_child\u001b[0m\u001b[0;34m[\u001b[0m\u001b[0mnode_id\u001b[0m\u001b[0;34m]\u001b[0m\u001b[0;34m\u001b[0m\u001b[0;34m\u001b[0m\u001b[0m\n\u001b[1;32m     78\u001b[0m                 \u001b[0;32melse\u001b[0m\u001b[0;34m:\u001b[0m\u001b[0;34m\u001b[0m\u001b[0;34m\u001b[0m\u001b[0m\n",
      "\u001b[0;31mIndexError\u001b[0m: index 2 is out of bounds for axis 1 with size 2"
     ]
    }
   ],
   "source": [
    "generator=TestDistribution(7).returnDistribution()\n",
    "np.random.seed(4)\n",
    "X_train,Y_train=generator.generate(3000)\n",
    "X_test,Y_test = generator.generate(5000)\n",
    "axis0,axis1 = np.meshgrid(np.arange(0,1,0.01),np.arange(0,1,0.01))\n",
    "X_grid = np.array([axis0.ravel(),axis1.ravel()]).T\n",
    "model = RegressionTree(estimator=\"pointwise_extrapolation_estimator\",\n",
    "                         splitter=\"maxedge\",\n",
    "                         min_samples_split=10,\n",
    "                         max_depth=4,\n",
    "                         order=3,\n",
    "                         random_state=4,\n",
    "                         truncate_ratio_low=0,\n",
    "                         truncate_ratio_up= 1,\n",
    "                      r_range_low=0.1,\n",
    "                      r_range_up=0.5,\n",
    "                      step=4,\n",
    "                      lamda=0.05)\n",
    "model.fit(X_train, Y_train)\n",
    "predict_result=model.predict(X_grid).reshape(-1,100)\n",
    "plt.contourf(axis0, axis1,predict_result) #,vmin=0,vmax=20)\n",
    "plt.colorbar()\n",
    "MSE(model.predict(X_grid),generator.evaluate(X_grid))\n",
    "MSE(model.predict(X_test),Y_test)\n"
   ]
  },
  {
   "cell_type": "code",
   "execution_count": null,
   "id": "0c8486dd",
   "metadata": {},
   "outputs": [],
   "source": []
  },
  {
   "cell_type": "code",
   "execution_count": 4,
   "id": "1cd66fd3",
   "metadata": {},
   "outputs": [
    {
     "data": {
      "text/plain": [
       "0.10963126846177852"
      ]
     },
     "execution_count": 4,
     "metadata": {},
     "output_type": "execute_result"
    }
   ],
   "source": [
    "from sklearn.ensemble import GradientBoostingRegressor\n",
    "\n",
    "\n",
    "model_GBRT = GradientBoostingRegressor(n_estimators = 150)\n",
    "\n",
    "_=model_GBRT.fit(X_train, Y_train)\n",
    "y_hat=model_GBRT.predict(X_test)\n",
    "mse_score = MSE(y_hat, Y_test)\n",
    "mse_score"
   ]
  },
  {
   "cell_type": "code",
   "execution_count": null,
   "id": "06f3bd90",
   "metadata": {},
   "outputs": [],
   "source": []
  },
  {
   "cell_type": "code",
   "execution_count": null,
   "id": "07009759",
   "metadata": {},
   "outputs": [],
   "source": []
  },
  {
   "cell_type": "code",
   "execution_count": 5,
   "id": "ec9f7fe7",
   "metadata": {},
   "outputs": [
    {
     "data": {
      "text/plain": [
       "array([[0.  , 0.  ],\n",
       "       [0.25, 0.25]])"
      ]
     },
     "execution_count": 5,
     "metadata": {},
     "output_type": "execute_result"
    },
    {
     "ename": "TypeError",
     "evalue": "get_node_extrapolation() missing 1 required positional argument: 'lamda'",
     "output_type": "error",
     "traceback": [
      "\u001b[0;31m---------------------------------------------------------------------------\u001b[0m",
      "\u001b[0;31mTypeError\u001b[0m                                 Traceback (most recent call last)",
      "\u001b[0;32m/tmp/ipykernel_32537/4135673218.py\u001b[0m in \u001b[0;36m<module>\u001b[0;34m\u001b[0m\n\u001b[1;32m      7\u001b[0m \u001b[0morder\u001b[0m\u001b[0;34m,\u001b[0m \u001b[0mtruncate_ratio_low\u001b[0m\u001b[0;34m,\u001b[0m \u001b[0mtruncate_ratio_up\u001b[0m \u001b[0;34m,\u001b[0m \u001b[0mr_range_low\u001b[0m\u001b[0;34m,\u001b[0m \u001b[0mr_range_up\u001b[0m\u001b[0;34m,\u001b[0m \u001b[0mstep\u001b[0m\u001b[0;34m=\u001b[0m \u001b[0;36m1\u001b[0m\u001b[0;34m,\u001b[0m\u001b[0;36m0\u001b[0m\u001b[0;34m,\u001b[0m\u001b[0;36m1\u001b[0m\u001b[0;34m,\u001b[0m\u001b[0;36m0\u001b[0m\u001b[0;34m,\u001b[0m\u001b[0;36m0.7\u001b[0m\u001b[0;34m,\u001b[0m\u001b[0;36m2\u001b[0m\u001b[0;34m\u001b[0m\u001b[0;34m\u001b[0m\u001b[0m\n\u001b[1;32m      8\u001b[0m \u001b[0;34m\u001b[0m\u001b[0m\n\u001b[0;32m----> 9\u001b[0;31m \u001b[0msorted_ratio\u001b[0m\u001b[0;34m,\u001b[0m \u001b[0msorted_prediction\u001b[0m\u001b[0;34m,\u001b[0m \u001b[0mintercept\u001b[0m \u001b[0;34m=\u001b[0m \u001b[0mERT_model\u001b[0m\u001b[0;34m.\u001b[0m\u001b[0mget_node_extrapolation\u001b[0m\u001b[0;34m(\u001b[0m\u001b[0mdt_X\u001b[0m\u001b[0;34m,\u001b[0m \u001b[0mdt_Y\u001b[0m\u001b[0;34m,\u001b[0m \u001b[0mX_extra\u001b[0m\u001b[0;34m,\u001b[0m \u001b[0mX_range\u001b[0m\u001b[0;34m,\u001b[0m \u001b[0morder\u001b[0m\u001b[0;34m,\u001b[0m \u001b[0mtruncate_ratio_low\u001b[0m\u001b[0;34m,\u001b[0m \u001b[0mtruncate_ratio_up\u001b[0m\u001b[0;34m,\u001b[0m\u001b[0mr_range_low\u001b[0m\u001b[0;34m,\u001b[0m \u001b[0mr_range_up\u001b[0m\u001b[0;34m,\u001b[0m\u001b[0mstep\u001b[0m\u001b[0;34m)\u001b[0m\u001b[0;34m\u001b[0m\u001b[0;34m\u001b[0m\u001b[0m\n\u001b[0m\u001b[1;32m     10\u001b[0m \u001b[0m_\u001b[0m\u001b[0;34m=\u001b[0m\u001b[0mplt\u001b[0m\u001b[0;34m.\u001b[0m\u001b[0mscatter\u001b[0m\u001b[0;34m(\u001b[0m\u001b[0;34m(\u001b[0m\u001b[0msorted_ratio\u001b[0m\u001b[0;34m)\u001b[0m\u001b[0;34m,\u001b[0m\u001b[0msorted_prediction\u001b[0m\u001b[0;34m)\u001b[0m\u001b[0;34m\u001b[0m\u001b[0;34m\u001b[0m\u001b[0m\n\u001b[1;32m     11\u001b[0m \u001b[0m_\u001b[0m\u001b[0;34m=\u001b[0m\u001b[0mplt\u001b[0m\u001b[0;34m.\u001b[0m\u001b[0mscatter\u001b[0m\u001b[0;34m(\u001b[0m\u001b[0;34m(\u001b[0m\u001b[0msorted_ratio\u001b[0m\u001b[0;34m)\u001b[0m\u001b[0;34m[\u001b[0m\u001b[0mint\u001b[0m\u001b[0;34m(\u001b[0m\u001b[0mlen\u001b[0m\u001b[0;34m(\u001b[0m\u001b[0msorted_ratio\u001b[0m\u001b[0;34m)\u001b[0m\u001b[0;34m*\u001b[0m\u001b[0mtruncate_ratio_low\u001b[0m\u001b[0;34m)\u001b[0m\u001b[0;34m:\u001b[0m\u001b[0mint\u001b[0m\u001b[0;34m(\u001b[0m\u001b[0mlen\u001b[0m\u001b[0;34m(\u001b[0m\u001b[0msorted_ratio\u001b[0m\u001b[0;34m)\u001b[0m\u001b[0;34m*\u001b[0m\u001b[0mtruncate_ratio_up\u001b[0m\u001b[0;34m)\u001b[0m\u001b[0;34m]\u001b[0m\u001b[0;34m,\u001b[0m\u001b[0msorted_prediction\u001b[0m\u001b[0;34m[\u001b[0m\u001b[0mint\u001b[0m\u001b[0;34m(\u001b[0m\u001b[0mlen\u001b[0m\u001b[0;34m(\u001b[0m\u001b[0msorted_prediction\u001b[0m\u001b[0;34m)\u001b[0m\u001b[0;34m*\u001b[0m\u001b[0mtruncate_ratio_low\u001b[0m\u001b[0;34m)\u001b[0m\u001b[0;34m:\u001b[0m\u001b[0mint\u001b[0m\u001b[0;34m(\u001b[0m\u001b[0mlen\u001b[0m\u001b[0;34m(\u001b[0m\u001b[0msorted_prediction\u001b[0m\u001b[0;34m)\u001b[0m\u001b[0;34m*\u001b[0m\u001b[0mtruncate_ratio_up\u001b[0m\u001b[0;34m)\u001b[0m\u001b[0;34m]\u001b[0m\u001b[0;34m)\u001b[0m\u001b[0;34m\u001b[0m\u001b[0;34m\u001b[0m\u001b[0m\n",
      "\u001b[0;31mTypeError\u001b[0m: get_node_extrapolation() missing 1 required positional argument: 'lamda'"
     ]
    }
   ],
   "source": [
    "node_idx=0\n",
    "ERT_model=model\n",
    "query_obj=list(ERT_model.tree_.leafnode_fun.values())[node_idx]\n",
    "X_range,dt_X, dt_Y = query_obj.X_range, query_obj.dt_X, query_obj.dt_Y\n",
    "X_range\n",
    "X_extra= X_range.mean(axis=0)+0.05\n",
    "order, truncate_ratio_low, truncate_ratio_up , r_range_low, r_range_up, step= 1,0,1,0,0.7,2\n",
    "\n",
    "sorted_ratio, sorted_prediction, intercept = ERT_model.get_node_extrapolation(dt_X, dt_Y, X_extra, X_range, order, truncate_ratio_low, truncate_ratio_up,r_range_low, r_range_up,step)\n",
    "_=plt.scatter((sorted_ratio),sorted_prediction)\n",
    "_=plt.scatter((sorted_ratio)[int(len(sorted_ratio)*truncate_ratio_low):int(len(sorted_ratio)*truncate_ratio_up)],sorted_prediction[int(len(sorted_prediction)*truncate_ratio_low):int(len(sorted_prediction)*truncate_ratio_up)])\n",
    "_=plt.axhline(intercept,color=\"red\")\n",
    "_=plt.axhline(generator.evaluate(X_extra.reshape(1,-1)),color=\"blue\")"
   ]
  },
  {
   "cell_type": "code",
   "execution_count": null,
   "id": "7d42d408",
   "metadata": {},
   "outputs": [],
   "source": []
  },
  {
   "cell_type": "markdown",
   "id": "7a221ee2",
   "metadata": {},
   "source": [
    "## Ensemble "
   ]
  },
  {
   "cell_type": "code",
   "execution_count": 1,
   "id": "e27a5b23",
   "metadata": {},
   "outputs": [],
   "source": [
    "from RTER import RegressionTree\n",
    "from distribution import TestDistribution\n",
    "import numpy as np\n",
    "\n",
    "\n",
    "from sklearn.metrics import mean_squared_error as MSE\n",
    "import matplotlib.pyplot as plt\n",
    "\n",
    "from IPython.core.interactiveshell import InteractiveShell\n",
    "InteractiveShell.ast_node_interactivity = \"all\"\n",
    "\n",
    "from time import time\n",
    "\n",
    "from comparison.ensemble import RegressionTreeBoosting, RegressionTreeEnsemble\n",
    "from comparison.EKNN import EKNN"
   ]
  },
  {
   "cell_type": "code",
   "execution_count": 2,
   "id": "b8858315",
   "metadata": {},
   "outputs": [
    {
     "data": {
      "text/plain": [
       "0.19528987180570548"
      ]
     },
     "execution_count": 2,
     "metadata": {},
     "output_type": "execute_result"
    }
   ],
   "source": [
    "generator=TestDistribution(7).returnDistribution()\n",
    "np.random.seed(1)\n",
    "X_train,Y_train=generator.generate(2000)\n",
    "X_test,Y_test = generator.generate(1000)\n",
    "model_boosting = RegressionTreeBoosting(rho=0.1,\n",
    "                      boost_num= 100,\n",
    "                      estimator=\"naive_estimator\",\n",
    "                         splitter=\"maxedge\",\n",
    "                         min_samples_split=10,\n",
    "                         max_depth=4,)\n",
    "\n",
    "_=model_boosting.fit(X_train, Y_train)\n",
    "y_hat=model_boosting.predict(X_test)\n",
    "mse_score = MSE(y_hat, Y_test)\n",
    "mse_score"
   ]
  },
  {
   "cell_type": "code",
   "execution_count": 3,
   "id": "bb933dc0",
   "metadata": {},
   "outputs": [
    {
     "data": {
      "text/plain": [
       "0.22979486890973255"
      ]
     },
     "execution_count": 3,
     "metadata": {},
     "output_type": "execute_result"
    }
   ],
   "source": [
    "generator=TestDistribution(7).returnDistribution()\n",
    "np.random.seed(1)\n",
    "X_train,Y_train=generator.generate(2000)\n",
    "X_test,Y_test = generator.generate(1000)\n",
    "model_EKNN = EKNN(V=5,C=10)\n",
    "\n",
    "_=model_EKNN.fit(X_train, Y_train)\n",
    "y_hat=model_EKNN.predict(X_test)\n",
    "mse_score = MSE(y_hat, Y_test)\n",
    "mse_score"
   ]
  },
  {
   "cell_type": "code",
   "execution_count": 1,
   "id": "d179a9e9",
   "metadata": {},
   "outputs": [],
   "source": [
    "from RTER import RegressionTree\n",
    "from distribution import TestDistribution\n",
    "import numpy as np\n",
    "\n",
    "\n",
    "from sklearn.metrics import mean_squared_error as MSE\n",
    "import matplotlib.pyplot as plt\n",
    "\n",
    "from IPython.core.interactiveshell import InteractiveShell\n",
    "InteractiveShell.ast_node_interactivity = \"all\"\n",
    "\n",
    "from time import time\n",
    "\n",
    "from comparison.ensemble import RegressionTreeBoosting, RegressionTreeEnsemble\n",
    "from comparison.EKNN import EKNN\n",
    "from sklearn.model_selection import GridSearchCV\n"
   ]
  },
  {
   "cell_type": "code",
   "execution_count": 25,
   "id": "f90e1138",
   "metadata": {},
   "outputs": [
    {
     "data": {
      "text/plain": [
       "30476.697196049055"
      ]
     },
     "execution_count": 25,
     "metadata": {},
     "output_type": "execute_result"
    },
    {
     "data": {
      "text/plain": [
       "1543.825143096035"
      ]
     },
     "execution_count": 25,
     "metadata": {},
     "output_type": "execute_result"
    },
    {
     "data": {
      "text/plain": [
       "'\\nmodel_ensemble = RegressionTreeEnsemble(splitter=\"maxedge\",\\n                         min_samples_split=10,\\n                         max_depth=7,\\n                        ensemble_num=200)\\nmodel_ensemble.fit(X_train, Y_train)\\nMSE(model_ensemble.predict(X_test),Y_test)\\n'"
      ]
     },
     "execution_count": 25,
     "metadata": {},
     "output_type": "execute_result"
    }
   ],
   "source": [
    "order, truncate_ratio_low, truncate_ratio_up , r_range_low, r_range_up ,step, lamda = 1,0,0.6,0,1,2, 0.001\n",
    "\n",
    "generator=TestDistribution(3).returnDistribution()\n",
    "np.random.seed(3)\n",
    "X_train,Y_train=generator.generate(3000)\n",
    "X_test,Y_test = generator.generate(1000)\n",
    "\n",
    "model = RegressionTree(estimator=\"naive_estimator\",\n",
    "                         splitter=\"maxedge\",\n",
    "                         min_samples_split=5,\n",
    "                         max_depth=5,\n",
    "                         order=order,\n",
    "                         random_state=1,\n",
    "                         truncate_ratio_low=truncate_ratio_low,\n",
    "                         truncate_ratio_up= truncate_ratio_up,\n",
    "                      r_range_low=r_range_low,\n",
    "                      r_range_up=r_range_up,\n",
    "                      step=step,\n",
    "                      lamda = lamda)\n",
    "model.fit(X_train, Y_train)\n",
    "MSE(model.predict(X_test),Y_test)\n",
    "\n",
    "model = RegressionTree(estimator=\"pointwise_extrapolation_estimator\",\n",
    "                         splitter=\"maxedge\",\n",
    "                         min_samples_split=5,\n",
    "                         max_depth=1,\n",
    "                         order=order,\n",
    "                         random_state=1,\n",
    "                         truncate_ratio_low=truncate_ratio_low,\n",
    "                         truncate_ratio_up= truncate_ratio_up,\n",
    "                      r_range_low=r_range_low,\n",
    "                      r_range_up=r_range_up,\n",
    "                      step=step,\n",
    "                      lamda = lamda)\n",
    "model.fit(X_train, Y_train)\n",
    "MSE(model.predict(X_test),Y_test)\n",
    "\n",
    "\n",
    "\n",
    "'''\n",
    "model_ensemble = RegressionTreeEnsemble(splitter=\"maxedge\",\n",
    "                         min_samples_split=10,\n",
    "                         max_depth=7,\n",
    "                        ensemble_num=200)\n",
    "model_ensemble.fit(X_train, Y_train)\n",
    "MSE(model_ensemble.predict(X_test),Y_test)\n",
    "'''"
   ]
  },
  {
   "cell_type": "code",
   "execution_count": null,
   "id": "7144a2b6",
   "metadata": {},
   "outputs": [],
   "source": []
  },
  {
   "cell_type": "code",
   "execution_count": 9,
   "id": "9a067ea4",
   "metadata": {},
   "outputs": [
    {
     "name": "stderr",
     "output_type": "stream",
     "text": [
      "/tmp/ipykernel_39673/1464929575.py:1: RuntimeWarning: Mean of empty slice.\n",
      "  np.array([]).mean()\n",
      "/usr/local/anaconda3/lib/python3.9/site-packages/numpy/core/_methods.py:189: RuntimeWarning: invalid value encountered in double_scalars\n",
      "  ret = ret.dtype.type(ret / rcount)\n"
     ]
    },
    {
     "data": {
      "text/plain": [
       "nan"
      ]
     },
     "execution_count": 9,
     "metadata": {},
     "output_type": "execute_result"
    }
   ],
   "source": [
    "np.array([]).mean()"
   ]
  },
  {
   "cell_type": "code",
   "execution_count": 20,
   "id": "72b78cb8",
   "metadata": {},
   "outputs": [
    {
     "data": {
      "text/plain": [
       "array([6.45950572e+01, 4.47259179e+01, 9.81184354e+00, 1.26535659e+01,\n",
       "       1.08503474e+01, 5.90382511e+00, 4.49600035e+00, 1.59641175e+00,\n",
       "       3.06989742e+01, 7.76826340e+01, 1.59709601e+01, 4.02292685e+01,\n",
       "       8.93526802e+00, 3.95149719e+01, 3.25546491e+01, 9.72006427e+00,\n",
       "       3.68863024e+00, 8.70964285e+01, 9.10219807e+00, 1.95087083e+01,\n",
       "       9.00969155e+01, 6.94767627e+00, 1.69384367e+01, 1.66577013e+01,\n",
       "       1.97294561e+01, 6.03717264e+01, 2.69068314e+01, 5.02228429e+01,\n",
       "       1.49743672e+01, 2.26883417e+01, 9.79231874e+00, 2.41220865e+01,\n",
       "       2.80134393e+01, 7.22475021e+01, 2.53032677e+01, 9.49489412e+00,\n",
       "       1.79008104e+00, 1.46761860e+01, 9.55017759e+01, 3.38860134e+01,\n",
       "       4.49745407e+01, 3.05501544e+00, 6.35086186e+01, 6.35425913e+01,\n",
       "       2.60602543e+01, 2.95412478e+01, 3.89751068e+01, 1.79730450e+01,\n",
       "       4.44561865e+01, 3.11015388e+00, 7.17116775e+00, 4.05521200e+01,\n",
       "       2.28944247e+01, 1.54133385e+01, 3.34132112e+01, 1.93511824e+01,\n",
       "       4.58972038e+01, 1.41725144e+00, 1.28492005e+01, 7.35538948e+00,\n",
       "       2.61554643e+01, 6.51076023e+01, 1.07472396e+00, 4.26377683e+01,\n",
       "       6.03473912e+01, 3.89625398e+01, 1.24164226e+01, 6.00143360e+01,\n",
       "       6.61800635e-01, 1.65981695e+01, 8.67287864e+00, 7.47947087e+01,\n",
       "       5.21335566e+01, 2.40335476e+01, 1.83418439e+01, 3.35950780e+01,\n",
       "       6.89287846e+01, 1.03305471e+01, 3.45623260e+01, 1.01519325e+01,\n",
       "       8.16049985e+00, 1.12498513e+01, 8.51077458e+01, 9.67492327e+00,\n",
       "       2.69465876e+01, 8.32655266e+00, 2.14267878e+01, 2.81967458e+00,\n",
       "       3.85361491e+00, 1.16917161e+01, 2.32135724e+01, 3.67114115e+01,\n",
       "       4.13774618e+00, 4.38152290e+01, 2.64661032e+01, 3.06720833e+01,\n",
       "       6.56634951e+01, 4.19743576e+00, 7.21745858e+01, 3.26641274e+01,\n",
       "       4.43589423e+01, 2.70408672e+01, 1.54440131e+01, 1.87393831e+01,\n",
       "       2.37879917e+00, 2.14101629e+00, 5.16009187e+01, 2.58756515e+01,\n",
       "       7.55412968e+00, 9.52304334e+00, 3.53547192e+01, 4.47658842e+01,\n",
       "       1.14263187e+00, 1.42851305e+01, 2.71478182e+01, 3.87677627e+01,\n",
       "       1.96510250e+01, 3.00544021e+01, 6.89635508e+01, 1.11229809e+01,\n",
       "       8.13411045e+01, 1.51819704e+00, 9.28183140e+00, 1.22691339e+00,\n",
       "       3.12046895e+01, 2.11829967e+01, 3.80856472e+01, 4.29556991e-01,\n",
       "       3.41694615e+01, 1.56379721e+01, 2.66549342e+01, 3.69204490e+00,\n",
       "       5.64728208e+01, 8.52755638e+00, 5.00845001e+01, 2.62814156e+01,\n",
       "       5.08075528e+01, 1.04893706e+01, 8.40326950e+01, 1.11923579e+01,\n",
       "       9.13489298e+01, 2.35200782e+01, 7.83332396e+00, 4.08193465e+00,\n",
       "       1.60730242e+01, 1.51234052e+01, 1.20408202e+01, 3.97093680e+01,\n",
       "       4.34421066e+01, 4.38387282e+00, 5.64538011e+01, 2.38474813e+01,\n",
       "       1.34431128e+01, 1.92505055e+01, 1.17615620e+01, 1.48832849e+01,\n",
       "       8.97102543e+01, 5.70680419e+00, 1.03005748e+01, 3.52649267e+01,\n",
       "       4.15440513e+01, 1.07215335e+01, 9.30473379e+00, 7.31953325e+01,\n",
       "       2.42895024e+00, 3.01532858e+01, 1.89274820e+01, 1.84156915e+01,\n",
       "       3.82467676e+01, 2.52095687e+01, 3.69817724e+00, 4.41665128e+00,\n",
       "       7.71523923e-01, 3.93762794e+01, 2.84075546e+01, 1.42115406e+01,\n",
       "       7.48880406e+00, 1.07311846e+02, 4.78039946e+01, 9.93673354e+01,\n",
       "       1.56929704e+01, 5.80905445e+01, 2.06998431e+01, 2.18182113e+00,\n",
       "       1.18690822e+01, 4.92959024e+00, 4.69287985e+01, 3.21165710e+01,\n",
       "       2.22539512e+01, 2.55569665e+01, 1.38732149e+00, 9.90118518e+00,\n",
       "       1.22876368e+01, 7.06146293e+00, 3.72183322e+01, 4.44074895e+01,\n",
       "       3.73281250e+01, 3.03944666e+01, 4.65801026e+01, 5.47440875e+01,\n",
       "       1.03787930e+01, 5.25696302e+00, 4.91289816e+01, 4.51444884e+00,\n",
       "       8.30918258e+00, 3.66875705e+01, 2.08171779e+01, 4.33057848e+01,\n",
       "       1.33584418e+01, 5.78538762e+01, 9.29552343e+01, 4.95650540e+01,\n",
       "       1.03047725e+01, 4.90469557e+01, 6.28345652e+01, 4.33494304e+01,\n",
       "       1.00225172e+01, 4.74112985e+01, 2.13531916e+01, 7.96486635e+01,\n",
       "       9.88874391e+00, 2.78126644e+01, 5.12140789e+01, 6.14670292e+01,\n",
       "       9.54863393e+00, 7.97302648e+00, 4.74646374e+01, 1.02307570e+02,\n",
       "       1.37724469e+01, 1.20524236e+01, 4.39653308e+01, 4.39292748e+00,\n",
       "       5.07843143e+01, 2.66676382e+01, 3.80250593e+01, 9.85310062e+00,\n",
       "       5.44830076e+01, 3.03505146e+01, 4.76456600e+00, 3.53918550e+01,\n",
       "       1.80284503e+01, 1.83197628e+01, 2.06601929e+01, 3.25546674e+01,\n",
       "       3.68532217e+01, 8.02288567e+01, 3.18667409e-01, 1.32799819e+01,\n",
       "       6.65079362e+00, 1.25735737e+01, 8.55744526e+00, 1.11447466e-01,\n",
       "       8.56719070e+01, 2.84014416e+01, 1.63640757e+01, 2.53280831e+01,\n",
       "       2.50945657e+01, 4.03169503e+00, 1.96017556e+01, 7.99410820e+01,\n",
       "       8.43496500e+00, 8.69929085e+00, 2.12487857e+01, 9.21840946e+00,\n",
       "       4.41877130e+01, 3.36730083e+01, 4.27773339e+01, 2.76914316e+01,\n",
       "       2.46616494e+01, 3.13985056e+01, 2.39279027e+01, 3.35517379e+01,\n",
       "       9.91570995e+00, 3.15722203e+01, 1.54812507e+01, 8.71729625e+01,\n",
       "       6.91338928e+01, 4.85441325e+01, 6.50553258e+01, 1.61796023e+01,\n",
       "       2.08074616e-01, 3.14142268e+01, 4.12212946e+01, 1.47601360e+01,\n",
       "       1.25242664e+01, 2.54244532e+00, 5.55008178e+01, 8.98301730e+01,\n",
       "       5.56489547e+00, 6.11708107e-01, 4.63505736e+01, 1.02129006e+01,\n",
       "       4.60048816e+01, 3.69222751e+01, 3.31904371e+01, 1.33342427e+01,\n",
       "       1.31267961e+01, 3.42151029e+01, 2.04580581e+00, 4.53656501e+01,\n",
       "       2.43943502e+00, 2.66860477e+01, 4.76137423e+00, 2.32157605e+00,\n",
       "       3.56541414e-01, 3.28186401e+01, 2.71201664e+01, 3.95831826e+01,\n",
       "       3.28519930e+01, 4.27824612e+01, 2.42845859e+01, 1.92968710e+01,\n",
       "       5.09244699e+00, 3.90036140e+01, 2.63694024e+01, 2.43541054e+01,\n",
       "       4.83049271e+01, 5.47707408e+01, 6.81572472e+00, 1.34635583e+01,\n",
       "       1.68040599e+01, 6.67747535e+00, 1.63900652e+00, 5.64509149e+00,\n",
       "       4.52780915e+00, 8.33027880e+01, 1.92150784e+01, 2.91706099e+01,\n",
       "       1.11905922e+01, 1.76863012e+01, 2.00698548e+01, 7.59640084e+01,\n",
       "       1.39091410e+01, 2.29132470e+01, 1.65787067e+01, 4.33614355e+00,\n",
       "       4.32559628e+01, 7.45264501e+00, 1.05580795e+01, 3.90250885e+01,\n",
       "       1.39284113e+01, 6.55723001e+00, 4.28668961e+01, 4.81973332e+01,\n",
       "       1.86970414e+01, 1.59097576e+01, 2.57622353e+00, 7.05893413e+00,\n",
       "       4.92731139e+01, 2.13315002e+00, 9.61330944e+00, 1.11129406e+02,\n",
       "       1.77567741e+01, 2.67246845e+01, 1.23180997e+01, 7.62079689e+01,\n",
       "       3.51744739e+01, 2.96012469e+01, 1.94744238e+01, 4.02126629e+01,\n",
       "       4.31834331e+01, 6.09388231e+01, 1.16665711e+01, 4.32313511e+01,\n",
       "       6.15535286e+01, 6.80561387e+01, 4.65310650e+00, 3.31766282e+01,\n",
       "       1.04810141e+01, 5.02309674e+01, 1.92700261e+01, 4.79261934e+01,\n",
       "       6.18114754e+01, 7.35643743e+01, 4.21110116e+01, 1.06503614e+01,\n",
       "       4.36508631e+01, 3.55995397e+01, 3.06689764e+01, 3.71611254e+01,\n",
       "       5.24767830e+01, 3.27663590e+01, 5.52547863e+01, 1.45452247e+01,\n",
       "       2.16976549e+01, 3.43369772e+00, 1.71343619e+01, 2.19391028e+01,\n",
       "       1.39381176e+01, 2.70030890e+01, 9.98737564e-01, 2.82932972e+01,\n",
       "       7.12255567e+00, 1.02606257e+02, 2.56713740e+01, 3.91424093e+01,\n",
       "       5.49121614e+01, 7.47763972e+01, 1.30139673e+01, 2.91771402e+01,\n",
       "       3.05888698e+01, 6.42207310e+01, 9.82743425e+01, 3.00970869e+01,\n",
       "       8.87593608e+01, 4.39502947e+01, 1.48442046e+01, 6.33144067e+01,\n",
       "       3.65607152e+01, 1.12913447e+01, 1.84858691e+00, 5.42095205e+01,\n",
       "       4.44777752e+01, 1.37922020e+01, 1.79971463e+01, 8.47528491e+00,\n",
       "       4.99633450e+01, 3.06167317e+01, 4.30690604e+01, 5.93475933e+01,\n",
       "       2.63129230e+00, 8.60888495e+00, 4.18707971e+01, 5.34893269e+00,\n",
       "       3.96578854e+01, 1.18063116e+01, 2.71507103e+01, 3.28635624e+00,\n",
       "       2.69961759e+01, 8.91303824e+01, 2.03656037e+01, 2.54370201e+00,\n",
       "       6.29620653e+00, 5.15276611e+00, 1.66450757e+01, 8.08601057e+01,\n",
       "       3.54708591e+01, 2.89455450e+01, 1.72131713e+01, 4.52568178e+01,\n",
       "       4.63580897e+01, 3.24708113e+00, 2.64198530e+01, 1.90952783e+01,\n",
       "       1.64887941e+00, 1.21466775e+01, 2.03933903e+01, 6.60099088e+01,\n",
       "       3.11676620e+01, 3.47603932e+01, 5.78948056e+01, 3.22495266e+01,\n",
       "       4.63010625e+01, 2.29171262e+01, 4.08359589e+01, 1.64947819e+01,\n",
       "       2.73202166e+00, 3.18642631e+01, 1.00900693e+01, 1.02394955e+02,\n",
       "       3.53744992e+01, 3.86778604e+01, 7.45044096e+01, 4.17569731e+01,\n",
       "       5.41359127e+01, 8.76857672e+00, 1.00254647e+02, 8.13902685e+00,\n",
       "       8.54437139e+00, 3.64584383e+01, 1.51758721e+01, 3.38833767e+01,\n",
       "       5.53084861e+01, 5.35186070e+01, 8.87922726e+00, 2.44584906e+01,\n",
       "       4.27139336e+01, 3.61746903e+01, 2.04651036e+01, 5.75152105e+01,\n",
       "       4.45323666e-01, 4.08665702e+01, 3.14380748e+01, 3.19186033e-01,\n",
       "       1.99495010e+01, 4.39286028e+01, 1.58902716e+00, 3.34483117e+01,\n",
       "       2.32126964e+01, 9.48006740e+01, 6.71841555e+01, 7.09642093e+01,\n",
       "       1.40446413e+01, 2.17669618e+01, 4.58879615e+01, 9.68884906e-01,\n",
       "       2.65249121e+01, 1.56918140e+01, 3.99725179e+01, 4.44789022e+01,\n",
       "       4.08008764e+01, 6.52478995e+01, 5.97689690e+01, 2.07146884e+01,\n",
       "       6.51351205e-01, 5.48366563e+00, 3.31154222e+01, 5.30954005e+00,\n",
       "       1.47827717e+01, 1.98095638e+01, 5.16149220e+01, 2.34647677e+01,\n",
       "       3.93863271e+01, 9.53855369e-01, 1.35519562e+01, 4.87235852e+01,\n",
       "       7.28432962e+00, 3.46693159e+01, 1.42873054e+00, 3.26222484e+01,\n",
       "       4.00522383e+01, 3.69635881e+01, 1.53586751e+01, 6.60730082e+01,\n",
       "       3.60728056e+01, 2.28755758e+00, 9.04197584e+00, 5.37930948e+01,\n",
       "       2.17281383e+01, 1.03351121e+00, 1.08726986e+01, 1.08471002e+02,\n",
       "       7.38845849e+01, 1.47420256e+01, 1.24213449e+01, 2.41018259e+01,\n",
       "       1.45841649e+01, 4.52308189e+01, 1.27188066e+01, 5.92043377e+00,\n",
       "       7.28114155e+01, 3.62815429e+01, 3.02172661e+00, 3.35390679e+01,\n",
       "       1.26582753e+01, 3.82868555e+01, 4.51467659e+01, 6.40504383e-01,\n",
       "       1.70873313e+01, 5.60344808e+01, 1.64048402e+01, 1.26514280e+01,\n",
       "       5.24278250e+01, 6.17940950e+01, 6.36946722e+00, 3.45617544e+01,\n",
       "       3.62564312e+01, 2.88016274e+01, 1.26749210e+01, 2.24988384e+01,\n",
       "       6.25709066e+01, 3.86822292e+01, 1.68972535e+01, 1.28670308e+01,\n",
       "       1.03086353e+01, 2.18758445e+01, 5.46199559e+01, 3.05023845e+01,\n",
       "       4.01196804e+01, 2.71473791e+01, 2.49824310e+01, 8.40783493e+00,\n",
       "       6.31592260e+01, 2.44312057e+01, 1.29642249e+01, 2.07441571e+01,\n",
       "       2.79149937e+01, 3.90441607e+01, 2.82751553e+01, 2.53740118e+00,\n",
       "       3.43843065e+01, 4.20219211e+01, 1.93416408e+00, 5.89205993e+00,\n",
       "       3.70195288e+01, 3.80254216e+00, 4.68133678e+01, 1.03658480e+01,\n",
       "       1.33541204e+01, 5.36014822e+01, 2.37032812e+01, 3.49300441e+00,\n",
       "       1.68717573e+01, 1.06296908e+01, 4.63578022e+01, 3.60414821e+01,\n",
       "       8.23600709e+00, 2.55164787e+01, 7.67897216e+01, 3.70617663e+01,\n",
       "       2.65948643e+01, 3.55769308e+01, 8.89773161e+01, 6.68602980e+01,\n",
       "       5.52424230e+00, 5.94158892e+01, 3.83135162e+01, 7.62257904e+01,\n",
       "       2.14046031e+01, 2.33478886e+01, 1.46959809e+01, 3.87386301e+01,\n",
       "       7.64690123e+00, 7.12083956e+00, 5.97153539e+01, 1.33445243e+01,\n",
       "       2.28896918e+01, 9.24346205e+01, 4.10479800e+01, 5.55819238e+01,\n",
       "       1.90378882e+01, 1.35684009e+01, 2.02216281e+01, 1.39275940e+01,\n",
       "       3.88952774e+00, 4.05798596e+01, 1.43898862e+01, 4.15019969e+01,\n",
       "       9.87846559e+00, 1.25051001e+01, 2.49043745e+01, 1.59656689e+01,\n",
       "       1.26094052e+01, 3.36970446e+00, 7.82570995e+01, 4.51197698e+01,\n",
       "       1.57694199e+01, 1.13501166e+01, 7.37159296e+00, 6.39599439e+00,\n",
       "       4.02265018e+01, 7.44453518e-01, 5.09823484e+01, 1.07267143e+02,\n",
       "       2.69283902e+00, 4.35850751e+00, 5.66789484e+01, 1.77136456e+01,\n",
       "       8.90976592e+00, 3.81110554e+01, 2.79862314e+01, 2.36816528e+01,\n",
       "       2.74664323e+01, 2.96469533e+01, 2.40371539e+01, 2.45234179e+00,\n",
       "       5.05674708e+01, 9.85266787e+00, 3.95661965e-01, 3.58354883e+01,\n",
       "       6.57073102e+01, 8.71791952e+01, 7.52161287e+01, 2.68258985e-01,\n",
       "       3.70931273e+01, 7.25075157e+01, 6.83060732e+01, 4.69486620e+01,\n",
       "       1.01860572e+01, 3.57827891e+01, 8.42309332e+00, 1.70931784e+01,\n",
       "       2.19335118e+01, 2.76005513e+00, 4.98648005e+01, 4.78478131e+01,\n",
       "       3.03066709e+01, 1.81292789e+01, 3.30078289e+01, 3.82148801e+01,\n",
       "       3.52439259e+01, 1.23610748e+01, 2.02327821e+01, 4.80598009e+01,\n",
       "       3.82052718e+01, 2.26966798e+01, 3.29859255e+01, 1.47030875e+01,\n",
       "       1.35494453e+00, 6.47261340e+01, 2.73446599e+01, 4.68521853e+00,\n",
       "       2.06177559e+01, 4.15458825e+01, 4.64055255e+01, 1.98196166e+01,\n",
       "       2.07360567e+01, 2.02316551e+01, 7.67917996e+01, 7.46569338e+01,\n",
       "       4.46460104e+01, 1.67165345e+00, 1.25714526e+01, 1.71432829e+01,\n",
       "       8.94030763e+00, 7.39982066e+00, 1.71547871e+01, 4.48990840e+01,\n",
       "       3.34499097e+01, 3.69600615e+00, 1.24853021e+01, 5.66867297e-01,\n",
       "       1.26600073e+01, 1.39473337e+01, 8.76624226e+00, 6.44442334e+01,\n",
       "       4.35502328e+01, 6.30814201e+00, 1.42489361e+00, 1.81033072e+01,\n",
       "       1.33195095e+01, 3.88858101e+01, 1.34912967e+01, 2.13697318e+01,\n",
       "       1.96052478e+00, 4.83841633e+01, 2.39053796e+00, 2.70748504e+01,\n",
       "       1.54564014e+01, 2.68054947e+01, 1.46547649e+01, 5.40969741e+01,\n",
       "       3.97686130e+01, 1.62454687e+01, 9.78115966e+00, 3.29001370e+01,\n",
       "       2.55712561e+01, 7.25329722e+00, 2.33857478e+01, 7.68895678e+00,\n",
       "       1.20415870e+01, 3.50056484e+01, 2.15797026e+01, 3.36521291e+01,\n",
       "       9.52287095e+00, 4.57828008e+01, 3.60318852e+01, 6.42349955e+00,\n",
       "       1.16398543e+01, 7.57494579e+00, 2.32701984e+01, 3.79903916e+01,\n",
       "       1.23109285e+01, 1.48317366e+01, 5.15040903e+01, 8.03672004e+01,\n",
       "       2.19039478e+00, 5.30879482e+01, 5.70330411e+01, 1.29534749e+01,\n",
       "       5.50821300e+01, 1.26146737e+01, 4.07690239e+01, 7.44818562e+01,\n",
       "       2.64286021e+01, 1.10752096e+02, 9.44697649e-01, 1.81579627e+00,\n",
       "       4.75536672e+01, 2.93920837e+01, 1.99144297e+01, 3.72022507e+01,\n",
       "       6.05344413e+00, 1.75062844e+01, 1.20027347e+01, 8.03097522e+01,\n",
       "       7.80947516e-01, 6.50395174e+01, 4.19190857e+01, 5.15238587e+00,\n",
       "       3.40282328e+01, 3.28311750e+01, 2.54336803e+01, 1.91678173e+01,\n",
       "       7.34867692e+01, 2.89532595e+00, 2.97840029e+01, 1.14540233e+02,\n",
       "       5.94116227e+00, 3.63847342e+00, 7.17015515e+01, 2.97679735e+01,\n",
       "       4.15012017e+00, 3.71057428e+01, 2.41309928e+01, 1.60951328e+01,\n",
       "       2.36090627e+01, 6.84749017e+01, 3.57502166e+01, 2.66558985e+01,\n",
       "       7.41590949e+01, 5.95403399e+01, 5.54180853e+01, 2.45196874e+01,\n",
       "       1.95656358e+01, 2.91994885e+01, 1.42797867e+00, 2.17092081e+01,\n",
       "       3.81352507e+01, 3.01520212e+01, 4.19527579e+01, 1.53911945e+01,\n",
       "       3.10479452e+00, 1.02353512e+01, 1.64737086e+01, 4.53476078e+00,\n",
       "       1.01972197e+02, 3.35529191e+01, 8.40446533e+00, 2.41025400e+01,\n",
       "       5.53982567e+01, 2.72462733e+01, 1.13908747e+02, 3.48701129e+01,\n",
       "       1.12983483e+01, 3.58324967e+01, 4.56409965e+01, 1.28557754e+01,\n",
       "       3.15559931e+01, 2.83975685e+01, 2.63151722e+00, 7.76993658e-01,\n",
       "       6.91417802e+01, 2.33410071e+01, 4.78574996e+00, 8.00697310e+00,\n",
       "       5.27563755e+01, 6.79503627e+01, 6.59900907e+00, 1.60001247e+01,\n",
       "       2.08010780e+01, 4.72969324e+01, 2.88912490e+01, 6.64983661e+01,\n",
       "       5.85296549e+01, 5.71784060e+01, 2.92371865e+01, 2.82712891e+01,\n",
       "       1.02187606e+01, 2.69066469e+01, 1.92508868e+01, 8.51972450e+00,\n",
       "       3.06577375e+01, 2.65227120e+01, 3.39248607e+01, 2.72689502e+01,\n",
       "       5.96080138e+01, 4.24718203e+01, 1.20085522e+01, 4.69829531e+01,\n",
       "       1.13279063e+01, 7.00809294e+01, 7.03921252e+01, 1.39827635e+01,\n",
       "       4.04719428e+01, 1.43211529e+01, 4.24166229e+01, 1.32545136e+01,\n",
       "       2.48272753e+01, 4.25356726e+01, 2.33972880e+01, 1.09907594e+02,\n",
       "       8.45133847e+00, 1.29168857e+01, 2.96572282e+01, 9.69604983e+00,\n",
       "       1.29441414e+01, 7.05465297e+01, 2.70333310e+01, 2.74509338e+01,\n",
       "       1.60035147e+01, 3.54150557e+01, 2.08661091e+00, 1.98043788e+01,\n",
       "       1.30075136e+01, 3.53742346e+01, 3.97633149e+01, 1.72377041e+01,\n",
       "       1.86654809e+01, 4.20605953e+01, 2.17850294e+01, 1.06613488e+01,\n",
       "       2.58155230e+01, 6.73216338e+01, 2.81395465e+01, 2.30688746e+01,\n",
       "       4.34553503e+01, 2.30546763e+00, 4.16129199e+01, 2.51681399e-01,\n",
       "       3.96689956e+00, 7.08545070e+01, 4.42418003e+01, 8.37818185e+01,\n",
       "       1.17218762e+01, 1.93543753e+01, 3.56505944e+01, 4.37175969e+01,\n",
       "       7.09241908e+01, 2.23117583e+01, 3.21134661e+01, 6.43693509e+00,\n",
       "       2.58791054e+01, 2.55188567e+00, 2.32371388e+01, 4.66455826e+00,\n",
       "       4.88944301e+00, 2.75619172e+01, 8.32096280e+00, 2.90705467e+01,\n",
       "       1.39599607e+01, 3.56068118e+01, 1.06874299e+01, 1.10373799e+01,\n",
       "       4.78204850e+00, 3.63868315e+01, 5.94661779e+01, 4.04372337e+01,\n",
       "       1.84414454e+01, 4.11996149e+01, 1.06913393e+01, 1.56089146e+01,\n",
       "       1.24730883e+01, 9.52609581e+01, 3.55539817e+01, 3.32063546e+01,\n",
       "       2.38714992e+01, 1.72095185e+01, 1.74689617e+01, 2.52173061e+01,\n",
       "       2.57618298e+00, 3.84594870e+00, 6.70913965e+00, 1.25959505e+01,\n",
       "       1.16039204e+01, 4.13702935e+00, 2.16405138e+01, 2.07007910e+01,\n",
       "       7.41427224e+01, 2.91474611e+01, 9.67876670e+01, 2.94553481e+01,\n",
       "       6.68960606e+00, 5.79212894e+01, 8.41691188e+00, 4.69007647e+01,\n",
       "       2.89737221e+01, 6.01294609e+01, 2.27482744e+01, 7.62476607e+00,\n",
       "       1.66025938e+02, 3.47842501e+00, 6.14564381e+01, 9.25255052e+00,\n",
       "       7.39291504e+01, 1.25126235e+01, 4.23418896e+01, 1.65236889e+01,\n",
       "       5.21630664e+00, 7.09762384e+01, 1.24414679e+01, 3.90299834e+01,\n",
       "       1.28309701e+02, 2.79110033e+01, 9.98355651e+00, 1.94699974e+01,\n",
       "       1.21784866e+01, 5.71553472e+00, 2.94315263e+01, 2.42713307e+01,\n",
       "       9.50542890e+00, 3.22370864e+01, 5.10547051e+01, 7.70505034e+00,\n",
       "       3.45880614e+01, 2.63412129e+00, 5.23763826e+01, 2.48293810e+00,\n",
       "       2.64615094e+01, 1.96595126e+01, 2.79138182e+01, 1.46891107e+01,\n",
       "       1.72415896e+01, 1.92331864e+01, 7.10014798e+00, 4.19537662e+01,\n",
       "       3.75500145e+01, 2.91121645e+00, 3.25357218e+00, 1.25393305e+01])"
      ]
     },
     "execution_count": 20,
     "metadata": {},
     "output_type": "execute_result"
    }
   ],
   "source": [
    "np.abs(model.predict(X_test)-Y_test)"
   ]
  },
  {
   "cell_type": "code",
   "execution_count": 15,
   "id": "5c382637",
   "metadata": {},
   "outputs": [
    {
     "data": {
      "text/plain": [
       "array([[0.  , 0.25, 0.  , 0.25],\n",
       "       [0.25, 0.5 , 0.5 , 0.5 ]])"
      ]
     },
     "execution_count": 15,
     "metadata": {},
     "output_type": "execute_result"
    },
    {
     "data": {
      "image/png": "[encoded data removed]",
      "text/plain": [
       "<Figure size 432x288 with 1 Axes>"
      ]
     },
     "metadata": {
      "needs_background": "light"
     },
     "output_type": "display_data"
    }
   ],
   "source": [
    "node_idx=5\n",
    "\n",
    "query_obj=list(model.tree_.leafnode_fun.values())[node_idx]\n",
    "X_range,dt_X, dt_Y = query_obj.X_range, query_obj.dt_X, query_obj.dt_Y\n",
    "X_range\n",
    "X_extra= X_range.mean(axis=0)\n",
    "order, truncate_ratio_low, truncate_ratio_up , r_range_low, r_range_up= order, truncate_ratio_low, truncate_ratio_up , r_range_low, r_range_up\n",
    "\n",
    "sorted_ratio, sorted_prediction, intercept , weight_mat = model.get_node_extrapolation(dt_X, dt_Y, X_extra, X_range, order, truncate_ratio_low, truncate_ratio_up,r_range_low, r_range_up,step,lamda=lamda)\n",
    "_=plt.scatter((sorted_ratio),sorted_prediction)\n",
    "_=plt.scatter((sorted_ratio)[int(len(sorted_ratio)*truncate_ratio_low):int(len(sorted_ratio)*truncate_ratio_up):step],sorted_prediction[int(len(sorted_prediction)*truncate_ratio_low):int(len(sorted_prediction)*truncate_ratio_up):step])\n",
    "_=plt.axhline(intercept,color=\"red\")\n",
    "_=plt.axhline(generator.evaluate(X_extra.reshape(1,-1)),color=\"blue\")"
   ]
  },
  {
   "cell_type": "code",
   "execution_count": 16,
   "id": "b9f407d3",
   "metadata": {},
   "outputs": [],
   "source": [
    "x_vec = [0.01*i for i in range(100)]\n",
    "y_vec = [generator.evaluate((np.ones(4)*x).reshape(1,-1)) for x in x_vec]"
   ]
  },
  {
   "cell_type": "code",
   "execution_count": 17,
   "id": "79f77674",
   "metadata": {},
   "outputs": [
    {
     "data": {
      "text/plain": [
       "[<matplotlib.lines.Line2D at 0x7f2ac8b8a100>]"
      ]
     },
     "execution_count": 17,
     "metadata": {},
     "output_type": "execute_result"
    },
    {
     "data": {
      "image/png": "[encoded data removed]",
      "text/plain": [
       "<Figure size 432x288 with 1 Axes>"
      ]
     },
     "metadata": {
      "needs_background": "light"
     },
     "output_type": "display_data"
    }
   ],
   "source": [
    "plt.plot(x_vec,y_vec)"
   ]
  },
  {
   "cell_type": "code",
   "execution_count": 57,
   "id": "9cf4a0b8",
   "metadata": {},
   "outputs": [
    {
     "data": {
      "text/plain": [
       "GridSearchCV(cv=10,\n",
       "             estimator=<RTER.tree.RegressionTree object at 0x7f7ca4c864c0>,\n",
       "             n_jobs=-1,\n",
       "             param_grid={'max_depth': [5], 'min_samples_split': [30],\n",
       "                         'order': [1], 'r_range_low': [0], 'r_range_up': [1],\n",
       "                         'splitter': ['maxedge'], 'truncate_ratio_low': [0.1],\n",
       "                         'truncate_ratio_up': [0.2]})"
      ]
     },
     "execution_count": 57,
     "metadata": {},
     "output_type": "execute_result"
    },
    {
     "name": "stdout",
     "output_type": "stream",
     "text": [
      "RTER: mse 0.18141527795779286 time 7.215320825576782\n"
     ]
    }
   ],
   "source": [
    "\n",
    "\n",
    "\n",
    "sample_generator=TestDistribution(7).returnDistribution()\n",
    "n_test, n_train = 2000,3000\n",
    "X_train, Y_train = sample_generator.generate(n_train)\n",
    "X_test, Y_test = sample_generator.generate(n_test)\n",
    "\n",
    "\n",
    "\n",
    "# RTER with cv\n",
    "time_start=time()\n",
    "parameters={\"truncate_ratio_low\":[0.1], \"truncate_ratio_up\":[0.2],\n",
    "           \"min_samples_split\":[30], \"max_depth\":[5],\n",
    "           \"order\":[1],\"splitter\":[\"maxedge\"],\n",
    "           \"r_range_low\":[0],\"r_range_up\":[1]}\n",
    "cv_model_RTER=GridSearchCV(estimator=RegressionTree(),param_grid=parameters, cv=10, n_jobs=-1)\n",
    "cv_model_RTER.fit(X_train, Y_train)\n",
    "\n",
    "RTER_model = cv_model_RTER.best_estimator_\n",
    "mse_score= - RTER_model.score(X_test, Y_test)\n",
    "y_hat_RTER = RTER_model.predict(X_test)\n",
    "\n",
    "time_end=time()\n",
    "\n",
    "print(\"RTER: mse {} time {}\".format(mse_score,time_end-time_start))\n"
   ]
  },
  {
   "cell_type": "code",
   "execution_count": 58,
   "id": "17dc1565",
   "metadata": {},
   "outputs": [
    {
     "data": {
      "text/plain": [
       "{'max_depth': 5,\n",
       " 'min_samples_split': 30,\n",
       " 'order': 1,\n",
       " 'r_range_low': 0,\n",
       " 'r_range_up': 1,\n",
       " 'splitter': 'maxedge',\n",
       " 'truncate_ratio_low': 0.1,\n",
       " 'truncate_ratio_up': 0.2}"
      ]
     },
     "execution_count": 58,
     "metadata": {},
     "output_type": "execute_result"
    }
   ],
   "source": [
    "cv_model_RTER.best_params_"
   ]
  },
  {
   "cell_type": "code",
   "execution_count": 59,
   "id": "fad5e859",
   "metadata": {},
   "outputs": [
    {
     "data": {
      "text/plain": [
       "array([[0. , 0.5, 0. , 0.5, 0. ],\n",
       "       [0.5, 1. , 0.5, 1. , 0.5]])"
      ]
     },
     "execution_count": 59,
     "metadata": {},
     "output_type": "execute_result"
    },
    {
     "ename": "TypeError",
     "evalue": "get_node_extrapolation() missing 2 required positional arguments: 'step' and 'lamda'",
     "output_type": "error",
     "traceback": [
      "\u001b[0;31m---------------------------------------------------------------------------\u001b[0m",
      "\u001b[0;31mTypeError\u001b[0m                                 Traceback (most recent call last)",
      "\u001b[0;32m/tmp/ipykernel_33117/944798569.py\u001b[0m in \u001b[0;36m<module>\u001b[0;34m\u001b[0m\n\u001b[1;32m      7\u001b[0m \u001b[0morder\u001b[0m\u001b[0;34m,\u001b[0m \u001b[0mtruncate_ratio_low\u001b[0m\u001b[0;34m,\u001b[0m \u001b[0mtruncate_ratio_up\u001b[0m \u001b[0;34m,\u001b[0m \u001b[0mr_range_low\u001b[0m\u001b[0;34m,\u001b[0m \u001b[0mr_range_up\u001b[0m\u001b[0;34m=\u001b[0m \u001b[0morder\u001b[0m\u001b[0;34m,\u001b[0m \u001b[0mtruncate_ratio_low\u001b[0m\u001b[0;34m,\u001b[0m \u001b[0mtruncate_ratio_up\u001b[0m \u001b[0;34m,\u001b[0m \u001b[0mr_range_low\u001b[0m\u001b[0;34m,\u001b[0m \u001b[0mr_range_up\u001b[0m\u001b[0;34m\u001b[0m\u001b[0;34m\u001b[0m\u001b[0m\n\u001b[1;32m      8\u001b[0m \u001b[0;34m\u001b[0m\u001b[0m\n\u001b[0;32m----> 9\u001b[0;31m \u001b[0msorted_ratio\u001b[0m\u001b[0;34m,\u001b[0m \u001b[0msorted_prediction\u001b[0m\u001b[0;34m,\u001b[0m \u001b[0mintercept\u001b[0m \u001b[0;34m=\u001b[0m \u001b[0mERT_model\u001b[0m\u001b[0;34m.\u001b[0m\u001b[0mget_node_extrapolation\u001b[0m\u001b[0;34m(\u001b[0m\u001b[0mdt_X\u001b[0m\u001b[0;34m,\u001b[0m \u001b[0mdt_Y\u001b[0m\u001b[0;34m,\u001b[0m \u001b[0mX_extra\u001b[0m\u001b[0;34m,\u001b[0m \u001b[0mX_range\u001b[0m\u001b[0;34m,\u001b[0m \u001b[0morder\u001b[0m\u001b[0;34m,\u001b[0m \u001b[0mtruncate_ratio_low\u001b[0m\u001b[0;34m,\u001b[0m \u001b[0mtruncate_ratio_up\u001b[0m\u001b[0;34m,\u001b[0m\u001b[0mr_range_low\u001b[0m\u001b[0;34m,\u001b[0m \u001b[0mr_range_up\u001b[0m\u001b[0;34m)\u001b[0m\u001b[0;34m\u001b[0m\u001b[0;34m\u001b[0m\u001b[0m\n\u001b[0m\u001b[1;32m     10\u001b[0m \u001b[0m_\u001b[0m\u001b[0;34m=\u001b[0m\u001b[0mplt\u001b[0m\u001b[0;34m.\u001b[0m\u001b[0mscatter\u001b[0m\u001b[0;34m(\u001b[0m\u001b[0;34m(\u001b[0m\u001b[0msorted_ratio\u001b[0m\u001b[0;34m)\u001b[0m\u001b[0;34m,\u001b[0m\u001b[0msorted_prediction\u001b[0m\u001b[0;34m)\u001b[0m\u001b[0;34m\u001b[0m\u001b[0;34m\u001b[0m\u001b[0m\n\u001b[1;32m     11\u001b[0m \u001b[0m_\u001b[0m\u001b[0;34m=\u001b[0m\u001b[0mplt\u001b[0m\u001b[0;34m.\u001b[0m\u001b[0mscatter\u001b[0m\u001b[0;34m(\u001b[0m\u001b[0;34m(\u001b[0m\u001b[0msorted_ratio\u001b[0m\u001b[0;34m)\u001b[0m\u001b[0;34m[\u001b[0m\u001b[0mint\u001b[0m\u001b[0;34m(\u001b[0m\u001b[0mlen\u001b[0m\u001b[0;34m(\u001b[0m\u001b[0msorted_ratio\u001b[0m\u001b[0;34m)\u001b[0m\u001b[0;34m*\u001b[0m\u001b[0mtruncate_ratio_low\u001b[0m\u001b[0;34m)\u001b[0m\u001b[0;34m:\u001b[0m\u001b[0mint\u001b[0m\u001b[0;34m(\u001b[0m\u001b[0mlen\u001b[0m\u001b[0;34m(\u001b[0m\u001b[0msorted_ratio\u001b[0m\u001b[0;34m)\u001b[0m\u001b[0;34m*\u001b[0m\u001b[0mtruncate_ratio_up\u001b[0m\u001b[0;34m)\u001b[0m\u001b[0;34m]\u001b[0m\u001b[0;34m,\u001b[0m\u001b[0msorted_prediction\u001b[0m\u001b[0;34m[\u001b[0m\u001b[0mint\u001b[0m\u001b[0;34m(\u001b[0m\u001b[0mlen\u001b[0m\u001b[0;34m(\u001b[0m\u001b[0msorted_prediction\u001b[0m\u001b[0;34m)\u001b[0m\u001b[0;34m*\u001b[0m\u001b[0mtruncate_ratio_low\u001b[0m\u001b[0;34m)\u001b[0m\u001b[0;34m:\u001b[0m\u001b[0mint\u001b[0m\u001b[0;34m(\u001b[0m\u001b[0mlen\u001b[0m\u001b[0;34m(\u001b[0m\u001b[0msorted_prediction\u001b[0m\u001b[0;34m)\u001b[0m\u001b[0;34m*\u001b[0m\u001b[0mtruncate_ratio_up\u001b[0m\u001b[0;34m)\u001b[0m\u001b[0;34m]\u001b[0m\u001b[0;34m)\u001b[0m\u001b[0;34m\u001b[0m\u001b[0;34m\u001b[0m\u001b[0m\n",
      "\u001b[0;31mTypeError\u001b[0m: get_node_extrapolation() missing 2 required positional arguments: 'step' and 'lamda'"
     ]
    }
   ],
   "source": [
    "node_idx=3\n",
    "order, truncate_ratio_low, truncate_ratio_up , r_range_low, r_range_up = 1,0.05,0.25,0,1\n",
    "query_obj=list(RTER_model.tree_.leafnode_fun.values())[node_idx]\n",
    "X_range,dt_X, dt_Y = query_obj.X_range, query_obj.dt_X, query_obj.dt_Y\n",
    "X_range\n",
    "X_extra= X_range.mean(axis=0)+0.12\n",
    "order, truncate_ratio_low, truncate_ratio_up , r_range_low, r_range_up= order, truncate_ratio_low, truncate_ratio_up , r_range_low, r_range_up\n",
    "\n",
    "sorted_ratio, sorted_prediction, intercept = ERT_model.get_node_extrapolation(dt_X, dt_Y, X_extra, X_range, order, truncate_ratio_low, truncate_ratio_up,r_range_low, r_range_up)\n",
    "_=plt.scatter((sorted_ratio),sorted_prediction)\n",
    "_=plt.scatter((sorted_ratio)[int(len(sorted_ratio)*truncate_ratio_low):int(len(sorted_ratio)*truncate_ratio_up)],sorted_prediction[int(len(sorted_prediction)*truncate_ratio_low):int(len(sorted_prediction)*truncate_ratio_up)])\n",
    "_=plt.axhline(intercept,color=\"red\")\n",
    "_=plt.axhline(generator.evaluate(X_extra.reshape(1,-1)),color=\"blue\")"
   ]
  },
  {
   "cell_type": "code",
   "execution_count": 92,
   "id": "d6e1225e",
   "metadata": {},
   "outputs": [
    {
     "data": {
      "text/plain": [
       "LinearRegression()"
      ]
     },
     "execution_count": 92,
     "metadata": {},
     "output_type": "execute_result"
    },
    {
     "data": {
      "text/plain": [
       "array([0.19607196])"
      ]
     },
     "execution_count": 92,
     "metadata": {},
     "output_type": "execute_result"
    }
   ],
   "source": [
    "\n",
    "from sklearn.linear_model import LinearRegression\n",
    "\n",
    "idx = [int(7*i+3) for i in range(5) ]\n",
    "x_vec = sorted_ratio[idx].reshape(-1,1)\n",
    "y_vec = sorted_prediction[idx]\n",
    "\n",
    "linear_model = LinearRegression()\n",
    "linear_model.fit(x_vec,y_vec)\n",
    "linear_model.intercept_"
   ]
  },
  {
   "cell_type": "code",
   "execution_count": 60,
   "id": "fa62f9e2",
   "metadata": {},
   "outputs": [
    {
     "ename": "NameError",
     "evalue": "name 'idx' is not defined",
     "output_type": "error",
     "traceback": [
      "\u001b[0;31m---------------------------------------------------------------------------\u001b[0m",
      "\u001b[0;31mNameError\u001b[0m                                 Traceback (most recent call last)",
      "\u001b[0;32m/tmp/ipykernel_33117/4172756892.py\u001b[0m in \u001b[0;36m<module>\u001b[0;34m\u001b[0m\n\u001b[1;32m      1\u001b[0m \u001b[0m_\u001b[0m\u001b[0;34m=\u001b[0m\u001b[0mplt\u001b[0m\u001b[0;34m.\u001b[0m\u001b[0mscatter\u001b[0m\u001b[0;34m(\u001b[0m\u001b[0;34m(\u001b[0m\u001b[0msorted_ratio\u001b[0m\u001b[0;34m)\u001b[0m\u001b[0;34m,\u001b[0m\u001b[0msorted_prediction\u001b[0m\u001b[0;34m)\u001b[0m\u001b[0;34m\u001b[0m\u001b[0;34m\u001b[0m\u001b[0m\n\u001b[0;32m----> 2\u001b[0;31m \u001b[0m_\u001b[0m\u001b[0;34m=\u001b[0m\u001b[0mplt\u001b[0m\u001b[0;34m.\u001b[0m\u001b[0mscatter\u001b[0m\u001b[0;34m(\u001b[0m\u001b[0msorted_ratio\u001b[0m\u001b[0;34m[\u001b[0m\u001b[0midx\u001b[0m\u001b[0;34m]\u001b[0m\u001b[0;34m,\u001b[0m \u001b[0msorted_prediction\u001b[0m\u001b[0;34m[\u001b[0m\u001b[0midx\u001b[0m\u001b[0;34m]\u001b[0m\u001b[0;34m)\u001b[0m\u001b[0;34m\u001b[0m\u001b[0;34m\u001b[0m\u001b[0m\n\u001b[0m\u001b[1;32m      3\u001b[0m \u001b[0m_\u001b[0m\u001b[0;34m=\u001b[0m\u001b[0mplt\u001b[0m\u001b[0;34m.\u001b[0m\u001b[0maxhline\u001b[0m\u001b[0;34m(\u001b[0m\u001b[0mintercept\u001b[0m\u001b[0;34m,\u001b[0m\u001b[0mcolor\u001b[0m\u001b[0;34m=\u001b[0m\u001b[0;34m\"red\"\u001b[0m\u001b[0;34m)\u001b[0m\u001b[0;34m\u001b[0m\u001b[0;34m\u001b[0m\u001b[0m\n\u001b[1;32m      4\u001b[0m \u001b[0m_\u001b[0m\u001b[0;34m=\u001b[0m\u001b[0mplt\u001b[0m\u001b[0;34m.\u001b[0m\u001b[0maxhline\u001b[0m\u001b[0;34m(\u001b[0m\u001b[0mgenerator\u001b[0m\u001b[0;34m.\u001b[0m\u001b[0mevaluate\u001b[0m\u001b[0;34m(\u001b[0m\u001b[0mX_extra\u001b[0m\u001b[0;34m.\u001b[0m\u001b[0mreshape\u001b[0m\u001b[0;34m(\u001b[0m\u001b[0;36m1\u001b[0m\u001b[0;34m,\u001b[0m\u001b[0;34m-\u001b[0m\u001b[0;36m1\u001b[0m\u001b[0;34m)\u001b[0m\u001b[0;34m)\u001b[0m\u001b[0;34m,\u001b[0m\u001b[0mcolor\u001b[0m\u001b[0;34m=\u001b[0m\u001b[0;34m\"blue\"\u001b[0m\u001b[0;34m)\u001b[0m\u001b[0;34m\u001b[0m\u001b[0;34m\u001b[0m\u001b[0m\n\u001b[1;32m      5\u001b[0m \u001b[0m_\u001b[0m\u001b[0;34m=\u001b[0m\u001b[0mplt\u001b[0m\u001b[0;34m.\u001b[0m\u001b[0maxhline\u001b[0m\u001b[0;34m(\u001b[0m\u001b[0mlinear_model\u001b[0m\u001b[0;34m.\u001b[0m\u001b[0mintercept_\u001b[0m\u001b[0;34m,\u001b[0m\u001b[0mcolor\u001b[0m\u001b[0;34m=\u001b[0m\u001b[0;34m\"yellow\"\u001b[0m\u001b[0;34m)\u001b[0m\u001b[0;34m\u001b[0m\u001b[0;34m\u001b[0m\u001b[0m\n",
      "\u001b[0;31mNameError\u001b[0m: name 'idx' is not defined"
     ]
    },
    {
     "data": {
      "image/png": "[encoded data removed]",
      "text/plain": [
       "<Figure size 432x288 with 1 Axes>"
      ]
     },
     "metadata": {
      "needs_background": "light"
     },
     "output_type": "display_data"
    }
   ],
   "source": [
    "_=plt.scatter((sorted_ratio),sorted_prediction)\n",
    "_=plt.scatter(sorted_ratio[idx], sorted_prediction[idx])\n",
    "_=plt.axhline(intercept,color=\"red\")\n",
    "_=plt.axhline(generator.evaluate(X_extra.reshape(1,-1)),color=\"blue\")\n",
    "_=plt.axhline(linear_model.intercept_,color=\"yellow\")"
   ]
  },
  {
   "cell_type": "code",
   "execution_count": 52,
   "id": "1ecf31bd",
   "metadata": {},
   "outputs": [],
   "source": [
    "def f_7(x):\n",
    "    return np.abs(np.sin(np.pi*2*x[0]))*np.abs(np.sin(np.pi*2*x[1]))*np.abs(np.sin(np.pi*2*x[2]))*np.abs(np.sin(np.pi*2*x[3]))*np.abs(np.sin(np.pi*2*x[4]))"
   ]
  },
  {
   "cell_type": "code",
   "execution_count": 53,
   "id": "f186cc4d",
   "metadata": {},
   "outputs": [
    {
     "data": {
      "text/plain": [
       "0.07016062134056032"
      ]
     },
     "execution_count": 53,
     "metadata": {},
     "output_type": "execute_result"
    }
   ],
   "source": [
    "f_7(X_extra)"
   ]
  },
  {
   "cell_type": "code",
   "execution_count": 7,
   "id": "2250a958",
   "metadata": {},
   "outputs": [],
   "source": [
    "a= [i for i in range(10)]"
   ]
  },
  {
   "cell_type": "code",
   "execution_count": 8,
   "id": "e5c65d50",
   "metadata": {},
   "outputs": [
    {
     "data": {
      "text/plain": [
       "[2, 3, 4, 5, 6, 7, 8]"
      ]
     },
     "execution_count": 8,
     "metadata": {},
     "output_type": "execute_result"
    }
   ],
   "source": [
    "a[2:9:1]"
   ]
  },
  {
   "cell_type": "code",
   "execution_count": 16,
   "id": "e38ee0ff",
   "metadata": {},
   "outputs": [
    {
     "data": {
      "text/plain": [
       "array([[0., 0., 0., 0., 0., 0., 0., 0., 0., 0.],\n",
       "       [0., 1., 0., 0., 0., 0., 0., 0., 0., 0.],\n",
       "       [0., 0., 1., 0., 0., 0., 0., 0., 0., 0.],\n",
       "       [0., 0., 0., 1., 0., 0., 0., 0., 0., 0.],\n",
       "       [0., 0., 0., 0., 1., 0., 0., 0., 0., 0.],\n",
       "       [0., 0., 0., 0., 0., 1., 0., 0., 0., 0.],\n",
       "       [0., 0., 0., 0., 0., 0., 1., 0., 0., 0.],\n",
       "       [0., 0., 0., 0., 0., 0., 0., 1., 0., 0.],\n",
       "       [0., 0., 0., 0., 0., 0., 0., 0., 1., 0.],\n",
       "       [0., 0., 0., 0., 0., 0., 0., 0., 0., 1.]])"
      ]
     },
     "execution_count": 16,
     "metadata": {},
     "output_type": "execute_result"
    }
   ],
   "source": [
    "a=np.eye(10)\n",
    "a[0]=0\n",
    "a"
   ]
  },
  {
   "cell_type": "code",
   "execution_count": null,
   "id": "7bf256fd",
   "metadata": {},
   "outputs": [],
   "source": []
  }
 ],
 "metadata": {
  "kernelspec": {
   "display_name": "Python 3 (ipykernel)",
   "language": "python",
   "name": "python3"
  },
  "language_info": {
   "codemirror_mode": {
    "name": "ipython",
    "version": 3
   },
   "file_extension": ".py",
   "mimetype": "text/x-python",
   "name": "python",
   "nbconvert_exporter": "python",
   "pygments_lexer": "ipython3",
   "version": "3.9.7"
  }
 },
 "nbformat": 4,
 "nbformat_minor": 5
}
