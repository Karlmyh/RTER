{
 "cells": [
  {
   "cell_type": "markdown",
   "id": "f9866094",
   "metadata": {},
   "source": [
    "## Test Distribution Visualization"
   ]
  },
  {
   "cell_type": "code",
   "execution_count": 14,
   "id": "8261b3d2",
   "metadata": {},
   "outputs": [],
   "source": [
    "from RTER import RegressionTree\n",
    "from distribution import TestDistribution\n",
    "import numpy as np\n",
    "\n",
    "\n",
    "from sklearn.metrics import mean_squared_error as MSE\n",
    "import matplotlib.pyplot as plt\n",
    "\n",
    "from IPython.core.interactiveshell import InteractiveShell\n",
    "InteractiveShell.ast_node_interactivity = \"all\"\n",
    "\n",
    "from time import time\n",
    "\n",
    "from comparison.ensemble import RegressionTreeBoosting, RegressionTreeEnsemble\n",
    "from comparison.EKNN import EKNN\n",
    "from sklearn.model_selection import GridSearchCV\n",
    "\n",
    "\n",
    "from sklearn.ensemble import GradientBoostingRegressor"
   ]
  },
  {
   "cell_type": "code",
   "execution_count": 2,
   "id": "5be26cb3",
   "metadata": {},
   "outputs": [
    {
     "data": {
      "text/plain": [
       "<matplotlib.contour.QuadContourSet at 0x7f1a2948c460>"
      ]
     },
     "execution_count": 2,
     "metadata": {},
     "output_type": "execute_result"
    },
    {
     "data": {
      "text/plain": [
       "<matplotlib.colorbar.Colorbar at 0x7f1a272246d0>"
      ]
     },
     "execution_count": 2,
     "metadata": {},
     "output_type": "execute_result"
    },
    {
     "data": {
      "image/png": "[encoded data removed]",
      "text/plain": [
       "<Figure size 432x288 with 2 Axes>"
      ]
     },
     "metadata": {
      "needs_background": "light"
     },
     "output_type": "display_data"
    }
   ],
   "source": [
    "generator=TestDistribution(9).returnDistribution()\n",
    "np.random.seed(3)\n",
    "\n",
    "axis0,axis1 = np.meshgrid(np.arange(0,1,0.01),np.arange(0,1,0.01))\n",
    "X_grid = np.array([axis0.ravel(),axis1.ravel()]).T\n",
    "\n",
    "predict_result=generator.evaluate(X_grid).reshape(-1,100)\n",
    "plt.contourf(axis0, axis1,predict_result) #,vmin=0,vmax=20)\n",
    "plt.colorbar()"
   ]
  },
  {
   "cell_type": "code",
   "execution_count": 3,
   "id": "0257c969",
   "metadata": {},
   "outputs": [
    {
     "ename": "LinAlgError",
     "evalue": "Matrix is singular to machine precision.",
     "output_type": "error",
     "traceback": [
      "\u001b[0;31m---------------------------------------------------------------------------\u001b[0m",
      "\u001b[0;31mLinAlgError\u001b[0m                               Traceback (most recent call last)",
      "\u001b[0;32m/tmp/ipykernel_52724/898395314.py\u001b[0m in \u001b[0;36m<module>\u001b[0;34m\u001b[0m\n\u001b[1;32m     17\u001b[0m                          lamda = lamda)\n\u001b[1;32m     18\u001b[0m \u001b[0mmodel\u001b[0m\u001b[0;34m.\u001b[0m\u001b[0mfit\u001b[0m\u001b[0;34m(\u001b[0m\u001b[0mX_train\u001b[0m\u001b[0;34m,\u001b[0m \u001b[0mY_train\u001b[0m\u001b[0;34m)\u001b[0m\u001b[0;34m\u001b[0m\u001b[0;34m\u001b[0m\u001b[0m\n\u001b[0;32m---> 19\u001b[0;31m \u001b[0mpredict_result\u001b[0m\u001b[0;34m=\u001b[0m\u001b[0mmodel\u001b[0m\u001b[0;34m.\u001b[0m\u001b[0mpredict\u001b[0m\u001b[0;34m(\u001b[0m\u001b[0mX_grid\u001b[0m\u001b[0;34m)\u001b[0m\u001b[0;34m.\u001b[0m\u001b[0mreshape\u001b[0m\u001b[0;34m(\u001b[0m\u001b[0;34m-\u001b[0m\u001b[0;36m1\u001b[0m\u001b[0;34m,\u001b[0m\u001b[0;36m100\u001b[0m\u001b[0;34m)\u001b[0m\u001b[0;34m\u001b[0m\u001b[0;34m\u001b[0m\u001b[0m\n\u001b[0m\u001b[1;32m     20\u001b[0m \u001b[0mplt\u001b[0m\u001b[0;34m.\u001b[0m\u001b[0mcontourf\u001b[0m\u001b[0;34m(\u001b[0m\u001b[0maxis0\u001b[0m\u001b[0;34m,\u001b[0m \u001b[0maxis1\u001b[0m\u001b[0;34m,\u001b[0m\u001b[0mpredict_result\u001b[0m\u001b[0;34m)\u001b[0m \u001b[0;31m#,vmin=0,vmax=20)\u001b[0m\u001b[0;34m\u001b[0m\u001b[0;34m\u001b[0m\u001b[0m\n\u001b[1;32m     21\u001b[0m \u001b[0mplt\u001b[0m\u001b[0;34m.\u001b[0m\u001b[0mcolorbar\u001b[0m\u001b[0;34m(\u001b[0m\u001b[0;34m)\u001b[0m\u001b[0;34m\u001b[0m\u001b[0;34m\u001b[0m\u001b[0m\n",
      "\u001b[0;32m~/RTER/RTER/tree.py\u001b[0m in \u001b[0;36mpredict\u001b[0;34m(self, X)\u001b[0m\n\u001b[1;32m    100\u001b[0m     \u001b[0;32mdef\u001b[0m \u001b[0mpredict\u001b[0m\u001b[0;34m(\u001b[0m\u001b[0mself\u001b[0m\u001b[0;34m,\u001b[0m \u001b[0mX\u001b[0m\u001b[0;34m)\u001b[0m\u001b[0;34m:\u001b[0m\u001b[0;34m\u001b[0m\u001b[0;34m\u001b[0m\u001b[0m\n\u001b[1;32m    101\u001b[0m \u001b[0;34m\u001b[0m\u001b[0m\n\u001b[0;32m--> 102\u001b[0;31m         \u001b[0my_hat\u001b[0m \u001b[0;34m=\u001b[0m \u001b[0msuper\u001b[0m\u001b[0;34m(\u001b[0m\u001b[0mRegressionTree\u001b[0m\u001b[0;34m,\u001b[0m \u001b[0mself\u001b[0m\u001b[0;34m)\u001b[0m\u001b[0;34m.\u001b[0m\u001b[0mpredict\u001b[0m\u001b[0;34m(\u001b[0m\u001b[0mX\u001b[0m\u001b[0;34m)\u001b[0m\u001b[0;34m\u001b[0m\u001b[0;34m\u001b[0m\u001b[0m\n\u001b[0m\u001b[1;32m    103\u001b[0m \u001b[0;34m\u001b[0m\u001b[0m\n\u001b[1;32m    104\u001b[0m \u001b[0;34m\u001b[0m\u001b[0m\n",
      "\u001b[0;32m~/RTER/RTER/tree.py\u001b[0m in \u001b[0;36mpredict\u001b[0;34m(self, X)\u001b[0m\n\u001b[1;32m     80\u001b[0m             \u001b[0;32mreturn\u001b[0m \u001b[0mself\u001b[0m\u001b[0;34m.\u001b[0m\u001b[0mtree_\u001b[0m\u001b[0;34m.\u001b[0m\u001b[0mpredict_parallel\u001b[0m\u001b[0;34m(\u001b[0m\u001b[0mX\u001b[0m\u001b[0;34m,\u001b[0m \u001b[0mself\u001b[0m\u001b[0;34m.\u001b[0m\u001b[0mnumba_acc\u001b[0m\u001b[0;34m,\u001b[0m\u001b[0mparallel_jobs\u001b[0m\u001b[0;34m=\u001b[0m\u001b[0mself\u001b[0m\u001b[0;34m.\u001b[0m\u001b[0mparallel_jobs\u001b[0m\u001b[0;34m)\u001b[0m\u001b[0;34m\u001b[0m\u001b[0;34m\u001b[0m\u001b[0m\n\u001b[1;32m     81\u001b[0m         \u001b[0;32melse\u001b[0m\u001b[0;34m:\u001b[0m\u001b[0;34m\u001b[0m\u001b[0;34m\u001b[0m\u001b[0m\n\u001b[0;32m---> 82\u001b[0;31m             \u001b[0;32mreturn\u001b[0m \u001b[0mself\u001b[0m\u001b[0;34m.\u001b[0m\u001b[0mtree_\u001b[0m\u001b[0;34m.\u001b[0m\u001b[0mpredict\u001b[0m\u001b[0;34m(\u001b[0m\u001b[0mX\u001b[0m\u001b[0;34m,\u001b[0m \u001b[0mself\u001b[0m\u001b[0;34m.\u001b[0m\u001b[0mnumba_acc\u001b[0m\u001b[0;34m)\u001b[0m\u001b[0;34m\u001b[0m\u001b[0;34m\u001b[0m\u001b[0m\n\u001b[0m\u001b[1;32m     83\u001b[0m \u001b[0;34m\u001b[0m\u001b[0m\n\u001b[1;32m     84\u001b[0m \u001b[0;34m\u001b[0m\u001b[0m\n",
      "\u001b[0;32m~/RTER/RTER/_tree.py\u001b[0m in \u001b[0;36mpredict\u001b[0;34m(self, X, numba_acc)\u001b[0m\n\u001b[1;32m     88\u001b[0m             \u001b[0midx\u001b[0m \u001b[0;34m=\u001b[0m \u001b[0mnode_affi\u001b[0m \u001b[0;34m==\u001b[0m \u001b[0mleaf_id\u001b[0m\u001b[0;34m\u001b[0m\u001b[0;34m\u001b[0m\u001b[0m\n\u001b[1;32m     89\u001b[0m \u001b[0;34m\u001b[0m\u001b[0m\n\u001b[0;32m---> 90\u001b[0;31m             \u001b[0my_predict_hat\u001b[0m\u001b[0;34m[\u001b[0m\u001b[0midx\u001b[0m\u001b[0;34m]\u001b[0m \u001b[0;34m=\u001b[0m \u001b[0mself\u001b[0m\u001b[0;34m.\u001b[0m\u001b[0mleafnode_fun\u001b[0m\u001b[0;34m[\u001b[0m\u001b[0mleaf_id\u001b[0m\u001b[0;34m]\u001b[0m\u001b[0;34m.\u001b[0m\u001b[0mpredict\u001b[0m\u001b[0;34m(\u001b[0m\u001b[0mX\u001b[0m\u001b[0;34m[\u001b[0m\u001b[0midx\u001b[0m\u001b[0;34m]\u001b[0m\u001b[0;34m,\u001b[0m \u001b[0mnumba_acc\u001b[0m\u001b[0;34m=\u001b[0m\u001b[0mnumba_acc\u001b[0m\u001b[0;34m)\u001b[0m\u001b[0;34m\u001b[0m\u001b[0;34m\u001b[0m\u001b[0m\n\u001b[0m\u001b[1;32m     91\u001b[0m \u001b[0;34m\u001b[0m\u001b[0m\n\u001b[1;32m     92\u001b[0m         \u001b[0;32mreturn\u001b[0m \u001b[0my_predict_hat\u001b[0m\u001b[0;34m\u001b[0m\u001b[0;34m\u001b[0m\u001b[0m\n",
      "\u001b[0;32m~/RTER/RTER/_estimator.py\u001b[0m in \u001b[0;36mpredict\u001b[0;34m(self, test_X, numba_acc)\u001b[0m\n\u001b[1;32m     92\u001b[0m             \u001b[0;32mfor\u001b[0m \u001b[0mX\u001b[0m \u001b[0;32min\u001b[0m \u001b[0mtest_X\u001b[0m\u001b[0;34m:\u001b[0m\u001b[0;34m\u001b[0m\u001b[0;34m\u001b[0m\u001b[0m\n\u001b[1;32m     93\u001b[0m                 \u001b[0;32mif\u001b[0m \u001b[0mnumba_acc\u001b[0m\u001b[0;34m:\u001b[0m\u001b[0;34m\u001b[0m\u001b[0;34m\u001b[0m\u001b[0m\n\u001b[0;32m---> 94\u001b[0;31m                     pre_vec.append(extrapolation_jit(self.dt_X,self.dt_Y, \n\u001b[0m\u001b[1;32m     95\u001b[0m                                                       \u001b[0mX\u001b[0m\u001b[0;34m,\u001b[0m \u001b[0mself\u001b[0m\u001b[0;34m.\u001b[0m\u001b[0mX_range\u001b[0m\u001b[0;34m,\u001b[0m \u001b[0mself\u001b[0m\u001b[0;34m.\u001b[0m\u001b[0morder\u001b[0m\u001b[0;34m,\u001b[0m\u001b[0;34m\u001b[0m\u001b[0;34m\u001b[0m\u001b[0m\n\u001b[1;32m     96\u001b[0m                                                       self.truncate_ratio_low,self.truncate_ratio_up,self.r_range_low,self.r_range_up,self.step,self.lamda))\n",
      "\u001b[0;32m/usr/local/anaconda3/lib/python3.9/site-packages/numba/np/linalg.py\u001b[0m in \u001b[0;36m_inv_err_handler\u001b[0;34m()\u001b[0m\n\u001b[1;32m    821\u001b[0m             \u001b[0;32massert\u001b[0m \u001b[0;36m0\u001b[0m   \u001b[0;31m# unreachable\u001b[0m\u001b[0;34m\u001b[0m\u001b[0;34m\u001b[0m\u001b[0m\n\u001b[1;32m    822\u001b[0m         \u001b[0;32mif\u001b[0m \u001b[0mr\u001b[0m \u001b[0;34m>\u001b[0m \u001b[0;36m0\u001b[0m\u001b[0;34m:\u001b[0m\u001b[0;34m\u001b[0m\u001b[0;34m\u001b[0m\u001b[0m\n\u001b[0;32m--> 823\u001b[0;31m             raise np.linalg.LinAlgError(\n\u001b[0m\u001b[1;32m    824\u001b[0m                 \"Matrix is singular to machine precision.\")\n\u001b[1;32m    825\u001b[0m \u001b[0;34m\u001b[0m\u001b[0m\n",
      "\u001b[0;31mLinAlgError\u001b[0m: Matrix is singular to machine precision."
     ]
    }
   ],
   "source": [
    "generator=TestDistribution(9).returnDistribution()\n",
    "np.random.seed(3)\n",
    "X_train,Y_train=generator.generate(3000)\n",
    "X_test,Y_test = generator.generate(1000)\n",
    "axis0,axis1 = np.meshgrid(np.arange(0,1,0.01),np.arange(0,1,0.01))\n",
    "X_grid = np.array([axis0.ravel(),axis1.ravel()]).T\n",
    "max_depth,order, truncate_ratio_low, truncate_ratio_up , r_range_low, r_range_up ,step, lamda = 15,1,0,0.6,0,1,1, 0\n",
    "model = RegressionTree(estimator=\"pointwise_extrapolation_estimator\",\n",
    "                         splitter=\"varreduction\",\n",
    "                         min_samples_split=3,\n",
    "                         max_depth=max_depth,\n",
    "                         order=order,\n",
    "                         random_state=4,\n",
    "                         truncate_ratio_low= truncate_ratio_low,\n",
    "                         truncate_ratio_up= truncate_ratio_up,\n",
    "                         step = step,\n",
    "                         lamda = lamda)\n",
    "model.fit(X_train, Y_train)\n",
    "predict_result=model.predict(X_grid).reshape(-1,100)\n",
    "plt.contourf(axis0, axis1,predict_result) #,vmin=0,vmax=20)\n",
    "plt.colorbar()\n",
    "\n",
    "MSE(model.predict(X_test),Y_test)"
   ]
  },
  {
   "cell_type": "code",
   "execution_count": null,
   "id": "13170699",
   "metadata": {},
   "outputs": [],
   "source": [
    "node_idx=9\n",
    "query_obj=list(model.tree_.leafnode_fun.values())[node_idx]\n",
    "X_range,dt_X, dt_Y = query_obj.X_range, query_obj.dt_X, query_obj.dt_Y\n",
    "X_range"
   ]
  },
  {
   "cell_type": "code",
   "execution_count": null,
   "id": "8a533a17",
   "metadata": {},
   "outputs": [],
   "source": []
  },
  {
   "cell_type": "code",
   "execution_count": 19,
   "id": "d8394f5d",
   "metadata": {},
   "outputs": [
    {
     "data": {
      "text/plain": [
       "GradientBoostingRegressor(n_estimators=500)"
      ]
     },
     "execution_count": 19,
     "metadata": {},
     "output_type": "execute_result"
    },
    {
     "data": {
      "text/plain": [
       "1.2783705315375105"
      ]
     },
     "execution_count": 19,
     "metadata": {},
     "output_type": "execute_result"
    },
    {
     "data": {
      "text/plain": [
       "<matplotlib.contour.QuadContourSet at 0x7efd294de790>"
      ]
     },
     "execution_count": 19,
     "metadata": {},
     "output_type": "execute_result"
    },
    {
     "data": {
      "text/plain": [
       "<matplotlib.colorbar.Colorbar at 0x7efd29738c70>"
      ]
     },
     "execution_count": 19,
     "metadata": {},
     "output_type": "execute_result"
    },
    {
     "data": {
      "image/png": "[encoded data removed]",
      "text/plain": [
       "<Figure size 432x288 with 2 Axes>"
      ]
     },
     "metadata": {
      "needs_background": "light"
     },
     "output_type": "display_data"
    }
   ],
   "source": [
    "model_GBRT = GradientBoostingRegressor(n_estimators = 500)\n",
    "\n",
    "model_GBRT.fit(X_train, Y_train)\n",
    "y_hat=model_GBRT.predict(X_test)\n",
    "mse_score = MSE(y_hat, Y_test)\n",
    "mse_score\n",
    "predict_result=model_GBRT.predict(X_grid).reshape(-1,100)\n",
    "plt.contourf(axis0, axis1,predict_result) #,vmin=0,vmax=20)\n",
    "plt.colorbar()"
   ]
  },
  {
   "cell_type": "code",
   "execution_count": null,
   "id": "36a89705",
   "metadata": {},
   "outputs": [],
   "source": []
  },
  {
   "cell_type": "code",
   "execution_count": 16,
   "id": "d9178475",
   "metadata": {},
   "outputs": [
    {
     "data": {
      "text/plain": [
       "GradientBoostingRegressor(n_estimators=500)"
      ]
     },
     "execution_count": 16,
     "metadata": {},
     "output_type": "execute_result"
    },
    {
     "data": {
      "text/plain": [
       "167.2057502948516"
      ]
     },
     "execution_count": 16,
     "metadata": {},
     "output_type": "execute_result"
    },
    {
     "data": {
      "text/plain": [
       "30476.697196049055"
      ]
     },
     "execution_count": 16,
     "metadata": {},
     "output_type": "execute_result"
    },
    {
     "data": {
      "text/plain": [
       "805.6007052231561"
      ]
     },
     "execution_count": 16,
     "metadata": {},
     "output_type": "execute_result"
    }
   ],
   "source": [
    "\n",
    "generator=TestDistribution(3).returnDistribution()\n",
    "np.random.seed(3)\n",
    "X_train,Y_train=generator.generate(3000)\n",
    "X_test,Y_test = generator.generate(1000)\n",
    "\n",
    "\n",
    "model_GBRT = GradientBoostingRegressor(n_estimators = 500)\n",
    "\n",
    "model_GBRT.fit(X_train, Y_train)\n",
    "y_hat=model_GBRT.predict(X_test)\n",
    "mse_score = MSE(y_hat, Y_test)\n",
    "mse_score\n",
    "\n",
    "max_depth , order, truncate_ratio_low, truncate_ratio_up , r_range_low, r_range_up ,step, lamda =6, 1,0,0.6,0,1,2, 0.001\n",
    "\n",
    "\n",
    "model = RegressionTree(estimator=\"naive_estimator\",\n",
    "                         splitter=\"maxedge\",\n",
    "                         min_samples_split=5,\n",
    "                         max_depth=5,\n",
    "                         order=order,\n",
    "                         random_state=1,\n",
    "                         truncate_ratio_low=truncate_ratio_low,\n",
    "                         truncate_ratio_up= truncate_ratio_up,\n",
    "                      r_range_low=r_range_low,\n",
    "                      r_range_up=r_range_up,\n",
    "                      step=step,\n",
    "                      lamda = lamda)\n",
    "model.fit(X_train, Y_train)\n",
    "MSE(model.predict(X_test),Y_test)\n",
    "\n",
    "model = RegressionTree(estimator=\"pointwise_extrapolation_estimator\",\n",
    "                         splitter=\"varreduction\",\n",
    "                         min_samples_split=5,\n",
    "                         max_depth=max_depth,\n",
    "                         order=order,\n",
    "                         random_state=1,\n",
    "                         truncate_ratio_low=truncate_ratio_low,\n",
    "                         truncate_ratio_up= truncate_ratio_up,\n",
    "                      r_range_low=r_range_low,\n",
    "                      r_range_up=r_range_up,\n",
    "                      step=step,\n",
    "                      lamda = lamda)\n",
    "model.fit(X_train, Y_train)\n",
    "MSE(model.predict(X_test),Y_test)\n",
    "\n",
    "\n"
   ]
  },
  {
   "cell_type": "code",
   "execution_count": 12,
   "id": "6bed277a",
   "metadata": {},
   "outputs": [
    {
     "data": {
      "text/plain": [
       "array([[0.        , 0.        , 0.        , 0.        ],\n",
       "       [1.        , 1.        , 0.46369689, 1.        ]])"
      ]
     },
     "execution_count": 12,
     "metadata": {},
     "output_type": "execute_result"
    },
    {
     "data": {
      "image/png": "[encoded data removed]",
      "text/plain": [
       "<Figure size 432x288 with 1 Axes>"
      ]
     },
     "metadata": {
      "needs_background": "light"
     },
     "output_type": "display_data"
    }
   ],
   "source": [
    "node_idx=0\n",
    "query_obj=list(model.tree_.leafnode_fun.values())[node_idx]\n",
    "X_range,dt_X, dt_Y = query_obj.X_range, query_obj.dt_X, query_obj.dt_Y\n",
    "X_range\n",
    "X_extra= X_range.mean(axis=0)+0.12\n",
    "order, truncate_ratio_low, truncate_ratio_up = order, truncate_ratio_low, truncate_ratio_up \n",
    "\n",
    "sorted_ratio, sorted_prediction, intercept ,_= model.get_node_extrapolation(dt_X, dt_Y, X_extra, X_range, order, truncate_ratio_low, truncate_ratio_up,0,1,step,lamda)\n",
    "_=plt.scatter((sorted_ratio),sorted_prediction)\n",
    "_=plt.scatter((sorted_ratio)[int(len(sorted_ratio)*truncate_ratio_low):int(len(sorted_ratio)*truncate_ratio_up)],sorted_prediction[int(len(sorted_prediction)*truncate_ratio_low):int(len(sorted_prediction)*truncate_ratio_up)])\n",
    "_=plt.axhline(intercept,color=\"red\")\n",
    "_=plt.axhline(generator.evaluate(X_extra.reshape(1,-1)),color=\"blue\")"
   ]
  },
  {
   "cell_type": "code",
   "execution_count": null,
   "id": "4db6eeac",
   "metadata": {},
   "outputs": [],
   "source": []
  },
  {
   "cell_type": "code",
   "execution_count": 38,
   "id": "1663be2b",
   "metadata": {},
   "outputs": [],
   "source": [
    "X = np.arange(-1,1,0.001)\n",
    "Y = np.exp(-((X-0.4)/0.1)**2)+np.exp(-((X+0.4)/0.1)**2)"
   ]
  },
  {
   "cell_type": "code",
   "execution_count": 39,
   "id": "d1345397",
   "metadata": {},
   "outputs": [
    {
     "data": {
      "text/plain": [
       "[<matplotlib.lines.Line2D at 0x7fec78caadf0>]"
      ]
     },
     "execution_count": 39,
     "metadata": {},
     "output_type": "execute_result"
    },
    {
     "data": {
      "image/png": "[encoded data removed]",
      "text/plain": [
       "<Figure size 432x288 with 1 Axes>"
      ]
     },
     "metadata": {
      "needs_background": "light"
     },
     "output_type": "display_data"
    }
   ],
   "source": [
    "plt.plot(X,Y)"
   ]
  },
  {
   "cell_type": "code",
   "execution_count": 44,
   "id": "eb083357",
   "metadata": {},
   "outputs": [],
   "source": [
    "model = RegressionTree(estimator=\"pointwise_extrapolation_estimator\",\n",
    "                         splitter=\"varreduction\",\n",
    "                         min_samples_split=1,\n",
    "                         max_depth=1,\n",
    "                         order=order,\n",
    "                         random_state=1,\n",
    "                         truncate_ratio_low=truncate_ratio_low,\n",
    "                         truncate_ratio_up= truncate_ratio_up,\n",
    "                      r_range_low=r_range_low,\n",
    "                      r_range_up=r_range_up,\n",
    "                      step=step,\n",
    "                      lamda = lamda)"
   ]
  },
  {
   "cell_type": "code",
   "execution_count": 49,
   "id": "7908f47b",
   "metadata": {},
   "outputs": [],
   "source": [
    "model.fit(X.reshape(-1,1), Y)\n",
    "node_idx = 0\n",
    "query_obj=list(model.tree_.leafnode_fun.values())[node_idx]\n",
    "X_range,dt_X, dt_Y = query_obj.X_range, query_obj.dt_X, query_obj.dt_Y"
   ]
  },
  {
   "cell_type": "code",
   "execution_count": 10,
   "id": "df335a77",
   "metadata": {},
   "outputs": [],
   "source": [
    "a= np.array([1,2,3,1])"
   ]
  },
  {
   "cell_type": "code",
   "execution_count": 9,
   "id": "18954475",
   "metadata": {},
   "outputs": [
    {
     "data": {
      "text/plain": [
       "array([1, 2, 3])"
      ]
     },
     "execution_count": 9,
     "metadata": {},
     "output_type": "execute_result"
    }
   ],
   "source": [
    "np.unique(a)"
   ]
  },
  {
   "cell_type": "code",
   "execution_count": 11,
   "id": "5fce76b1",
   "metadata": {},
   "outputs": [
    {
     "data": {
      "text/plain": [
       "array([1. , 1. , 1. , 1. , 1.2, 1.5, 1.8, 2.1, 2.4, 2.7])"
      ]
     },
     "execution_count": 11,
     "metadata": {},
     "output_type": "execute_result"
    }
   ],
   "source": [
    "np.quantile(a,[i/10 for i in range(10)])"
   ]
  },
  {
   "cell_type": "code",
   "execution_count": 21,
   "id": "850f83c3",
   "metadata": {},
   "outputs": [],
   "source": [
    "import os\n",
    "import pandas as pd\n",
    "from sklearn.preprocessing import MinMaxScaler\n",
    "\n",
    "data_file_dir = \"./data/real_data_cleaned/\"\n",
    "\n",
    "data_file_name = \"abalone.csv\"\n",
    "\n",
    "log_file_dir = \"./results/realdata/\"\n",
    "\n",
    "\n",
    "data_name = os.path.splitext(data_file_name)[0]\n",
    "data_file_path = os.path.join(data_file_dir, data_file_name)\n",
    "data = pd.read_csv(data_file_path)\n",
    "data = np.array(data)\n",
    "X = data[:,1:]\n",
    "y = data[:,0]\n",
    "\n",
    "scaler = MinMaxScaler()\n",
    "X = scaler.fit_transform(X)\n",
    "\n"
   ]
  },
  {
   "cell_type": "code",
   "execution_count": 24,
   "id": "eea36c8b",
   "metadata": {},
   "outputs": [
    {
     "data": {
      "text/plain": [
       "array([[0.        , 0.5135135 , 0.5210084 , ..., 0.1503025 , 0.132324  ,\n",
       "        0.147982  ],\n",
       "       [0.        , 0.3716215 , 0.352941  , ..., 0.066241  , 0.0631995 ,\n",
       "        0.068261  ],\n",
       "       [0.5       , 0.614865  , 0.6134455 , ..., 0.1718225 , 0.1856485 ,\n",
       "        0.207773  ],\n",
       "       ...,\n",
       "       [0.        , 0.7094595 , 0.7058825 , ..., 0.3527235 , 0.37788   ,\n",
       "        0.305431  ],\n",
       "       [0.5       , 0.743243  , 0.722689  , ..., 0.3564225 , 0.342989  ,\n",
       "        0.293473  ],\n",
       "       [0.        , 0.858108  , 0.840336  , ..., 0.6351715 , 0.49506254,\n",
       "        0.49177875]])"
      ]
     },
     "execution_count": 24,
     "metadata": {},
     "output_type": "execute_result"
    }
   ],
   "source": [
    "X"
   ]
  },
  {
   "cell_type": "code",
   "execution_count": null,
   "id": "26923d9a",
   "metadata": {},
   "outputs": [],
   "source": []
  }
 ],
 "metadata": {
  "kernelspec": {
   "display_name": "Python 3 (ipykernel)",
   "language": "python",
   "name": "python3"
  },
  "language_info": {
   "codemirror_mode": {
    "name": "ipython",
    "version": 3
   },
   "file_extension": ".py",
   "mimetype": "text/x-python",
   "name": "python",
   "nbconvert_exporter": "python",
   "pygments_lexer": "ipython3",
   "version": "3.9.7"
  }
 },
 "nbformat": 4,
 "nbformat_minor": 5
}
