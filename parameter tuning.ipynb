{
 "cells": [
  {
   "cell_type": "code",
   "execution_count": 1,
   "metadata": {},
   "outputs": [],
   "source": [
    "from distribution import TestDistribution\n",
    "\n",
    "from RTER import RegressionTree\n",
    "\n",
    "import numpy as np\n",
    "\n",
    "from sklearn.metrics import mean_squared_error as MSE\n",
    "from sklearn.model_selection import GridSearchCV\n",
    "from sklearn.ensemble import GradientBoostingRegressor, RandomForestRegressor\n",
    "\n",
    "from time import time\n",
    "import os\n",
    "\n",
    "\n"
   ]
  },
  {
   "cell_type": "code",
   "execution_count": null,
   "metadata": {},
   "outputs": [],
   "source": [
    "\n"
   ]
  },
  {
   "cell_type": "code",
   "execution_count": 2,
   "metadata": {},
   "outputs": [
    {
     "name": "stdout",
     "output_type": "stream",
     "text": [
      "RTER: mse 0.1292148941424587 time 46.72032642364502\n",
      "GBRT: mse 0.12078640612922806 time 5.724526882171631\n",
      "RF: mse 0.13387030141898065 time 0.04139971733093262\n"
     ]
    }
   ],
   "source": [
    "\n",
    "\n",
    "#distribution_index_vec=[1,2,3,4]\n",
    "\n",
    "\n",
    "\n",
    "\n",
    "\n",
    "np.random.seed(1)\n",
    "\n",
    "\n",
    "\n",
    "sample_generator=TestDistribution(7).returnDistribution()\n",
    "n_test, n_train = 1000,1000\n",
    "X_train, Y_train = sample_generator.generate(n_train)\n",
    "X_test, Y_test = sample_generator.generate(n_test)\n",
    "\n",
    "\n",
    "\n",
    "# RTER with cv\n",
    "time_start=time()\n",
    "parameters={\"truncate_ratio_low\":[0], \"truncate_ratio_up\":[1 ],\n",
    "           \"min_samples_split\":[10,30], \"max_depth\":[1,2,3,4],\n",
    "           \"order\":[1,2],\"splitter\":[\"maxedge\"],\n",
    "           \"r_range_low\":[0,0.1],\"r_range_up\":[0.5,0.6,0.7]}\n",
    "cv_model_RTER=GridSearchCV(estimator=RegressionTree(),param_grid=parameters, cv=7, n_jobs=-1)\n",
    "cv_model_RTER.fit(X_train, Y_train)\n",
    "\n",
    "RTER_model = cv_model_RTER.best_estimator_\n",
    "mse_score= - RTER_model.score(X_test, Y_test)\n",
    "y_hat_RTER = RTER_model.predict(X_test)\n",
    "\n",
    "time_end=time()\n",
    "\n",
    "print(\"RTER: mse {} time {}\".format(mse_score,time_end-time_start))\n",
    "\n",
    "\n",
    "# GBRT\n",
    "time_start=time()\n",
    "\n",
    "parameters= {\"n_estimators\":[500,1000,2000], \"learning_rate\":[0.01,0.05]}\n",
    "cv_model_GBRT=GridSearchCV(estimator=GradientBoostingRegressor(),param_grid=parameters, cv=7, n_jobs=-1)\n",
    "cv_model_GBRT.fit(X_train, Y_train)\n",
    "model_GBRT = cv_model_GBRT.best_estimator_\n",
    "model_GBRT.fit(X_train, Y_train.ravel())\n",
    "\n",
    "y_hat=model_GBRT.predict(X_test)\n",
    "mse_score = MSE(y_hat, Y_test)\n",
    "\n",
    "time_end=time()\n",
    "\n",
    "print(\"GBRT: mse {} time {}\".format(mse_score,time_end-time_start))\n",
    "\n",
    "\n",
    "# RF\n",
    "time_start=time()\n",
    "\n",
    "model_RFR = RandomForestRegressor(n_estimators = 10)\n",
    "model_RFR.fit(X_train, Y_train.ravel())\n",
    "\n",
    "y_hat=model_RFR.predict(X_test)\n",
    "mse_score = MSE(y_hat, Y_test)\n",
    "\n",
    "time_end=time()\n",
    "\n",
    "print(\"RF: mse {} time {}\".format(mse_score,time_end-time_start))"
   ]
  },
  {
   "cell_type": "code",
   "execution_count": 3,
   "metadata": {},
   "outputs": [
    {
     "data": {
      "text/plain": [
       "{'max_depth': 2,\n",
       " 'min_samples_split': 10,\n",
       " 'order': 1,\n",
       " 'r_range_low': 0,\n",
       " 'r_range_up': 0.6,\n",
       " 'splitter': 'maxedge',\n",
       " 'truncate_ratio_low': 0,\n",
       " 'truncate_ratio_up': 1}"
      ]
     },
     "execution_count": 3,
     "metadata": {},
     "output_type": "execute_result"
    }
   ],
   "source": [
    "cv_model_RTER.best_params_"
   ]
  },
  {
   "cell_type": "code",
   "execution_count": null,
   "metadata": {},
   "outputs": [],
   "source": []
  }
 ],
 "metadata": {
  "kernelspec": {
   "display_name": "Python 3",
   "language": "python",
   "name": "python3"
  },
  "language_info": {
   "codemirror_mode": {
    "name": "ipython",
    "version": 3
   },
   "file_extension": ".py",
   "mimetype": "text/x-python",
   "name": "python",
   "nbconvert_exporter": "python",
   "pygments_lexer": "ipython3",
   "version": "3.7.9"
  }
 },
 "nbformat": 4,
 "nbformat_minor": 4
}
