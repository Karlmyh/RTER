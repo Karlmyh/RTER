{
 "cells": [
  {
   "cell_type": "code",
   "execution_count": 1,
   "id": "fa15014b",
   "metadata": {},
   "outputs": [],
   "source": [
    "from distribution import TestDistribution\n",
    "\n",
    "from RTER import RegressionTree\n",
    "\n",
    "import numpy as np\n",
    "\n",
    "from sklearn.metrics import mean_squared_error as MSE\n",
    "from sklearn.model_selection import GridSearchCV\n",
    "from sklearn.ensemble import GradientBoostingRegressor, RandomForestRegressor\n",
    "\n",
    "from time import time\n",
    "import os\n",
    "\n",
    "from comparison.ensemble import RegressionTreeBoosting, RegressionTreeEnsemble\n",
    "from comparison.EKNN import EKNN\n",
    "\n",
    "import matplotlib.pyplot as plt"
   ]
  },
  {
   "cell_type": "code",
   "execution_count": null,
   "id": "b14de074",
   "metadata": {},
   "outputs": [],
   "source": []
  },
  {
   "cell_type": "code",
   "execution_count": 190,
   "id": "2f0720a0",
   "metadata": {},
   "outputs": [
    {
     "name": "stdout",
     "output_type": "stream",
     "text": [
      "RTER: mse 0.11688412834348179 time 164.3013892173767\n",
      "GBRT: mse 0.11375779192220407 time 10.306891202926636\n"
     ]
    },
    {
     "data": {
      "text/plain": [
       "'\\n# RF\\ntime_start=time()\\n\\nparameters = {\"n_estimators\":[10,100,200]}\\ncv_model_RFR = GridSearchCV(estimator=RandomForestRegressor(),param_grid=parameters, cv=10, n_jobs=-1) \\ncv_model_RFR.fit(X_train, Y_train)\\nmodel_RFR = cv_model_RFR.best_estimator_\\nmodel_RFR.fit(X_train, Y_train)\\n\\ny_hat=model_RFR.predict(X_test)\\nmse_score = MSE(y_hat, Y_test)\\n\\ntime_end=time()\\n\\nprint(\"RF: mse {} time {}\".format(mse_score,time_end-time_start))\\n\\n# EKNN\\ntime_start=time()\\n\\nparameters = {\"V\":[3,5,7,9,11,13,15,17,19], \"C\":[5,7,9,10,11,13,15],\"alpha\":[0.01,0.05]}\\ncv_model_EKNN = GridSearchCV(estimator=EKNN(),param_grid=parameters, cv=10, n_jobs=-1) \\ncv_model_EKNN.fit(X_train, Y_train)\\nmodel_EKNN = cv_model_EKNN.best_estimator_\\nmodel_EKNN.fit(X_train, Y_train)\\n\\ny_hat=model_EKNN.predict(X_test)\\nmse_score = MSE(y_hat, Y_test)\\n\\ntime_end=time()\\n\\nprint(\"EKNN: mse {} time {}\".format(mse_score,time_end-time_start))\\n'"
      ]
     },
     "execution_count": 190,
     "metadata": {},
     "output_type": "execute_result"
    }
   ],
   "source": [
    "\n",
    "\n",
    "#distribution_index_vec=[1,2,3,4]\n",
    "\n",
    "\n",
    "\n",
    "\n",
    "\n",
    "np.random.seed(2)\n",
    "\n",
    "\n",
    "\n",
    "sample_generator=TestDistribution(8).returnDistribution()\n",
    "n_test, n_train = 4000,2000\n",
    "X_train, Y_train = sample_generator.generate(n_train)\n",
    "X_test, Y_test = sample_generator.generate(n_test)\n",
    "\n",
    "\n",
    "\n",
    "# RTER with cv\n",
    "time_start=time()\n",
    "parameters={\"truncate_ratio_low\":[0], \"truncate_ratio_up\":[1],\n",
    "           \"min_samples_split\":[3,10,30], \"max_depth\":[2,4,6],\n",
    "           \"order\":[0,1,3,5],\"splitter\":[\"maxedge\"],\n",
    "            \"estimator\":[\"pointwise_extrapolation_estimator\"],\n",
    "           \"r_range_low\":[0,0.1],\"r_range_up\":[0.6,0.8,1],\n",
    "           \"step\":[1],\"lamda\":[0.0001,0.0005,0.001,0.005,0.01],\"V\":[1,4,8,12,16,20,25,30,40]}\n",
    "cv_model_RTER=GridSearchCV(estimator=RegressionTree(),param_grid=parameters, cv=10, n_jobs=50)\n",
    "cv_model_RTER.fit(X_train, Y_train)\n",
    "\n",
    "RTER_model = cv_model_RTER.best_estimator_\n",
    "mse_score= - RTER_model.score(X_test, Y_test)\n",
    "y_hat_RTER = RTER_model.predict(X_test)\n",
    "\n",
    "time_end=time()\n",
    "\n",
    "print(\"RTER: mse {} time {}\".format(mse_score,time_end-time_start))\n",
    "\n",
    "'''\n",
    "# boosting\n",
    "time_start=time()\n",
    "parameters={\"rho\":[0.01,0.05,0.1,0.2], \"boost_num\":[20,50,100],\n",
    "            \"min_samples_split\":[2,5,10,20,30], \n",
    "            \"max_depth\":[3,4,5,6,7,8],\"splitter\":[\"maxedge\"]}\n",
    "cv_model_boosting=GridSearchCV(estimator=RegressionTreeBoosting(),param_grid=parameters, cv=10, n_jobs=-1)\n",
    "cv_model_boosting.fit(X_train, Y_train)\n",
    "\n",
    "boosting_model = cv_model_boosting.best_estimator_\n",
    "mse_score= - boosting_model.score(X_test, Y_test)\n",
    "\n",
    "time_end=time()\n",
    "\n",
    "print(\"boosting: mse {} time {}\".format(mse_score,time_end-time_start))\n",
    "\n",
    "\n",
    "# ensemble\n",
    "time_start=time()\n",
    "parameters={ \"ensemble_num\":[20,50,100,200,500,1000,2000],\n",
    "            \"min_samples_split\":[2,5,10,20,30], \n",
    "            \"max_depth\":[3,4,5,6,7,8],\"splitter\":[\"maxedge\"]}\n",
    "cv_model_ensemble=GridSearchCV(estimator=RegressionTreeEnsemble(),param_grid=parameters, cv=10, n_jobs=-1)\n",
    "cv_model_ensemble.fit(X_train, Y_train)\n",
    "\n",
    "ensemble_model = cv_model_ensemble.best_estimator_\n",
    "mse_score= - ensemble_model.score(X_test, Y_test)\n",
    "\n",
    "time_end=time()\n",
    "\n",
    "print(\"ensemble: mse {} time {}\".format(mse_score,time_end-time_start))\n",
    "'''\n",
    "\n",
    "\n",
    "# GBRT\n",
    "time_start=time()\n",
    "\n",
    "parameters= {\"n_estimators\":[500,1000,2000], \"learning_rate\":[0.01,0.05]}\n",
    "cv_model_GBRT=GridSearchCV(estimator=GradientBoostingRegressor(),param_grid=parameters, cv=10, n_jobs=-1)\n",
    "cv_model_GBRT.fit(X_train, Y_train)\n",
    "model_GBRT = cv_model_GBRT.best_estimator_\n",
    "model_GBRT.fit(X_train, Y_train.ravel())\n",
    "\n",
    "y_hat=model_GBRT.predict(X_test)\n",
    "mse_score = MSE(y_hat, Y_test)\n",
    "\n",
    "time_end=time()\n",
    "\n",
    "print(\"GBRT: mse {} time {}\".format(mse_score,time_end-time_start))\n",
    "\n",
    "'''\n",
    "# RF\n",
    "time_start=time()\n",
    "\n",
    "parameters = {\"n_estimators\":[10,100,200]}\n",
    "cv_model_RFR = GridSearchCV(estimator=RandomForestRegressor(),param_grid=parameters, cv=10, n_jobs=-1) \n",
    "cv_model_RFR.fit(X_train, Y_train)\n",
    "model_RFR = cv_model_RFR.best_estimator_\n",
    "model_RFR.fit(X_train, Y_train)\n",
    "\n",
    "y_hat=model_RFR.predict(X_test)\n",
    "mse_score = MSE(y_hat, Y_test)\n",
    "\n",
    "time_end=time()\n",
    "\n",
    "print(\"RF: mse {} time {}\".format(mse_score,time_end-time_start))\n",
    "\n",
    "# EKNN\n",
    "time_start=time()\n",
    "\n",
    "parameters = {\"V\":[3,5,7,9,11,13,15,17,19], \"C\":[5,7,9,10,11,13,15],\"alpha\":[0.01,0.05]}\n",
    "cv_model_EKNN = GridSearchCV(estimator=EKNN(),param_grid=parameters, cv=10, n_jobs=-1) \n",
    "cv_model_EKNN.fit(X_train, Y_train)\n",
    "model_EKNN = cv_model_EKNN.best_estimator_\n",
    "model_EKNN.fit(X_train, Y_train)\n",
    "\n",
    "y_hat=model_EKNN.predict(X_test)\n",
    "mse_score = MSE(y_hat, Y_test)\n",
    "\n",
    "time_end=time()\n",
    "\n",
    "print(\"EKNN: mse {} time {}\".format(mse_score,time_end-time_start))\n",
    "'''"
   ]
  },
  {
   "cell_type": "code",
   "execution_count": null,
   "id": "172ecf66",
   "metadata": {},
   "outputs": [],
   "source": [
    "\n"
   ]
  },
  {
   "cell_type": "code",
   "execution_count": 191,
   "id": "6e5c6e4b",
   "metadata": {},
   "outputs": [
    {
     "data": {
      "text/plain": [
       "{'V': 40,\n",
       " 'estimator': 'pointwise_extrapolation_estimator',\n",
       " 'lamda': 0.005,\n",
       " 'max_depth': 2,\n",
       " 'min_samples_split': 3,\n",
       " 'order': 3,\n",
       " 'r_range_low': 0.1,\n",
       " 'r_range_up': 1,\n",
       " 'splitter': 'maxedge',\n",
       " 'step': 1,\n",
       " 'truncate_ratio_low': 0,\n",
       " 'truncate_ratio_up': 1}"
      ]
     },
     "execution_count": 191,
     "metadata": {},
     "output_type": "execute_result"
    }
   ],
   "source": [
    "cv_model_RTER.best_params_"
   ]
  },
  {
   "cell_type": "code",
   "execution_count": null,
   "id": "e17e8fbc",
   "metadata": {},
   "outputs": [],
   "source": []
  },
  {
   "cell_type": "code",
   "execution_count": 35,
   "id": "2fbcfaad",
   "metadata": {},
   "outputs": [
    {
     "data": {
      "text/plain": [
       "612"
      ]
     },
     "execution_count": 35,
     "metadata": {},
     "output_type": "execute_result"
    }
   ],
   "source": [
    "idx_test=((y_hat_RTER - sample_generator.evaluate(X_test))**2).argmax()\n",
    "#((y_hat_RTER - sample_generator.evaluate(X_test))**2).max()\n",
    "idx_test"
   ]
  },
  {
   "cell_type": "code",
   "execution_count": 37,
   "id": "110993c5",
   "metadata": {},
   "outputs": [
    {
     "name": "stdout",
     "output_type": "stream",
     "text": [
      "1\n"
     ]
    }
   ],
   "source": [
    "idx_test = 612\n",
    "pred_y, all_r , all_y_hat  , used_r, used_y_hat = RTER_model.get_info(X_test[idx_test].reshape(1,-1))"
   ]
  },
  {
   "cell_type": "code",
   "execution_count": 38,
   "id": "f98af941",
   "metadata": {},
   "outputs": [
    {
     "data": {
      "image/png": "[encoded data removed]",
      "text/plain": [
       "<Figure size 432x288 with 1 Axes>"
      ]
     },
     "metadata": {
      "needs_background": "light"
     },
     "output_type": "display_data"
    }
   ],
   "source": [
    "_=plt.scatter(all_r,all_y_hat)\n",
    "_=plt.scatter(used_r, used_y_hat)\n",
    "_=plt.axhline(pred_y,color=\"red\")\n",
    "_=plt.axhline(sample_generator.evaluate(X_test[idx_test].reshape(1,-1)).item(),color=\"blue\")"
   ]
  },
  {
   "cell_type": "code",
   "execution_count": null,
   "id": "63b02ab5",
   "metadata": {},
   "outputs": [],
   "source": []
  },
  {
   "cell_type": "code",
   "execution_count": 195,
   "id": "843adeb3",
   "metadata": {},
   "outputs": [],
   "source": [
    "\n",
    "np.random.seed(3)\n",
    "\n",
    "\n",
    "\n",
    "sample_generator=TestDistribution(1).returnDistribution()\n",
    "n_test, n_train = 4000,2000\n",
    "X_train, Y_train = sample_generator.generate(n_train)\n",
    "X_test, Y_test = sample_generator.generate(n_test)\n",
    "\n"
   ]
  },
  {
   "cell_type": "code",
   "execution_count": 200,
   "id": "2ef27dab",
   "metadata": {},
   "outputs": [
    {
     "data": {
      "text/plain": [
       "-1.2946675475619276"
      ]
     },
     "execution_count": 200,
     "metadata": {},
     "output_type": "execute_result"
    }
   ],
   "source": [
    "model = RegressionTree(estimator=\"pointwise_extrapolation_estimator\",\n",
    "                         splitter=\"maxedge\",\n",
    "                         min_samples_split=3,\n",
    "                         max_depth=1,\n",
    "                         order=0,\n",
    "                         random_state=4,\n",
    "                         lamda = 0.0001,\n",
    "                          V=6,\n",
    "                      r_range_low = 0.3,\n",
    "                      r_range_up = 0.6)\n",
    "model.fit(X_train, Y_train)\n",
    "\n",
    "model.score(X_test,Y_test)\n"
   ]
  },
  {
   "cell_type": "code",
   "execution_count": 201,
   "id": "127d52ab",
   "metadata": {},
   "outputs": [],
   "source": [
    "#model.predict(X_test).ravel()[idx]"
   ]
  },
  {
   "cell_type": "code",
   "execution_count": 202,
   "id": "67540677",
   "metadata": {},
   "outputs": [
    {
     "data": {
      "text/plain": [
       "[<matplotlib.lines.Line2D at 0x7fb758a65520>]"
      ]
     },
     "execution_count": 202,
     "metadata": {},
     "output_type": "execute_result"
    },
    {
     "data": {
      "image/png": "[encoded data removed]",
      "text/plain": [
       "<Figure size 432x288 with 1 Axes>"
      ]
     },
     "metadata": {
      "needs_background": "light"
     },
     "output_type": "display_data"
    }
   ],
   "source": [
    "idx = np.argsort(X_test.ravel())\n",
    "plt.plot(X_test.ravel()[idx],sample_generator.evaluate(X_test).ravel()[idx])\n",
    "plt.plot(X_test.ravel()[idx],model.predict(X_test).ravel()[idx])"
   ]
  },
  {
   "cell_type": "code",
   "execution_count": 183,
   "id": "d91cfe3f",
   "metadata": {},
   "outputs": [
    {
     "name": "stdout",
     "output_type": "stream",
     "text": [
      "1\n"
     ]
    }
   ],
   "source": [
    "pred_y, all_r , all_y_hat  , used_r, used_y_hat = model.get_info(X_test[2].reshape(1,-1))"
   ]
  },
  {
   "cell_type": "code",
   "execution_count": 108,
   "id": "c4fca2b3",
   "metadata": {},
   "outputs": [
    {
     "data": {
      "image/png": "[encoded data removed]",
      "text/plain": [
       "<Figure size 432x288 with 1 Axes>"
      ]
     },
     "metadata": {
      "needs_background": "light"
     },
     "output_type": "display_data"
    }
   ],
   "source": [
    "_=plt.scatter(all_r,all_y_hat)\n",
    "_=plt.scatter(used_r, used_y_hat)\n",
    "_=plt.axhline(pred_y,color=\"red\")\n",
    "_=plt.axhline(sample_generator.evaluate(X_test[2].reshape(1,-1)).item(),color=\"blue\")"
   ]
  },
  {
   "cell_type": "code",
   "execution_count": 44,
   "id": "7facf91b",
   "metadata": {},
   "outputs": [
    {
     "data": {
      "text/plain": [
       "-1.006611563540693"
      ]
     },
     "execution_count": 44,
     "metadata": {},
     "output_type": "execute_result"
    }
   ],
   "source": [
    "model.score(X_test, Y_test)"
   ]
  },
  {
   "cell_type": "code",
   "execution_count": 45,
   "id": "166e119a",
   "metadata": {},
   "outputs": [
    {
     "data": {
      "text/plain": [
       "[<matplotlib.lines.Line2D at 0x7fb7487397c0>]"
      ]
     },
     "execution_count": 45,
     "metadata": {},
     "output_type": "execute_result"
    },
    {
     "data": {
      "image/png": "[encoded data removed]",
      "text/plain": [
       "<Figure size 432x288 with 1 Axes>"
      ]
     },
     "metadata": {
      "needs_background": "light"
     },
     "output_type": "display_data"
    }
   ],
   "source": [
    "idx = np.argsort(X_test.ravel())\n",
    "plt.plot(X_test.ravel()[idx],sample_generator.evaluate(X_test).ravel()[idx])\n",
    "plt.plot(X_test.ravel()[idx],model.predict(X_test).ravel()[idx])"
   ]
  },
  {
   "cell_type": "code",
   "execution_count": 12,
   "id": "676e1415",
   "metadata": {},
   "outputs": [
    {
     "data": {
      "text/plain": [
       "((8000,), (4000,))"
      ]
     },
     "execution_count": 12,
     "metadata": {},
     "output_type": "execute_result"
    }
   ],
   "source": [
    "X_test.ravel().shape,sample_generator.evaluate(X_test).ravel().shape"
   ]
  },
  {
   "cell_type": "code",
   "execution_count": 23,
   "id": "c58d97d8",
   "metadata": {},
   "outputs": [
    {
     "data": {
      "text/plain": [
       "array([3301, 3519, 2997, ...,  354, 1166, 3023])"
      ]
     },
     "execution_count": 23,
     "metadata": {},
     "output_type": "execute_result"
    }
   ],
   "source": [
    "np.argsort(X_test.ravel())"
   ]
  },
  {
   "cell_type": "code",
   "execution_count": null,
   "id": "574cf558",
   "metadata": {},
   "outputs": [],
   "source": []
  }
 ],
 "metadata": {
  "kernelspec": {
   "display_name": "Python 3 (ipykernel)",
   "language": "python",
   "name": "python3"
  },
  "language_info": {
   "codemirror_mode": {
    "name": "ipython",
    "version": 3
   },
   "file_extension": ".py",
   "mimetype": "text/x-python",
   "name": "python",
   "nbconvert_exporter": "python",
   "pygments_lexer": "ipython3",
   "version": "3.9.7"
  }
 },
 "nbformat": 4,
 "nbformat_minor": 5
}
