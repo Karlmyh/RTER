{
 "cells": [
  {
   "cell_type": "code",
   "execution_count": 1,
   "metadata": {},
   "outputs": [],
   "source": [
    "from RTER import RegressionTree\n",
    "from distribution import TestDistribution\n",
    "import numpy as np\n",
    "\n",
    "\n",
    "from sklearn.metrics import mean_squared_error as MSE\n",
    "import matplotlib.pyplot as plt\n",
    "\n",
    "from IPython.core.interactiveshell import InteractiveShell\n",
    "InteractiveShell.ast_node_interactivity = \"all\"\n",
    "\n",
    "from time import time\n"
   ]
  },
  {
   "cell_type": "code",
   "execution_count": null,
   "metadata": {},
   "outputs": [],
   "source": []
  },
  {
   "cell_type": "code",
   "execution_count": 4,
   "metadata": {},
   "outputs": [],
   "source": [
    "density=TestDistribution(15,1).returnDistribution()\n",
    "np.random.seed(2)\n",
    "#X_train,pdf_X_train=density.generate(1000)\n",
    "X_train= np.arange(0,1,0.001).reshape(-1,1)\n",
    "Y_train_true = np.sin(X_train).ravel()\n",
    "Y_train_noise = np.random.normal(scale=0.1,size=X_train.shape[0])\n",
    "Y_train=Y_train_true+Y_train_noise\n",
    "\n",
    "X_test= np.arange(0,1,0.005).reshape(-1,1)\n",
    "Y_test_true = np.sin(X_test).ravel()\n",
    "\n"
   ]
  },
  {
   "cell_type": "code",
   "execution_count": null,
   "metadata": {},
   "outputs": [],
   "source": []
  },
  {
   "cell_type": "code",
   "execution_count": 3,
   "metadata": {},
   "outputs": [
    {
     "data": {
      "text/plain": [
       "0.00035515492866956876"
      ]
     },
     "execution_count": 3,
     "metadata": {},
     "output_type": "execute_result"
    }
   ],
   "source": [
    "MSE_sum=0\n",
    "repeat_time=20\n",
    "for seed in range(repeat_time):\n",
    "    np.random.seed(seed)\n",
    "    X_train= np.arange(0,1,0.001).reshape(-1,1)\n",
    "    Y_train_true = np.sin(X_train).ravel()\n",
    "    Y_train_noise = np.random.normal(scale=0.1,size=X_train.shape[0])\n",
    "    Y_train=Y_train_true+Y_train_noise\n",
    "\n",
    "    X_test= np.arange(0,1,0.005).reshape(-1,1)\n",
    "    Y_test_true = np.sin(X_test).ravel()\n",
    "    RT_model=RegressionTree(estimator=\"naive_estimator\",splitter=\"midpoint\",min_samples_split=30,max_depth=5,random_state=1)\n",
    "    RT_model.fit(X_train,Y_train)\n",
    "    Y_hat=RT_model.predict(X_test)\n",
    "    MSE_sum+=MSE(Y_hat,Y_test_true)\n",
    "MSE_sum/repeat_time"
   ]
  },
  {
   "cell_type": "code",
   "execution_count": 4,
   "metadata": {},
   "outputs": [
    {
     "data": {
      "text/plain": [
       "[<matplotlib.lines.Line2D at 0x7f550598eb20>]"
      ]
     },
     "execution_count": 4,
     "metadata": {},
     "output_type": "execute_result"
    },
    {
     "data": {
      "text/plain": [
       "[<matplotlib.lines.Line2D at 0x7f550598ef40>]"
      ]
     },
     "execution_count": 4,
     "metadata": {},
     "output_type": "execute_result"
    },
    {
     "data": {
      "image/png": "[encoded data removed]",
      "text/plain": [
       "<Figure size 432x288 with 1 Axes>"
      ]
     },
     "metadata": {
      "needs_background": "light"
     },
     "output_type": "display_data"
    }
   ],
   "source": [
    "plt.plot(Y_hat)\n",
    "plt.plot(Y_test_true)"
   ]
  },
  {
   "cell_type": "markdown",
   "metadata": {},
   "source": [
    "## Ensemble"
   ]
  },
  {
   "cell_type": "code",
   "execution_count": 5,
   "metadata": {},
   "outputs": [
    {
     "data": {
      "text/plain": [
       "0.0005999437643960439"
      ]
     },
     "execution_count": 5,
     "metadata": {},
     "output_type": "execute_result"
    }
   ],
   "source": [
    "MSE_sum=0\n",
    "repeat_time=20\n",
    "ensemble_time=100\n",
    "for seed in range(repeat_time):\n",
    "    np.random.seed(seed)\n",
    "    X_train= np.arange(0,1,0.001).reshape(-1,1)\n",
    "    Y_train_true = np.sin(X_train).ravel()\n",
    "    Y_train_noise = np.random.normal(scale=0.1,size=X_train.shape[0])\n",
    "    Y_train=Y_train_true+Y_train_noise\n",
    "\n",
    "    X_test= np.arange(0,1,0.005).reshape(-1,1)\n",
    "    Y_test_true = np.sin(X_test).ravel()\n",
    "    \n",
    "    pre_vec=np.zeros(Y_test_true.shape[0])\n",
    "    for ensemble_idx in range(ensemble_time):\n",
    "    \n",
    "    \n",
    "        RT_model=RegressionTree(estimator=\"naive_estimator\",splitter=\"midpoint\",min_samples_split=30,max_depth=6,random_state=ensemble_idx)\n",
    "        RT_model.fit(X_train,Y_train)\n",
    "        pre_vec+=RT_model.predict(X_test)\n",
    "    \n",
    "    pre_vec/=ensemble_time\n",
    "    MSE_sum+=MSE(pre_vec,Y_test_true)\n",
    "MSE_sum/repeat_time"
   ]
  },
  {
   "cell_type": "code",
   "execution_count": null,
   "metadata": {},
   "outputs": [],
   "source": []
  },
  {
   "cell_type": "code",
   "execution_count": 6,
   "metadata": {},
   "outputs": [
    {
     "data": {
      "text/plain": [
       "[<matplotlib.lines.Line2D at 0x7f55038877f0>]"
      ]
     },
     "execution_count": 6,
     "metadata": {},
     "output_type": "execute_result"
    },
    {
     "data": {
      "text/plain": [
       "[<matplotlib.lines.Line2D at 0x7f5503887c10>]"
      ]
     },
     "execution_count": 6,
     "metadata": {},
     "output_type": "execute_result"
    },
    {
     "data": {
      "image/png": "[encoded data removed]",
      "text/plain": [
       "<Figure size 432x288 with 1 Axes>"
      ]
     },
     "metadata": {
      "needs_background": "light"
     },
     "output_type": "display_data"
    }
   ],
   "source": [
    "plt.plot(pre_vec)\n",
    "plt.plot(Y_test_true)"
   ]
  },
  {
   "cell_type": "code",
   "execution_count": null,
   "metadata": {},
   "outputs": [],
   "source": []
  },
  {
   "cell_type": "code",
   "execution_count": 7,
   "metadata": {},
   "outputs": [
    {
     "data": {
      "text/plain": [
       "0.0006658819683385687"
      ]
     },
     "execution_count": 7,
     "metadata": {},
     "output_type": "execute_result"
    }
   ],
   "source": [
    "ERT_model=RegressionTree(estimator=\"extrapolation_estimator\",\n",
    "                         splitter=\"midpoint\",\n",
    "                         min_samples_split=30,\n",
    "                         max_depth=4,\n",
    "                         order=1,\n",
    "                         random_state=1,\n",
    "                         truncate_ratio_low=0.45,\n",
    "                         truncate_ratio_up=0.8)\n",
    "ERT_model.fit(X_train,Y_train)\n",
    "Y_hat=ERT_model.predict(X_test)\n",
    "\n",
    "#np.arange(0.0001,0.04,0.0005).reshape(-1,1)\n",
    "MSE(Y_hat,Y_test_true)"
   ]
  },
  {
   "cell_type": "code",
   "execution_count": 8,
   "metadata": {},
   "outputs": [
    {
     "data": {
      "text/plain": [
       "0.0007298776424295655"
      ]
     },
     "execution_count": 8,
     "metadata": {},
     "output_type": "execute_result"
    }
   ],
   "source": [
    "MSE_sum=0\n",
    "repeat_time=20\n",
    "for seed in range(repeat_time):\n",
    "    np.random.seed(seed)\n",
    "    X_train= np.arange(0,1,0.001).reshape(-1,1)\n",
    "    Y_train_true = np.sin(X_train).ravel()\n",
    "    Y_train_noise = np.random.normal(scale=0.1,size=X_train.shape[0])\n",
    "    Y_train=Y_train_true+Y_train_noise\n",
    "\n",
    "    X_test= np.arange(0,1,0.005).reshape(-1,1)\n",
    "    Y_test_true = np.sin(X_test).ravel()\n",
    "    ERT_model=RegressionTree(estimator=\"extrapolation_estimator\",\n",
    "                         splitter=\"midpoint\",\n",
    "                         min_samples_split=30,\n",
    "                         max_depth=4,\n",
    "                         order=1,\n",
    "                         random_state=1,\n",
    "                         truncate_ratio_low=0.45,\n",
    "                         truncate_ratio_up=0.8)\n",
    "    ERT_model.fit(X_train,Y_train)\n",
    "    Y_hat=ERT_model.predict(X_test)\n",
    "    MSE_sum+=MSE(Y_hat,Y_test_true)\n",
    "MSE_sum/repeat_time"
   ]
  },
  {
   "cell_type": "code",
   "execution_count": 9,
   "metadata": {},
   "outputs": [],
   "source": [
    "node_range,dt_X, dt_Y,sorted_ratio,sorted_prediction,intercept= ERT_model.get_node_information(9)"
   ]
  },
  {
   "cell_type": "code",
   "execution_count": 10,
   "metadata": {},
   "outputs": [
    {
     "data": {
      "text/plain": [
       "[<matplotlib.lines.Line2D at 0x7f55038016a0>]"
      ]
     },
     "execution_count": 10,
     "metadata": {},
     "output_type": "execute_result"
    },
    {
     "data": {
      "image/png": "[encoded data removed]",
      "text/plain": [
       "<Figure size 432x288 with 1 Axes>"
      ]
     },
     "metadata": {
      "needs_background": "light"
     },
     "output_type": "display_data"
    }
   ],
   "source": [
    "plt.plot(dt_X.ravel(),dt_Y.ravel())"
   ]
  },
  {
   "cell_type": "code",
   "execution_count": 11,
   "metadata": {},
   "outputs": [
    {
     "data": {
      "text/plain": [
       "[<matplotlib.lines.Line2D at 0x7f550375a220>]"
      ]
     },
     "execution_count": 11,
     "metadata": {},
     "output_type": "execute_result"
    },
    {
     "data": {
      "text/plain": [
       "[<matplotlib.lines.Line2D at 0x7f550375a670>]"
      ]
     },
     "execution_count": 11,
     "metadata": {},
     "output_type": "execute_result"
    },
    {
     "data": {
      "image/png": "[encoded data removed]",
      "text/plain": [
       "<Figure size 432x288 with 1 Axes>"
      ]
     },
     "metadata": {
      "needs_background": "light"
     },
     "output_type": "display_data"
    }
   ],
   "source": [
    "plt.plot(sorted_ratio,sorted_prediction)\n",
    "plt.plot(sorted_ratio[int(len(sorted_ratio)*0.45):int(len(sorted_ratio)*0.8)],sorted_prediction[int(len(sorted_prediction)*0.45):int(len(sorted_prediction)*0.8)])\n"
   ]
  },
  {
   "cell_type": "code",
   "execution_count": null,
   "metadata": {},
   "outputs": [],
   "source": []
  },
  {
   "cell_type": "code",
   "execution_count": null,
   "metadata": {},
   "outputs": [],
   "source": []
  },
  {
   "cell_type": "code",
   "execution_count": null,
   "metadata": {},
   "outputs": [],
   "source": []
  },
  {
   "cell_type": "code",
   "execution_count": 12,
   "metadata": {},
   "outputs": [
    {
     "data": {
      "text/plain": [
       "[<matplotlib.lines.Line2D at 0x7f5503729e20>]"
      ]
     },
     "execution_count": 12,
     "metadata": {},
     "output_type": "execute_result"
    },
    {
     "data": {
      "text/plain": [
       "[<matplotlib.lines.Line2D at 0x7f5503738280>]"
      ]
     },
     "execution_count": 12,
     "metadata": {},
     "output_type": "execute_result"
    },
    {
     "data": {
      "image/png": "[encoded data removed]",
      "text/plain": [
       "<Figure size 432x288 with 1 Axes>"
      ]
     },
     "metadata": {
      "needs_background": "light"
     },
     "output_type": "display_data"
    }
   ],
   "source": [
    "plt.plot(Y_hat)\n",
    "plt.plot(Y_test_true)"
   ]
  },
  {
   "cell_type": "markdown",
   "metadata": {},
   "source": [
    "# only index at center"
   ]
  },
  {
   "cell_type": "code",
   "execution_count": 13,
   "metadata": {},
   "outputs": [],
   "source": [
    "\n",
    "\n",
    "def compute_MSE_node_central(model,func):\n",
    "    X_test=model.tree_.node_range.mean(axis=1)\n",
    "    X_test=np.array(X_test)\n",
    "    Y_hat=model.predict(X_test)\n",
    "    \n",
    "    Y_true=func(X_test).ravel()\n",
    "\n",
    "   \n",
    "    return MSE(Y_hat,Y_true)\n",
    "    "
   ]
  },
  {
   "cell_type": "code",
   "execution_count": null,
   "metadata": {},
   "outputs": [],
   "source": []
  },
  {
   "cell_type": "code",
   "execution_count": 14,
   "metadata": {},
   "outputs": [
    {
     "data": {
      "text/plain": [
       "0.0008487394025040297"
      ]
     },
     "execution_count": 14,
     "metadata": {},
     "output_type": "execute_result"
    },
    {
     "data": {
      "text/plain": [
       "0.00048705378442812395"
      ]
     },
     "execution_count": 14,
     "metadata": {},
     "output_type": "execute_result"
    }
   ],
   "source": [
    "compute_MSE_node_central(ERT_model,np.sin)\n",
    "compute_MSE_node_central(RT_model,np.sin)"
   ]
  },
  {
   "cell_type": "code",
   "execution_count": 15,
   "metadata": {},
   "outputs": [],
   "source": [
    "## repeat experiment\n",
    "error_RT=0\n",
    "error_ERT=0\n",
    "for seed in range(50):\n",
    "    np.random.seed(seed)\n",
    "    func=np.sin\n",
    "    #X_train,pdf_X_train=density.generate(1000)\n",
    "    X_train= np.arange(0,1,0.001).reshape(-1,1)\n",
    "    Y_train_true = func(X_train).ravel()\n",
    "    Y_train_noise = np.random.normal(scale=0.1,size=X_train.shape[0])\n",
    "    Y_train=Y_train_true+Y_train_noise\n",
    "\n",
    "    X_test= np.arange(0,1,0.005).reshape(-1,1)\n",
    "    Y_test_true = func(X_test).ravel()\n",
    "    min_samples_split=120\n",
    "    max_depth=6\n",
    "    RT_model=RegressionTree(estimator=\"naive_estimator\",\n",
    "                            splitter=\"midpoint\",\n",
    "                            min_samples_split=min_samples_split,\n",
    "                            max_depth=max_depth,\n",
    "                            random_state=1)\n",
    "    RT_model.fit(X_train,Y_train)\n",
    "    ERT_model=RegressionTree(estimator=\"extrapolation_estimator\",\n",
    "                             splitter=\"midpoint\",\n",
    "                             min_samples_split=min_samples_split,\n",
    "                             max_depth=max_depth,\n",
    "                             order=1,\n",
    "                             random_state=1,\n",
    "                             truncate_ratio_low=0.45,\n",
    "                             truncate_ratio_up=0.8)\n",
    "    ERT_model.fit(X_train,Y_train)\n",
    "    \n",
    "    error_RT+=compute_MSE_node_central(ERT_model,func)\n",
    "    error_ERT+=compute_MSE_node_central(RT_model,func)"
   ]
  },
  {
   "cell_type": "code",
   "execution_count": 16,
   "metadata": {},
   "outputs": [
    {
     "data": {
      "text/plain": [
       "0.04297188407679876"
      ]
     },
     "execution_count": 16,
     "metadata": {},
     "output_type": "execute_result"
    },
    {
     "data": {
      "text/plain": [
       "0.02617943566743878"
      ]
     },
     "execution_count": 16,
     "metadata": {},
     "output_type": "execute_result"
    }
   ],
   "source": [
    "error_RT\n",
    "error_ERT"
   ]
  },
  {
   "cell_type": "markdown",
   "metadata": {},
   "source": [
    "# Pointwise Extrapolation Estimator"
   ]
  },
  {
   "cell_type": "code",
   "execution_count": 3,
   "metadata": {},
   "outputs": [
    {
     "data": {
      "text/plain": [
       "0.0005780942929730944"
      ]
     },
     "execution_count": 3,
     "metadata": {},
     "output_type": "execute_result"
    }
   ],
   "source": [
    "ERT_model=RegressionTree(estimator=\"pointwise_extrapolation_estimator\",\n",
    "                         splitter=\"midpoint\",\n",
    "                         min_samples_split=30,\n",
    "                         max_depth=4,\n",
    "                         order=1,\n",
    "                         random_state=1,\n",
    "                         truncate_ratio_low=0.45,\n",
    "                         truncate_ratio_up=0.8)\n",
    "ERT_model.fit(X_train,Y_train)\n",
    "Y_hat=ERT_model.predict(X_test)\n",
    "\n",
    "#np.arange(0.0001,0.04,0.0005).reshape(-1,1)\n",
    "MSE(Y_hat,Y_test_true)"
   ]
  },
  {
   "cell_type": "code",
   "execution_count": 18,
   "metadata": {},
   "outputs": [
    {
     "data": {
      "text/plain": [
       "0.00032587283371684215"
      ]
     },
     "execution_count": 18,
     "metadata": {},
     "output_type": "execute_result"
    }
   ],
   "source": [
    "MSE_sum=0\n",
    "repeat_time=20\n",
    "for seed in range(repeat_time):\n",
    "    np.random.seed(seed)\n",
    "    X_train= np.arange(0,1,0.001).reshape(-1,1)\n",
    "    Y_train_true = np.sin(X_train).ravel()\n",
    "    Y_train_noise = np.random.normal(scale=0.1,size=X_train.shape[0])\n",
    "    Y_train=Y_train_true+Y_train_noise\n",
    "\n",
    "    X_test= np.arange(0,1,0.005).reshape(-1,1)\n",
    "    Y_test_true = np.sin(X_test).ravel()\n",
    "    ERT_model=RegressionTree(estimator=\"pointwise_extrapolation_estimator\",\n",
    "                         splitter=\"midpoint\",\n",
    "                         min_samples_split=30,\n",
    "                         max_depth=3,\n",
    "                         order=1,\n",
    "                         random_state=1,\n",
    "                         truncate_ratio_low=0.3,\n",
    "                         truncate_ratio_up=0.7)\n",
    "    ERT_model.fit(X_train,Y_train)\n",
    "    Y_hat=ERT_model.predict(X_test)\n",
    "    MSE_sum+=MSE(Y_hat,Y_test_true)\n",
    "MSE_sum/repeat_time"
   ]
  },
  {
   "cell_type": "code",
   "execution_count": 19,
   "metadata": {},
   "outputs": [
    {
     "data": {
      "text/plain": [
       "[<matplotlib.lines.Line2D at 0x7f55036acd60>]"
      ]
     },
     "execution_count": 19,
     "metadata": {},
     "output_type": "execute_result"
    },
    {
     "data": {
      "text/plain": [
       "[<matplotlib.lines.Line2D at 0x7f55036b81c0>]"
      ]
     },
     "execution_count": 19,
     "metadata": {},
     "output_type": "execute_result"
    },
    {
     "data": {
      "image/png": "[encoded data removed]",
      "text/plain": [
       "<Figure size 432x288 with 1 Axes>"
      ]
     },
     "metadata": {
      "needs_background": "light"
     },
     "output_type": "display_data"
    }
   ],
   "source": [
    "plt.plot(Y_hat)\n",
    "plt.plot(Y_test_true)"
   ]
  },
  {
   "cell_type": "markdown",
   "metadata": {},
   "source": [
    "## Numba Acceleration"
   ]
  },
  {
   "cell_type": "code",
   "execution_count": 4,
   "metadata": {},
   "outputs": [
    {
     "data": {
      "text/plain": [
       "0.0005857000985224981"
      ]
     },
     "execution_count": 4,
     "metadata": {},
     "output_type": "execute_result"
    }
   ],
   "source": [
    "ERT_model=RegressionTree(estimator=\"pointwise_extrapolation_estimator\",\n",
    "                         splitter=\"midpoint\",\n",
    "                         min_samples_split=30,\n",
    "                         max_depth=4,\n",
    "                         order=1,\n",
    "                         random_state=1,\n",
    "                         truncate_ratio_low=0.45,\n",
    "                         truncate_ratio_up=0.8,\n",
    "                        numba_acc=1)\n",
    "ERT_model.fit(X_train,Y_train)\n",
    "Y_hat=ERT_model.predict(X_test)\n",
    "\n",
    "#np.arange(0.0001,0.04,0.0005).reshape(-1,1)\n",
    "MSE(Y_hat,Y_test_true)"
   ]
  },
  {
   "cell_type": "code",
   "execution_count": null,
   "metadata": {},
   "outputs": [],
   "source": []
  },
  {
   "cell_type": "code",
   "execution_count": 5,
   "metadata": {},
   "outputs": [
    {
     "data": {
      "text/plain": [
       "0.00032789852982466"
      ]
     },
     "execution_count": 5,
     "metadata": {},
     "output_type": "execute_result"
    }
   ],
   "source": [
    "MSE_sum=0\n",
    "repeat_time=20\n",
    "for seed in range(repeat_time):\n",
    "    np.random.seed(seed)\n",
    "    X_train= np.arange(0,1,0.001).reshape(-1,1)\n",
    "    Y_train_true = np.sin(X_train).ravel()\n",
    "    Y_train_noise = np.random.normal(scale=0.1,size=X_train.shape[0])\n",
    "    Y_train=Y_train_true+Y_train_noise\n",
    "\n",
    "    X_test= np.arange(0,1,0.005).reshape(-1,1)\n",
    "    Y_test_true = np.sin(X_test).ravel()\n",
    "    ERT_model=RegressionTree(estimator=\"pointwise_extrapolation_estimator\",\n",
    "                         splitter=\"midpoint\",\n",
    "                         min_samples_split=30,\n",
    "                         max_depth=3,\n",
    "                         order=1,\n",
    "                         random_state=1,\n",
    "                         truncate_ratio_low=0.3,\n",
    "                         truncate_ratio_up=0.7,\n",
    "                            numba_acc=1)\n",
    "    ERT_model.fit(X_train,Y_train)\n",
    "    Y_hat=ERT_model.predict(X_test)\n",
    "    MSE_sum+=MSE(Y_hat,Y_test_true)\n",
    "MSE_sum/repeat_time"
   ]
  },
  {
   "cell_type": "code",
   "execution_count": 6,
   "metadata": {},
   "outputs": [
    {
     "data": {
      "text/plain": [
       "[<matplotlib.lines.Line2D at 0x7efe019ab710>]"
      ]
     },
     "execution_count": 6,
     "metadata": {},
     "output_type": "execute_result"
    },
    {
     "data": {
      "text/plain": [
       "[<matplotlib.lines.Line2D at 0x7efe019ab7d0>]"
      ]
     },
     "execution_count": 6,
     "metadata": {},
     "output_type": "execute_result"
    },
    {
     "data": {
      "image/png": "[encoded data removed]",
      "text/plain": [
       "<Figure size 432x288 with 1 Axes>"
      ]
     },
     "metadata": {
      "needs_background": "light"
     },
     "output_type": "display_data"
    }
   ],
   "source": [
    "plt.plot(Y_hat)\n",
    "plt.plot(Y_test_true)"
   ]
  },
  {
   "cell_type": "code",
   "execution_count": null,
   "metadata": {},
   "outputs": [],
   "source": []
  },
  {
   "cell_type": "code",
   "execution_count": 9,
   "metadata": {},
   "outputs": [
    {
     "data": {
      "text/plain": [
       "0.00012897028906758802"
      ]
     },
     "execution_count": 9,
     "metadata": {},
     "output_type": "execute_result"
    },
    {
     "name": "stdout",
     "output_type": "stream",
     "text": [
      "time used : 6.945038557052612 s\n"
     ]
    },
    {
     "data": {
      "text/plain": [
       "0.0001289702890675881"
      ]
     },
     "execution_count": 9,
     "metadata": {},
     "output_type": "execute_result"
    },
    {
     "name": "stdout",
     "output_type": "stream",
     "text": [
      "time used : 188.4778401851654 s\n"
     ]
    }
   ],
   "source": [
    "time_s=time()\n",
    "MSE_sum=0\n",
    "repeat_time=10\n",
    "for seed in range(repeat_time):\n",
    "    np.random.seed(seed)\n",
    "    X_train= np.arange(0,1,0.0002).reshape(-1,1)\n",
    "    Y_train_true = np.sin(X_train).ravel()\n",
    "    Y_train_noise = np.random.normal(scale=0.1,size=X_train.shape[0])\n",
    "    Y_train=Y_train_true+Y_train_noise\n",
    "\n",
    "    X_test= np.arange(0,1,0.0005).reshape(-1,1)\n",
    "    Y_test_true = np.sin(X_test).ravel()\n",
    "    ERT_model=RegressionTree(estimator=\"pointwise_extrapolation_estimator\",\n",
    "                         splitter=\"midpoint\",\n",
    "                         min_samples_split=30,\n",
    "                         max_depth=3,\n",
    "                         order=1,\n",
    "                         random_state=1,\n",
    "                         truncate_ratio_low=0.3,\n",
    "                         truncate_ratio_up=0.7,\n",
    "                         numba_acc=1)\n",
    "    ERT_model.fit(X_train,Y_train)\n",
    "    Y_hat=ERT_model.predict(X_test)\n",
    "    MSE_sum+=MSE(Y_hat,Y_test_true)\n",
    "MSE_sum/repeat_time\n",
    "time_e=time()\n",
    "print(\"time used : {} s\".format(time_e-time_s))\n",
    "\n",
    "time_s=time()\n",
    "MSE_sum=0\n",
    "\n",
    "for seed in range(repeat_time):\n",
    "    np.random.seed(seed)\n",
    "    X_train= np.arange(0,1,0.0002).reshape(-1,1)\n",
    "    Y_train_true = np.sin(X_train).ravel()\n",
    "    Y_train_noise = np.random.normal(scale=0.1,size=X_train.shape[0])\n",
    "    Y_train=Y_train_true+Y_train_noise\n",
    "\n",
    "    X_test= np.arange(0,1,0.0005).reshape(-1,1)\n",
    "    Y_test_true = np.sin(X_test).ravel()\n",
    "    ERT_model=RegressionTree(estimator=\"pointwise_extrapolation_estimator\",\n",
    "                         splitter=\"midpoint\",\n",
    "                         min_samples_split=30,\n",
    "                         max_depth=3,\n",
    "                         order=1,\n",
    "                         random_state=1,\n",
    "                         truncate_ratio_low=0.3,\n",
    "                         truncate_ratio_up=0.7,\n",
    "                         numba_acc=0)\n",
    "    ERT_model.fit(X_train,Y_train)\n",
    "    Y_hat=ERT_model.predict(X_test)\n",
    "    MSE_sum+=MSE(Y_hat,Y_test_true)\n",
    "MSE_sum/repeat_time\n",
    "time_e=time()\n",
    "print(\"time used : {} s\".format(time_e-time_s))"
   ]
  },
  {
   "cell_type": "code",
   "execution_count": null,
   "metadata": {},
   "outputs": [],
   "source": []
  },
  {
   "cell_type": "markdown",
   "metadata": {},
   "source": [
    "## Parallel Computation"
   ]
  },
  {
   "cell_type": "code",
   "execution_count": null,
   "metadata": {},
   "outputs": [],
   "source": []
  },
  {
   "cell_type": "code",
   "execution_count": 3,
   "metadata": {},
   "outputs": [
    {
     "data": {
      "text/plain": [
       "0.0005857000985224998"
      ]
     },
     "execution_count": 3,
     "metadata": {},
     "output_type": "execute_result"
    }
   ],
   "source": [
    "ERT_model=RegressionTree(estimator=\"pointwise_extrapolation_estimator\",\n",
    "                         splitter=\"midpoint\",\n",
    "                         min_samples_split=30,\n",
    "                         max_depth=4,\n",
    "                         order=1,\n",
    "                         random_state=1,\n",
    "                         truncate_ratio_low=0.45,\n",
    "                         truncate_ratio_up=0.8,\n",
    "                        parallel_jobs=1)\n",
    "ERT_model.fit(X_train,Y_train)\n",
    "Y_hat=ERT_model.predict(X_test)\n",
    "\n",
    "#np.arange(0.0001,0.04,0.0005).reshape(-1,1)\n",
    "MSE(Y_hat,Y_test_true)"
   ]
  },
  {
   "cell_type": "code",
   "execution_count": 5,
   "metadata": {},
   "outputs": [],
   "source": [
    "from time import time"
   ]
  },
  {
   "cell_type": "code",
   "execution_count": 7,
   "metadata": {},
   "outputs": [
    {
     "data": {
      "text/plain": [
       "0.00012188304213675589"
      ]
     },
     "execution_count": 7,
     "metadata": {},
     "output_type": "execute_result"
    },
    {
     "name": "stdout",
     "output_type": "stream",
     "text": [
      "time used : 57.92785716056824 s\n"
     ]
    },
    {
     "data": {
      "text/plain": [
       "0.00012188304213675589"
      ]
     },
     "execution_count": 7,
     "metadata": {},
     "output_type": "execute_result"
    },
    {
     "name": "stdout",
     "output_type": "stream",
     "text": [
      "time used : 409.89631700515747 s\n"
     ]
    }
   ],
   "source": [
    "time_s=time()\n",
    "MSE_sum=0\n",
    "repeat_time=20\n",
    "for seed in range(repeat_time):\n",
    "    np.random.seed(seed)\n",
    "    X_train= np.arange(0,1,0.0002).reshape(-1,1)\n",
    "    Y_train_true = np.sin(X_train).ravel()\n",
    "    Y_train_noise = np.random.normal(scale=0.1,size=X_train.shape[0])\n",
    "    Y_train=Y_train_true+Y_train_noise\n",
    "\n",
    "    X_test= np.arange(0,1,0.0005).reshape(-1,1)\n",
    "    Y_test_true = np.sin(X_test).ravel()\n",
    "    ERT_model=RegressionTree(estimator=\"pointwise_extrapolation_estimator\",\n",
    "                         splitter=\"midpoint\",\n",
    "                         min_samples_split=30,\n",
    "                         max_depth=3,\n",
    "                         order=1,\n",
    "                         random_state=1,\n",
    "                         truncate_ratio_low=0.3,\n",
    "                         truncate_ratio_up=0.7,\n",
    "                         parallel_jobs=8)\n",
    "    ERT_model.fit(X_train,Y_train)\n",
    "    Y_hat=ERT_model.predict(X_test)\n",
    "    MSE_sum+=MSE(Y_hat,Y_test_true)\n",
    "MSE_sum/repeat_time\n",
    "time_e=time()\n",
    "print(\"time used : {} s\".format(time_e-time_s))\n",
    "\n",
    "time_s=time()\n",
    "MSE_sum=0\n",
    "repeat_time=20\n",
    "for seed in range(repeat_time):\n",
    "    np.random.seed(seed)\n",
    "    X_train= np.arange(0,1,0.0002).reshape(-1,1)\n",
    "    Y_train_true = np.sin(X_train).ravel()\n",
    "    Y_train_noise = np.random.normal(scale=0.1,size=X_train.shape[0])\n",
    "    Y_train=Y_train_true+Y_train_noise\n",
    "\n",
    "    X_test= np.arange(0,1,0.0005).reshape(-1,1)\n",
    "    Y_test_true = np.sin(X_test).ravel()\n",
    "    ERT_model=RegressionTree(estimator=\"pointwise_extrapolation_estimator\",\n",
    "                         splitter=\"midpoint\",\n",
    "                         min_samples_split=30,\n",
    "                         max_depth=3,\n",
    "                         order=1,\n",
    "                         random_state=1,\n",
    "                         truncate_ratio_low=0.3,\n",
    "                         truncate_ratio_up=0.7,\n",
    "                         parallel_jobs=0)\n",
    "    ERT_model.fit(X_train,Y_train)\n",
    "    Y_hat=ERT_model.predict(X_test)\n",
    "    MSE_sum+=MSE(Y_hat,Y_test_true)\n",
    "MSE_sum/repeat_time\n",
    "time_e=time()\n",
    "print(\"time used : {} s\".format(time_e-time_s))"
   ]
  },
  {
   "cell_type": "code",
   "execution_count": 8,
   "metadata": {},
   "outputs": [
    {
     "data": {
      "text/plain": [
       "[<matplotlib.lines.Line2D at 0x7f7974fd8040>]"
      ]
     },
     "execution_count": 8,
     "metadata": {},
     "output_type": "execute_result"
    },
    {
     "data": {
      "text/plain": [
       "[<matplotlib.lines.Line2D at 0x7f7974fd8460>]"
      ]
     },
     "execution_count": 8,
     "metadata": {},
     "output_type": "execute_result"
    },
    {
     "data": {
      "image/png": "[encoded data removed]",
      "text/plain": [
       "<Figure size 432x288 with 1 Axes>"
      ]
     },
     "metadata": {
      "needs_background": "light"
     },
     "output_type": "display_data"
    }
   ],
   "source": [
    "plt.plot(Y_hat)\n",
    "plt.plot(Y_test_true)"
   ]
  },
  {
   "cell_type": "code",
   "execution_count": null,
   "metadata": {},
   "outputs": [],
   "source": []
  },
  {
   "cell_type": "code",
   "execution_count": null,
   "metadata": {},
   "outputs": [],
   "source": []
  },
  {
   "cell_type": "markdown",
   "metadata": {},
   "source": [
    "## Illustration of speeding up"
   ]
  },
  {
   "cell_type": "code",
   "execution_count": null,
   "metadata": {},
   "outputs": [],
   "source": []
  },
  {
   "cell_type": "code",
   "execution_count": 11,
   "metadata": {},
   "outputs": [
    {
     "data": {
      "text/plain": [
       "0.00012186564956195663"
      ]
     },
     "execution_count": 11,
     "metadata": {},
     "output_type": "execute_result"
    },
    {
     "name": "stdout",
     "output_type": "stream",
     "text": [
      "time used : 7.78571081161499 s\n"
     ]
    },
    {
     "data": {
      "text/plain": [
       "0.0001289837648677502"
      ]
     },
     "execution_count": 11,
     "metadata": {},
     "output_type": "execute_result"
    },
    {
     "name": "stdout",
     "output_type": "stream",
     "text": [
      "time used : 469.0719516277313 s\n"
     ]
    }
   ],
   "source": [
    "time_s=time()\n",
    "MSE_sum=0\n",
    "repeat_time=20\n",
    "for seed in range(repeat_time):\n",
    "    np.random.seed(seed)\n",
    "    X_train= np.arange(0,1,0.0002).reshape(-1,1)\n",
    "    Y_train_true = np.sin(X_train).ravel()\n",
    "    Y_train_noise = np.random.normal(scale=0.1,size=X_train.shape[0])\n",
    "    Y_train=Y_train_true+Y_train_noise\n",
    "\n",
    "    X_test= np.arange(0,1,0.0002).reshape(-1,1)\n",
    "    Y_test_true = np.sin(X_test).ravel()\n",
    "    ERT_model=RegressionTree(estimator=\"pointwise_extrapolation_estimator\",\n",
    "                         splitter=\"midpoint\",\n",
    "                         min_samples_split=30,\n",
    "                         max_depth=3,\n",
    "                         order=1,\n",
    "                         random_state=1,\n",
    "                         truncate_ratio_low=0.3,\n",
    "                         truncate_ratio_up=0.7,\n",
    "                         parallel_jobs=8,\n",
    "                         numba_acc=1)\n",
    "    ERT_model.fit(X_train,Y_train)\n",
    "    Y_hat=ERT_model.predict(X_test)\n",
    "    MSE_sum+=MSE(Y_hat,Y_test_true)\n",
    "MSE_sum/repeat_time\n",
    "time_e=time()\n",
    "print(\"time used : {} s\".format(time_e-time_s))\n",
    "\n",
    "time_s=time()\n",
    "MSE_sum=0\n",
    "repeat_time=10\n",
    "for seed in range(repeat_time):\n",
    "    np.random.seed(seed)\n",
    "    X_train= np.arange(0,1,0.0002).reshape(-1,1)\n",
    "    Y_train_true = np.sin(X_train).ravel()\n",
    "    Y_train_noise = np.random.normal(scale=0.1,size=X_train.shape[0])\n",
    "    Y_train=Y_train_true+Y_train_noise\n",
    "\n",
    "    X_test= np.arange(0,1,0.0002).reshape(-1,1)\n",
    "    Y_test_true = np.sin(X_test).ravel()\n",
    "    ERT_model=RegressionTree(estimator=\"pointwise_extrapolation_estimator\",\n",
    "                         splitter=\"midpoint\",\n",
    "                         min_samples_split=30,\n",
    "                         max_depth=3,\n",
    "                         order=1,\n",
    "                         random_state=1,\n",
    "                         truncate_ratio_low=0.3,\n",
    "                         truncate_ratio_up=0.7)\n",
    "    ERT_model.fit(X_train,Y_train)\n",
    "    Y_hat=ERT_model.predict(X_test)\n",
    "    MSE_sum+=MSE(Y_hat,Y_test_true)\n",
    "MSE_sum/repeat_time\n",
    "time_e=time()\n",
    "print(\"time used : {} s\".format(time_e-time_s))"
   ]
  },
  {
   "cell_type": "code",
   "execution_count": null,
   "metadata": {},
   "outputs": [],
   "source": []
  },
  {
   "cell_type": "code",
   "execution_count": null,
   "metadata": {},
   "outputs": [],
   "source": []
  },
  {
   "cell_type": "code",
   "execution_count": null,
   "metadata": {},
   "outputs": [],
   "source": []
  },
  {
   "cell_type": "code",
   "execution_count": null,
   "metadata": {},
   "outputs": [],
   "source": []
  },
  {
   "cell_type": "markdown",
   "metadata": {},
   "source": [
    "## Grid Search CV"
   ]
  },
  {
   "cell_type": "code",
   "execution_count": 1,
   "metadata": {},
   "outputs": [
    {
     "name": "stdout",
     "output_type": "stream",
     "text": [
      "[-0.30175238  0.52271606 -0.76605285 -0.79649351 -0.26807948]\n",
      "[-0.43206467  0.89650581 -0.8714098  -0.52312021 -0.42224491]\n",
      "[ 0.2125366   1.39678708 -2.29401044  0.95009155  0.2125366 ]\n",
      "[ 0.30351329  1.02174107 -1.57997358  0.68171167  0.28704152]\n",
      "next round\n",
      "[-0.16029248  0.24598173 -0.07086512  0.60966372  0.34421057]\n",
      "[0.67779025 0.92164654 0.63609335 0.74625199 0.89910354]\n",
      "[-0.11495517  0.91101741 -0.11495517  1.2797496   0.57750478]\n",
      "[-0.13309813  0.89764653 -0.05381201  1.09882079  0.34502823]\n",
      "next round\n",
      "[ 9.03680267  8.18913612  9.91424578 11.16152974  6.63403352]\n"
     ]
    },
    {
     "ename": "KeyboardInterrupt",
     "evalue": "",
     "output_type": "error",
     "traceback": [
      "\u001b[0;31m---------------------------------------------------------------------------\u001b[0m",
      "\u001b[0;31mKeyboardInterrupt\u001b[0m                         Traceback (most recent call last)",
      "\u001b[0;32m<ipython-input-1-8c3ab3d0e197>\u001b[0m in \u001b[0;36m<module>\u001b[0;34m\u001b[0m\n\u001b[1;32m     72\u001b[0m         \u001b[0mparameters\u001b[0m\u001b[0;34m=\u001b[0m\u001b[0;34m{\u001b[0m\u001b[0;34m\"truncate_ratio_low\"\u001b[0m\u001b[0;34m:\u001b[0m\u001b[0;34m[\u001b[0m\u001b[0;36m0.1\u001b[0m\u001b[0;34m,\u001b[0m\u001b[0;36m0.2\u001b[0m\u001b[0;34m,\u001b[0m\u001b[0;36m0.3\u001b[0m \u001b[0;34m]\u001b[0m\u001b[0;34m,\u001b[0m \u001b[0;34m\"truncate_ratio_up\"\u001b[0m\u001b[0;34m:\u001b[0m\u001b[0;34m[\u001b[0m\u001b[0;36m0.7\u001b[0m\u001b[0;34m,\u001b[0m\u001b[0;36m0.8\u001b[0m \u001b[0;34m]\u001b[0m\u001b[0;34m}\u001b[0m\u001b[0;34m\u001b[0m\u001b[0;34m\u001b[0m\u001b[0m\n\u001b[1;32m     73\u001b[0m         \u001b[0mcv_model_RTER\u001b[0m\u001b[0;34m=\u001b[0m\u001b[0mGridSearchCV\u001b[0m\u001b[0;34m(\u001b[0m\u001b[0mestimator\u001b[0m\u001b[0;34m=\u001b[0m\u001b[0mRegressionTree\u001b[0m\u001b[0;34m(\u001b[0m\u001b[0mmin_samples_split\u001b[0m\u001b[0;34m=\u001b[0m\u001b[0;36m30\u001b[0m\u001b[0;34m,\u001b[0m \u001b[0mmax_depth\u001b[0m\u001b[0;34m=\u001b[0m\u001b[0;36m3\u001b[0m\u001b[0;34m,\u001b[0m\u001b[0mparallel_jobs\u001b[0m\u001b[0;34m=\u001b[0m\u001b[0;36m0\u001b[0m\u001b[0;34m)\u001b[0m\u001b[0;34m,\u001b[0m\u001b[0mparam_grid\u001b[0m\u001b[0;34m=\u001b[0m\u001b[0mparameters\u001b[0m\u001b[0;34m,\u001b[0m \u001b[0mcv\u001b[0m\u001b[0;34m=\u001b[0m\u001b[0;36m3\u001b[0m\u001b[0;34m,\u001b[0m \u001b[0mn_jobs\u001b[0m\u001b[0;34m=\u001b[0m\u001b[0;36m18\u001b[0m\u001b[0;34m)\u001b[0m\u001b[0;34m\u001b[0m\u001b[0;34m\u001b[0m\u001b[0m\n\u001b[0;32m---> 74\u001b[0;31m         \u001b[0mcv_model_RTER\u001b[0m\u001b[0;34m.\u001b[0m\u001b[0mfit\u001b[0m\u001b[0;34m(\u001b[0m\u001b[0mX_train\u001b[0m\u001b[0;34m,\u001b[0m \u001b[0mY_train\u001b[0m\u001b[0;34m)\u001b[0m\u001b[0;34m\u001b[0m\u001b[0;34m\u001b[0m\u001b[0m\n\u001b[0m\u001b[1;32m     75\u001b[0m \u001b[0;34m\u001b[0m\u001b[0m\n\u001b[1;32m     76\u001b[0m         \u001b[0mRTER_model\u001b[0m \u001b[0;34m=\u001b[0m \u001b[0mcv_model_RTER\u001b[0m\u001b[0;34m.\u001b[0m\u001b[0mbest_estimator_\u001b[0m\u001b[0;34m\u001b[0m\u001b[0;34m\u001b[0m\u001b[0m\n",
      "\u001b[0;32m~/anaconda3/lib/python3.7/site-packages/sklearn/utils/validation.py\u001b[0m in \u001b[0;36minner_f\u001b[0;34m(*args, **kwargs)\u001b[0m\n\u001b[1;32m     70\u001b[0m                           FutureWarning)\n\u001b[1;32m     71\u001b[0m         \u001b[0mkwargs\u001b[0m\u001b[0;34m.\u001b[0m\u001b[0mupdate\u001b[0m\u001b[0;34m(\u001b[0m\u001b[0;34m{\u001b[0m\u001b[0mk\u001b[0m\u001b[0;34m:\u001b[0m \u001b[0marg\u001b[0m \u001b[0;32mfor\u001b[0m \u001b[0mk\u001b[0m\u001b[0;34m,\u001b[0m \u001b[0marg\u001b[0m \u001b[0;32min\u001b[0m \u001b[0mzip\u001b[0m\u001b[0;34m(\u001b[0m\u001b[0msig\u001b[0m\u001b[0;34m.\u001b[0m\u001b[0mparameters\u001b[0m\u001b[0;34m,\u001b[0m \u001b[0margs\u001b[0m\u001b[0;34m)\u001b[0m\u001b[0;34m}\u001b[0m\u001b[0;34m)\u001b[0m\u001b[0;34m\u001b[0m\u001b[0;34m\u001b[0m\u001b[0m\n\u001b[0;32m---> 72\u001b[0;31m         \u001b[0;32mreturn\u001b[0m \u001b[0mf\u001b[0m\u001b[0;34m(\u001b[0m\u001b[0;34m**\u001b[0m\u001b[0mkwargs\u001b[0m\u001b[0;34m)\u001b[0m\u001b[0;34m\u001b[0m\u001b[0;34m\u001b[0m\u001b[0m\n\u001b[0m\u001b[1;32m     73\u001b[0m     \u001b[0;32mreturn\u001b[0m \u001b[0minner_f\u001b[0m\u001b[0;34m\u001b[0m\u001b[0;34m\u001b[0m\u001b[0m\n\u001b[1;32m     74\u001b[0m \u001b[0;34m\u001b[0m\u001b[0m\n",
      "\u001b[0;32m~/anaconda3/lib/python3.7/site-packages/sklearn/model_selection/_search.py\u001b[0m in \u001b[0;36mfit\u001b[0;34m(self, X, y, groups, **fit_params)\u001b[0m\n\u001b[1;32m    734\u001b[0m                 \u001b[0;32mreturn\u001b[0m \u001b[0mresults\u001b[0m\u001b[0;34m\u001b[0m\u001b[0;34m\u001b[0m\u001b[0m\n\u001b[1;32m    735\u001b[0m \u001b[0;34m\u001b[0m\u001b[0m\n\u001b[0;32m--> 736\u001b[0;31m             \u001b[0mself\u001b[0m\u001b[0;34m.\u001b[0m\u001b[0m_run_search\u001b[0m\u001b[0;34m(\u001b[0m\u001b[0mevaluate_candidates\u001b[0m\u001b[0;34m)\u001b[0m\u001b[0;34m\u001b[0m\u001b[0;34m\u001b[0m\u001b[0m\n\u001b[0m\u001b[1;32m    737\u001b[0m \u001b[0;34m\u001b[0m\u001b[0m\n\u001b[1;32m    738\u001b[0m         \u001b[0;31m# For multi-metric evaluation, store the best_index_, best_params_ and\u001b[0m\u001b[0;34m\u001b[0m\u001b[0;34m\u001b[0m\u001b[0;34m\u001b[0m\u001b[0m\n",
      "\u001b[0;32m~/anaconda3/lib/python3.7/site-packages/sklearn/model_selection/_search.py\u001b[0m in \u001b[0;36m_run_search\u001b[0;34m(self, evaluate_candidates)\u001b[0m\n\u001b[1;32m   1186\u001b[0m     \u001b[0;32mdef\u001b[0m \u001b[0m_run_search\u001b[0m\u001b[0;34m(\u001b[0m\u001b[0mself\u001b[0m\u001b[0;34m,\u001b[0m \u001b[0mevaluate_candidates\u001b[0m\u001b[0;34m)\u001b[0m\u001b[0;34m:\u001b[0m\u001b[0;34m\u001b[0m\u001b[0;34m\u001b[0m\u001b[0m\n\u001b[1;32m   1187\u001b[0m         \u001b[0;34m\"\"\"Search all candidates in param_grid\"\"\"\u001b[0m\u001b[0;34m\u001b[0m\u001b[0;34m\u001b[0m\u001b[0m\n\u001b[0;32m-> 1188\u001b[0;31m         \u001b[0mevaluate_candidates\u001b[0m\u001b[0;34m(\u001b[0m\u001b[0mParameterGrid\u001b[0m\u001b[0;34m(\u001b[0m\u001b[0mself\u001b[0m\u001b[0;34m.\u001b[0m\u001b[0mparam_grid\u001b[0m\u001b[0;34m)\u001b[0m\u001b[0;34m)\u001b[0m\u001b[0;34m\u001b[0m\u001b[0;34m\u001b[0m\u001b[0m\n\u001b[0m\u001b[1;32m   1189\u001b[0m \u001b[0;34m\u001b[0m\u001b[0m\n\u001b[1;32m   1190\u001b[0m \u001b[0;34m\u001b[0m\u001b[0m\n",
      "\u001b[0;32m~/anaconda3/lib/python3.7/site-packages/sklearn/model_selection/_search.py\u001b[0m in \u001b[0;36mevaluate_candidates\u001b[0;34m(candidate_params)\u001b[0m\n\u001b[1;32m    713\u001b[0m                                \u001b[0;32mfor\u001b[0m \u001b[0mparameters\u001b[0m\u001b[0;34m,\u001b[0m \u001b[0;34m(\u001b[0m\u001b[0mtrain\u001b[0m\u001b[0;34m,\u001b[0m \u001b[0mtest\u001b[0m\u001b[0;34m)\u001b[0m\u001b[0;34m\u001b[0m\u001b[0;34m\u001b[0m\u001b[0m\n\u001b[1;32m    714\u001b[0m                                in product(candidate_params,\n\u001b[0;32m--> 715\u001b[0;31m                                           cv.split(X, y, groups)))\n\u001b[0m\u001b[1;32m    716\u001b[0m \u001b[0;34m\u001b[0m\u001b[0m\n\u001b[1;32m    717\u001b[0m                 \u001b[0;32mif\u001b[0m \u001b[0mlen\u001b[0m\u001b[0;34m(\u001b[0m\u001b[0mout\u001b[0m\u001b[0;34m)\u001b[0m \u001b[0;34m<\u001b[0m \u001b[0;36m1\u001b[0m\u001b[0;34m:\u001b[0m\u001b[0;34m\u001b[0m\u001b[0;34m\u001b[0m\u001b[0m\n",
      "\u001b[0;32m~/anaconda3/lib/python3.7/site-packages/joblib/parallel.py\u001b[0m in \u001b[0;36m__call__\u001b[0;34m(self, iterable)\u001b[0m\n\u001b[1;32m   1059\u001b[0m \u001b[0;34m\u001b[0m\u001b[0m\n\u001b[1;32m   1060\u001b[0m             \u001b[0;32mwith\u001b[0m \u001b[0mself\u001b[0m\u001b[0;34m.\u001b[0m\u001b[0m_backend\u001b[0m\u001b[0;34m.\u001b[0m\u001b[0mretrieval_context\u001b[0m\u001b[0;34m(\u001b[0m\u001b[0;34m)\u001b[0m\u001b[0;34m:\u001b[0m\u001b[0;34m\u001b[0m\u001b[0;34m\u001b[0m\u001b[0m\n\u001b[0;32m-> 1061\u001b[0;31m                 \u001b[0mself\u001b[0m\u001b[0;34m.\u001b[0m\u001b[0mretrieve\u001b[0m\u001b[0;34m(\u001b[0m\u001b[0;34m)\u001b[0m\u001b[0;34m\u001b[0m\u001b[0;34m\u001b[0m\u001b[0m\n\u001b[0m\u001b[1;32m   1062\u001b[0m             \u001b[0;31m# Make sure that we get a last message telling us we are done\u001b[0m\u001b[0;34m\u001b[0m\u001b[0;34m\u001b[0m\u001b[0;34m\u001b[0m\u001b[0m\n\u001b[1;32m   1063\u001b[0m             \u001b[0melapsed_time\u001b[0m \u001b[0;34m=\u001b[0m \u001b[0mtime\u001b[0m\u001b[0;34m.\u001b[0m\u001b[0mtime\u001b[0m\u001b[0;34m(\u001b[0m\u001b[0;34m)\u001b[0m \u001b[0;34m-\u001b[0m \u001b[0mself\u001b[0m\u001b[0;34m.\u001b[0m\u001b[0m_start_time\u001b[0m\u001b[0;34m\u001b[0m\u001b[0;34m\u001b[0m\u001b[0m\n",
      "\u001b[0;32m~/anaconda3/lib/python3.7/site-packages/joblib/parallel.py\u001b[0m in \u001b[0;36mretrieve\u001b[0;34m(self)\u001b[0m\n\u001b[1;32m    938\u001b[0m             \u001b[0;32mtry\u001b[0m\u001b[0;34m:\u001b[0m\u001b[0;34m\u001b[0m\u001b[0;34m\u001b[0m\u001b[0m\n\u001b[1;32m    939\u001b[0m                 \u001b[0;32mif\u001b[0m \u001b[0mgetattr\u001b[0m\u001b[0;34m(\u001b[0m\u001b[0mself\u001b[0m\u001b[0;34m.\u001b[0m\u001b[0m_backend\u001b[0m\u001b[0;34m,\u001b[0m \u001b[0;34m'supports_timeout'\u001b[0m\u001b[0;34m,\u001b[0m \u001b[0;32mFalse\u001b[0m\u001b[0;34m)\u001b[0m\u001b[0;34m:\u001b[0m\u001b[0;34m\u001b[0m\u001b[0;34m\u001b[0m\u001b[0m\n\u001b[0;32m--> 940\u001b[0;31m                     \u001b[0mself\u001b[0m\u001b[0;34m.\u001b[0m\u001b[0m_output\u001b[0m\u001b[0;34m.\u001b[0m\u001b[0mextend\u001b[0m\u001b[0;34m(\u001b[0m\u001b[0mjob\u001b[0m\u001b[0;34m.\u001b[0m\u001b[0mget\u001b[0m\u001b[0;34m(\u001b[0m\u001b[0mtimeout\u001b[0m\u001b[0;34m=\u001b[0m\u001b[0mself\u001b[0m\u001b[0;34m.\u001b[0m\u001b[0mtimeout\u001b[0m\u001b[0;34m)\u001b[0m\u001b[0;34m)\u001b[0m\u001b[0;34m\u001b[0m\u001b[0;34m\u001b[0m\u001b[0m\n\u001b[0m\u001b[1;32m    941\u001b[0m                 \u001b[0;32melse\u001b[0m\u001b[0;34m:\u001b[0m\u001b[0;34m\u001b[0m\u001b[0;34m\u001b[0m\u001b[0m\n\u001b[1;32m    942\u001b[0m                     \u001b[0mself\u001b[0m\u001b[0;34m.\u001b[0m\u001b[0m_output\u001b[0m\u001b[0;34m.\u001b[0m\u001b[0mextend\u001b[0m\u001b[0;34m(\u001b[0m\u001b[0mjob\u001b[0m\u001b[0;34m.\u001b[0m\u001b[0mget\u001b[0m\u001b[0;34m(\u001b[0m\u001b[0;34m)\u001b[0m\u001b[0;34m)\u001b[0m\u001b[0;34m\u001b[0m\u001b[0;34m\u001b[0m\u001b[0m\n",
      "\u001b[0;32m~/anaconda3/lib/python3.7/site-packages/joblib/_parallel_backends.py\u001b[0m in \u001b[0;36mwrap_future_result\u001b[0;34m(future, timeout)\u001b[0m\n\u001b[1;32m    540\u001b[0m         AsyncResults.get from multiprocessing.\"\"\"\n\u001b[1;32m    541\u001b[0m         \u001b[0;32mtry\u001b[0m\u001b[0;34m:\u001b[0m\u001b[0;34m\u001b[0m\u001b[0;34m\u001b[0m\u001b[0m\n\u001b[0;32m--> 542\u001b[0;31m             \u001b[0;32mreturn\u001b[0m \u001b[0mfuture\u001b[0m\u001b[0;34m.\u001b[0m\u001b[0mresult\u001b[0m\u001b[0;34m(\u001b[0m\u001b[0mtimeout\u001b[0m\u001b[0;34m=\u001b[0m\u001b[0mtimeout\u001b[0m\u001b[0;34m)\u001b[0m\u001b[0;34m\u001b[0m\u001b[0;34m\u001b[0m\u001b[0m\n\u001b[0m\u001b[1;32m    543\u001b[0m         \u001b[0;32mexcept\u001b[0m \u001b[0mCfTimeoutError\u001b[0m \u001b[0;32mas\u001b[0m \u001b[0me\u001b[0m\u001b[0;34m:\u001b[0m\u001b[0;34m\u001b[0m\u001b[0;34m\u001b[0m\u001b[0m\n\u001b[1;32m    544\u001b[0m             \u001b[0;32mraise\u001b[0m \u001b[0mTimeoutError\u001b[0m \u001b[0;32mfrom\u001b[0m \u001b[0me\u001b[0m\u001b[0;34m\u001b[0m\u001b[0;34m\u001b[0m\u001b[0m\n",
      "\u001b[0;32m~/anaconda3/lib/python3.7/concurrent/futures/_base.py\u001b[0m in \u001b[0;36mresult\u001b[0;34m(self, timeout)\u001b[0m\n\u001b[1;32m    428\u001b[0m                 \u001b[0;32mreturn\u001b[0m \u001b[0mself\u001b[0m\u001b[0;34m.\u001b[0m\u001b[0m__get_result\u001b[0m\u001b[0;34m(\u001b[0m\u001b[0;34m)\u001b[0m\u001b[0;34m\u001b[0m\u001b[0;34m\u001b[0m\u001b[0m\n\u001b[1;32m    429\u001b[0m \u001b[0;34m\u001b[0m\u001b[0m\n\u001b[0;32m--> 430\u001b[0;31m             \u001b[0mself\u001b[0m\u001b[0;34m.\u001b[0m\u001b[0m_condition\u001b[0m\u001b[0;34m.\u001b[0m\u001b[0mwait\u001b[0m\u001b[0;34m(\u001b[0m\u001b[0mtimeout\u001b[0m\u001b[0;34m)\u001b[0m\u001b[0;34m\u001b[0m\u001b[0;34m\u001b[0m\u001b[0m\n\u001b[0m\u001b[1;32m    431\u001b[0m \u001b[0;34m\u001b[0m\u001b[0m\n\u001b[1;32m    432\u001b[0m             \u001b[0;32mif\u001b[0m \u001b[0mself\u001b[0m\u001b[0;34m.\u001b[0m\u001b[0m_state\u001b[0m \u001b[0;32min\u001b[0m \u001b[0;34m[\u001b[0m\u001b[0mCANCELLED\u001b[0m\u001b[0;34m,\u001b[0m \u001b[0mCANCELLED_AND_NOTIFIED\u001b[0m\u001b[0;34m]\u001b[0m\u001b[0;34m:\u001b[0m\u001b[0;34m\u001b[0m\u001b[0;34m\u001b[0m\u001b[0m\n",
      "\u001b[0;32m~/anaconda3/lib/python3.7/threading.py\u001b[0m in \u001b[0;36mwait\u001b[0;34m(self, timeout)\u001b[0m\n\u001b[1;32m    294\u001b[0m         \u001b[0;32mtry\u001b[0m\u001b[0;34m:\u001b[0m    \u001b[0;31m# restore state no matter what (e.g., KeyboardInterrupt)\u001b[0m\u001b[0;34m\u001b[0m\u001b[0;34m\u001b[0m\u001b[0m\n\u001b[1;32m    295\u001b[0m             \u001b[0;32mif\u001b[0m \u001b[0mtimeout\u001b[0m \u001b[0;32mis\u001b[0m \u001b[0;32mNone\u001b[0m\u001b[0;34m:\u001b[0m\u001b[0;34m\u001b[0m\u001b[0;34m\u001b[0m\u001b[0m\n\u001b[0;32m--> 296\u001b[0;31m                 \u001b[0mwaiter\u001b[0m\u001b[0;34m.\u001b[0m\u001b[0macquire\u001b[0m\u001b[0;34m(\u001b[0m\u001b[0;34m)\u001b[0m\u001b[0;34m\u001b[0m\u001b[0;34m\u001b[0m\u001b[0m\n\u001b[0m\u001b[1;32m    297\u001b[0m                 \u001b[0mgotit\u001b[0m \u001b[0;34m=\u001b[0m \u001b[0;32mTrue\u001b[0m\u001b[0;34m\u001b[0m\u001b[0;34m\u001b[0m\u001b[0m\n\u001b[1;32m    298\u001b[0m             \u001b[0;32melse\u001b[0m\u001b[0;34m:\u001b[0m\u001b[0;34m\u001b[0m\u001b[0;34m\u001b[0m\u001b[0m\n",
      "\u001b[0;31mKeyboardInterrupt\u001b[0m: "
     ]
    }
   ],
   "source": [
    "from distribution import TestDistribution\n",
    "\n",
    "from RTER import RegressionTree\n",
    "\n",
    "import numpy as np\n",
    "\n",
    "from sklearn.metrics import mean_squared_error as MSE\n",
    "from sklearn.model_selection import GridSearchCV\n",
    "from sklearn.ensemble import GradientBoostingRegressor, RandomForestRegressor\n",
    "\n",
    "from time import time\n",
    "import os\n",
    "\n",
    "\n",
    "\n",
    "distribution_index_vec=[1,2,3,4]\n",
    "repeat_time=2\n",
    "\n",
    "\n",
    "log_file_dir = \"./results/accuracy/\"\n",
    "\n",
    "\n",
    "for distribution_iter,distribution_index in enumerate(distribution_index_vec):\n",
    "\n",
    "    for iterate in range(repeat_time):\n",
    "\n",
    "\n",
    "        \n",
    "        np.random.seed(iterate)\n",
    "        # generate distribution\n",
    "\n",
    "\n",
    "        sample_generator=TestDistribution(distribution_index).returnDistribution()\n",
    "        n_test, n_train = 2000,100\n",
    "        X_train, Y_train = sample_generator.generate(n_train)\n",
    "        X_test, Y_test = sample_generator.generate_true(n_test)\n",
    "        \n",
    "        print(Y_test[:5])\n",
    "\n",
    "        '''\n",
    "        # RTER\n",
    "        time_start=time()\n",
    "        #parameters={\"C\":[i for i in np.logspace(-1.5,1.5,15)]}\n",
    "        #cv_model_AWNN=GridSearchCV(estimator=AWNN(),param_grid=parameters,n_jobs=-1,cv=10)\n",
    "        #cv_model_AWNN.fit(X_train)\n",
    "        RTER_model=RegressionTree(estimator=\"pointwise_extrapolation_estimator\",\n",
    "                         splitter=\"midpoint\",\n",
    "                         min_samples_split=30,\n",
    "                         max_depth=3,\n",
    "                         random_state=iterate,\n",
    "                         truncate_ratio_low=0.3,\n",
    "                         truncate_ratio_up=0.7)\n",
    "        RTER_model.fit(X_train,Y_train)\n",
    "        Y_hat=RTER_model.predict(X_test)\n",
    "        \n",
    "        time_end=time()\n",
    "        \n",
    "        log_file_name = \"{}.csv\".format(\"RTER\")\n",
    "        log_file_path = os.path.join(log_file_dir, log_file_name)\n",
    "        \n",
    "        with open(log_file_path, \"a\") as f:\n",
    "            logs= \"{},{},{},{},{},{}\\n\".format(distribution_index,\n",
    "                                          MSE(Y_hat,Y_test), time_end-time_start,\n",
    "                                          iterate,n_train,n_test)\n",
    "            f.writelines(logs)\n",
    "\n",
    "            '''\n",
    "        \n",
    "        \n",
    "        # RTER with cv\n",
    "        time_start=time()\n",
    "        parameters={\"truncate_ratio_low\":[0.1,0.2,0.3 ], \"truncate_ratio_up\":[0.7,0.8 ]}\n",
    "        cv_model_RTER=GridSearchCV(estimator=RegressionTree(min_samples_split=30, max_depth=3,parallel_jobs=0),param_grid=parameters, cv=3, n_jobs=18)\n",
    "        cv_model_RTER.fit(X_train, Y_train)\n",
    "        \n",
    "        RTER_model = cv_model_RTER.best_estimator_\n",
    "        mse_score=RTER_model.score(X_test, Y_test)\n",
    "        \n",
    "        time_end=time()\n",
    "        \n",
    "            \n",
    "            \n",
    "    \n",
    "\n",
    "        print(RTER_model.predict(X_test)[:5])\n",
    "            \n",
    "        \n",
    "        # GBRT\n",
    "        time_start=time()\n",
    "        \n",
    "        model_GBRT = GradientBoostingRegressor(n_estimators = 3000)\n",
    "        model_GBRT.fit(X_train, Y_train)\n",
    "        \n",
    "        y_hat=model_GBRT.predict(X_test)\n",
    "        mse_score = MSE(y_hat, Y_test)\n",
    "        \n",
    "        time_end=time()\n",
    "        \n",
    "        log_file_name = \"{}.csv\".format(\"GBRT\")\n",
    "        log_file_path = os.path.join(log_file_dir, log_file_name)\n",
    "        \n",
    "        with open(log_file_path, \"a\") as f:\n",
    "            logs= \"{},{},{},{},{},{}\\n\".format(distribution_index,\n",
    "                                          mse_score, time_end-time_start,\n",
    "                                          iterate,n_train,n_test)\n",
    "            f.writelines(logs)\n",
    "            \n",
    "            \n",
    "\n",
    "        print(y_hat[:5])\n",
    "            \n",
    "            \n",
    "            \n",
    "        # GBRT\n",
    "        time_start=time()\n",
    "        \n",
    "        model_RFR = RandomForestRegressor(n_estimators = 200)\n",
    "        model_RFR.fit(X_train, Y_train.ravel())\n",
    "        \n",
    "        y_hat=model_RFR.predict(X_test)\n",
    "        mse_score = MSE(y_hat, Y_test)\n",
    "        \n",
    "        time_end=time()\n",
    "        \n",
    "        log_file_name = \"{}.csv\".format(\"RFR\")\n",
    "        log_file_path = os.path.join(log_file_dir, log_file_name)\n",
    "        \n",
    "        with open(log_file_path, \"a\") as f:\n",
    "            logs= \"{},{},{},{},{},{}\\n\".format(distribution_index,\n",
    "                                          mse_score, time_end-time_start,\n",
    "                                          iterate,n_train,n_test)\n",
    "            f.writelines(logs)\n",
    "            \n",
    "\n",
    "        print(y_hat[:5])\n",
    "        \n",
    "        \n",
    "        \n",
    "        print(\"next round\")"
   ]
  },
  {
   "cell_type": "code",
   "execution_count": null,
   "metadata": {},
   "outputs": [],
   "source": []
  },
  {
   "cell_type": "code",
   "execution_count": null,
   "metadata": {},
   "outputs": [],
   "source": []
  },
  {
   "cell_type": "markdown",
   "metadata": {},
   "source": [
    "## Test Distribution Visualization"
   ]
  },
  {
   "cell_type": "code",
   "execution_count": 1,
   "metadata": {},
   "outputs": [],
   "source": [
    "from RTER import RegressionTree\n",
    "from distribution import TestDistribution\n",
    "import numpy as np\n",
    "\n",
    "\n",
    "from sklearn.metrics import mean_squared_error as MSE\n",
    "import matplotlib.pyplot as plt\n",
    "\n",
    "from IPython.core.interactiveshell import InteractiveShell\n",
    "InteractiveShell.ast_node_interactivity = \"all\"\n",
    "\n",
    "from time import time\n"
   ]
  },
  {
   "cell_type": "code",
   "execution_count": 2,
   "metadata": {},
   "outputs": [],
   "source": [
    "generator=TestDistribution(3).returnDistribution()\n",
    "np.random.seed(2)\n",
    "X_train,Y_train=generator.generate(1000)\n",
    "X_test,Y_test=generator.generate(1000)\n",
    "\n",
    "truncate_ratio_low, truncate_ratio_up =0.2, 0.7"
   ]
  },
  {
   "cell_type": "code",
   "execution_count": 3,
   "metadata": {},
   "outputs": [
    {
     "name": "stdout",
     "output_type": "stream",
     "text": [
      "[[4.35994902e+01 1.68017529e+02 5.49662478e-01 5.35322393e+00]\n",
      " [4.20367802e+01 6.65307979e+02 2.04648634e-01 7.19270966e+00]\n",
      " [2.99654674e+01 5.61560262e+02 6.21133833e-01 6.29142094e+00]\n",
      " ...\n",
      " [8.64040091e+01 1.43951119e+03 4.73289845e-01 3.44454706e+00]\n",
      " [2.79093770e+01 5.87680340e+02 7.43496709e-02 8.18451221e+00]\n",
      " [8.03829610e+01 1.67879626e+03 7.11194271e-01 1.75588054e+00]]\n",
      "[  685.4039652    745.77774197   897.45193871   753.43847163\n",
      "   116.89985505   238.66594103   239.14960953   914.55192808\n",
      "   264.46618499   446.58903476   157.48309219   229.95096329\n",
      "   238.84325925   237.68935397   741.64104794   106.73375598\n",
      "  1076.78274735  1181.88887482   186.83393166   671.36961102\n",
      "   502.90682115   204.7222122    108.20212515    98.62176802\n",
      "   128.81374332  1018.40615187   125.85608387   254.79625757\n",
      "   208.14135842   258.62144758   280.1811237    961.87956517\n",
      "   331.5452611    545.60443557   649.63818694   555.32310924\n",
      "   285.6392981    235.97011041   745.65645306   324.79002676\n",
      "  1038.91352028   236.00769042  1209.00154831   167.59030912\n",
      "   123.88077143   374.33450831   349.41587784   344.27302316\n",
      "   674.90579186   753.0724812    756.26325538   109.63632355\n",
      "   107.78629741   268.6246593    106.56761304   170.58874788\n",
      "   731.04147248   108.71094202   756.88658354   127.44294946\n",
      "   979.76831694   126.14377419   317.34256305   311.19295628\n",
      "   112.62179692   756.8297677    193.73584251   232.10083346\n",
      "   727.99750848   669.40879707   928.72444764   364.00799968\n",
      "   730.47197279   716.3038005    234.64806896   101.24997197\n",
      "    99.43514936   132.72229113   670.60224892   228.67779098\n",
      "   742.72353349   109.39225533   663.97736491   672.1543702\n",
      "   536.02866406   107.07768675   100.5214585    115.8424462\n",
      "   431.59781062   172.57905631   457.84952511   276.4184467\n",
      "   542.87925875   101.40234147   311.34235399   173.54500855\n",
      "   105.18081501   219.72588531   727.70187666   361.85455186\n",
      "   236.02722607   745.65675168   235.97431448   123.43296138\n",
      "   109.20912227   829.67082111   828.51493193   312.97912948\n",
      "   259.7791811    612.52531892   694.64218131   753.64334508\n",
      "   826.52979273   235.50992474   111.28622709   295.37318255\n",
      "   119.62477235   857.87692189   714.76876943   745.9976983\n",
      "   801.38052681   783.00488311   676.91996317   311.97571807\n",
      "   904.93107068   238.64196155   236.04139586   237.95416122\n",
      "   108.81797993   672.93074803   136.03023585   352.94205875\n",
      "  1020.40254766   794.07760494   239.04087322   117.23946602\n",
      "   671.54928723   251.88721036   671.34308838   236.05125612\n",
      "   142.01529597   757.5107442    318.79517265   226.03056025\n",
      "   754.76932641   747.64007264   230.64184379   151.82993923\n",
      "   128.83889528   238.6944128    669.17724476   746.04102578\n",
      "   130.98475193   235.2226596    243.79587544   525.20795254\n",
      "   238.76579703   745.66640958   159.59441728   235.9802053\n",
      "   189.59075099   668.94300366   423.71566086   721.84863287\n",
      "   948.23293381   125.08798238   686.94948283   177.76672666\n",
      "    92.06742712   236.34544986   167.46328795   226.79015803\n",
      "  1240.82366991   140.34480025   933.07446022   231.39470474\n",
      "   289.80350496   755.95379893   727.79868355   672.12539576\n",
      "   364.49061654   455.14684581   178.36032949   827.89160843\n",
      "   238.97755189   744.02532327   920.21307914   121.07766652\n",
      "   734.89827547   688.72908365   389.58335311   235.94491939\n",
      "   219.95775481   285.68324472   217.39578326   158.8097325\n",
      "   106.87147643  1055.07348568   323.59194198   745.96310682\n",
      "   238.84146468   109.72364424  1087.6974288    696.09619253\n",
      "  1114.40242772   181.38355393   307.67572374   236.05439317\n",
      "   227.46922272   101.55170083   228.66000436   214.11326943\n",
      "   178.15708834   203.41238422   519.82751421   250.54322348\n",
      "   670.87123221   301.45621764   745.96022351   231.59412283\n",
      "   756.51409411   125.61695156   327.08870471   145.56640771\n",
      "   790.69009689   352.39001925    76.45490066   606.89956578\n",
      "   464.70427948   139.15027692   123.39971927   421.88295901\n",
      "   112.61768126   147.282756     596.43158887   319.09635594\n",
      "   322.11372143   236.06570332   224.93127592   718.37076779\n",
      "   123.51761087  1118.52633592   279.5001352    287.93537724\n",
      "   238.76226448   763.96138864   145.37997608   555.52125563\n",
      "   390.13569688   284.27363478   380.57698592    98.69056205\n",
      "   672.47733216   225.00039573   421.01160204   105.65831485\n",
      "   236.80787432   235.11194117   233.62251816   169.04942752\n",
      "   726.60104562   221.85007848   688.21366585   234.86945766\n",
      "  1053.71332605   753.20965518   800.7179975    292.99062918\n",
      "   918.27238579   330.7313499    232.25020996   751.39616077\n",
      "   737.53268998   678.76477316   238.72858414   105.81946001\n",
      "   275.38009367   726.16447375   670.83854571   743.86175655\n",
      "   102.35811846   966.82531144   248.09607841   253.14714218\n",
      "   235.95937963   952.67954316   662.52685776   312.85241824\n",
      "   321.8590303    296.26578015   244.25857201   670.16732685\n",
      "   319.45535178   728.64640602   122.12571307   244.68274355\n",
      "   236.04064516   952.88548093   153.86865852   219.58157775\n",
      "   895.3831281    833.33748579   238.99226931  1040.73481434\n",
      "   166.9758725    519.5666608   1002.80719682   114.57776942\n",
      "   260.10670713   896.65129715   462.95662595   432.69486575\n",
      "   748.19713451   670.64159157    94.87368812   538.23038867\n",
      "   224.22716222   726.42717873   273.94005081   670.19089478\n",
      "   238.81262699   108.59412716   228.31859086   146.51012367\n",
      "  1232.17356091   238.35853505   278.44191287   236.17824896\n",
      "   170.32140842   491.39740368   203.6669366    238.88760761\n",
      "   883.11678495   135.98517143   390.50520651   112.32414945\n",
      "   698.1358977    438.91265862   745.9673361    698.53263056\n",
      "   416.98168796   352.1691796    265.94227189   202.56357569\n",
      "   236.07183581   310.81013625   144.51285965   586.00330331\n",
      "   898.40791449   236.99689801   145.91148534   185.01587269\n",
      "   745.66476537   -89.92053092   268.77431412   915.85676667\n",
      "   739.08107862   744.85309077   799.30412351   125.76721729\n",
      "   739.21652084   238.94826956   922.20350828   125.33693078\n",
      "   245.68517348   673.05444511   238.72405195   420.40315044\n",
      "   984.00118521   236.68756867   236.02728896   222.49125798\n",
      "   745.05061795   161.81542535   249.7357891    289.35669549\n",
      "   257.42150231   124.61765385   164.73700588   179.48464948\n",
      "   190.54013223   236.47581065  1098.85787742  1011.56155766\n",
      "   522.77231398   190.11131749   217.29279178   324.13233872\n",
      "   682.58814966   718.49208057   748.4690847    926.85357487\n",
      "   762.82807113   538.56875679   255.99083844   234.4286487\n",
      "   238.9328536    556.15842255   256.36025752   324.20271708\n",
      "   104.50353873   745.99350267   119.04061879   198.64495188\n",
      "   268.37081689   747.62024075   235.97211168   238.82052658\n",
      "   238.80675868   836.49074624   681.31085581   743.134222\n",
      "   676.4121189    108.81664867   216.06051      745.87358544\n",
      "    99.41286481   162.23808094   278.98604622   223.30976582\n",
      "  1093.15404846   276.64593026   108.77082618  1031.00647261\n",
      "   720.49517525   266.43627246   745.66188307   669.46515509\n",
      "   675.60456454   756.27257415   719.76985745   235.91637029\n",
      "   379.91278058   196.01006101   127.66816047   834.80312129\n",
      "   300.9652365    249.26056881   704.37294181   727.73037154\n",
      "   812.33972062   127.04928333 -2344.38735507   745.53492299\n",
      "   110.63323641   672.65708947   683.69041958   268.16978396\n",
      "    94.83461251   177.38535226   471.30240627   260.79338349\n",
      "   104.97450303   130.0997351    693.84883468   801.87949312\n",
      "   565.05096074   392.97372603   524.03180407   249.89384123\n",
      "   229.89815656   730.20787788   352.58162866   642.52315105\n",
      "   195.09909627   239.00342695   753.63082327   209.8344284\n",
      "   128.66950589   813.11492334   481.59201665   101.85143557\n",
      "   123.66582175   237.0010991    750.24935383   745.66305462\n",
      "   925.75239854   239.04088248   213.90950559   617.07165373\n",
      "   799.63192326   209.10414164   111.32636034   402.65855848\n",
      "   227.17081316   754.11630486   216.96106091   106.38813969\n",
      "   238.9640721    325.29759537   227.19871931   338.0333382\n",
      "   212.37344277   806.94449607   287.40429094   966.5595704\n",
      " 36675.24822732   230.16021726   742.67106232   535.87472674\n",
      "   227.61849968   130.14550924   238.88928211   289.47643641\n",
      "   674.98993568   116.79779093   238.93906877   721.86716375\n",
      "   746.68086759   492.35541464   236.57645397   586.81537863\n",
      "   203.80869427   668.9785298     96.62508249   235.91642034\n",
      "   161.72579601   892.58734702   902.96068954   185.89177833\n",
      "   235.99712885   102.58293722   523.46995348   820.15032579\n",
      "   473.35807152   249.49773731   748.3208482    748.01836018\n",
      "   741.03295871   942.52479197   102.52864367   247.67491619\n",
      "   227.65257046   203.98085588   217.9916099    234.94973993\n",
      "   729.00849712   366.03733291   680.65449121   235.97730144\n",
      "   192.52987858   102.78306486   454.28428656   140.82308051\n",
      "   754.32018577   236.05937851   772.00253088   248.81233047\n",
      "   576.55491634    99.55266968  1004.08143326   260.03076673\n",
      "   236.01151972   666.3667655    814.45082045   745.7407605\n",
      "   127.2287443   1235.71601158   670.08580072   148.6451527\n",
      "   671.00209285   242.05299676   325.54873281   229.66798935\n",
      "   117.2137952    505.24617191  1106.39124508   740.27872781\n",
      "   747.48972248   745.87976223   191.22463416   124.41931148\n",
      "   172.20778367   670.1578343    965.44594739   236.06641275\n",
      "   670.80235033   120.43020854   759.01759016   726.07410684\n",
      "   291.73196392   241.88269735   258.71575033   670.18047388\n",
      "   671.23319153   240.13115792   672.36829158   238.6523387\n",
      "   310.28278228   745.65954796   101.98415697   241.71677293\n",
      "   255.59274988   167.0463089    737.4967549    745.93087766\n",
      "   685.11843913   745.92289014   123.09742723   360.02184501\n",
      "   133.39938485   304.5206344    831.42628288   342.60647081\n",
      "    98.75074451   220.98592915   850.59185399   673.77176443\n",
      "   563.6919859    108.61870448   727.96493095   745.9649864\n",
      "   192.51529635   229.77343173   487.60315825   313.16739587\n",
      "   441.35697864   669.54390568   236.00210668   236.03534326\n",
      "   830.63992284   670.03271592   707.30405      203.22859067\n",
      "   438.13020454   746.6074054    331.6240383    244.7193385\n",
      "   213.99534464   236.25277784   158.14374695   236.07207632\n",
      "   109.3066918    636.85321338   554.39435487   190.08219471\n",
      "    91.00501142   110.38885286   156.46543953   122.5534312\n",
      "   879.70805067   581.52426213   238.86052656   236.72814235\n",
      "   745.89802919   239.4499513    234.61358227   224.74804077\n",
      "   549.06245635   220.52405331   510.80854374   668.96038962\n",
      "   446.56740288   260.80488209   380.57350659   729.1666903\n",
      "   745.76982073   107.27278339   707.0016038    456.86523083\n",
      "   225.69805716   618.4117225    857.00940202   129.17258403\n",
      "   783.84260239   146.30469705   235.99293522   824.35730104\n",
      "   745.76990875   200.77801942   288.99343006   236.64261013\n",
      "   274.10378321   318.08787634   671.10953831   318.915799\n",
      "   226.19222779   246.49717598   200.17371731   175.99837148\n",
      "   235.9506475   1067.85702698   235.93527194   102.66246191\n",
      "   289.51947809   101.75678389   311.21148974   184.09481437\n",
      "   148.47933335   660.61557873   229.6472629    162.33182038\n",
      "   866.24291398   669.68002515    78.48835868   236.02234752\n",
      "   302.46996867   317.44808338   318.61104066   242.40730149\n",
      "   238.91810887   735.02288517   124.24066674   386.16033185\n",
      "   663.77282891   823.42541404   255.72100339   236.01810018\n",
      "   238.84964011  1047.55554036   244.85004637   102.52313054\n",
      "  1007.19510927   213.12577089   878.46224742   235.94050182\n",
      "   237.24242924   261.53413744   281.75930695   697.99957246\n",
      "   696.55130278   656.28215544  1292.16856001   804.59379437\n",
      "   279.099289     208.33182703   572.30690766   722.09107961\n",
      "   208.8212823    848.95879639   204.21683627   161.51847025\n",
      "   750.25971229   674.64127724   232.25987458   235.96675066\n",
      "   748.95325847   207.42835169   718.55184322   260.4219317\n",
      "   669.56239038   778.7702587    792.58114579   745.78168857\n",
      "   252.56769185   222.84505349   764.80659191   500.06290812\n",
      "   293.55947982   218.78063917   143.64585229   735.56975797\n",
      "   366.82060033   194.32372241   189.55336756   273.79879253\n",
      "   238.97138303   256.57429073   346.89225323   236.80571171\n",
      "   352.79197015   132.60258636  1168.59036155   117.73908102\n",
      "   836.52932961   282.1167702    236.06061347   948.7037741\n",
      "   432.83758268   204.69733907   236.03453574   263.03772821\n",
      "   539.34991976   241.99560808   259.11597091   848.05356881\n",
      "   237.28424834   235.9938095    475.85443451   755.39630612\n",
      "   647.5720773    207.88061821   745.84906398    94.62995781\n",
      "   259.25709399   303.65739634   910.83258476   236.06345429\n",
      "  1091.3147878    219.18354897   324.6755212    148.77543216\n",
      "   843.90718238   252.43714586   234.00144812   210.97875651\n",
      "   238.74984899   343.93914714   563.32535972   842.76565625\n",
      "   365.96292724   293.55669831   234.96882915   306.93797973\n",
      "   402.65550497   190.15149332   764.78074374   300.67049346\n",
      "  1166.47569522   141.79293132   239.88577574   287.79257412\n",
      "   745.75639545   241.43836138   550.48161179   753.97023874\n",
      "   364.98786303   782.8164672    125.22955466   745.77156728\n",
      "   931.67360533  1031.62755052   236.02465939   224.58364069\n",
      "   293.73755612   745.59374135   100.68308872   107.31375353\n",
      "   763.39866445   745.92973605   290.28442014   591.04074923\n",
      "   752.87269762   361.40321243  1025.67116211   209.09731921\n",
      "   237.58781534   103.32767809   228.26677442   195.90442486\n",
      "   639.30275527   236.06098151   804.629366     151.02185683\n",
      "   231.5532578    167.42285476   322.39571957   745.93537168\n",
      "   474.42468677   277.35487301   249.14666289   874.89529257\n",
      "  1058.63299992   258.40647521   166.63378333   677.92415274\n",
      "   799.59323855   997.77650027   160.01618843   925.89135216\n",
      "   213.43833659   238.99775876   267.81302496   278.43726032\n",
      "   238.72550572   282.30951962   101.59496658   216.65903522\n",
      "   828.74232909   177.59717617   888.37604459   236.0378787\n",
      "   704.09999693   805.18205123   670.27149165   344.90387971\n",
      "    96.9100427    676.27002364   469.74511061   177.03040633\n",
      "   744.54244531   111.2417239    230.67363746  1115.78553293\n",
      "   213.66436052   237.76925671   226.82629812  1036.82169092\n",
      "   437.83048146   696.49748289  1182.86940493   184.73890131\n",
      "   238.83889217   942.49926977   771.9329803    671.15792405\n",
      "   165.3037581    248.49583362   235.97993174   315.30590012\n",
      "   425.58802132   186.71833038   159.54589776   249.04927096\n",
      "   724.96535417   146.33148617   231.15872927   260.76406142\n",
      "   107.40432706  1059.13564128  1181.26400558   185.71322662\n",
      "   159.54709586   292.87825458   243.00153338   710.33152031\n",
      "   180.86654104   236.02019148   222.54353733   235.96239096\n",
      "   220.2461741    236.05285      161.36068674   686.36268213\n",
      "   160.44092321   114.57540524   223.5603428    439.93734221\n",
      "  1267.69043418   235.98092005   235.94601729   756.59019297\n",
      "   238.95755412   250.24527476   236.56446344   709.05963656\n",
      "   224.46913418   235.96073817   238.81412073   988.33726704\n",
      "   236.07497165   712.49013418   490.73156272   137.45056411\n",
      "   718.04119978   235.93572994   260.06864425   206.2611967\n",
      "   459.30910265   260.50816083   137.16842936   762.72118551\n",
      "   236.03773141   744.61438523   100.81043712   275.68236813\n",
      "   292.08474688   478.64574394   307.88044332   103.80477333\n",
      "   225.85129986   236.0600937    236.06468251   735.49996517\n",
      "   548.34414563   166.76435143   236.0697521   1034.07552404\n",
      "   258.34225991   273.74499785   301.48531596   235.9735562\n",
      "   732.86549945   735.75796806   231.71255223   230.4429657\n",
      "   356.76813743   236.56614786   239.98354677   189.92705677\n",
      "   927.48222669   116.80549806   684.29879136   238.76180426\n",
      "   669.2175126    197.95545017   747.52231494   669.42829253\n",
      "   745.97604767   725.98561164   368.37541029   720.18308053\n",
      "    72.68508716   235.9847411    465.63145009   617.50128692\n",
      "   298.66160526   261.0643004    205.25680234   726.40874474]\n"
     ]
    },
    {
     "data": {
      "text/plain": [
       "371286.5895436662"
      ]
     },
     "execution_count": 3,
     "metadata": {},
     "output_type": "execute_result"
    }
   ],
   "source": [
    "ERT_model=RegressionTree(estimator=\"pointwise_extrapolation_estimator\",\n",
    "                         splitter=\"maxedge\",\n",
    "                         min_samples_split=30,\n",
    "                         max_depth=4,\n",
    "                         order=1,\n",
    "                         random_state=3,\n",
    "                         truncate_ratio_low=truncate_ratio_low,\n",
    "                         truncate_ratio_up=truncate_ratio_up)\n",
    "ERT_model.fit(X_train,Y_train)\n",
    "Y_hat=ERT_model.predict(X_test)\n",
    "\n",
    "#np.arange(0.0001,0.04,0.0005).reshape(-1,1)\n",
    "MSE(Y_hat,Y_test)"
   ]
  },
  {
   "cell_type": "code",
   "execution_count": null,
   "metadata": {},
   "outputs": [],
   "source": []
  },
  {
   "cell_type": "code",
   "execution_count": 7,
   "metadata": {},
   "outputs": [
    {
     "data": {
      "text/plain": [
       "GradientBoostingRegressor(n_estimators=3000)"
      ]
     },
     "execution_count": 7,
     "metadata": {},
     "output_type": "execute_result"
    },
    {
     "data": {
      "text/plain": [
       "316.9872488109881"
      ]
     },
     "execution_count": 7,
     "metadata": {},
     "output_type": "execute_result"
    }
   ],
   "source": [
    "from sklearn.ensemble import GradientBoostingRegressor\n",
    "\n",
    "X_train,Y_train=generator.generate(1000)\n",
    "X_test,Y_test=generator.generate(1000)\n",
    "X_train = (X_train- X_train.min(axis=0))/(X_train.max(axis=0)-X_train.min(axis=0))\n",
    "X_test = (X_test- X_test.min(axis=0))/(X_test.max(axis=0)-X_test.min(axis=0))\n",
    "model_GBRT = GradientBoostingRegressor(n_estimators = 3000)\n",
    "\n",
    "model_GBRT.fit(X_train, Y_train.ravel())\n",
    "y_hat=model_GBRT.predict(X_test)\n",
    "mse_score = MSE(y_hat, Y_test)\n",
    "mse_score"
   ]
  },
  {
   "cell_type": "code",
   "execution_count": 11,
   "metadata": {},
   "outputs": [
    {
     "data": {
      "text/plain": [
       "array([[0. , 0.5, 0. , 0. ],\n",
       "       [0.5, 1. , 0.5, 0.5]])"
      ]
     },
     "execution_count": 11,
     "metadata": {},
     "output_type": "execute_result"
    }
   ],
   "source": [
    "node_range"
   ]
  },
  {
   "cell_type": "code",
   "execution_count": 8,
   "metadata": {},
   "outputs": [],
   "source": [
    "pt_idx=7\n",
    "node_range,dt_X, dt_Y,sorted_ratio,sorted_prediction,intercept= ERT_model.get_node_information(1,pt_idx)"
   ]
  },
  {
   "cell_type": "code",
   "execution_count": null,
   "metadata": {},
   "outputs": [],
   "source": []
  },
  {
   "cell_type": "code",
   "execution_count": 12,
   "metadata": {},
   "outputs": [
    {
     "data": {
      "text/plain": [
       "[<matplotlib.lines.Line2D at 0x7fccd2dd5590>]"
      ]
     },
     "execution_count": 12,
     "metadata": {},
     "output_type": "execute_result"
    },
    {
     "data": {
      "text/plain": [
       "[<matplotlib.lines.Line2D at 0x7fccd2dd5890>]"
      ]
     },
     "execution_count": 12,
     "metadata": {},
     "output_type": "execute_result"
    },
    {
     "data": {
      "text/plain": [
       "<matplotlib.lines.Line2D at 0x7fccd3e5d110>"
      ]
     },
     "execution_count": 12,
     "metadata": {},
     "output_type": "execute_result"
    },
    {
     "data": {
      "text/plain": [
       "<function matplotlib.pyplot.axhline(y=0, xmin=0, xmax=1, **kwargs)>"
      ]
     },
     "execution_count": 12,
     "metadata": {},
     "output_type": "execute_result"
    },
    {
     "data": {
      "image/png": "[encoded data removed]",
      "text/plain": [
       "<Figure size 432x288 with 1 Axes>"
      ]
     },
     "metadata": {
      "needs_background": "light"
     },
     "output_type": "display_data"
    }
   ],
   "source": [
    "plt.plot((sorted_ratio)**2,sorted_prediction)\n",
    "plt.plot((sorted_ratio**2)[int(len(sorted_ratio)*truncate_ratio_low):int(len(sorted_ratio)*truncate_ratio_up)],sorted_prediction[int(len(sorted_prediction)*truncate_ratio_low):int(len(sorted_prediction)*truncate_ratio_up)])\n",
    "plt.axhline(intercept,color=\"red\")\n",
    "plt.axhline#(generator.evaluate(dt_X[pt_idx].reshape(1,-1)),color=\"blue\")"
   ]
  },
  {
   "cell_type": "code",
   "execution_count": 77,
   "metadata": {},
   "outputs": [
    {
     "data": {
      "text/plain": [
       "array([619.79592853])"
      ]
     },
     "execution_count": 77,
     "metadata": {},
     "output_type": "execute_result"
    },
    {
     "data": {
      "text/plain": [
       "array([[622.30684359],\n",
       "       [543.45510909],\n",
       "       [484.81651686],\n",
       "       [531.13795024],\n",
       "       [606.25836479],\n",
       "       [605.80491966],\n",
       "       [656.884538  ],\n",
       "       [681.25205071],\n",
       "       [635.50767074],\n",
       "       [597.20991445],\n",
       "       [604.94722174],\n",
       "       [606.59714026],\n",
       "       [637.45203445],\n",
       "       [650.91984015],\n",
       "       [625.04870116],\n",
       "       [598.63493021],\n",
       "       [581.9786929 ],\n",
       "       [612.07518426],\n",
       "       [636.52677659],\n",
       "       [619.00865334],\n",
       "       [597.0690943 ],\n",
       "       [614.98338471],\n",
       "       [615.91136487],\n",
       "       [636.01576349],\n",
       "       [644.0668151 ],\n",
       "       [623.80455304],\n",
       "       [605.03650466],\n",
       "       [593.89362812],\n",
       "       [590.79563597],\n",
       "       [585.59284794],\n",
       "       [580.2126879 ],\n",
       "       [565.39554516],\n",
       "       [554.3494894 ],\n",
       "       [567.38382675],\n",
       "       [567.14353264],\n",
       "       [554.475855  ],\n",
       "       [565.6621227 ],\n",
       "       [575.69297421],\n",
       "       [584.8053955 ],\n",
       "       [578.06062007],\n",
       "       [566.44072697],\n",
       "       [566.19258569],\n",
       "       [575.25135076],\n",
       "       [585.88819898],\n",
       "       [599.17864811],\n",
       "       [593.82945726],\n",
       "       [595.07605537],\n",
       "       [595.01371275],\n",
       "       [605.14186922],\n",
       "       [617.74431658],\n",
       "       [607.15342519],\n",
       "       [596.56465139],\n",
       "       [587.67411735],\n",
       "       [591.7168272 ],\n",
       "       [600.98200484],\n",
       "       [602.30893864],\n",
       "       [592.68966293],\n",
       "       [583.56760267],\n",
       "       [593.9452921 ],\n",
       "       [599.95375044],\n",
       "       [599.55018317],\n",
       "       [594.65529244],\n",
       "       [588.6174305 ],\n",
       "       [592.82331024]])"
      ]
     },
     "execution_count": 77,
     "metadata": {},
     "output_type": "execute_result"
    }
   ],
   "source": [
    "generator.evaluate(dt_X[pt_idx].reshape(1,-1))\n",
    "sorted_prediction"
   ]
  },
  {
   "cell_type": "markdown",
   "metadata": {},
   "source": [
    "## Stability"
   ]
  },
  {
   "cell_type": "code",
   "execution_count": 6,
   "metadata": {},
   "outputs": [
    {
     "data": {
      "text/plain": [
       "[<matplotlib.lines.Line2D at 0x7f225ae4bbd0>]"
      ]
     },
     "execution_count": 6,
     "metadata": {},
     "output_type": "execute_result"
    },
    {
     "data": {
      "image/png": "[encoded data removed]",
      "text/plain": [
       "<Figure size 432x288 with 1 Axes>"
      ]
     },
     "metadata": {
      "needs_background": "light"
     },
     "output_type": "display_data"
    }
   ],
   "source": [
    "MSE_vec=[]\n",
    "repeat_time=50\n",
    "generator=TestDistribution(4).returnDistribution()\n",
    "for seed in range(repeat_time):\n",
    "    np.random.seed(1)\n",
    "    X_train, Y_train = generator.generate(1000)\n",
    "    X_test, Y_test = generator.generate(1000)\n",
    "    \n",
    "\n",
    "    ERT_model=RegressionTree(estimator=\"pointwise_extrapolation_estimator\",\n",
    "                         splitter=\"midpoint\",\n",
    "                         min_samples_split=30,\n",
    "                         max_depth=1,\n",
    "                         order=1,\n",
    "                         random_state=seed,\n",
    "                         truncate_ratio_low=0.3,\n",
    "                         truncate_ratio_up=0.8)\n",
    "    ERT_model.fit(X_train,Y_train)\n",
    "    Y_hat=ERT_model.predict(X_test)\n",
    "    MSE_vec.append(MSE(Y_hat,Y_test))\n",
    "\n",
    "plt.plot(MSE_vec)"
   ]
  },
  {
   "cell_type": "code",
   "execution_count": null,
   "metadata": {},
   "outputs": [],
   "source": []
  },
  {
   "cell_type": "code",
   "execution_count": 166,
   "metadata": {},
   "outputs": [
    {
     "data": {
      "text/plain": [
       "3"
      ]
     },
     "execution_count": 166,
     "metadata": {},
     "output_type": "execute_result"
    }
   ],
   "source": [
    "np.max([1,2,3,3])"
   ]
  },
  {
   "cell_type": "code",
   "execution_count": 170,
   "metadata": {},
   "outputs": [
    {
     "data": {
      "text/plain": [
       "array([2, 3])"
      ]
     },
     "execution_count": 170,
     "metadata": {},
     "output_type": "execute_result"
    }
   ],
   "source": [
    "x=np.array([1,2,3,3])\n"
   ]
  },
  {
   "cell_type": "code",
   "execution_count": 173,
   "metadata": {},
   "outputs": [
    {
     "data": {
      "text/plain": [
       "3"
      ]
     },
     "execution_count": 173,
     "metadata": {},
     "output_type": "execute_result"
    }
   ],
   "source": [
    "np.random.choice(np.where(x==x.max())[0])"
   ]
  },
  {
   "cell_type": "code",
   "execution_count": null,
   "metadata": {},
   "outputs": [],
   "source": []
  }
 ],
 "metadata": {
  "kernelspec": {
   "display_name": "Python 3",
   "language": "python",
   "name": "python3"
  },
  "language_info": {
   "codemirror_mode": {
    "name": "ipython",
    "version": 3
   },
   "file_extension": ".py",
   "mimetype": "text/x-python",
   "name": "python",
   "nbconvert_exporter": "python",
   "pygments_lexer": "ipython3",
   "version": "3.7.9"
  }
 },
 "nbformat": 4,
 "nbformat_minor": 5
}
