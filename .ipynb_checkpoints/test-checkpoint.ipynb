{
 "cells": [
  {
   "cell_type": "code",
   "execution_count": 1,
   "metadata": {},
   "outputs": [],
   "source": [
    "from RTER import RegressionTree\n",
    "from distribution import TestDistribution\n",
    "import numpy as np\n",
    "\n",
    "\n",
    "from sklearn.metrics import mean_squared_error as MSE\n",
    "import matplotlib.pyplot as plt\n",
    "\n",
    "from IPython.core.interactiveshell import InteractiveShell\n",
    "InteractiveShell.ast_node_interactivity = \"all\"\n",
    "\n",
    "from time import time\n"
   ]
  },
  {
   "cell_type": "code",
   "execution_count": null,
   "metadata": {},
   "outputs": [],
   "source": []
  },
  {
   "cell_type": "code",
   "execution_count": 4,
   "metadata": {},
   "outputs": [],
   "source": [
    "density=TestDistribution(15,1).returnDistribution()\n",
    "np.random.seed(2)\n",
    "#X_train,pdf_X_train=density.generate(1000)\n",
    "X_train= np.arange(0,1,0.001).reshape(-1,1)\n",
    "Y_train_true = np.sin(X_train).ravel()\n",
    "Y_train_noise = np.random.normal(scale=0.1,size=X_train.shape[0])\n",
    "Y_train=Y_train_true+Y_train_noise\n",
    "\n",
    "X_test= np.arange(0,1,0.005).reshape(-1,1)\n",
    "Y_test_true = np.sin(X_test).ravel()\n",
    "\n"
   ]
  },
  {
   "cell_type": "code",
   "execution_count": null,
   "metadata": {},
   "outputs": [],
   "source": []
  },
  {
   "cell_type": "code",
   "execution_count": 3,
   "metadata": {},
   "outputs": [
    {
     "data": {
      "text/plain": [
       "0.00035515492866956876"
      ]
     },
     "execution_count": 3,
     "metadata": {},
     "output_type": "execute_result"
    }
   ],
   "source": [
    "MSE_sum=0\n",
    "repeat_time=20\n",
    "for seed in range(repeat_time):\n",
    "    np.random.seed(seed)\n",
    "    X_train= np.arange(0,1,0.001).reshape(-1,1)\n",
    "    Y_train_true = np.sin(X_train).ravel()\n",
    "    Y_train_noise = np.random.normal(scale=0.1,size=X_train.shape[0])\n",
    "    Y_train=Y_train_true+Y_train_noise\n",
    "\n",
    "    X_test= np.arange(0,1,0.005).reshape(-1,1)\n",
    "    Y_test_true = np.sin(X_test).ravel()\n",
    "    RT_model=RegressionTree(estimator=\"naive_estimator\",splitter=\"midpoint\",min_samples_split=30,max_depth=5,random_state=1)\n",
    "    RT_model.fit(X_train,Y_train)\n",
    "    Y_hat=RT_model.predict(X_test)\n",
    "    MSE_sum+=MSE(Y_hat,Y_test_true)\n",
    "MSE_sum/repeat_time"
   ]
  },
  {
   "cell_type": "code",
   "execution_count": 4,
   "metadata": {},
   "outputs": [
    {
     "data": {
      "text/plain": [
       "[<matplotlib.lines.Line2D at 0x7f550598eb20>]"
      ]
     },
     "execution_count": 4,
     "metadata": {},
     "output_type": "execute_result"
    },
    {
     "data": {
      "text/plain": [
       "[<matplotlib.lines.Line2D at 0x7f550598ef40>]"
      ]
     },
     "execution_count": 4,
     "metadata": {},
     "output_type": "execute_result"
    },
    {
     "data": {
      "image/png": "[encoded data removed]",
      "text/plain": [
       "<Figure size 432x288 with 1 Axes>"
      ]
     },
     "metadata": {
      "needs_background": "light"
     },
     "output_type": "display_data"
    }
   ],
   "source": [
    "plt.plot(Y_hat)\n",
    "plt.plot(Y_test_true)"
   ]
  },
  {
   "cell_type": "markdown",
   "metadata": {},
   "source": [
    "## Ensemble"
   ]
  },
  {
   "cell_type": "code",
   "execution_count": 5,
   "metadata": {},
   "outputs": [
    {
     "data": {
      "text/plain": [
       "0.0005999437643960439"
      ]
     },
     "execution_count": 5,
     "metadata": {},
     "output_type": "execute_result"
    }
   ],
   "source": [
    "MSE_sum=0\n",
    "repeat_time=20\n",
    "ensemble_time=100\n",
    "for seed in range(repeat_time):\n",
    "    np.random.seed(seed)\n",
    "    X_train= np.arange(0,1,0.001).reshape(-1,1)\n",
    "    Y_train_true = np.sin(X_train).ravel()\n",
    "    Y_train_noise = np.random.normal(scale=0.1,size=X_train.shape[0])\n",
    "    Y_train=Y_train_true+Y_train_noise\n",
    "\n",
    "    X_test= np.arange(0,1,0.005).reshape(-1,1)\n",
    "    Y_test_true = np.sin(X_test).ravel()\n",
    "    \n",
    "    pre_vec=np.zeros(Y_test_true.shape[0])\n",
    "    for ensemble_idx in range(ensemble_time):\n",
    "    \n",
    "    \n",
    "        RT_model=RegressionTree(estimator=\"naive_estimator\",splitter=\"midpoint\",min_samples_split=30,max_depth=6,random_state=ensemble_idx)\n",
    "        RT_model.fit(X_train,Y_train)\n",
    "        pre_vec+=RT_model.predict(X_test)\n",
    "    \n",
    "    pre_vec/=ensemble_time\n",
    "    MSE_sum+=MSE(pre_vec,Y_test_true)\n",
    "MSE_sum/repeat_time"
   ]
  },
  {
   "cell_type": "code",
   "execution_count": null,
   "metadata": {},
   "outputs": [],
   "source": []
  },
  {
   "cell_type": "code",
   "execution_count": 6,
   "metadata": {},
   "outputs": [
    {
     "data": {
      "text/plain": [
       "[<matplotlib.lines.Line2D at 0x7f55038877f0>]"
      ]
     },
     "execution_count": 6,
     "metadata": {},
     "output_type": "execute_result"
    },
    {
     "data": {
      "text/plain": [
       "[<matplotlib.lines.Line2D at 0x7f5503887c10>]"
      ]
     },
     "execution_count": 6,
     "metadata": {},
     "output_type": "execute_result"
    },
    {
     "data": {
      "image/png": "[encoded data removed]",
      "text/plain": [
       "<Figure size 432x288 with 1 Axes>"
      ]
     },
     "metadata": {
      "needs_background": "light"
     },
     "output_type": "display_data"
    }
   ],
   "source": [
    "plt.plot(pre_vec)\n",
    "plt.plot(Y_test_true)"
   ]
  },
  {
   "cell_type": "code",
   "execution_count": null,
   "metadata": {},
   "outputs": [],
   "source": []
  },
  {
   "cell_type": "code",
   "execution_count": 7,
   "metadata": {},
   "outputs": [
    {
     "data": {
      "text/plain": [
       "0.0006658819683385687"
      ]
     },
     "execution_count": 7,
     "metadata": {},
     "output_type": "execute_result"
    }
   ],
   "source": [
    "ERT_model=RegressionTree(estimator=\"extrapolation_estimator\",\n",
    "                         splitter=\"midpoint\",\n",
    "                         min_samples_split=30,\n",
    "                         max_depth=4,\n",
    "                         order=1,\n",
    "                         random_state=1,\n",
    "                         truncate_ratio_low=0.45,\n",
    "                         truncate_ratio_up=0.8)\n",
    "ERT_model.fit(X_train,Y_train)\n",
    "Y_hat=ERT_model.predict(X_test)\n",
    "\n",
    "#np.arange(0.0001,0.04,0.0005).reshape(-1,1)\n",
    "MSE(Y_hat,Y_test_true)"
   ]
  },
  {
   "cell_type": "code",
   "execution_count": 8,
   "metadata": {},
   "outputs": [
    {
     "data": {
      "text/plain": [
       "0.0007298776424295655"
      ]
     },
     "execution_count": 8,
     "metadata": {},
     "output_type": "execute_result"
    }
   ],
   "source": [
    "MSE_sum=0\n",
    "repeat_time=20\n",
    "for seed in range(repeat_time):\n",
    "    np.random.seed(seed)\n",
    "    X_train= np.arange(0,1,0.001).reshape(-1,1)\n",
    "    Y_train_true = np.sin(X_train).ravel()\n",
    "    Y_train_noise = np.random.normal(scale=0.1,size=X_train.shape[0])\n",
    "    Y_train=Y_train_true+Y_train_noise\n",
    "\n",
    "    X_test= np.arange(0,1,0.005).reshape(-1,1)\n",
    "    Y_test_true = np.sin(X_test).ravel()\n",
    "    ERT_model=RegressionTree(estimator=\"extrapolation_estimator\",\n",
    "                         splitter=\"midpoint\",\n",
    "                         min_samples_split=30,\n",
    "                         max_depth=4,\n",
    "                         order=1,\n",
    "                         random_state=1,\n",
    "                         truncate_ratio_low=0.45,\n",
    "                         truncate_ratio_up=0.8)\n",
    "    ERT_model.fit(X_train,Y_train)\n",
    "    Y_hat=ERT_model.predict(X_test)\n",
    "    MSE_sum+=MSE(Y_hat,Y_test_true)\n",
    "MSE_sum/repeat_time"
   ]
  },
  {
   "cell_type": "code",
   "execution_count": 9,
   "metadata": {},
   "outputs": [],
   "source": [
    "node_range,dt_X, dt_Y,sorted_ratio,sorted_prediction,intercept= ERT_model.get_node_information(9)"
   ]
  },
  {
   "cell_type": "code",
   "execution_count": 10,
   "metadata": {},
   "outputs": [
    {
     "data": {
      "text/plain": [
       "[<matplotlib.lines.Line2D at 0x7f55038016a0>]"
      ]
     },
     "execution_count": 10,
     "metadata": {},
     "output_type": "execute_result"
    },
    {
     "data": {
      "image/png": "[encoded data removed]",
      "text/plain": [
       "<Figure size 432x288 with 1 Axes>"
      ]
     },
     "metadata": {
      "needs_background": "light"
     },
     "output_type": "display_data"
    }
   ],
   "source": [
    "plt.plot(dt_X.ravel(),dt_Y.ravel())"
   ]
  },
  {
   "cell_type": "code",
   "execution_count": 11,
   "metadata": {},
   "outputs": [
    {
     "data": {
      "text/plain": [
       "[<matplotlib.lines.Line2D at 0x7f550375a220>]"
      ]
     },
     "execution_count": 11,
     "metadata": {},
     "output_type": "execute_result"
    },
    {
     "data": {
      "text/plain": [
       "[<matplotlib.lines.Line2D at 0x7f550375a670>]"
      ]
     },
     "execution_count": 11,
     "metadata": {},
     "output_type": "execute_result"
    },
    {
     "data": {
      "image/png": "[encoded data removed]",
      "text/plain": [
       "<Figure size 432x288 with 1 Axes>"
      ]
     },
     "metadata": {
      "needs_background": "light"
     },
     "output_type": "display_data"
    }
   ],
   "source": [
    "plt.plot(sorted_ratio,sorted_prediction)\n",
    "plt.plot(sorted_ratio[int(len(sorted_ratio)*0.45):int(len(sorted_ratio)*0.8)],sorted_prediction[int(len(sorted_prediction)*0.45):int(len(sorted_prediction)*0.8)])\n"
   ]
  },
  {
   "cell_type": "code",
   "execution_count": null,
   "metadata": {},
   "outputs": [],
   "source": []
  },
  {
   "cell_type": "code",
   "execution_count": null,
   "metadata": {},
   "outputs": [],
   "source": []
  },
  {
   "cell_type": "code",
   "execution_count": null,
   "metadata": {},
   "outputs": [],
   "source": []
  },
  {
   "cell_type": "code",
   "execution_count": 12,
   "metadata": {},
   "outputs": [
    {
     "data": {
      "text/plain": [
       "[<matplotlib.lines.Line2D at 0x7f5503729e20>]"
      ]
     },
     "execution_count": 12,
     "metadata": {},
     "output_type": "execute_result"
    },
    {
     "data": {
      "text/plain": [
       "[<matplotlib.lines.Line2D at 0x7f5503738280>]"
      ]
     },
     "execution_count": 12,
     "metadata": {},
     "output_type": "execute_result"
    },
    {
     "data": {
      "image/png": "[encoded data removed]",
      "text/plain": [
       "<Figure size 432x288 with 1 Axes>"
      ]
     },
     "metadata": {
      "needs_background": "light"
     },
     "output_type": "display_data"
    }
   ],
   "source": [
    "plt.plot(Y_hat)\n",
    "plt.plot(Y_test_true)"
   ]
  },
  {
   "cell_type": "markdown",
   "metadata": {},
   "source": [
    "# only index at center"
   ]
  },
  {
   "cell_type": "code",
   "execution_count": 13,
   "metadata": {},
   "outputs": [],
   "source": [
    "\n",
    "\n",
    "def compute_MSE_node_central(model,func):\n",
    "    X_test=model.tree_.node_range.mean(axis=1)\n",
    "    X_test=np.array(X_test)\n",
    "    Y_hat=model.predict(X_test)\n",
    "    \n",
    "    Y_true=func(X_test).ravel()\n",
    "\n",
    "   \n",
    "    return MSE(Y_hat,Y_true)\n",
    "    "
   ]
  },
  {
   "cell_type": "code",
   "execution_count": null,
   "metadata": {},
   "outputs": [],
   "source": []
  },
  {
   "cell_type": "code",
   "execution_count": 14,
   "metadata": {},
   "outputs": [
    {
     "data": {
      "text/plain": [
       "0.0008487394025040297"
      ]
     },
     "execution_count": 14,
     "metadata": {},
     "output_type": "execute_result"
    },
    {
     "data": {
      "text/plain": [
       "0.00048705378442812395"
      ]
     },
     "execution_count": 14,
     "metadata": {},
     "output_type": "execute_result"
    }
   ],
   "source": [
    "compute_MSE_node_central(ERT_model,np.sin)\n",
    "compute_MSE_node_central(RT_model,np.sin)"
   ]
  },
  {
   "cell_type": "code",
   "execution_count": 15,
   "metadata": {},
   "outputs": [],
   "source": [
    "## repeat experiment\n",
    "error_RT=0\n",
    "error_ERT=0\n",
    "for seed in range(50):\n",
    "    np.random.seed(seed)\n",
    "    func=np.sin\n",
    "    #X_train,pdf_X_train=density.generate(1000)\n",
    "    X_train= np.arange(0,1,0.001).reshape(-1,1)\n",
    "    Y_train_true = func(X_train).ravel()\n",
    "    Y_train_noise = np.random.normal(scale=0.1,size=X_train.shape[0])\n",
    "    Y_train=Y_train_true+Y_train_noise\n",
    "\n",
    "    X_test= np.arange(0,1,0.005).reshape(-1,1)\n",
    "    Y_test_true = func(X_test).ravel()\n",
    "    min_samples_split=120\n",
    "    max_depth=6\n",
    "    RT_model=RegressionTree(estimator=\"naive_estimator\",\n",
    "                            splitter=\"midpoint\",\n",
    "                            min_samples_split=min_samples_split,\n",
    "                            max_depth=max_depth,\n",
    "                            random_state=1)\n",
    "    RT_model.fit(X_train,Y_train)\n",
    "    ERT_model=RegressionTree(estimator=\"extrapolation_estimator\",\n",
    "                             splitter=\"midpoint\",\n",
    "                             min_samples_split=min_samples_split,\n",
    "                             max_depth=max_depth,\n",
    "                             order=1,\n",
    "                             random_state=1,\n",
    "                             truncate_ratio_low=0.45,\n",
    "                             truncate_ratio_up=0.8)\n",
    "    ERT_model.fit(X_train,Y_train)\n",
    "    \n",
    "    error_RT+=compute_MSE_node_central(ERT_model,func)\n",
    "    error_ERT+=compute_MSE_node_central(RT_model,func)"
   ]
  },
  {
   "cell_type": "code",
   "execution_count": 16,
   "metadata": {},
   "outputs": [
    {
     "data": {
      "text/plain": [
       "0.04297188407679876"
      ]
     },
     "execution_count": 16,
     "metadata": {},
     "output_type": "execute_result"
    },
    {
     "data": {
      "text/plain": [
       "0.02617943566743878"
      ]
     },
     "execution_count": 16,
     "metadata": {},
     "output_type": "execute_result"
    }
   ],
   "source": [
    "error_RT\n",
    "error_ERT"
   ]
  },
  {
   "cell_type": "markdown",
   "metadata": {},
   "source": [
    "# Pointwise Extrapolation Estimator"
   ]
  },
  {
   "cell_type": "code",
   "execution_count": 3,
   "metadata": {},
   "outputs": [
    {
     "data": {
      "text/plain": [
       "0.0005780942929730944"
      ]
     },
     "execution_count": 3,
     "metadata": {},
     "output_type": "execute_result"
    }
   ],
   "source": [
    "ERT_model=RegressionTree(estimator=\"pointwise_extrapolation_estimator\",\n",
    "                         splitter=\"midpoint\",\n",
    "                         min_samples_split=30,\n",
    "                         max_depth=4,\n",
    "                         order=1,\n",
    "                         random_state=1,\n",
    "                         truncate_ratio_low=0.45,\n",
    "                         truncate_ratio_up=0.8)\n",
    "ERT_model.fit(X_train,Y_train)\n",
    "Y_hat=ERT_model.predict(X_test)\n",
    "\n",
    "#np.arange(0.0001,0.04,0.0005).reshape(-1,1)\n",
    "MSE(Y_hat,Y_test_true)"
   ]
  },
  {
   "cell_type": "code",
   "execution_count": 18,
   "metadata": {},
   "outputs": [
    {
     "data": {
      "text/plain": [
       "0.00032587283371684215"
      ]
     },
     "execution_count": 18,
     "metadata": {},
     "output_type": "execute_result"
    }
   ],
   "source": [
    "MSE_sum=0\n",
    "repeat_time=20\n",
    "for seed in range(repeat_time):\n",
    "    np.random.seed(seed)\n",
    "    X_train= np.arange(0,1,0.001).reshape(-1,1)\n",
    "    Y_train_true = np.sin(X_train).ravel()\n",
    "    Y_train_noise = np.random.normal(scale=0.1,size=X_train.shape[0])\n",
    "    Y_train=Y_train_true+Y_train_noise\n",
    "\n",
    "    X_test= np.arange(0,1,0.005).reshape(-1,1)\n",
    "    Y_test_true = np.sin(X_test).ravel()\n",
    "    ERT_model=RegressionTree(estimator=\"pointwise_extrapolation_estimator\",\n",
    "                         splitter=\"midpoint\",\n",
    "                         min_samples_split=30,\n",
    "                         max_depth=3,\n",
    "                         order=1,\n",
    "                         random_state=1,\n",
    "                         truncate_ratio_low=0.3,\n",
    "                         truncate_ratio_up=0.7)\n",
    "    ERT_model.fit(X_train,Y_train)\n",
    "    Y_hat=ERT_model.predict(X_test)\n",
    "    MSE_sum+=MSE(Y_hat,Y_test_true)\n",
    "MSE_sum/repeat_time"
   ]
  },
  {
   "cell_type": "code",
   "execution_count": 19,
   "metadata": {},
   "outputs": [
    {
     "data": {
      "text/plain": [
       "[<matplotlib.lines.Line2D at 0x7f55036acd60>]"
      ]
     },
     "execution_count": 19,
     "metadata": {},
     "output_type": "execute_result"
    },
    {
     "data": {
      "text/plain": [
       "[<matplotlib.lines.Line2D at 0x7f55036b81c0>]"
      ]
     },
     "execution_count": 19,
     "metadata": {},
     "output_type": "execute_result"
    },
    {
     "data": {
      "image/png": "[encoded data removed]",
      "text/plain": [
       "<Figure size 432x288 with 1 Axes>"
      ]
     },
     "metadata": {
      "needs_background": "light"
     },
     "output_type": "display_data"
    }
   ],
   "source": [
    "plt.plot(Y_hat)\n",
    "plt.plot(Y_test_true)"
   ]
  },
  {
   "cell_type": "markdown",
   "metadata": {},
   "source": [
    "## Numba Acceleration"
   ]
  },
  {
   "cell_type": "code",
   "execution_count": 4,
   "metadata": {},
   "outputs": [
    {
     "data": {
      "text/plain": [
       "0.0005857000985224981"
      ]
     },
     "execution_count": 4,
     "metadata": {},
     "output_type": "execute_result"
    }
   ],
   "source": [
    "ERT_model=RegressionTree(estimator=\"pointwise_extrapolation_estimator\",\n",
    "                         splitter=\"midpoint\",\n",
    "                         min_samples_split=30,\n",
    "                         max_depth=4,\n",
    "                         order=1,\n",
    "                         random_state=1,\n",
    "                         truncate_ratio_low=0.45,\n",
    "                         truncate_ratio_up=0.8,\n",
    "                        numba_acc=1)\n",
    "ERT_model.fit(X_train,Y_train)\n",
    "Y_hat=ERT_model.predict(X_test)\n",
    "\n",
    "#np.arange(0.0001,0.04,0.0005).reshape(-1,1)\n",
    "MSE(Y_hat,Y_test_true)"
   ]
  },
  {
   "cell_type": "code",
   "execution_count": null,
   "metadata": {},
   "outputs": [],
   "source": []
  },
  {
   "cell_type": "code",
   "execution_count": 5,
   "metadata": {},
   "outputs": [
    {
     "data": {
      "text/plain": [
       "0.00032789852982466"
      ]
     },
     "execution_count": 5,
     "metadata": {},
     "output_type": "execute_result"
    }
   ],
   "source": [
    "MSE_sum=0\n",
    "repeat_time=20\n",
    "for seed in range(repeat_time):\n",
    "    np.random.seed(seed)\n",
    "    X_train= np.arange(0,1,0.001).reshape(-1,1)\n",
    "    Y_train_true = np.sin(X_train).ravel()\n",
    "    Y_train_noise = np.random.normal(scale=0.1,size=X_train.shape[0])\n",
    "    Y_train=Y_train_true+Y_train_noise\n",
    "\n",
    "    X_test= np.arange(0,1,0.005).reshape(-1,1)\n",
    "    Y_test_true = np.sin(X_test).ravel()\n",
    "    ERT_model=RegressionTree(estimator=\"pointwise_extrapolation_estimator\",\n",
    "                         splitter=\"midpoint\",\n",
    "                         min_samples_split=30,\n",
    "                         max_depth=3,\n",
    "                         order=1,\n",
    "                         random_state=1,\n",
    "                         truncate_ratio_low=0.3,\n",
    "                         truncate_ratio_up=0.7,\n",
    "                            numba_acc=1)\n",
    "    ERT_model.fit(X_train,Y_train)\n",
    "    Y_hat=ERT_model.predict(X_test)\n",
    "    MSE_sum+=MSE(Y_hat,Y_test_true)\n",
    "MSE_sum/repeat_time"
   ]
  },
  {
   "cell_type": "code",
   "execution_count": 6,
   "metadata": {},
   "outputs": [
    {
     "data": {
      "text/plain": [
       "[<matplotlib.lines.Line2D at 0x7efe019ab710>]"
      ]
     },
     "execution_count": 6,
     "metadata": {},
     "output_type": "execute_result"
    },
    {
     "data": {
      "text/plain": [
       "[<matplotlib.lines.Line2D at 0x7efe019ab7d0>]"
      ]
     },
     "execution_count": 6,
     "metadata": {},
     "output_type": "execute_result"
    },
    {
     "data": {
      "image/png": "[encoded data removed]",
      "text/plain": [
       "<Figure size 432x288 with 1 Axes>"
      ]
     },
     "metadata": {
      "needs_background": "light"
     },
     "output_type": "display_data"
    }
   ],
   "source": [
    "plt.plot(Y_hat)\n",
    "plt.plot(Y_test_true)"
   ]
  },
  {
   "cell_type": "code",
   "execution_count": null,
   "metadata": {},
   "outputs": [],
   "source": []
  },
  {
   "cell_type": "code",
   "execution_count": 9,
   "metadata": {},
   "outputs": [
    {
     "data": {
      "text/plain": [
       "0.00012897028906758802"
      ]
     },
     "execution_count": 9,
     "metadata": {},
     "output_type": "execute_result"
    },
    {
     "name": "stdout",
     "output_type": "stream",
     "text": [
      "time used : 6.945038557052612 s\n"
     ]
    },
    {
     "data": {
      "text/plain": [
       "0.0001289702890675881"
      ]
     },
     "execution_count": 9,
     "metadata": {},
     "output_type": "execute_result"
    },
    {
     "name": "stdout",
     "output_type": "stream",
     "text": [
      "time used : 188.4778401851654 s\n"
     ]
    }
   ],
   "source": [
    "time_s=time()\n",
    "MSE_sum=0\n",
    "repeat_time=10\n",
    "for seed in range(repeat_time):\n",
    "    np.random.seed(seed)\n",
    "    X_train= np.arange(0,1,0.0002).reshape(-1,1)\n",
    "    Y_train_true = np.sin(X_train).ravel()\n",
    "    Y_train_noise = np.random.normal(scale=0.1,size=X_train.shape[0])\n",
    "    Y_train=Y_train_true+Y_train_noise\n",
    "\n",
    "    X_test= np.arange(0,1,0.0005).reshape(-1,1)\n",
    "    Y_test_true = np.sin(X_test).ravel()\n",
    "    ERT_model=RegressionTree(estimator=\"pointwise_extrapolation_estimator\",\n",
    "                         splitter=\"midpoint\",\n",
    "                         min_samples_split=30,\n",
    "                         max_depth=3,\n",
    "                         order=1,\n",
    "                         random_state=1,\n",
    "                         truncate_ratio_low=0.3,\n",
    "                         truncate_ratio_up=0.7,\n",
    "                         numba_acc=1)\n",
    "    ERT_model.fit(X_train,Y_train)\n",
    "    Y_hat=ERT_model.predict(X_test)\n",
    "    MSE_sum+=MSE(Y_hat,Y_test_true)\n",
    "MSE_sum/repeat_time\n",
    "time_e=time()\n",
    "print(\"time used : {} s\".format(time_e-time_s))\n",
    "\n",
    "time_s=time()\n",
    "MSE_sum=0\n",
    "\n",
    "for seed in range(repeat_time):\n",
    "    np.random.seed(seed)\n",
    "    X_train= np.arange(0,1,0.0002).reshape(-1,1)\n",
    "    Y_train_true = np.sin(X_train).ravel()\n",
    "    Y_train_noise = np.random.normal(scale=0.1,size=X_train.shape[0])\n",
    "    Y_train=Y_train_true+Y_train_noise\n",
    "\n",
    "    X_test= np.arange(0,1,0.0005).reshape(-1,1)\n",
    "    Y_test_true = np.sin(X_test).ravel()\n",
    "    ERT_model=RegressionTree(estimator=\"pointwise_extrapolation_estimator\",\n",
    "                         splitter=\"midpoint\",\n",
    "                         min_samples_split=30,\n",
    "                         max_depth=3,\n",
    "                         order=1,\n",
    "                         random_state=1,\n",
    "                         truncate_ratio_low=0.3,\n",
    "                         truncate_ratio_up=0.7,\n",
    "                         numba_acc=0)\n",
    "    ERT_model.fit(X_train,Y_train)\n",
    "    Y_hat=ERT_model.predict(X_test)\n",
    "    MSE_sum+=MSE(Y_hat,Y_test_true)\n",
    "MSE_sum/repeat_time\n",
    "time_e=time()\n",
    "print(\"time used : {} s\".format(time_e-time_s))"
   ]
  },
  {
   "cell_type": "code",
   "execution_count": null,
   "metadata": {},
   "outputs": [],
   "source": []
  },
  {
   "cell_type": "markdown",
   "metadata": {},
   "source": [
    "## Parallel Computation"
   ]
  },
  {
   "cell_type": "code",
   "execution_count": null,
   "metadata": {},
   "outputs": [],
   "source": []
  },
  {
   "cell_type": "code",
   "execution_count": 3,
   "metadata": {},
   "outputs": [
    {
     "data": {
      "text/plain": [
       "0.0005857000985224998"
      ]
     },
     "execution_count": 3,
     "metadata": {},
     "output_type": "execute_result"
    }
   ],
   "source": [
    "ERT_model=RegressionTree(estimator=\"pointwise_extrapolation_estimator\",\n",
    "                         splitter=\"midpoint\",\n",
    "                         min_samples_split=30,\n",
    "                         max_depth=4,\n",
    "                         order=1,\n",
    "                         random_state=1,\n",
    "                         truncate_ratio_low=0.45,\n",
    "                         truncate_ratio_up=0.8,\n",
    "                        parallel_jobs=1)\n",
    "ERT_model.fit(X_train,Y_train)\n",
    "Y_hat=ERT_model.predict(X_test)\n",
    "\n",
    "#np.arange(0.0001,0.04,0.0005).reshape(-1,1)\n",
    "MSE(Y_hat,Y_test_true)"
   ]
  },
  {
   "cell_type": "code",
   "execution_count": 5,
   "metadata": {},
   "outputs": [],
   "source": [
    "from time import time"
   ]
  },
  {
   "cell_type": "code",
   "execution_count": 7,
   "metadata": {},
   "outputs": [
    {
     "data": {
      "text/plain": [
       "0.00012188304213675589"
      ]
     },
     "execution_count": 7,
     "metadata": {},
     "output_type": "execute_result"
    },
    {
     "name": "stdout",
     "output_type": "stream",
     "text": [
      "time used : 57.92785716056824 s\n"
     ]
    },
    {
     "data": {
      "text/plain": [
       "0.00012188304213675589"
      ]
     },
     "execution_count": 7,
     "metadata": {},
     "output_type": "execute_result"
    },
    {
     "name": "stdout",
     "output_type": "stream",
     "text": [
      "time used : 409.89631700515747 s\n"
     ]
    }
   ],
   "source": [
    "time_s=time()\n",
    "MSE_sum=0\n",
    "repeat_time=20\n",
    "for seed in range(repeat_time):\n",
    "    np.random.seed(seed)\n",
    "    X_train= np.arange(0,1,0.0002).reshape(-1,1)\n",
    "    Y_train_true = np.sin(X_train).ravel()\n",
    "    Y_train_noise = np.random.normal(scale=0.1,size=X_train.shape[0])\n",
    "    Y_train=Y_train_true+Y_train_noise\n",
    "\n",
    "    X_test= np.arange(0,1,0.0005).reshape(-1,1)\n",
    "    Y_test_true = np.sin(X_test).ravel()\n",
    "    ERT_model=RegressionTree(estimator=\"pointwise_extrapolation_estimator\",\n",
    "                         splitter=\"midpoint\",\n",
    "                         min_samples_split=30,\n",
    "                         max_depth=3,\n",
    "                         order=1,\n",
    "                         random_state=1,\n",
    "                         truncate_ratio_low=0.3,\n",
    "                         truncate_ratio_up=0.7,\n",
    "                         parallel_jobs=8)\n",
    "    ERT_model.fit(X_train,Y_train)\n",
    "    Y_hat=ERT_model.predict(X_test)\n",
    "    MSE_sum+=MSE(Y_hat,Y_test_true)\n",
    "MSE_sum/repeat_time\n",
    "time_e=time()\n",
    "print(\"time used : {} s\".format(time_e-time_s))\n",
    "\n",
    "time_s=time()\n",
    "MSE_sum=0\n",
    "repeat_time=20\n",
    "for seed in range(repeat_time):\n",
    "    np.random.seed(seed)\n",
    "    X_train= np.arange(0,1,0.0002).reshape(-1,1)\n",
    "    Y_train_true = np.sin(X_train).ravel()\n",
    "    Y_train_noise = np.random.normal(scale=0.1,size=X_train.shape[0])\n",
    "    Y_train=Y_train_true+Y_train_noise\n",
    "\n",
    "    X_test= np.arange(0,1,0.0005).reshape(-1,1)\n",
    "    Y_test_true = np.sin(X_test).ravel()\n",
    "    ERT_model=RegressionTree(estimator=\"pointwise_extrapolation_estimator\",\n",
    "                         splitter=\"midpoint\",\n",
    "                         min_samples_split=30,\n",
    "                         max_depth=3,\n",
    "                         order=1,\n",
    "                         random_state=1,\n",
    "                         truncate_ratio_low=0.3,\n",
    "                         truncate_ratio_up=0.7,\n",
    "                         parallel_jobs=0)\n",
    "    ERT_model.fit(X_train,Y_train)\n",
    "    Y_hat=ERT_model.predict(X_test)\n",
    "    MSE_sum+=MSE(Y_hat,Y_test_true)\n",
    "MSE_sum/repeat_time\n",
    "time_e=time()\n",
    "print(\"time used : {} s\".format(time_e-time_s))"
   ]
  },
  {
   "cell_type": "code",
   "execution_count": 8,
   "metadata": {},
   "outputs": [
    {
     "data": {
      "text/plain": [
       "[<matplotlib.lines.Line2D at 0x7f7974fd8040>]"
      ]
     },
     "execution_count": 8,
     "metadata": {},
     "output_type": "execute_result"
    },
    {
     "data": {
      "text/plain": [
       "[<matplotlib.lines.Line2D at 0x7f7974fd8460>]"
      ]
     },
     "execution_count": 8,
     "metadata": {},
     "output_type": "execute_result"
    },
    {
     "data": {
      "image/png": "[encoded data removed]",
      "text/plain": [
       "<Figure size 432x288 with 1 Axes>"
      ]
     },
     "metadata": {
      "needs_background": "light"
     },
     "output_type": "display_data"
    }
   ],
   "source": [
    "plt.plot(Y_hat)\n",
    "plt.plot(Y_test_true)"
   ]
  },
  {
   "cell_type": "code",
   "execution_count": null,
   "metadata": {},
   "outputs": [],
   "source": []
  },
  {
   "cell_type": "code",
   "execution_count": null,
   "metadata": {},
   "outputs": [],
   "source": []
  },
  {
   "cell_type": "markdown",
   "metadata": {},
   "source": [
    "## Illustration of speeding up"
   ]
  },
  {
   "cell_type": "code",
   "execution_count": null,
   "metadata": {},
   "outputs": [],
   "source": []
  },
  {
   "cell_type": "code",
   "execution_count": 11,
   "metadata": {},
   "outputs": [
    {
     "data": {
      "text/plain": [
       "0.00012186564956195663"
      ]
     },
     "execution_count": 11,
     "metadata": {},
     "output_type": "execute_result"
    },
    {
     "name": "stdout",
     "output_type": "stream",
     "text": [
      "time used : 7.78571081161499 s\n"
     ]
    },
    {
     "data": {
      "text/plain": [
       "0.0001289837648677502"
      ]
     },
     "execution_count": 11,
     "metadata": {},
     "output_type": "execute_result"
    },
    {
     "name": "stdout",
     "output_type": "stream",
     "text": [
      "time used : 469.0719516277313 s\n"
     ]
    }
   ],
   "source": [
    "time_s=time()\n",
    "MSE_sum=0\n",
    "repeat_time=20\n",
    "for seed in range(repeat_time):\n",
    "    np.random.seed(seed)\n",
    "    X_train= np.arange(0,1,0.0002).reshape(-1,1)\n",
    "    Y_train_true = np.sin(X_train).ravel()\n",
    "    Y_train_noise = np.random.normal(scale=0.1,size=X_train.shape[0])\n",
    "    Y_train=Y_train_true+Y_train_noise\n",
    "\n",
    "    X_test= np.arange(0,1,0.0002).reshape(-1,1)\n",
    "    Y_test_true = np.sin(X_test).ravel()\n",
    "    ERT_model=RegressionTree(estimator=\"pointwise_extrapolation_estimator\",\n",
    "                         splitter=\"midpoint\",\n",
    "                         min_samples_split=30,\n",
    "                         max_depth=3,\n",
    "                         order=1,\n",
    "                         random_state=1,\n",
    "                         truncate_ratio_low=0.3,\n",
    "                         truncate_ratio_up=0.7,\n",
    "                         parallel_jobs=8,\n",
    "                         numba_acc=1)\n",
    "    ERT_model.fit(X_train,Y_train)\n",
    "    Y_hat=ERT_model.predict(X_test)\n",
    "    MSE_sum+=MSE(Y_hat,Y_test_true)\n",
    "MSE_sum/repeat_time\n",
    "time_e=time()\n",
    "print(\"time used : {} s\".format(time_e-time_s))\n",
    "\n",
    "time_s=time()\n",
    "MSE_sum=0\n",
    "repeat_time=10\n",
    "for seed in range(repeat_time):\n",
    "    np.random.seed(seed)\n",
    "    X_train= np.arange(0,1,0.0002).reshape(-1,1)\n",
    "    Y_train_true = np.sin(X_train).ravel()\n",
    "    Y_train_noise = np.random.normal(scale=0.1,size=X_train.shape[0])\n",
    "    Y_train=Y_train_true+Y_train_noise\n",
    "\n",
    "    X_test= np.arange(0,1,0.0002).reshape(-1,1)\n",
    "    Y_test_true = np.sin(X_test).ravel()\n",
    "    ERT_model=RegressionTree(estimator=\"pointwise_extrapolation_estimator\",\n",
    "                         splitter=\"midpoint\",\n",
    "                         min_samples_split=30,\n",
    "                         max_depth=3,\n",
    "                         order=1,\n",
    "                         random_state=1,\n",
    "                         truncate_ratio_low=0.3,\n",
    "                         truncate_ratio_up=0.7)\n",
    "    ERT_model.fit(X_train,Y_train)\n",
    "    Y_hat=ERT_model.predict(X_test)\n",
    "    MSE_sum+=MSE(Y_hat,Y_test_true)\n",
    "MSE_sum/repeat_time\n",
    "time_e=time()\n",
    "print(\"time used : {} s\".format(time_e-time_s))"
   ]
  },
  {
   "cell_type": "code",
   "execution_count": null,
   "metadata": {},
   "outputs": [],
   "source": []
  },
  {
   "cell_type": "code",
   "execution_count": null,
   "metadata": {},
   "outputs": [],
   "source": []
  },
  {
   "cell_type": "code",
   "execution_count": null,
   "metadata": {},
   "outputs": [],
   "source": []
  },
  {
   "cell_type": "code",
   "execution_count": null,
   "metadata": {},
   "outputs": [],
   "source": []
  },
  {
   "cell_type": "markdown",
   "metadata": {},
   "source": [
    "## Grid Search CV"
   ]
  },
  {
   "cell_type": "code",
   "execution_count": 1,
   "metadata": {},
   "outputs": [
    {
     "name": "stdout",
     "output_type": "stream",
     "text": [
      "[-0.30175238  0.52271606 -0.76605285 -0.79649351 -0.26807948]\n",
      "[-0.43206467  0.89650581 -0.8714098  -0.52312021 -0.42224491]\n",
      "[ 0.2125366   1.39678708 -2.29401044  0.95009155  0.2125366 ]\n",
      "[ 0.30351329  1.02174107 -1.57997358  0.68171167  0.28704152]\n",
      "next round\n",
      "[-0.16029248  0.24598173 -0.07086512  0.60966372  0.34421057]\n",
      "[0.67779025 0.92164654 0.63609335 0.74625199 0.89910354]\n",
      "[-0.11495517  0.91101741 -0.11495517  1.2797496   0.57750478]\n",
      "[-0.13309813  0.89764653 -0.05381201  1.09882079  0.34502823]\n",
      "next round\n",
      "[ 9.03680267  8.18913612  9.91424578 11.16152974  6.63403352]\n"
     ]
    },
    {
     "ename": "KeyboardInterrupt",
     "evalue": "",
     "output_type": "error",
     "traceback": [
      "\u001b[0;31m---------------------------------------------------------------------------\u001b[0m",
      "\u001b[0;31mKeyboardInterrupt\u001b[0m                         Traceback (most recent call last)",
      "\u001b[0;32m<ipython-input-1-8c3ab3d0e197>\u001b[0m in \u001b[0;36m<module>\u001b[0;34m\u001b[0m\n\u001b[1;32m     72\u001b[0m         \u001b[0mparameters\u001b[0m\u001b[0;34m=\u001b[0m\u001b[0;34m{\u001b[0m\u001b[0;34m\"truncate_ratio_low\"\u001b[0m\u001b[0;34m:\u001b[0m\u001b[0;34m[\u001b[0m\u001b[0;36m0.1\u001b[0m\u001b[0;34m,\u001b[0m\u001b[0;36m0.2\u001b[0m\u001b[0;34m,\u001b[0m\u001b[0;36m0.3\u001b[0m \u001b[0;34m]\u001b[0m\u001b[0;34m,\u001b[0m \u001b[0;34m\"truncate_ratio_up\"\u001b[0m\u001b[0;34m:\u001b[0m\u001b[0;34m[\u001b[0m\u001b[0;36m0.7\u001b[0m\u001b[0;34m,\u001b[0m\u001b[0;36m0.8\u001b[0m \u001b[0;34m]\u001b[0m\u001b[0;34m}\u001b[0m\u001b[0;34m\u001b[0m\u001b[0;34m\u001b[0m\u001b[0m\n\u001b[1;32m     73\u001b[0m         \u001b[0mcv_model_RTER\u001b[0m\u001b[0;34m=\u001b[0m\u001b[0mGridSearchCV\u001b[0m\u001b[0;34m(\u001b[0m\u001b[0mestimator\u001b[0m\u001b[0;34m=\u001b[0m\u001b[0mRegressionTree\u001b[0m\u001b[0;34m(\u001b[0m\u001b[0mmin_samples_split\u001b[0m\u001b[0;34m=\u001b[0m\u001b[0;36m30\u001b[0m\u001b[0;34m,\u001b[0m \u001b[0mmax_depth\u001b[0m\u001b[0;34m=\u001b[0m\u001b[0;36m3\u001b[0m\u001b[0;34m,\u001b[0m\u001b[0mparallel_jobs\u001b[0m\u001b[0;34m=\u001b[0m\u001b[0;36m0\u001b[0m\u001b[0;34m)\u001b[0m\u001b[0;34m,\u001b[0m\u001b[0mparam_grid\u001b[0m\u001b[0;34m=\u001b[0m\u001b[0mparameters\u001b[0m\u001b[0;34m,\u001b[0m \u001b[0mcv\u001b[0m\u001b[0;34m=\u001b[0m\u001b[0;36m3\u001b[0m\u001b[0;34m,\u001b[0m \u001b[0mn_jobs\u001b[0m\u001b[0;34m=\u001b[0m\u001b[0;36m18\u001b[0m\u001b[0;34m)\u001b[0m\u001b[0;34m\u001b[0m\u001b[0;34m\u001b[0m\u001b[0m\n\u001b[0;32m---> 74\u001b[0;31m         \u001b[0mcv_model_RTER\u001b[0m\u001b[0;34m.\u001b[0m\u001b[0mfit\u001b[0m\u001b[0;34m(\u001b[0m\u001b[0mX_train\u001b[0m\u001b[0;34m,\u001b[0m \u001b[0mY_train\u001b[0m\u001b[0;34m)\u001b[0m\u001b[0;34m\u001b[0m\u001b[0;34m\u001b[0m\u001b[0m\n\u001b[0m\u001b[1;32m     75\u001b[0m \u001b[0;34m\u001b[0m\u001b[0m\n\u001b[1;32m     76\u001b[0m         \u001b[0mRTER_model\u001b[0m \u001b[0;34m=\u001b[0m \u001b[0mcv_model_RTER\u001b[0m\u001b[0;34m.\u001b[0m\u001b[0mbest_estimator_\u001b[0m\u001b[0;34m\u001b[0m\u001b[0;34m\u001b[0m\u001b[0m\n",
      "\u001b[0;32m~/anaconda3/lib/python3.7/site-packages/sklearn/utils/validation.py\u001b[0m in \u001b[0;36minner_f\u001b[0;34m(*args, **kwargs)\u001b[0m\n\u001b[1;32m     70\u001b[0m                           FutureWarning)\n\u001b[1;32m     71\u001b[0m         \u001b[0mkwargs\u001b[0m\u001b[0;34m.\u001b[0m\u001b[0mupdate\u001b[0m\u001b[0;34m(\u001b[0m\u001b[0;34m{\u001b[0m\u001b[0mk\u001b[0m\u001b[0;34m:\u001b[0m \u001b[0marg\u001b[0m \u001b[0;32mfor\u001b[0m \u001b[0mk\u001b[0m\u001b[0;34m,\u001b[0m \u001b[0marg\u001b[0m \u001b[0;32min\u001b[0m \u001b[0mzip\u001b[0m\u001b[0;34m(\u001b[0m\u001b[0msig\u001b[0m\u001b[0;34m.\u001b[0m\u001b[0mparameters\u001b[0m\u001b[0;34m,\u001b[0m \u001b[0margs\u001b[0m\u001b[0;34m)\u001b[0m\u001b[0;34m}\u001b[0m\u001b[0;34m)\u001b[0m\u001b[0;34m\u001b[0m\u001b[0;34m\u001b[0m\u001b[0m\n\u001b[0;32m---> 72\u001b[0;31m         \u001b[0;32mreturn\u001b[0m \u001b[0mf\u001b[0m\u001b[0;34m(\u001b[0m\u001b[0;34m**\u001b[0m\u001b[0mkwargs\u001b[0m\u001b[0;34m)\u001b[0m\u001b[0;34m\u001b[0m\u001b[0;34m\u001b[0m\u001b[0m\n\u001b[0m\u001b[1;32m     73\u001b[0m     \u001b[0;32mreturn\u001b[0m \u001b[0minner_f\u001b[0m\u001b[0;34m\u001b[0m\u001b[0;34m\u001b[0m\u001b[0m\n\u001b[1;32m     74\u001b[0m \u001b[0;34m\u001b[0m\u001b[0m\n",
      "\u001b[0;32m~/anaconda3/lib/python3.7/site-packages/sklearn/model_selection/_search.py\u001b[0m in \u001b[0;36mfit\u001b[0;34m(self, X, y, groups, **fit_params)\u001b[0m\n\u001b[1;32m    734\u001b[0m                 \u001b[0;32mreturn\u001b[0m \u001b[0mresults\u001b[0m\u001b[0;34m\u001b[0m\u001b[0;34m\u001b[0m\u001b[0m\n\u001b[1;32m    735\u001b[0m \u001b[0;34m\u001b[0m\u001b[0m\n\u001b[0;32m--> 736\u001b[0;31m             \u001b[0mself\u001b[0m\u001b[0;34m.\u001b[0m\u001b[0m_run_search\u001b[0m\u001b[0;34m(\u001b[0m\u001b[0mevaluate_candidates\u001b[0m\u001b[0;34m)\u001b[0m\u001b[0;34m\u001b[0m\u001b[0;34m\u001b[0m\u001b[0m\n\u001b[0m\u001b[1;32m    737\u001b[0m \u001b[0;34m\u001b[0m\u001b[0m\n\u001b[1;32m    738\u001b[0m         \u001b[0;31m# For multi-metric evaluation, store the best_index_, best_params_ and\u001b[0m\u001b[0;34m\u001b[0m\u001b[0;34m\u001b[0m\u001b[0;34m\u001b[0m\u001b[0m\n",
      "\u001b[0;32m~/anaconda3/lib/python3.7/site-packages/sklearn/model_selection/_search.py\u001b[0m in \u001b[0;36m_run_search\u001b[0;34m(self, evaluate_candidates)\u001b[0m\n\u001b[1;32m   1186\u001b[0m     \u001b[0;32mdef\u001b[0m \u001b[0m_run_search\u001b[0m\u001b[0;34m(\u001b[0m\u001b[0mself\u001b[0m\u001b[0;34m,\u001b[0m \u001b[0mevaluate_candidates\u001b[0m\u001b[0;34m)\u001b[0m\u001b[0;34m:\u001b[0m\u001b[0;34m\u001b[0m\u001b[0;34m\u001b[0m\u001b[0m\n\u001b[1;32m   1187\u001b[0m         \u001b[0;34m\"\"\"Search all candidates in param_grid\"\"\"\u001b[0m\u001b[0;34m\u001b[0m\u001b[0;34m\u001b[0m\u001b[0m\n\u001b[0;32m-> 1188\u001b[0;31m         \u001b[0mevaluate_candidates\u001b[0m\u001b[0;34m(\u001b[0m\u001b[0mParameterGrid\u001b[0m\u001b[0;34m(\u001b[0m\u001b[0mself\u001b[0m\u001b[0;34m.\u001b[0m\u001b[0mparam_grid\u001b[0m\u001b[0;34m)\u001b[0m\u001b[0;34m)\u001b[0m\u001b[0;34m\u001b[0m\u001b[0;34m\u001b[0m\u001b[0m\n\u001b[0m\u001b[1;32m   1189\u001b[0m \u001b[0;34m\u001b[0m\u001b[0m\n\u001b[1;32m   1190\u001b[0m \u001b[0;34m\u001b[0m\u001b[0m\n",
      "\u001b[0;32m~/anaconda3/lib/python3.7/site-packages/sklearn/model_selection/_search.py\u001b[0m in \u001b[0;36mevaluate_candidates\u001b[0;34m(candidate_params)\u001b[0m\n\u001b[1;32m    713\u001b[0m                                \u001b[0;32mfor\u001b[0m \u001b[0mparameters\u001b[0m\u001b[0;34m,\u001b[0m \u001b[0;34m(\u001b[0m\u001b[0mtrain\u001b[0m\u001b[0;34m,\u001b[0m \u001b[0mtest\u001b[0m\u001b[0;34m)\u001b[0m\u001b[0;34m\u001b[0m\u001b[0;34m\u001b[0m\u001b[0m\n\u001b[1;32m    714\u001b[0m                                in product(candidate_params,\n\u001b[0;32m--> 715\u001b[0;31m                                           cv.split(X, y, groups)))\n\u001b[0m\u001b[1;32m    716\u001b[0m \u001b[0;34m\u001b[0m\u001b[0m\n\u001b[1;32m    717\u001b[0m                 \u001b[0;32mif\u001b[0m \u001b[0mlen\u001b[0m\u001b[0;34m(\u001b[0m\u001b[0mout\u001b[0m\u001b[0;34m)\u001b[0m \u001b[0;34m<\u001b[0m \u001b[0;36m1\u001b[0m\u001b[0;34m:\u001b[0m\u001b[0;34m\u001b[0m\u001b[0;34m\u001b[0m\u001b[0m\n",
      "\u001b[0;32m~/anaconda3/lib/python3.7/site-packages/joblib/parallel.py\u001b[0m in \u001b[0;36m__call__\u001b[0;34m(self, iterable)\u001b[0m\n\u001b[1;32m   1059\u001b[0m \u001b[0;34m\u001b[0m\u001b[0m\n\u001b[1;32m   1060\u001b[0m             \u001b[0;32mwith\u001b[0m \u001b[0mself\u001b[0m\u001b[0;34m.\u001b[0m\u001b[0m_backend\u001b[0m\u001b[0;34m.\u001b[0m\u001b[0mretrieval_context\u001b[0m\u001b[0;34m(\u001b[0m\u001b[0;34m)\u001b[0m\u001b[0;34m:\u001b[0m\u001b[0;34m\u001b[0m\u001b[0;34m\u001b[0m\u001b[0m\n\u001b[0;32m-> 1061\u001b[0;31m                 \u001b[0mself\u001b[0m\u001b[0;34m.\u001b[0m\u001b[0mretrieve\u001b[0m\u001b[0;34m(\u001b[0m\u001b[0;34m)\u001b[0m\u001b[0;34m\u001b[0m\u001b[0;34m\u001b[0m\u001b[0m\n\u001b[0m\u001b[1;32m   1062\u001b[0m             \u001b[0;31m# Make sure that we get a last message telling us we are done\u001b[0m\u001b[0;34m\u001b[0m\u001b[0;34m\u001b[0m\u001b[0;34m\u001b[0m\u001b[0m\n\u001b[1;32m   1063\u001b[0m             \u001b[0melapsed_time\u001b[0m \u001b[0;34m=\u001b[0m \u001b[0mtime\u001b[0m\u001b[0;34m.\u001b[0m\u001b[0mtime\u001b[0m\u001b[0;34m(\u001b[0m\u001b[0;34m)\u001b[0m \u001b[0;34m-\u001b[0m \u001b[0mself\u001b[0m\u001b[0;34m.\u001b[0m\u001b[0m_start_time\u001b[0m\u001b[0;34m\u001b[0m\u001b[0;34m\u001b[0m\u001b[0m\n",
      "\u001b[0;32m~/anaconda3/lib/python3.7/site-packages/joblib/parallel.py\u001b[0m in \u001b[0;36mretrieve\u001b[0;34m(self)\u001b[0m\n\u001b[1;32m    938\u001b[0m             \u001b[0;32mtry\u001b[0m\u001b[0;34m:\u001b[0m\u001b[0;34m\u001b[0m\u001b[0;34m\u001b[0m\u001b[0m\n\u001b[1;32m    939\u001b[0m                 \u001b[0;32mif\u001b[0m \u001b[0mgetattr\u001b[0m\u001b[0;34m(\u001b[0m\u001b[0mself\u001b[0m\u001b[0;34m.\u001b[0m\u001b[0m_backend\u001b[0m\u001b[0;34m,\u001b[0m \u001b[0;34m'supports_timeout'\u001b[0m\u001b[0;34m,\u001b[0m \u001b[0;32mFalse\u001b[0m\u001b[0;34m)\u001b[0m\u001b[0;34m:\u001b[0m\u001b[0;34m\u001b[0m\u001b[0;34m\u001b[0m\u001b[0m\n\u001b[0;32m--> 940\u001b[0;31m                     \u001b[0mself\u001b[0m\u001b[0;34m.\u001b[0m\u001b[0m_output\u001b[0m\u001b[0;34m.\u001b[0m\u001b[0mextend\u001b[0m\u001b[0;34m(\u001b[0m\u001b[0mjob\u001b[0m\u001b[0;34m.\u001b[0m\u001b[0mget\u001b[0m\u001b[0;34m(\u001b[0m\u001b[0mtimeout\u001b[0m\u001b[0;34m=\u001b[0m\u001b[0mself\u001b[0m\u001b[0;34m.\u001b[0m\u001b[0mtimeout\u001b[0m\u001b[0;34m)\u001b[0m\u001b[0;34m)\u001b[0m\u001b[0;34m\u001b[0m\u001b[0;34m\u001b[0m\u001b[0m\n\u001b[0m\u001b[1;32m    941\u001b[0m                 \u001b[0;32melse\u001b[0m\u001b[0;34m:\u001b[0m\u001b[0;34m\u001b[0m\u001b[0;34m\u001b[0m\u001b[0m\n\u001b[1;32m    942\u001b[0m                     \u001b[0mself\u001b[0m\u001b[0;34m.\u001b[0m\u001b[0m_output\u001b[0m\u001b[0;34m.\u001b[0m\u001b[0mextend\u001b[0m\u001b[0;34m(\u001b[0m\u001b[0mjob\u001b[0m\u001b[0;34m.\u001b[0m\u001b[0mget\u001b[0m\u001b[0;34m(\u001b[0m\u001b[0;34m)\u001b[0m\u001b[0;34m)\u001b[0m\u001b[0;34m\u001b[0m\u001b[0;34m\u001b[0m\u001b[0m\n",
      "\u001b[0;32m~/anaconda3/lib/python3.7/site-packages/joblib/_parallel_backends.py\u001b[0m in \u001b[0;36mwrap_future_result\u001b[0;34m(future, timeout)\u001b[0m\n\u001b[1;32m    540\u001b[0m         AsyncResults.get from multiprocessing.\"\"\"\n\u001b[1;32m    541\u001b[0m         \u001b[0;32mtry\u001b[0m\u001b[0;34m:\u001b[0m\u001b[0;34m\u001b[0m\u001b[0;34m\u001b[0m\u001b[0m\n\u001b[0;32m--> 542\u001b[0;31m             \u001b[0;32mreturn\u001b[0m \u001b[0mfuture\u001b[0m\u001b[0;34m.\u001b[0m\u001b[0mresult\u001b[0m\u001b[0;34m(\u001b[0m\u001b[0mtimeout\u001b[0m\u001b[0;34m=\u001b[0m\u001b[0mtimeout\u001b[0m\u001b[0;34m)\u001b[0m\u001b[0;34m\u001b[0m\u001b[0;34m\u001b[0m\u001b[0m\n\u001b[0m\u001b[1;32m    543\u001b[0m         \u001b[0;32mexcept\u001b[0m \u001b[0mCfTimeoutError\u001b[0m \u001b[0;32mas\u001b[0m \u001b[0me\u001b[0m\u001b[0;34m:\u001b[0m\u001b[0;34m\u001b[0m\u001b[0;34m\u001b[0m\u001b[0m\n\u001b[1;32m    544\u001b[0m             \u001b[0;32mraise\u001b[0m \u001b[0mTimeoutError\u001b[0m \u001b[0;32mfrom\u001b[0m \u001b[0me\u001b[0m\u001b[0;34m\u001b[0m\u001b[0;34m\u001b[0m\u001b[0m\n",
      "\u001b[0;32m~/anaconda3/lib/python3.7/concurrent/futures/_base.py\u001b[0m in \u001b[0;36mresult\u001b[0;34m(self, timeout)\u001b[0m\n\u001b[1;32m    428\u001b[0m                 \u001b[0;32mreturn\u001b[0m \u001b[0mself\u001b[0m\u001b[0;34m.\u001b[0m\u001b[0m__get_result\u001b[0m\u001b[0;34m(\u001b[0m\u001b[0;34m)\u001b[0m\u001b[0;34m\u001b[0m\u001b[0;34m\u001b[0m\u001b[0m\n\u001b[1;32m    429\u001b[0m \u001b[0;34m\u001b[0m\u001b[0m\n\u001b[0;32m--> 430\u001b[0;31m             \u001b[0mself\u001b[0m\u001b[0;34m.\u001b[0m\u001b[0m_condition\u001b[0m\u001b[0;34m.\u001b[0m\u001b[0mwait\u001b[0m\u001b[0;34m(\u001b[0m\u001b[0mtimeout\u001b[0m\u001b[0;34m)\u001b[0m\u001b[0;34m\u001b[0m\u001b[0;34m\u001b[0m\u001b[0m\n\u001b[0m\u001b[1;32m    431\u001b[0m \u001b[0;34m\u001b[0m\u001b[0m\n\u001b[1;32m    432\u001b[0m             \u001b[0;32mif\u001b[0m \u001b[0mself\u001b[0m\u001b[0;34m.\u001b[0m\u001b[0m_state\u001b[0m \u001b[0;32min\u001b[0m \u001b[0;34m[\u001b[0m\u001b[0mCANCELLED\u001b[0m\u001b[0;34m,\u001b[0m \u001b[0mCANCELLED_AND_NOTIFIED\u001b[0m\u001b[0;34m]\u001b[0m\u001b[0;34m:\u001b[0m\u001b[0;34m\u001b[0m\u001b[0;34m\u001b[0m\u001b[0m\n",
      "\u001b[0;32m~/anaconda3/lib/python3.7/threading.py\u001b[0m in \u001b[0;36mwait\u001b[0;34m(self, timeout)\u001b[0m\n\u001b[1;32m    294\u001b[0m         \u001b[0;32mtry\u001b[0m\u001b[0;34m:\u001b[0m    \u001b[0;31m# restore state no matter what (e.g., KeyboardInterrupt)\u001b[0m\u001b[0;34m\u001b[0m\u001b[0;34m\u001b[0m\u001b[0m\n\u001b[1;32m    295\u001b[0m             \u001b[0;32mif\u001b[0m \u001b[0mtimeout\u001b[0m \u001b[0;32mis\u001b[0m \u001b[0;32mNone\u001b[0m\u001b[0;34m:\u001b[0m\u001b[0;34m\u001b[0m\u001b[0;34m\u001b[0m\u001b[0m\n\u001b[0;32m--> 296\u001b[0;31m                 \u001b[0mwaiter\u001b[0m\u001b[0;34m.\u001b[0m\u001b[0macquire\u001b[0m\u001b[0;34m(\u001b[0m\u001b[0;34m)\u001b[0m\u001b[0;34m\u001b[0m\u001b[0;34m\u001b[0m\u001b[0m\n\u001b[0m\u001b[1;32m    297\u001b[0m                 \u001b[0mgotit\u001b[0m \u001b[0;34m=\u001b[0m \u001b[0;32mTrue\u001b[0m\u001b[0;34m\u001b[0m\u001b[0;34m\u001b[0m\u001b[0m\n\u001b[1;32m    298\u001b[0m             \u001b[0;32melse\u001b[0m\u001b[0;34m:\u001b[0m\u001b[0;34m\u001b[0m\u001b[0;34m\u001b[0m\u001b[0m\n",
      "\u001b[0;31mKeyboardInterrupt\u001b[0m: "
     ]
    }
   ],
   "source": [
    "from distribution import TestDistribution\n",
    "\n",
    "from RTER import RegressionTree\n",
    "\n",
    "import numpy as np\n",
    "\n",
    "from sklearn.metrics import mean_squared_error as MSE\n",
    "from sklearn.model_selection import GridSearchCV\n",
    "from sklearn.ensemble import GradientBoostingRegressor, RandomForestRegressor\n",
    "\n",
    "from time import time\n",
    "import os\n",
    "\n",
    "\n",
    "\n",
    "distribution_index_vec=[1,2,3,4]\n",
    "repeat_time=2\n",
    "\n",
    "\n",
    "log_file_dir = \"./results/accuracy/\"\n",
    "\n",
    "\n",
    "for distribution_iter,distribution_index in enumerate(distribution_index_vec):\n",
    "\n",
    "    for iterate in range(repeat_time):\n",
    "\n",
    "\n",
    "        \n",
    "        np.random.seed(iterate)\n",
    "        # generate distribution\n",
    "\n",
    "\n",
    "        sample_generator=TestDistribution(distribution_index).returnDistribution()\n",
    "        n_test, n_train = 2000,100\n",
    "        X_train, Y_train = sample_generator.generate(n_train)\n",
    "        X_test, Y_test = sample_generator.generate_true(n_test)\n",
    "        \n",
    "        print(Y_test[:5])\n",
    "\n",
    "        '''\n",
    "        # RTER\n",
    "        time_start=time()\n",
    "        #parameters={\"C\":[i for i in np.logspace(-1.5,1.5,15)]}\n",
    "        #cv_model_AWNN=GridSearchCV(estimator=AWNN(),param_grid=parameters,n_jobs=-1,cv=10)\n",
    "        #cv_model_AWNN.fit(X_train)\n",
    "        RTER_model=RegressionTree(estimator=\"pointwise_extrapolation_estimator\",\n",
    "                         splitter=\"midpoint\",\n",
    "                         min_samples_split=30,\n",
    "                         max_depth=3,\n",
    "                         random_state=iterate,\n",
    "                         truncate_ratio_low=0.3,\n",
    "                         truncate_ratio_up=0.7)\n",
    "        RTER_model.fit(X_train,Y_train)\n",
    "        Y_hat=RTER_model.predict(X_test)\n",
    "        \n",
    "        time_end=time()\n",
    "        \n",
    "        log_file_name = \"{}.csv\".format(\"RTER\")\n",
    "        log_file_path = os.path.join(log_file_dir, log_file_name)\n",
    "        \n",
    "        with open(log_file_path, \"a\") as f:\n",
    "            logs= \"{},{},{},{},{},{}\\n\".format(distribution_index,\n",
    "                                          MSE(Y_hat,Y_test), time_end-time_start,\n",
    "                                          iterate,n_train,n_test)\n",
    "            f.writelines(logs)\n",
    "\n",
    "            '''\n",
    "        \n",
    "        \n",
    "        # RTER with cv\n",
    "        time_start=time()\n",
    "        parameters={\"truncate_ratio_low\":[0.1,0.2,0.3 ], \"truncate_ratio_up\":[0.7,0.8 ]}\n",
    "        cv_model_RTER=GridSearchCV(estimator=RegressionTree(min_samples_split=30, max_depth=3,parallel_jobs=0),param_grid=parameters, cv=3, n_jobs=18)\n",
    "        cv_model_RTER.fit(X_train, Y_train)\n",
    "        \n",
    "        RTER_model = cv_model_RTER.best_estimator_\n",
    "        mse_score=RTER_model.score(X_test, Y_test)\n",
    "        \n",
    "        time_end=time()\n",
    "        \n",
    "            \n",
    "            \n",
    "    \n",
    "\n",
    "        print(RTER_model.predict(X_test)[:5])\n",
    "            \n",
    "        \n",
    "        # GBRT\n",
    "        time_start=time()\n",
    "        \n",
    "        model_GBRT = GradientBoostingRegressor(n_estimators = 3000)\n",
    "        model_GBRT.fit(X_train, Y_train)\n",
    "        \n",
    "        y_hat=model_GBRT.predict(X_test)\n",
    "        mse_score = MSE(y_hat, Y_test)\n",
    "        \n",
    "        time_end=time()\n",
    "        \n",
    "        log_file_name = \"{}.csv\".format(\"GBRT\")\n",
    "        log_file_path = os.path.join(log_file_dir, log_file_name)\n",
    "        \n",
    "        with open(log_file_path, \"a\") as f:\n",
    "            logs= \"{},{},{},{},{},{}\\n\".format(distribution_index,\n",
    "                                          mse_score, time_end-time_start,\n",
    "                                          iterate,n_train,n_test)\n",
    "            f.writelines(logs)\n",
    "            \n",
    "            \n",
    "\n",
    "        print(y_hat[:5])\n",
    "            \n",
    "            \n",
    "            \n",
    "        # GBRT\n",
    "        time_start=time()\n",
    "        \n",
    "        model_RFR = RandomForestRegressor(n_estimators = 200)\n",
    "        model_RFR.fit(X_train, Y_train.ravel())\n",
    "        \n",
    "        y_hat=model_RFR.predict(X_test)\n",
    "        mse_score = MSE(y_hat, Y_test)\n",
    "        \n",
    "        time_end=time()\n",
    "        \n",
    "        log_file_name = \"{}.csv\".format(\"RFR\")\n",
    "        log_file_path = os.path.join(log_file_dir, log_file_name)\n",
    "        \n",
    "        with open(log_file_path, \"a\") as f:\n",
    "            logs= \"{},{},{},{},{},{}\\n\".format(distribution_index,\n",
    "                                          mse_score, time_end-time_start,\n",
    "                                          iterate,n_train,n_test)\n",
    "            f.writelines(logs)\n",
    "            \n",
    "\n",
    "        print(y_hat[:5])\n",
    "        \n",
    "        \n",
    "        \n",
    "        print(\"next round\")"
   ]
  },
  {
   "cell_type": "code",
   "execution_count": null,
   "metadata": {},
   "outputs": [],
   "source": []
  },
  {
   "cell_type": "code",
   "execution_count": null,
   "metadata": {},
   "outputs": [],
   "source": []
  },
  {
   "cell_type": "markdown",
   "metadata": {},
   "source": [
    "## Test Distribution Visualization"
   ]
  },
  {
   "cell_type": "code",
   "execution_count": 1,
   "metadata": {},
   "outputs": [],
   "source": [
    "from RTER import RegressionTree\n",
    "from distribution import TestDistribution\n",
    "import numpy as np\n",
    "\n",
    "\n",
    "from sklearn.metrics import mean_squared_error as MSE\n",
    "import matplotlib.pyplot as plt\n",
    "\n",
    "from IPython.core.interactiveshell import InteractiveShell\n",
    "InteractiveShell.ast_node_interactivity = \"all\"\n",
    "\n",
    "from time import time\n"
   ]
  },
  {
   "cell_type": "code",
   "execution_count": 46,
   "metadata": {},
   "outputs": [],
   "source": [
    "generator=TestDistribution(3).returnDistribution()\n",
    "np.random.seed(2)\n",
    "X_train,Y_train=generator.generate(1000)\n",
    "X_test,Y_test=generator.generate(1000)\n",
    "\n",
    "truncate_ratio_low, truncate_ratio_up =0.05, 0.7"
   ]
  },
  {
   "cell_type": "code",
   "execution_count": 47,
   "metadata": {},
   "outputs": [
    {
     "data": {
      "text/plain": [
       "6282.1255917025055"
      ]
     },
     "execution_count": 47,
     "metadata": {},
     "output_type": "execute_result"
    }
   ],
   "source": [
    "## difference between training error and test error\n",
    "ERT_model=RegressionTree(estimator=\"pointwise_extrapolation_estimator\",\n",
    "                         splitter=\"maxedge\",\n",
    "                         min_samples_split=30,\n",
    "                         max_depth=2,\n",
    "                         order=1,\n",
    "                         random_state=4,\n",
    "                         truncate_ratio_low=truncate_ratio_low,\n",
    "                         truncate_ratio_up=truncate_ratio_up)\n",
    "ERT_model.fit(X_train,Y_train)\n",
    "Y_hat=ERT_model.predict(X_train)\n",
    "\n",
    "#np.arange(0.0001,0.04,0.0005).reshape(-1,1)\n",
    "MSE(Y_hat,Y_train)"
   ]
  },
  {
   "cell_type": "code",
   "execution_count": 51,
   "metadata": {},
   "outputs": [
    {
     "data": {
      "text/plain": [
       "6969.866246256526"
      ]
     },
     "execution_count": 51,
     "metadata": {},
     "output_type": "execute_result"
    }
   ],
   "source": [
    "ERT_model=RegressionTree(estimator=\"pointwise_extrapolation_estimator\",\n",
    "                         splitter=\"maxedge\",\n",
    "                         min_samples_split=30,\n",
    "                         max_depth=2,\n",
    "                         order=1,\n",
    "                         random_state=4,\n",
    "                         truncate_ratio_low=truncate_ratio_low,\n",
    "                         truncate_ratio_up=truncate_ratio_up)\n",
    "ERT_model.fit(X_train,Y_train)\n",
    "Y_hat=ERT_model.predict(X_test)\n",
    "\n",
    "#np.arange(0.0001,0.04,0.0005).reshape(-1,1)\n",
    "MSE(Y_hat,Y_test)"
   ]
  },
  {
   "cell_type": "code",
   "execution_count": null,
   "metadata": {},
   "outputs": [],
   "source": []
  },
  {
   "cell_type": "code",
   "execution_count": 49,
   "metadata": {},
   "outputs": [
    {
     "data": {
      "text/plain": [
       "GradientBoostingRegressor(n_estimators=3000)"
      ]
     },
     "execution_count": 49,
     "metadata": {},
     "output_type": "execute_result"
    },
    {
     "data": {
      "text/plain": [
       "314.8055332404153"
      ]
     },
     "execution_count": 49,
     "metadata": {},
     "output_type": "execute_result"
    }
   ],
   "source": [
    "from sklearn.ensemble import GradientBoostingRegressor\n",
    "\n",
    "\n",
    "model_GBRT = GradientBoostingRegressor(n_estimators = 3000)\n",
    "\n",
    "model_GBRT.fit(X_train, Y_train.ravel())\n",
    "y_hat=model_GBRT.predict(X_test)\n",
    "mse_score = MSE(y_hat, Y_test)\n",
    "mse_score"
   ]
  },
  {
   "cell_type": "code",
   "execution_count": 52,
   "metadata": {},
   "outputs": [
    {
     "data": {
      "text/plain": [
       "[<matplotlib.lines.Line2D at 0x7fa3aa56d7d0>]"
      ]
     },
     "execution_count": 52,
     "metadata": {},
     "output_type": "execute_result"
    },
    {
     "data": {
      "text/plain": [
       "[<matplotlib.lines.Line2D at 0x7fa3a9ac5ed0>]"
      ]
     },
     "execution_count": 52,
     "metadata": {},
     "output_type": "execute_result"
    },
    {
     "data": {
      "text/plain": [
       "<matplotlib.lines.Line2D at 0x7fa3a9a6c150>"
      ]
     },
     "execution_count": 52,
     "metadata": {},
     "output_type": "execute_result"
    },
    {
     "data": {
      "text/plain": [
       "<matplotlib.lines.Line2D at 0x7fa3aa54de90>"
      ]
     },
     "execution_count": 52,
     "metadata": {},
     "output_type": "execute_result"
    },
    {
     "data": {
      "image/png": "[encoded data removed]",
      "text/plain": [
       "<Figure size 432x288 with 1 Axes>"
      ]
     },
     "metadata": {
      "needs_background": "light"
     },
     "output_type": "display_data"
    }
   ],
   "source": [
    "node_idx=1\n",
    "query_obj=list(ERT_model.tree_.leafnode_fun.values())[node_idx]\n",
    "X_range,dt_X, dt_Y = query_obj.X_range, query_obj.dt_X, query_obj.dt_Y\n",
    "np.random.seed(2)\n",
    "X_extra= np.random.rand(dt_X.shape[1])*(X_range[1]-X_range[0])+X_range[0]\n",
    "sorted_ratio, sorted_prediction, intercept = ERT_model.get_node_extrapolation(dt_X, dt_Y, X_extra, X_range, 1, truncate_ratio_low, truncate_ratio_up)\n",
    "plt.plot((sorted_ratio)**2,sorted_prediction)\n",
    "plt.plot((sorted_ratio**2)[int(len(sorted_ratio)*truncate_ratio_low):int(len(sorted_ratio)*truncate_ratio_up)],sorted_prediction[int(len(sorted_prediction)*truncate_ratio_low):int(len(sorted_prediction)*truncate_ratio_up)])\n",
    "plt.axhline(intercept,color=\"red\")\n",
    "plt.axhline(generator.evaluate(X_extra.reshape(1,-1)),color=\"blue\")"
   ]
  },
  {
   "cell_type": "code",
   "execution_count": null,
   "metadata": {},
   "outputs": [],
   "source": []
  },
  {
   "cell_type": "code",
   "execution_count": 29,
   "metadata": {},
   "outputs": [
    {
     "data": {
      "text/plain": [
       "[<matplotlib.lines.Line2D at 0x7fa3aaa3fcd0>]"
      ]
     },
     "execution_count": 29,
     "metadata": {},
     "output_type": "execute_result"
    },
    {
     "data": {
      "text/plain": [
       "[<matplotlib.lines.Line2D at 0x7fa3aa0a3610>]"
      ]
     },
     "execution_count": 29,
     "metadata": {},
     "output_type": "execute_result"
    },
    {
     "data": {
      "text/plain": [
       "<matplotlib.lines.Line2D at 0x7fa3aa2dab90>"
      ]
     },
     "execution_count": 29,
     "metadata": {},
     "output_type": "execute_result"
    },
    {
     "data": {
      "text/plain": [
       "<matplotlib.lines.Line2D at 0x7fa3aa2dae90>"
      ]
     },
     "execution_count": 29,
     "metadata": {},
     "output_type": "execute_result"
    },
    {
     "data": {
      "image/png": "[encoded data removed]",
      "text/plain": [
       "<Figure size 432x288 with 1 Axes>"
      ]
     },
     "metadata": {
      "needs_background": "light"
     },
     "output_type": "display_data"
    }
   ],
   "source": [
    "node_idx=1\n",
    "query_obj=list(ERT_model.tree_.leafnode_fun.values())[node_idx]\n",
    "X_range,dt_X, dt_Y = query_obj.X_range, query_obj.dt_X, query_obj.dt_Y\n",
    "np.random.seed(5)\n",
    "X_extra= np.random.rand(dt_X.shape[1])*(X_range[1]-X_range[0])+X_range[0]\n",
    "sorted_ratio, sorted_prediction, intercept = ERT_model.get_node_extrapolation(dt_X, dt_Y, X_extra, X_range, 1, truncate_ratio_low, truncate_ratio_up)\n",
    "plt.plot((sorted_ratio)**2,sorted_prediction)\n",
    "plt.plot((sorted_ratio**2)[int(len(sorted_ratio)*truncate_ratio_low):int(len(sorted_ratio)*truncate_ratio_up)],sorted_prediction[int(len(sorted_prediction)*truncate_ratio_low):int(len(sorted_prediction)*truncate_ratio_up)])\n",
    "plt.axhline(intercept,color=\"red\")\n",
    "plt.axhline(generator.evaluate(X_extra.reshape(1,-1)),color=\"blue\")"
   ]
  },
  {
   "cell_type": "code",
   "execution_count": null,
   "metadata": {},
   "outputs": [],
   "source": [
    "ERT_model"
   ]
  },
  {
   "cell_type": "code",
   "execution_count": 53,
   "metadata": {},
   "outputs": [
    {
     "data": {
      "text/plain": [
       "[<matplotlib.lines.Line2D at 0x7f539f555210>]"
      ]
     },
     "execution_count": 53,
     "metadata": {},
     "output_type": "execute_result"
    },
    {
     "data": {
      "text/plain": [
       "[<matplotlib.lines.Line2D at 0x7f539f5556d0>]"
      ]
     },
     "execution_count": 53,
     "metadata": {},
     "output_type": "execute_result"
    },
    {
     "data": {
      "text/plain": [
       "<matplotlib.lines.Line2D at 0x7f539f555510>"
      ]
     },
     "execution_count": 53,
     "metadata": {},
     "output_type": "execute_result"
    },
    {
     "data": {
      "text/plain": [
       "<matplotlib.lines.Line2D at 0x7f539f555710>"
      ]
     },
     "execution_count": 53,
     "metadata": {},
     "output_type": "execute_result"
    },
    {
     "data": {
      "image/png": "[encoded data removed]",
      "text/plain": [
       "<Figure size 432x288 with 1 Axes>"
      ]
     },
     "metadata": {
      "needs_background": "light"
     },
     "output_type": "display_data"
    }
   ],
   "source": [
    "plt.plot((sorted_ratio)**2,sorted_prediction)\n",
    "plt.plot((sorted_ratio**2)[int(len(sorted_ratio)*truncate_ratio_low):int(len(sorted_ratio)*truncate_ratio_up)],sorted_prediction[int(len(sorted_prediction)*truncate_ratio_low):int(len(sorted_prediction)*truncate_ratio_up)])\n",
    "plt.axhline(intercept,color=\"red\")\n",
    "plt.axhline(generator.evaluate(dt_X[pt_idx].reshape(1,-1)),color=\"blue\")"
   ]
  },
  {
   "cell_type": "code",
   "execution_count": 30,
   "metadata": {},
   "outputs": [
    {
     "data": {
      "text/plain": [
       "array([267.89584165])"
      ]
     },
     "execution_count": 30,
     "metadata": {},
     "output_type": "execute_result"
    },
    {
     "data": {
      "text/plain": [
       "array([[269.55263095],\n",
       "       [282.80979441],\n",
       "       [255.49843134],\n",
       "       [227.68029847],\n",
       "       [251.39782463],\n",
       "       [270.75474259],\n",
       "       [271.41506463],\n",
       "       [262.79172729],\n",
       "       [268.59424407],\n",
       "       [266.96595136],\n",
       "       [266.59202445],\n",
       "       [254.73436474],\n",
       "       [268.57879782],\n",
       "       [258.34933706],\n",
       "       [261.57079588],\n",
       "       [280.12711994],\n",
       "       [292.15522939],\n",
       "       [301.7356819 ],\n",
       "       [312.38390159],\n",
       "       [325.94439231],\n",
       "       [329.35222491],\n",
       "       [325.42892986],\n",
       "       [319.08132134],\n",
       "       [310.20560461],\n",
       "       [314.87358835],\n",
       "       [314.89686941],\n",
       "       [313.28253323],\n",
       "       [304.97111404],\n",
       "       [316.46102939],\n",
       "       [309.61589967],\n",
       "       [302.76613912],\n",
       "       [296.91679921],\n",
       "       [296.59096626],\n",
       "       [289.84969648],\n",
       "       [286.42195832],\n",
       "       [281.1311876 ],\n",
       "       [280.08634101],\n",
       "       [285.18751761],\n",
       "       [295.63595536],\n",
       "       [292.20200432],\n",
       "       [288.17398532],\n",
       "       [291.28431631],\n",
       "       [296.87986546],\n",
       "       [301.50882292],\n",
       "       [301.32053712],\n",
       "       [302.78972082],\n",
       "       [311.72617878],\n",
       "       [312.65214802],\n",
       "       [308.6643083 ],\n",
       "       [304.5239222 ],\n",
       "       [311.40679609],\n",
       "       [310.27455209],\n",
       "       [306.62913123],\n",
       "       [305.90247927],\n",
       "       [311.83695813],\n",
       "       [312.16842019],\n",
       "       [307.89616792],\n",
       "       [306.7560046 ],\n",
       "       [309.54829425],\n",
       "       [310.0512985 ],\n",
       "       [309.01963163],\n",
       "       [307.75350969],\n",
       "       [310.19757897],\n",
       "       [306.49019647],\n",
       "       [302.82537725],\n",
       "       [309.85743915],\n",
       "       [308.86795233],\n",
       "       [315.56587841],\n",
       "       [319.48856146],\n",
       "       [325.7549825 ],\n",
       "       [327.20076593],\n",
       "       [330.87969431],\n",
       "       [326.97652188],\n",
       "       [328.35924573],\n",
       "       [326.37951028],\n",
       "       [322.83350298],\n",
       "       [320.53714059],\n",
       "       [321.30481726],\n",
       "       [317.70550015],\n",
       "       [318.13914093],\n",
       "       [321.60290292],\n",
       "       [318.62736577],\n",
       "       [321.53414441],\n",
       "       [318.63405105],\n",
       "       [316.3062017 ],\n",
       "       [320.61276488],\n",
       "       [321.6515883 ],\n",
       "       [322.00913694],\n",
       "       [324.63845892],\n",
       "       [321.65955591],\n",
       "       [322.30764238],\n",
       "       [320.49871138],\n",
       "       [318.701421  ],\n",
       "       [320.25416754],\n",
       "       [318.0847098 ],\n",
       "       [316.15574987],\n",
       "       [317.92111735],\n",
       "       [320.96434241],\n",
       "       [319.05021543],\n",
       "       [322.38390896],\n",
       "       [323.169209  ],\n",
       "       [325.2993074 ],\n",
       "       [330.0901021 ],\n",
       "       [332.22429242],\n",
       "       [329.92397483],\n",
       "       [328.83177809],\n",
       "       [326.8082366 ],\n",
       "       [324.15238302],\n",
       "       [327.01636968],\n",
       "       [325.67467457],\n",
       "       [323.83398909],\n",
       "       [323.43511732],\n",
       "       [323.83201319],\n",
       "       [322.25861631],\n",
       "       [319.92602159],\n",
       "       [322.45680984],\n",
       "       [320.24444538],\n",
       "       [319.24355298],\n",
       "       [318.3614222 ],\n",
       "       [322.68967952],\n",
       "       [321.21176331],\n",
       "       [319.48269124]])"
      ]
     },
     "execution_count": 30,
     "metadata": {},
     "output_type": "execute_result"
    }
   ],
   "source": [
    "generator.evaluate(dt_X[pt_idx].reshape(1,-1))\n",
    "sorted_prediction"
   ]
  },
  {
   "cell_type": "markdown",
   "metadata": {},
   "source": [
    "## Stability"
   ]
  },
  {
   "cell_type": "code",
   "execution_count": 6,
   "metadata": {},
   "outputs": [
    {
     "data": {
      "text/plain": [
       "[<matplotlib.lines.Line2D at 0x7f225ae4bbd0>]"
      ]
     },
     "execution_count": 6,
     "metadata": {},
     "output_type": "execute_result"
    },
    {
     "data": {
      "image/png": "[encoded data removed]",
      "text/plain": [
       "<Figure size 432x288 with 1 Axes>"
      ]
     },
     "metadata": {
      "needs_background": "light"
     },
     "output_type": "display_data"
    }
   ],
   "source": [
    "MSE_vec=[]\n",
    "repeat_time=50\n",
    "generator=TestDistribution(4).returnDistribution()\n",
    "for seed in range(repeat_time):\n",
    "    np.random.seed(1)\n",
    "    X_train, Y_train = generator.generate(1000)\n",
    "    X_test, Y_test = generator.generate(1000)\n",
    "    \n",
    "\n",
    "    ERT_model=RegressionTree(estimator=\"pointwise_extrapolation_estimator\",\n",
    "                         splitter=\"midpoint\",\n",
    "                         min_samples_split=30,\n",
    "                         max_depth=1,\n",
    "                         order=1,\n",
    "                         random_state=seed,\n",
    "                         truncate_ratio_low=0.3,\n",
    "                         truncate_ratio_up=0.8)\n",
    "    ERT_model.fit(X_train,Y_train)\n",
    "    Y_hat=ERT_model.predict(X_test)\n",
    "    MSE_vec.append(MSE(Y_hat,Y_test))\n",
    "\n",
    "plt.plot(MSE_vec)"
   ]
  },
  {
   "cell_type": "code",
   "execution_count": null,
   "metadata": {},
   "outputs": [],
   "source": []
  },
  {
   "cell_type": "code",
   "execution_count": 166,
   "metadata": {},
   "outputs": [
    {
     "data": {
      "text/plain": [
       "3"
      ]
     },
     "execution_count": 166,
     "metadata": {},
     "output_type": "execute_result"
    }
   ],
   "source": [
    "np.max([1,2,3,3])"
   ]
  },
  {
   "cell_type": "code",
   "execution_count": 170,
   "metadata": {},
   "outputs": [
    {
     "data": {
      "text/plain": [
       "array([2, 3])"
      ]
     },
     "execution_count": 170,
     "metadata": {},
     "output_type": "execute_result"
    }
   ],
   "source": [
    "x=np.array([1,2,3,3])\n"
   ]
  },
  {
   "cell_type": "code",
   "execution_count": 173,
   "metadata": {},
   "outputs": [
    {
     "data": {
      "text/plain": [
       "3"
      ]
     },
     "execution_count": 173,
     "metadata": {},
     "output_type": "execute_result"
    }
   ],
   "source": [
    "np.random.choice(np.where(x==x.max())[0])"
   ]
  },
  {
   "cell_type": "code",
   "execution_count": null,
   "metadata": {},
   "outputs": [],
   "source": []
  }
 ],
 "metadata": {
  "kernelspec": {
   "display_name": "Python 3",
   "language": "python",
   "name": "python3"
  },
  "language_info": {
   "codemirror_mode": {
    "name": "ipython",
    "version": 3
   },
   "file_extension": ".py",
   "mimetype": "text/x-python",
   "name": "python",
   "nbconvert_exporter": "python",
   "pygments_lexer": "ipython3",
   "version": "3.7.9"
  }
 },
 "nbformat": 4,
 "nbformat_minor": 5
}
