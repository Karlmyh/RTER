{
 "cells": [
  {
   "cell_type": "code",
   "execution_count": 1,
   "id": "f73e301d",
   "metadata": {},
   "outputs": [],
   "source": [
    "import numpy as np\n",
    "from IPython.core.interactiveshell import InteractiveShell\n",
    "InteractiveShell.ast_node_interactivity = \"all\"\n",
    "from time import time\n",
    "import matplotlib.pyplot as plt\n",
    "import seaborn as sb\n",
    "import pandas as pd\n",
    "import os\n",
    "\n",
    "from RTER import RegressionTree\n",
    "from distribution import TestDistribution\n",
    "from ensemble import RegressionTreeBoosting, RegressionTreeEnsemble\n",
    "\n",
    "\n",
    "\n",
    "from sklearn.metrics import mean_squared_error as MSE\n",
    "from sklearn.model_selection import GridSearchCV\n",
    "from sklearn.ensemble import GradientBoostingRegressor\n"
   ]
  },
  {
   "cell_type": "code",
   "execution_count": 6,
   "id": "f9c443d9",
   "metadata": {},
   "outputs": [],
   "source": [
    "sample_generator=TestDistribution(2).returnDistribution()\n",
    "n_test, n_train = 4000,2000\n",
    "X_train, Y_train = sample_generator.generate(n_train)\n",
    "X_test, Y_test = sample_generator.generate(n_test)\n",
    "\n"
   ]
  },
  {
   "cell_type": "code",
   "execution_count": 8,
   "id": "a01da0ee",
   "metadata": {},
   "outputs": [
    {
     "data": {
      "text/plain": [
       "GridSearchCV(cv=3,\n",
       "             estimator=<RTER.tree.RegressionTree object at 0x7f83054efe20>,\n",
       "             n_jobs=-1,\n",
       "             param_grid={'V': [5, 25],\n",
       "                         'estimator': ['naive_estimator',\n",
       "                                       'pointwise_extrapolation_estimator'],\n",
       "                         'lamda': [0.0001, 0.1], 'max_depth': [0, 1, 3],\n",
       "                         'min_samples_split': [5, 10], 'order': [0, 2],\n",
       "                         'r_range_up': [0.6, 1],\n",
       "                         'splitter': ['maxedge', 'varreduction']})"
      ]
     },
     "execution_count": 8,
     "metadata": {},
     "output_type": "execute_result"
    },
    {
     "data": {
      "text/plain": [
       "{'V': 25,\n",
       " 'estimator': 'pointwise_extrapolation_estimator',\n",
       " 'lamda': 0.0001,\n",
       " 'max_depth': 3,\n",
       " 'min_samples_split': 5,\n",
       " 'order': 0,\n",
       " 'r_range_up': 1,\n",
       " 'splitter': 'varreduction'}"
      ]
     },
     "execution_count": 8,
     "metadata": {},
     "output_type": "execute_result"
    }
   ],
   "source": [
    "\n",
    "\n",
    "\n",
    "parameters= {\"min_samples_split\":[5,10], \"max_depth\":[0,1,3],\n",
    "             \"order\":[0,2],\"splitter\":[\"maxedge\",\"varreduction\"],\n",
    "             \"estimator\":[\"naive_estimator\",\"pointwise_extrapolation_estimator\"],\n",
    "             \"r_range_up\":[0.6,1],\"lamda\":[0.0001,0.1],\"V\":[5,25]}\n",
    "\n",
    "\n",
    "\n",
    "cv_model_RTER=GridSearchCV(estimator=RegressionTree(),param_grid=parameters, cv=3, n_jobs=-1)\n",
    "cv_model_RTER.fit(X_train, Y_train) ##############\n",
    "\n",
    "cv_model_RTER.best_params_\n",
    "\n",
    "RTER_model = cv_model_RTER.best_estimator_\n",
    "mse_score= - RTER_model.score(X_test, Y_test)\n",
    "time_end=time()\n",
    "\n",
    "mse_score\n"
   ]
  },
  {
   "cell_type": "code",
   "execution_count": 7,
   "id": "50381c9a",
   "metadata": {},
   "outputs": [
    {
     "data": {
      "text/plain": [
       "GridSearchCV(cv=5,\n",
       "             estimator=<ensemble.ensemble.RegressionTreeEnsemble object at 0x7f8309be97f0>,\n",
       "             n_jobs=-1,\n",
       "             param_grid={'V': [10],\n",
       "                         'estimator': ['naive_estimator',\n",
       "                                       'pointwise_extrapolation_estimator'],\n",
       "                         'lamda': [0.1], 'max_depth': [1, 3],\n",
       "                         'max_features': [0.7, 1], 'max_samples': [0.7, 1],\n",
       "                         'min_samples_split': [10], 'n_estimators': [5],\n",
       "                         'order': [0, 2], 'r_range_up': [1],\n",
       "                         'splitter': ['maxedge', 'varreduction']})"
      ]
     },
     "execution_count": 7,
     "metadata": {},
     "output_type": "execute_result"
    },
    {
     "data": {
      "text/plain": [
       "3.800274314539616"
      ]
     },
     "execution_count": 7,
     "metadata": {},
     "output_type": "execute_result"
    }
   ],
   "source": [
    "# ensemble\n",
    "time_start=time()\n",
    "parameters= {\"min_samples_split\":[10], \"max_depth\":[1,3],\n",
    "             \"order\":[0,2],\"splitter\":[\"maxedge\",\"varreduction\"],\n",
    "             \"estimator\":[\"naive_estimator\",\"pointwise_extrapolation_estimator\"],\n",
    "             \"r_range_up\":[1],\"lamda\":[0.1],\"V\":[10],\n",
    "            \"n_estimators\":[5],\"max_samples\":[0.7,1],\"max_features\":[0.7,1]}\n",
    "\n",
    "\n",
    "cv_model_ensemble=GridSearchCV(estimator=RegressionTreeEnsemble(),param_grid=parameters, cv=5, n_jobs=-1)\n",
    "cv_model_ensemble.fit(X_train, Y_train)\n",
    "ensemble_model = cv_model_ensemble.best_estimator_\n",
    "mse_score= - ensemble_model.score(X_test, Y_test)\n",
    "time_end=time()\n",
    "\n",
    "mse_score\n"
   ]
  },
  {
   "cell_type": "code",
   "execution_count": null,
   "id": "76546690",
   "metadata": {},
   "outputs": [],
   "source": []
  },
  {
   "cell_type": "code",
   "execution_count": null,
   "id": "73d5e13e",
   "metadata": {},
   "outputs": [],
   "source": []
  },
  {
   "cell_type": "code",
   "execution_count": null,
   "id": "59441b41",
   "metadata": {},
   "outputs": [],
   "source": []
  }
 ],
 "metadata": {
  "kernelspec": {
   "display_name": "Python 3 (ipykernel)",
   "language": "python",
   "name": "python3"
  },
  "language_info": {
   "codemirror_mode": {
    "name": "ipython",
    "version": 3
   },
   "file_extension": ".py",
   "mimetype": "text/x-python",
   "name": "python",
   "nbconvert_exporter": "python",
   "pygments_lexer": "ipython3",
   "version": "3.9.7"
  }
 },
 "nbformat": 4,
 "nbformat_minor": 5
}
