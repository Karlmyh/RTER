{
 "cells": [
  {
   "cell_type": "code",
   "execution_count": 1,
   "metadata": {},
   "outputs": [],
   "source": [
    "import numpy as np\n",
    "from IPython.core.interactiveshell import InteractiveShell\n",
    "InteractiveShell.ast_node_interactivity = \"all\"\n",
    "from time import time\n",
    "import matplotlib.pyplot as plt\n",
    "import seaborn as sb\n",
    "import pandas as pd\n",
    "import os\n",
    "\n",
    "from RTER import RegressionTree\n",
    "from distribution import TestDistribution\n",
    "from ensemble import RegressionTreeBoosting, RegressionTreeEnsemble\n",
    "\n",
    "\n",
    "\n",
    "from sklearn.metrics import mean_squared_error as MSE\n",
    "from sklearn.model_selection import GridSearchCV\n",
    "from sklearn.ensemble import GradientBoostingRegressor,RandomForestRegressor\n"
   ]
  },
  {
   "cell_type": "code",
   "execution_count": 2,
   "metadata": {},
   "outputs": [],
   "source": [
    "sample_generator=TestDistribution(2).returnDistribution()\n",
    "n_test, n_train = 4000,2000\n",
    "X_train, Y_train = sample_generator.generate(n_train)\n",
    "X_test, Y_test = sample_generator.generate(n_test)\n",
    "\n"
   ]
  },
  {
   "cell_type": "code",
   "execution_count": 3,
   "metadata": {},
   "outputs": [
    {
     "data": {
      "text/plain": [
       "GridSearchCV(cv=3,\n",
       "             estimator=<RTER.tree.RegressionTree object at 0x7f4be96e8160>,\n",
       "             n_jobs=-1,\n",
       "             param_grid={'V': [5, 25],\n",
       "                         'estimator': ['naive_estimator',\n",
       "                                       'pointwise_extrapolation_estimator'],\n",
       "                         'lamda': [0.0001, 0.1], 'max_depth': [0, 1, 3],\n",
       "                         'min_samples_split': [5, 10], 'order': [0, 2],\n",
       "                         'r_range_up': [0.6, 1],\n",
       "                         'splitter': ['maxedge', 'varreduction']})"
      ]
     },
     "execution_count": 3,
     "metadata": {},
     "output_type": "execute_result"
    },
    {
     "data": {
      "text/plain": [
       "{'V': 25,\n",
       " 'estimator': 'pointwise_extrapolation_estimator',\n",
       " 'lamda': 0.0001,\n",
       " 'max_depth': 3,\n",
       " 'min_samples_split': 5,\n",
       " 'order': 0,\n",
       " 'r_range_up': 1,\n",
       " 'splitter': 'varreduction'}"
      ]
     },
     "execution_count": 3,
     "metadata": {},
     "output_type": "execute_result"
    },
    {
     "data": {
      "text/plain": [
       "3.9677594319400695"
      ]
     },
     "execution_count": 3,
     "metadata": {},
     "output_type": "execute_result"
    }
   ],
   "source": [
    "\n",
    "\n",
    "\n",
    "parameters= {\"min_samples_split\":[5,10], \"max_depth\":[0,1,3],\n",
    "             \"order\":[0,2],\"splitter\":[\"maxedge\",\"varreduction\"],\n",
    "             \"estimator\":[\"naive_estimator\",\"pointwise_extrapolation_estimator\"],\n",
    "             \"r_range_up\":[0.6,1],\"lamda\":[0.0001,0.1],\"V\":[5,25]}\n",
    "\n",
    "\n",
    "\n",
    "cv_model_RTER=GridSearchCV(estimator=RegressionTree(),param_grid=parameters, cv=3, n_jobs=-1)\n",
    "cv_model_RTER.fit(X_train, Y_train) ##############\n",
    "\n",
    "cv_model_RTER.best_params_\n",
    "\n",
    "RTER_model = cv_model_RTER.best_estimator_\n",
    "mse_score= - RTER_model.score(X_test, Y_test)\n",
    "time_end=time()\n",
    "\n",
    "mse_score\n"
   ]
  },
  {
   "cell_type": "code",
   "execution_count": 4,
   "metadata": {},
   "outputs": [
    {
     "data": {
      "text/plain": [
       "GridSearchCV(cv=5,\n",
       "             estimator=<ensemble.ensemble.RegressionTreeEnsemble object at 0x7f4d3d28d730>,\n",
       "             n_jobs=-1,\n",
       "             param_grid={'V': [10],\n",
       "                         'estimator': ['naive_estimator',\n",
       "                                       'pointwise_extrapolation_estimator'],\n",
       "                         'lamda': [0.1], 'max_depth': [1, 3],\n",
       "                         'max_features': [0.7, 1], 'max_samples': [0.7, 1],\n",
       "                         'min_samples_split': [10], 'n_estimators': [5],\n",
       "                         'order': [0, 2], 'r_range_up': [1],\n",
       "                         'splitter': ['maxedge', 'varreduction']})"
      ]
     },
     "execution_count": 4,
     "metadata": {},
     "output_type": "execute_result"
    },
    {
     "data": {
      "text/plain": [
       "{'V': 10,\n",
       " 'estimator': 'pointwise_extrapolation_estimator',\n",
       " 'lamda': 0.1,\n",
       " 'max_depth': 3,\n",
       " 'max_features': 0.7,\n",
       " 'max_samples': 0.7,\n",
       " 'min_samples_split': 10,\n",
       " 'n_estimators': 5,\n",
       " 'order': 0,\n",
       " 'r_range_up': 1,\n",
       " 'splitter': 'varreduction'}"
      ]
     },
     "execution_count": 4,
     "metadata": {},
     "output_type": "execute_result"
    },
    {
     "data": {
      "text/plain": [
       "3.8785718538985328"
      ]
     },
     "execution_count": 4,
     "metadata": {},
     "output_type": "execute_result"
    }
   ],
   "source": [
    "# ensemble\n",
    "time_start=time()\n",
    "parameters= {\"min_samples_split\":[10], \"max_depth\":[1,3],\n",
    "             \"order\":[0,2],\"splitter\":[\"maxedge\",\"varreduction\"],\n",
    "             \"estimator\":[\"naive_estimator\",\"pointwise_extrapolation_estimator\"],\n",
    "             \"r_range_up\":[1],\"lamda\":[0.1],\"V\":[10],\n",
    "            \"n_estimators\":[5],\"max_samples\":[0.7,1],\"max_features\":[0.7,1]}\n",
    "\n",
    "\n",
    "cv_model_ensemble=GridSearchCV(estimator=RegressionTreeEnsemble(),param_grid=parameters, cv=5, n_jobs=-1)\n",
    "cv_model_ensemble.fit(X_train, Y_train)\n",
    "ensemble_model = cv_model_ensemble.best_estimator_\n",
    "mse_score= - ensemble_model.score(X_test, Y_test)\n",
    "time_end=time()\n",
    "\n",
    "cv_model_ensemble.best_params_\n",
    "\n",
    "mse_score\n"
   ]
  },
  {
   "cell_type": "code",
   "execution_count": null,
   "metadata": {},
   "outputs": [],
   "source": []
  },
  {
   "cell_type": "code",
   "execution_count": 7,
   "metadata": {},
   "outputs": [
    {
     "data": {
      "text/plain": [
       "GridSearchCV(cv=10,\n",
       "             estimator=<ensemble.boosting.RegressionTreeBoosting object at 0x7f4d3c237d90>,\n",
       "             n_jobs=-1,\n",
       "             param_grid={'V': [10],\n",
       "                         'estimator': ['naive_estimator',\n",
       "                                       'pointwise_extrapolation_estimator'],\n",
       "                         'lamda': [0.1], 'max_depth': [1, 3],\n",
       "                         'max_features': [0.7, 1], 'max_samples': [0.7, 1],\n",
       "                         'min_samples_split': [10], 'n_estimators': [20],\n",
       "                         'order': [0, 2], 'r_range_up': [1], 'rho': [0.1],\n",
       "                         'splitter': ['maxedge', 'varreduction']})"
      ]
     },
     "execution_count": 7,
     "metadata": {},
     "output_type": "execute_result"
    }
   ],
   "source": [
    "time_start=time()\n",
    "parameters= {\"min_samples_split\":[10], \"max_depth\":[1,3],\n",
    "             \"order\":[0,2],\"splitter\":[\"maxedge\",\"varreduction\"],\n",
    "             \"estimator\":[\"naive_estimator\",\"pointwise_extrapolation_estimator\"],\n",
    "             \"r_range_up\":[1],\"lamda\":[0.1],\"V\":[10],\n",
    "            \"n_estimators\":[20],\"max_samples\":[0.7,1],\"max_features\":[0.7,1],\n",
    "            \"rho\":[0.1]}\n",
    "cv_model_boosting=GridSearchCV(estimator=RegressionTreeBoosting(),param_grid=parameters, cv=5, n_jobs=-1)\n",
    "cv_model_boosting.fit(X_train, Y_train)\n",
    "boosting_model = cv_model_boosting.best_estimator_\n",
    "mse_score= - boosting_model.score(X_test, Y_test)\n",
    "mse_score\n",
    "time_end=time()"
   ]
  },
  {
   "cell_type": "code",
   "execution_count": null,
   "metadata": {},
   "outputs": [],
   "source": []
  },
  {
   "cell_type": "code",
   "execution_count": null,
   "metadata": {},
   "outputs": [],
   "source": []
  },
  {
   "cell_type": "code",
   "execution_count": null,
   "metadata": {},
   "outputs": [],
   "source": []
  },
  {
   "cell_type": "code",
   "execution_count": 23,
   "metadata": {},
   "outputs": [],
   "source": [
    "a = np.zeros((5,3))\n",
    "b = np.zeros(5)"
   ]
  },
  {
   "cell_type": "code",
   "execution_count": 29,
   "metadata": {},
   "outputs": [
    {
     "data": {
      "text/plain": [
       "array([[0., 0., 0., 0.],\n",
       "       [0., 0., 0., 0.],\n",
       "       [0., 0., 0., 0.],\n",
       "       [0., 0., 0., 0.],\n",
       "       [0., 0., 0., 0.]])"
      ]
     },
     "execution_count": 29,
     "metadata": {},
     "output_type": "execute_result"
    }
   ],
   "source": [
    "np.hstack([a,b.reshape(-1,1)])"
   ]
  },
  {
   "cell_type": "code",
   "execution_count": 32,
   "metadata": {},
   "outputs": [],
   "source": [
    "np.savetxt(\"example.csv\", np.ones(10), delimiter=\",\")"
   ]
  },
  {
   "cell_type": "code",
   "execution_count": 20,
   "metadata": {},
   "outputs": [
    {
     "data": {
      "text/plain": [
       "['housing_scale.csv',\n",
       " 'mpg_scale.csv',\n",
       " 'space_ga_scale.csv',\n",
       " 'mg_scale.csv',\n",
       " 'cpusmall_scale.csv',\n",
       " 'triazines_scale.csv',\n",
       " 'pyrim_scale.csv',\n",
       " 'abalone.csv',\n",
       " 'bodyfat_scale.csv']"
      ]
     },
     "execution_count": 20,
     "metadata": {},
     "output_type": "execute_result"
    }
   ],
   "source": [
    "import glob\n",
    "data_seq = glob.glob(\"{}/*.csv\".format(\"./data/real_data_cleaned\"))\n",
    "data_file_name_seq = [os.path.split(data)[1] for data in data_seq]\n",
    "data_file_name_seq"
   ]
  },
  {
   "cell_type": "code",
   "execution_count": 9,
   "metadata": {},
   "outputs": [],
   "source": [
    "a = RandomForestRegressor()"
   ]
  },
  {
   "cell_type": "code",
   "execution_count": 11,
   "metadata": {},
   "outputs": [
    {
     "data": {
      "text/plain": [
       "RandomForestRegressor()"
      ]
     },
     "execution_count": 11,
     "metadata": {},
     "output_type": "execute_result"
    }
   ],
   "source": [
    "a.fit(np.random.rand(10000).reshape(-1,10),np.random.rand(1000))"
   ]
  },
  {
   "cell_type": "code",
   "execution_count": 17,
   "metadata": {},
   "outputs": [
    {
     "data": {
      "text/plain": [
       "[DecisionTreeRegressor(max_features='auto', random_state=11082189),\n",
       " DecisionTreeRegressor(max_features='auto', random_state=1726073905),\n",
       " DecisionTreeRegressor(max_features='auto', random_state=210129700),\n",
       " DecisionTreeRegressor(max_features='auto', random_state=514490936),\n",
       " DecisionTreeRegressor(max_features='auto', random_state=2058345684),\n",
       " DecisionTreeRegressor(max_features='auto', random_state=1994282266),\n",
       " DecisionTreeRegressor(max_features='auto', random_state=1495550170),\n",
       " DecisionTreeRegressor(max_features='auto', random_state=1644891510),\n",
       " DecisionTreeRegressor(max_features='auto', random_state=1896231031),\n",
       " DecisionTreeRegressor(max_features='auto', random_state=1261533965),\n",
       " DecisionTreeRegressor(max_features='auto', random_state=347911791),\n",
       " DecisionTreeRegressor(max_features='auto', random_state=1043156172),\n",
       " DecisionTreeRegressor(max_features='auto', random_state=1605560061),\n",
       " DecisionTreeRegressor(max_features='auto', random_state=885513470),\n",
       " DecisionTreeRegressor(max_features='auto', random_state=898862255),\n",
       " DecisionTreeRegressor(max_features='auto', random_state=1890187067),\n",
       " DecisionTreeRegressor(max_features='auto', random_state=298002423),\n",
       " DecisionTreeRegressor(max_features='auto', random_state=150698736),\n",
       " DecisionTreeRegressor(max_features='auto', random_state=1728261798),\n",
       " DecisionTreeRegressor(max_features='auto', random_state=1556925041),\n",
       " DecisionTreeRegressor(max_features='auto', random_state=250809479),\n",
       " DecisionTreeRegressor(max_features='auto', random_state=272507347),\n",
       " DecisionTreeRegressor(max_features='auto', random_state=216719826),\n",
       " DecisionTreeRegressor(max_features='auto', random_state=1736463745),\n",
       " DecisionTreeRegressor(max_features='auto', random_state=1313248185),\n",
       " DecisionTreeRegressor(max_features='auto', random_state=1446327834),\n",
       " DecisionTreeRegressor(max_features='auto', random_state=2095171495),\n",
       " DecisionTreeRegressor(max_features='auto', random_state=16501232),\n",
       " DecisionTreeRegressor(max_features='auto', random_state=1421131089),\n",
       " DecisionTreeRegressor(max_features='auto', random_state=1960954471),\n",
       " DecisionTreeRegressor(max_features='auto', random_state=2034264001),\n",
       " DecisionTreeRegressor(max_features='auto', random_state=594834003),\n",
       " DecisionTreeRegressor(max_features='auto', random_state=1121013940),\n",
       " DecisionTreeRegressor(max_features='auto', random_state=827903599),\n",
       " DecisionTreeRegressor(max_features='auto', random_state=1786902633),\n",
       " DecisionTreeRegressor(max_features='auto', random_state=1846385445),\n",
       " DecisionTreeRegressor(max_features='auto', random_state=2005342082),\n",
       " DecisionTreeRegressor(max_features='auto', random_state=1043189104),\n",
       " DecisionTreeRegressor(max_features='auto', random_state=374999564),\n",
       " DecisionTreeRegressor(max_features='auto', random_state=471764111),\n",
       " DecisionTreeRegressor(max_features='auto', random_state=18767115),\n",
       " DecisionTreeRegressor(max_features='auto', random_state=214749459),\n",
       " DecisionTreeRegressor(max_features='auto', random_state=971590316),\n",
       " DecisionTreeRegressor(max_features='auto', random_state=2114492156),\n",
       " DecisionTreeRegressor(max_features='auto', random_state=507439612),\n",
       " DecisionTreeRegressor(max_features='auto', random_state=1848624441),\n",
       " DecisionTreeRegressor(max_features='auto', random_state=2119411132),\n",
       " DecisionTreeRegressor(max_features='auto', random_state=1481332778),\n",
       " DecisionTreeRegressor(max_features='auto', random_state=390201134),\n",
       " DecisionTreeRegressor(max_features='auto', random_state=634017462),\n",
       " DecisionTreeRegressor(max_features='auto', random_state=2047447658),\n",
       " DecisionTreeRegressor(max_features='auto', random_state=1174674034),\n",
       " DecisionTreeRegressor(max_features='auto', random_state=1986312676),\n",
       " DecisionTreeRegressor(max_features='auto', random_state=853219239),\n",
       " DecisionTreeRegressor(max_features='auto', random_state=1074887050),\n",
       " DecisionTreeRegressor(max_features='auto', random_state=1339819130),\n",
       " DecisionTreeRegressor(max_features='auto', random_state=1033462287),\n",
       " DecisionTreeRegressor(max_features='auto', random_state=540142791),\n",
       " DecisionTreeRegressor(max_features='auto', random_state=1102788208),\n",
       " DecisionTreeRegressor(max_features='auto', random_state=1182155725),\n",
       " DecisionTreeRegressor(max_features='auto', random_state=1791018402),\n",
       " DecisionTreeRegressor(max_features='auto', random_state=1445837754),\n",
       " DecisionTreeRegressor(max_features='auto', random_state=1191221955),\n",
       " DecisionTreeRegressor(max_features='auto', random_state=253732771),\n",
       " DecisionTreeRegressor(max_features='auto', random_state=1890635144),\n",
       " DecisionTreeRegressor(max_features='auto', random_state=1515895113),\n",
       " DecisionTreeRegressor(max_features='auto', random_state=209245264),\n",
       " DecisionTreeRegressor(max_features='auto', random_state=470752185),\n",
       " DecisionTreeRegressor(max_features='auto', random_state=2125039253),\n",
       " DecisionTreeRegressor(max_features='auto', random_state=390852743),\n",
       " DecisionTreeRegressor(max_features='auto', random_state=1564104556),\n",
       " DecisionTreeRegressor(max_features='auto', random_state=1490505778),\n",
       " DecisionTreeRegressor(max_features='auto', random_state=1279958364),\n",
       " DecisionTreeRegressor(max_features='auto', random_state=1932739619),\n",
       " DecisionTreeRegressor(max_features='auto', random_state=304099800),\n",
       " DecisionTreeRegressor(max_features='auto', random_state=1890782165),\n",
       " DecisionTreeRegressor(max_features='auto', random_state=982748991),\n",
       " DecisionTreeRegressor(max_features='auto', random_state=731389915),\n",
       " DecisionTreeRegressor(max_features='auto', random_state=1256931593),\n",
       " DecisionTreeRegressor(max_features='auto', random_state=135494067),\n",
       " DecisionTreeRegressor(max_features='auto', random_state=1703881207),\n",
       " DecisionTreeRegressor(max_features='auto', random_state=1313410704),\n",
       " DecisionTreeRegressor(max_features='auto', random_state=1223382739),\n",
       " DecisionTreeRegressor(max_features='auto', random_state=2055887089),\n",
       " DecisionTreeRegressor(max_features='auto', random_state=1168057133),\n",
       " DecisionTreeRegressor(max_features='auto', random_state=920184932),\n",
       " DecisionTreeRegressor(max_features='auto', random_state=1492994302),\n",
       " DecisionTreeRegressor(max_features='auto', random_state=1136159163),\n",
       " DecisionTreeRegressor(max_features='auto', random_state=1974269245),\n",
       " DecisionTreeRegressor(max_features='auto', random_state=1771922128),\n",
       " DecisionTreeRegressor(max_features='auto', random_state=2035105352),\n",
       " DecisionTreeRegressor(max_features='auto', random_state=496769380),\n",
       " DecisionTreeRegressor(max_features='auto', random_state=1885747091),\n",
       " DecisionTreeRegressor(max_features='auto', random_state=573649223),\n",
       " DecisionTreeRegressor(max_features='auto', random_state=273761736),\n",
       " DecisionTreeRegressor(max_features='auto', random_state=1961516992),\n",
       " DecisionTreeRegressor(max_features='auto', random_state=179936860),\n",
       " DecisionTreeRegressor(max_features='auto', random_state=140006139),\n",
       " DecisionTreeRegressor(max_features='auto', random_state=613886762),\n",
       " DecisionTreeRegressor(max_features='auto', random_state=1218957040)]"
      ]
     },
     "execution_count": 17,
     "metadata": {},
     "output_type": "execute_result"
    }
   ],
   "source": [
    "a.estimators_"
   ]
  },
  {
   "cell_type": "code",
   "execution_count": null,
   "metadata": {},
   "outputs": [],
   "source": []
  },
  {
   "cell_type": "code",
   "execution_count": null,
   "metadata": {},
   "outputs": [],
   "source": [
    "'housing_scale.csv',\n",
    " 'mpg_scale.csv',\n",
    " 'airfoil.csv',\n",
    " 'space_ga_scale.csv',\n",
    " 'whitewine.csv',\n",
    " 'dakbilgic.csv',\n",
    " 'mg_scale.csv',\n",
    " 'bias.csv',\n",
    " 'cpusmall_scale.csv',                     \n",
    " 'aquatic.csv',\n",
    " 'music.csv',\n",
    " 'redwine.csv',\n",
    " 'ccpp.csv',\n",
    " 'concrete.csv',\n",
    " 'portfolio.csv',\n",
    " 'building.csv',\n",
    " 'yacht.csv',\n",
    " 'abalone.csv',\n",
    " 'algerian.csv',\n",
    " 'fish.csv',\n",
    " 'communities.csv',\n",
    " 'forestfires.csv',\n",
    " 'cbm.csv'"
   ]
  },
  {
   "cell_type": "code",
   "execution_count": 42,
   "metadata": {},
   "outputs": [
    {
     "data": {
      "text/plain": [
       "GridSearchCV(cv=3,\n",
       "             estimator=<RTER.tree.RegressionTree object at 0x7f94bc7bfdd0>,\n",
       "             n_jobs=30,\n",
       "             param_grid={'V': [2, 'auto'],\n",
       "                         'estimator': ['pointwise_extrapolation_estimator'],\n",
       "                         'lamda': [0.0001, 0.001, 0.01, 0.1],\n",
       "                         'max_depth': [1, 2, 3, 4, 5, 6, 7, 8],\n",
       "                         'min_samples_split': [2, 5, 10], 'order': [0, 1],\n",
       "                         'r_range_low': [0], 'r_range_up': [0.6, 1],\n",
       "                         'splitter': ['maxedge']})"
      ]
     },
     "execution_count": 42,
     "metadata": {},
     "output_type": "execute_result"
    },
    {
     "data": {
      "text/plain": [
       "{'V': 'auto',\n",
       " 'estimator': 'pointwise_extrapolation_estimator',\n",
       " 'lamda': 0.0001,\n",
       " 'max_depth': 8,\n",
       " 'min_samples_split': 5,\n",
       " 'order': 0,\n",
       " 'r_range_low': 0,\n",
       " 'r_range_up': 1,\n",
       " 'splitter': 'maxedge'}"
      ]
     },
     "execution_count": 42,
     "metadata": {},
     "output_type": "execute_result"
    }
   ],
   "source": [
    "import os\n",
    "import numpy as np \n",
    "import pandas as pd\n",
    "from time import time\n",
    "\n",
    "from sklearn.preprocessing import MinMaxScaler\n",
    "from sklearn.model_selection import train_test_split\n",
    "from sklearn.model_selection import GridSearchCV\n",
    "from sklearn.metrics import mean_squared_error as MSE\n",
    "\n",
    "from RTER import RegressionTree\n",
    "from ensemble import RegressionTreeBoosting, RegressionTreeEnsemble\n",
    "\n",
    "\n",
    "from sklearn.tree import DecisionTreeRegressor\n",
    "\n",
    "\n",
    "\n",
    "\n",
    "\n",
    "data_file_dir = \"./data/real_data_cleaned/\"\n",
    "data_file_name_seq = ['airfoil.csv'#'mpg_scale.csv','space_ga_scale.csv','mg_scale.csv',\n",
    "                     #'cpusmall_scale.csv','triazines_scale.csv',#'pyrim_scale.csv',\n",
    "                      #'abalone.csv','bodyfat_scale.csv'\n",
    "                     ]\n",
    "\n",
    "#data_seq = glob.glob(\"{}/*.csv\".format(log_file_dir))\n",
    "#data_file_name_seq = [os.path.split(data)[1] for data in data_seq]\n",
    "\n",
    "for data_file_name in data_file_name_seq:\n",
    "    # load dataset\n",
    "    data_name = os.path.splitext(data_file_name)[0]\n",
    "    data_file_path = os.path.join(data_file_dir, data_file_name)\n",
    "    data = pd.read_csv(data_file_path)\n",
    "    data = np.array(data)\n",
    "    \n",
    "    X = data[:,1:]\n",
    "    y = data[:,0]\n",
    "    \n",
    "    scaler = MinMaxScaler()\n",
    "    X = scaler.fit_transform(X)\n",
    "    \n",
    "\n",
    "    repeat_times = 5\n",
    "        \n",
    "    \n",
    "        \n",
    "    X_train, X_test, y_train, y_test = train_test_split(X, y, test_size=0.3, random_state=11)\n",
    "\n",
    "\n",
    "\n",
    "    parameters={\"min_samples_split\":[2,5,10], \"max_depth\":[1,2,3,4,5,6,7,8],\n",
    "       \"order\":[0,1],\"splitter\":[\"maxedge\"],\n",
    "        \"estimator\":[\"pointwise_extrapolation_estimator\"],\n",
    "       \"r_range_low\":[0],\"r_range_up\":[0.6,1],\n",
    "       \"lamda\":[0.0001,0.001,0.01,0.1],\"V\":[2,\"auto\"]}\n",
    "\n",
    "    cv_model_RTER=GridSearchCV(estimator=RegressionTree(),param_grid=parameters, cv=3, n_jobs=30)\n",
    "    cv_model_RTER.fit(X_train, y_train)\n",
    "\n",
    "\n",
    "    time_start=time()\n",
    "    RTER_model = cv_model_RTER.best_estimator_\n",
    "    mse_score= -RTER_model.score(X_test, y_test)\n",
    "    time_end=time()\n",
    "\n",
    "\n",
    "cv_model_RTER.best_params_"
   ]
  },
  {
   "cell_type": "code",
   "execution_count": 43,
   "metadata": {},
   "outputs": [
    {
     "data": {
      "text/plain": [
       "33.42559041033197"
      ]
     },
     "execution_count": 43,
     "metadata": {},
     "output_type": "execute_result"
    }
   ],
   "source": [
    "mse_score"
   ]
  },
  {
   "cell_type": "code",
   "execution_count": null,
   "metadata": {},
   "outputs": [],
   "source": []
  },
  {
   "cell_type": "code",
   "execution_count": 56,
   "metadata": {},
   "outputs": [
    {
     "data": {
      "text/plain": [
       "<RTER.tree.RegressionTree at 0x7f9565fc7e10>"
      ]
     },
     "execution_count": 56,
     "metadata": {},
     "output_type": "execute_result"
    },
    {
     "data": {
      "text/plain": [
       "28.730758650350232"
      ]
     },
     "execution_count": 56,
     "metadata": {},
     "output_type": "execute_result"
    }
   ],
   "source": [
    "check_model = RegressionTree(V = 20, \n",
    "          estimator = \"pointwise_extrapolation_estimator\",\n",
    "          lamda = 0.0001,\n",
    "          max_depth = 8,\n",
    "          min_samples_split = 5,\n",
    "          order = 0,\n",
    "          r_range_up =1,\n",
    "          splitter = \"maxedge\")\n",
    "check_model.fit(X_train, y_train)\n",
    "-check_model.score(X_test,y_test)"
   ]
  },
  {
   "cell_type": "code",
   "execution_count": null,
   "metadata": {},
   "outputs": [],
   "source": [
    "{'V': 'auto',\n",
    " 'estimator': 'pointwise_extrapolation_estimator',\n",
    " 'lamda': 0.01,\n",
    " 'max_depth': 1,\n",
    " 'min_samples_split': 2,\n",
    " 'order': 0,\n",
    " 'r_range_low': 0,\n",
    " 'r_range_up': 0.6,\n",
    " 'splitter': 'varreduction'}\n",
    "\n",
    "\n",
    "{'V': 'auto',\n",
    " 'estimator': 'pointwise_extrapolation_estimator',\n",
    " 'lamda': 0.001,\n",
    " 'max_depth': 4,\n",
    " 'min_samples_split': 5,\n",
    " 'order': 0,\n",
    " 'r_range_low': 0,\n",
    " 'r_range_up': 1,\n",
    " 'splitter': 'varreduction'}\n",
    "\n",
    "{'V': \"auto\",\n",
    " 'estimator': 'pointwise_extrapolation_estimator',\n",
    " 'lamda': 0.1,\n",
    " 'max_depth': 6,\n",
    " 'min_samples_split': 10,\n",
    " 'order': 0,\n",
    " 'r_range_low': 0,\n",
    " 'r_range_up': 1,\n",
    " 'splitter': 'varreduction'}\n",
    "\n",
    "{'V': \"auto\",\n",
    " 'estimator': 'pointwise_extrapolation_estimator',\n",
    " 'lamda': 0.001,\n",
    " 'max_depth': 3,\n",
    " 'min_samples_split': 2,\n",
    " 'order': 0,\n",
    " 'r_range_low': 0,\n",
    " 'r_range_up': 1,\n",
    " 'splitter': 'varreduction'}\n"
   ]
  },
  {
   "cell_type": "code",
   "execution_count": null,
   "metadata": {},
   "outputs": [],
   "source": []
  },
  {
   "cell_type": "code",
   "execution_count": null,
   "metadata": {},
   "outputs": [],
   "source": []
  },
  {
   "cell_type": "code",
   "execution_count": 35,
   "metadata": {},
   "outputs": [
    {
     "data": {
      "text/plain": [
       "4.603269253647042"
      ]
     },
     "execution_count": 35,
     "metadata": {},
     "output_type": "execute_result"
    }
   ],
   "source": [
    "check_model = RegressionTreeEnsemble(n_estimators = 50,\n",
    "                                     max_features = 0.55,\n",
    "                                     max_samples = 1,\n",
    "            V = \"auto\", \n",
    "          estimator = \"pointwise_extrapolation_estimator\",\n",
    "          lamda = 0.001,\n",
    "          max_depth = 8,\n",
    "          min_samples_split = 5,\n",
    "          order = 0,\n",
    "          r_range_up =1,\n",
    "          splitter = \"varreduction\",\n",
    "          ensemble_parallel=1)\n",
    "check_model.fit(X_train, y_train)\n",
    "-check_model.score(X_test,y_test)"
   ]
  },
  {
   "cell_type": "code",
   "execution_count": 40,
   "metadata": {},
   "outputs": [],
   "source": [
    "import glob\n",
    "import os\n",
    "data_file_dir = \"./data/real_data_cleaned/\"\n",
    "\n",
    "data_seq = glob.glob(\"{}/*.csv\".format(data_file_dir))\n",
    "data_file_name_seq = [os.path.split(data)[1] for data in data_seq]\n"
   ]
  },
  {
   "cell_type": "code",
   "execution_count": 41,
   "metadata": {},
   "outputs": [
    {
     "data": {
      "text/plain": [
       "['housing_scale.csv',\n",
       " 'mpg_scale.csv',\n",
       " 'airfoil.csv',\n",
       " 'space_ga_scale.csv',\n",
       " 'whitewine.csv',\n",
       " 'dakbilgic.csv',\n",
       " 'mg_scale.csv',\n",
       " 'bias.csv',\n",
       " 'cpusmall_scale.csv',\n",
       " 'triazines_scale.csv',\n",
       " 'aquatic.csv',\n",
       " 'music.csv',\n",
       " 'redwine.csv',\n",
       " 'ccpp.csv',\n",
       " 'concrete.csv',\n",
       " 'portfolio.csv',\n",
       " 'building.csv',\n",
       " 'yacht.csv',\n",
       " 'pyrim_scale.csv',\n",
       " 'abalone.csv',\n",
       " 'bodyfat_scale.csv',\n",
       " 'facebook.csv',\n",
       " 'algerian.csv',\n",
       " 'fish.csv',\n",
       " 'communities.csv',\n",
       " 'forestfires.csv',\n",
       " 'cbm.csv']"
      ]
     },
     "execution_count": 41,
     "metadata": {},
     "output_type": "execute_result"
    }
   ],
   "source": [
    "data_file_name_seq"
   ]
  },
  {
   "cell_type": "code",
   "execution_count": null,
   "metadata": {},
   "outputs": [],
   "source": []
  },
  {
   "cell_type": "code",
   "execution_count": null,
   "metadata": {},
   "outputs": [],
   "source": []
  },
  {
   "cell_type": "code",
   "execution_count": 76,
   "metadata": {},
   "outputs": [
    {
     "ename": "KeyboardInterrupt",
     "evalue": "",
     "output_type": "error",
     "traceback": [
      "\u001b[0;31m---------------------------------------------------------------------------\u001b[0m",
      "\u001b[0;31mKeyboardInterrupt\u001b[0m                         Traceback (most recent call last)",
      "\u001b[0;32m~/anaconda3/lib/python3.7/site-packages/joblib/parallel.py\u001b[0m in \u001b[0;36mretrieve\u001b[0;34m(self)\u001b[0m\n\u001b[1;32m    939\u001b[0m                 \u001b[0;32mif\u001b[0m \u001b[0mgetattr\u001b[0m\u001b[0;34m(\u001b[0m\u001b[0mself\u001b[0m\u001b[0;34m.\u001b[0m\u001b[0m_backend\u001b[0m\u001b[0;34m,\u001b[0m \u001b[0;34m'supports_timeout'\u001b[0m\u001b[0;34m,\u001b[0m \u001b[0;32mFalse\u001b[0m\u001b[0;34m)\u001b[0m\u001b[0;34m:\u001b[0m\u001b[0;34m\u001b[0m\u001b[0;34m\u001b[0m\u001b[0m\n\u001b[0;32m--> 940\u001b[0;31m                     \u001b[0mself\u001b[0m\u001b[0;34m.\u001b[0m\u001b[0m_output\u001b[0m\u001b[0;34m.\u001b[0m\u001b[0mextend\u001b[0m\u001b[0;34m(\u001b[0m\u001b[0mjob\u001b[0m\u001b[0;34m.\u001b[0m\u001b[0mget\u001b[0m\u001b[0;34m(\u001b[0m\u001b[0mtimeout\u001b[0m\u001b[0;34m=\u001b[0m\u001b[0mself\u001b[0m\u001b[0;34m.\u001b[0m\u001b[0mtimeout\u001b[0m\u001b[0;34m)\u001b[0m\u001b[0;34m)\u001b[0m\u001b[0;34m\u001b[0m\u001b[0;34m\u001b[0m\u001b[0m\n\u001b[0m\u001b[1;32m    941\u001b[0m                 \u001b[0;32melse\u001b[0m\u001b[0;34m:\u001b[0m\u001b[0;34m\u001b[0m\u001b[0;34m\u001b[0m\u001b[0m\n",
      "\u001b[0;32m~/anaconda3/lib/python3.7/site-packages/joblib/_parallel_backends.py\u001b[0m in \u001b[0;36mwrap_future_result\u001b[0;34m(future, timeout)\u001b[0m\n\u001b[1;32m    541\u001b[0m         \u001b[0;32mtry\u001b[0m\u001b[0;34m:\u001b[0m\u001b[0;34m\u001b[0m\u001b[0;34m\u001b[0m\u001b[0m\n\u001b[0;32m--> 542\u001b[0;31m             \u001b[0;32mreturn\u001b[0m \u001b[0mfuture\u001b[0m\u001b[0;34m.\u001b[0m\u001b[0mresult\u001b[0m\u001b[0;34m(\u001b[0m\u001b[0mtimeout\u001b[0m\u001b[0;34m=\u001b[0m\u001b[0mtimeout\u001b[0m\u001b[0;34m)\u001b[0m\u001b[0;34m\u001b[0m\u001b[0;34m\u001b[0m\u001b[0m\n\u001b[0m\u001b[1;32m    543\u001b[0m         \u001b[0;32mexcept\u001b[0m \u001b[0mCfTimeoutError\u001b[0m \u001b[0;32mas\u001b[0m \u001b[0me\u001b[0m\u001b[0;34m:\u001b[0m\u001b[0;34m\u001b[0m\u001b[0;34m\u001b[0m\u001b[0m\n",
      "\u001b[0;32m~/anaconda3/lib/python3.7/concurrent/futures/_base.py\u001b[0m in \u001b[0;36mresult\u001b[0;34m(self, timeout)\u001b[0m\n\u001b[1;32m    429\u001b[0m \u001b[0;34m\u001b[0m\u001b[0m\n\u001b[0;32m--> 430\u001b[0;31m             \u001b[0mself\u001b[0m\u001b[0;34m.\u001b[0m\u001b[0m_condition\u001b[0m\u001b[0;34m.\u001b[0m\u001b[0mwait\u001b[0m\u001b[0;34m(\u001b[0m\u001b[0mtimeout\u001b[0m\u001b[0;34m)\u001b[0m\u001b[0;34m\u001b[0m\u001b[0;34m\u001b[0m\u001b[0m\n\u001b[0m\u001b[1;32m    431\u001b[0m \u001b[0;34m\u001b[0m\u001b[0m\n",
      "\u001b[0;32m~/anaconda3/lib/python3.7/threading.py\u001b[0m in \u001b[0;36mwait\u001b[0;34m(self, timeout)\u001b[0m\n\u001b[1;32m    295\u001b[0m             \u001b[0;32mif\u001b[0m \u001b[0mtimeout\u001b[0m \u001b[0;32mis\u001b[0m \u001b[0;32mNone\u001b[0m\u001b[0;34m:\u001b[0m\u001b[0;34m\u001b[0m\u001b[0;34m\u001b[0m\u001b[0m\n\u001b[0;32m--> 296\u001b[0;31m                 \u001b[0mwaiter\u001b[0m\u001b[0;34m.\u001b[0m\u001b[0macquire\u001b[0m\u001b[0;34m(\u001b[0m\u001b[0;34m)\u001b[0m\u001b[0;34m\u001b[0m\u001b[0;34m\u001b[0m\u001b[0m\n\u001b[0m\u001b[1;32m    297\u001b[0m                 \u001b[0mgotit\u001b[0m \u001b[0;34m=\u001b[0m \u001b[0;32mTrue\u001b[0m\u001b[0;34m\u001b[0m\u001b[0;34m\u001b[0m\u001b[0m\n",
      "\u001b[0;31mKeyboardInterrupt\u001b[0m: ",
      "\nDuring handling of the above exception, another exception occurred:\n",
      "\u001b[0;31mKeyboardInterrupt\u001b[0m                         Traceback (most recent call last)",
      "\u001b[0;32m<ipython-input-76-ef9be1967765>\u001b[0m in \u001b[0;36m<module>\u001b[0;34m\u001b[0m\n\u001b[1;32m     61\u001b[0m    \"lamda\":[0.0001,0.001,0.01,0.1],\"V\":[2,\"auto\"]}\n\u001b[1;32m     62\u001b[0m     \u001b[0mcv_model_ensemble\u001b[0m\u001b[0;34m=\u001b[0m\u001b[0mGridSearchCV\u001b[0m\u001b[0;34m(\u001b[0m\u001b[0mestimator\u001b[0m\u001b[0;34m=\u001b[0m\u001b[0mRegressionTreeEnsemble\u001b[0m\u001b[0;34m(\u001b[0m\u001b[0;34m)\u001b[0m\u001b[0;34m,\u001b[0m\u001b[0mparam_grid\u001b[0m\u001b[0;34m=\u001b[0m\u001b[0mparameters\u001b[0m\u001b[0;34m,\u001b[0m \u001b[0mcv\u001b[0m\u001b[0;34m=\u001b[0m\u001b[0;36m3\u001b[0m\u001b[0;34m,\u001b[0m \u001b[0mn_jobs\u001b[0m\u001b[0;34m=\u001b[0m\u001b[0;36m50\u001b[0m\u001b[0;34m)\u001b[0m\u001b[0;34m\u001b[0m\u001b[0;34m\u001b[0m\u001b[0m\n\u001b[0;32m---> 63\u001b[0;31m     \u001b[0mcv_model_ensemble\u001b[0m\u001b[0;34m.\u001b[0m\u001b[0mfit\u001b[0m\u001b[0;34m(\u001b[0m\u001b[0mX_train\u001b[0m\u001b[0;34m,\u001b[0m \u001b[0my_train\u001b[0m\u001b[0;34m)\u001b[0m\u001b[0;34m\u001b[0m\u001b[0;34m\u001b[0m\u001b[0m\n\u001b[0m\u001b[1;32m     64\u001b[0m     \u001b[0mtime_start\u001b[0m\u001b[0;34m=\u001b[0m\u001b[0mtime\u001b[0m\u001b[0;34m(\u001b[0m\u001b[0;34m)\u001b[0m\u001b[0;34m\u001b[0m\u001b[0;34m\u001b[0m\u001b[0m\n\u001b[1;32m     65\u001b[0m     \u001b[0mensemble_model\u001b[0m \u001b[0;34m=\u001b[0m \u001b[0mcv_model_ensemble\u001b[0m\u001b[0;34m.\u001b[0m\u001b[0mbest_estimator_\u001b[0m\u001b[0;34m\u001b[0m\u001b[0;34m\u001b[0m\u001b[0m\n",
      "\u001b[0;32m~/anaconda3/lib/python3.7/site-packages/sklearn/model_selection/_search.py\u001b[0m in \u001b[0;36mfit\u001b[0;34m(self, X, y, groups, **fit_params)\u001b[0m\n\u001b[1;32m    889\u001b[0m                 \u001b[0;32mreturn\u001b[0m \u001b[0mresults\u001b[0m\u001b[0;34m\u001b[0m\u001b[0;34m\u001b[0m\u001b[0m\n\u001b[1;32m    890\u001b[0m \u001b[0;34m\u001b[0m\u001b[0m\n\u001b[0;32m--> 891\u001b[0;31m             \u001b[0mself\u001b[0m\u001b[0;34m.\u001b[0m\u001b[0m_run_search\u001b[0m\u001b[0;34m(\u001b[0m\u001b[0mevaluate_candidates\u001b[0m\u001b[0;34m)\u001b[0m\u001b[0;34m\u001b[0m\u001b[0;34m\u001b[0m\u001b[0m\n\u001b[0m\u001b[1;32m    892\u001b[0m \u001b[0;34m\u001b[0m\u001b[0m\n\u001b[1;32m    893\u001b[0m             \u001b[0;31m# multimetric is determined here because in the case of a callable\u001b[0m\u001b[0;34m\u001b[0m\u001b[0;34m\u001b[0m\u001b[0;34m\u001b[0m\u001b[0m\n",
      "\u001b[0;32m~/anaconda3/lib/python3.7/site-packages/sklearn/model_selection/_search.py\u001b[0m in \u001b[0;36m_run_search\u001b[0;34m(self, evaluate_candidates)\u001b[0m\n\u001b[1;32m   1390\u001b[0m     \u001b[0;32mdef\u001b[0m \u001b[0m_run_search\u001b[0m\u001b[0;34m(\u001b[0m\u001b[0mself\u001b[0m\u001b[0;34m,\u001b[0m \u001b[0mevaluate_candidates\u001b[0m\u001b[0;34m)\u001b[0m\u001b[0;34m:\u001b[0m\u001b[0;34m\u001b[0m\u001b[0;34m\u001b[0m\u001b[0m\n\u001b[1;32m   1391\u001b[0m         \u001b[0;34m\"\"\"Search all candidates in param_grid\"\"\"\u001b[0m\u001b[0;34m\u001b[0m\u001b[0;34m\u001b[0m\u001b[0m\n\u001b[0;32m-> 1392\u001b[0;31m         \u001b[0mevaluate_candidates\u001b[0m\u001b[0;34m(\u001b[0m\u001b[0mParameterGrid\u001b[0m\u001b[0;34m(\u001b[0m\u001b[0mself\u001b[0m\u001b[0;34m.\u001b[0m\u001b[0mparam_grid\u001b[0m\u001b[0;34m)\u001b[0m\u001b[0;34m)\u001b[0m\u001b[0;34m\u001b[0m\u001b[0;34m\u001b[0m\u001b[0m\n\u001b[0m\u001b[1;32m   1393\u001b[0m \u001b[0;34m\u001b[0m\u001b[0m\n\u001b[1;32m   1394\u001b[0m \u001b[0;34m\u001b[0m\u001b[0m\n",
      "\u001b[0;32m~/anaconda3/lib/python3.7/site-packages/sklearn/model_selection/_search.py\u001b[0m in \u001b[0;36mevaluate_candidates\u001b[0;34m(candidate_params, cv, more_results)\u001b[0m\n\u001b[1;32m    849\u001b[0m                     )\n\u001b[1;32m    850\u001b[0m                     for (cand_idx, parameters), (split_idx, (train, test)) in product(\n\u001b[0;32m--> 851\u001b[0;31m                         \u001b[0menumerate\u001b[0m\u001b[0;34m(\u001b[0m\u001b[0mcandidate_params\u001b[0m\u001b[0;34m)\u001b[0m\u001b[0;34m,\u001b[0m \u001b[0menumerate\u001b[0m\u001b[0;34m(\u001b[0m\u001b[0mcv\u001b[0m\u001b[0;34m.\u001b[0m\u001b[0msplit\u001b[0m\u001b[0;34m(\u001b[0m\u001b[0mX\u001b[0m\u001b[0;34m,\u001b[0m \u001b[0my\u001b[0m\u001b[0;34m,\u001b[0m \u001b[0mgroups\u001b[0m\u001b[0;34m)\u001b[0m\u001b[0;34m)\u001b[0m\u001b[0;34m\u001b[0m\u001b[0;34m\u001b[0m\u001b[0m\n\u001b[0m\u001b[1;32m    852\u001b[0m                     )\n\u001b[1;32m    853\u001b[0m                 )\n",
      "\u001b[0;32m~/anaconda3/lib/python3.7/site-packages/joblib/parallel.py\u001b[0m in \u001b[0;36m__call__\u001b[0;34m(self, iterable)\u001b[0m\n\u001b[1;32m   1059\u001b[0m \u001b[0;34m\u001b[0m\u001b[0m\n\u001b[1;32m   1060\u001b[0m             \u001b[0;32mwith\u001b[0m \u001b[0mself\u001b[0m\u001b[0;34m.\u001b[0m\u001b[0m_backend\u001b[0m\u001b[0;34m.\u001b[0m\u001b[0mretrieval_context\u001b[0m\u001b[0;34m(\u001b[0m\u001b[0;34m)\u001b[0m\u001b[0;34m:\u001b[0m\u001b[0;34m\u001b[0m\u001b[0;34m\u001b[0m\u001b[0m\n\u001b[0;32m-> 1061\u001b[0;31m                 \u001b[0mself\u001b[0m\u001b[0;34m.\u001b[0m\u001b[0mretrieve\u001b[0m\u001b[0;34m(\u001b[0m\u001b[0;34m)\u001b[0m\u001b[0;34m\u001b[0m\u001b[0;34m\u001b[0m\u001b[0m\n\u001b[0m\u001b[1;32m   1062\u001b[0m             \u001b[0;31m# Make sure that we get a last message telling us we are done\u001b[0m\u001b[0;34m\u001b[0m\u001b[0;34m\u001b[0m\u001b[0;34m\u001b[0m\u001b[0m\n\u001b[1;32m   1063\u001b[0m             \u001b[0melapsed_time\u001b[0m \u001b[0;34m=\u001b[0m \u001b[0mtime\u001b[0m\u001b[0;34m.\u001b[0m\u001b[0mtime\u001b[0m\u001b[0;34m(\u001b[0m\u001b[0;34m)\u001b[0m \u001b[0;34m-\u001b[0m \u001b[0mself\u001b[0m\u001b[0;34m.\u001b[0m\u001b[0m_start_time\u001b[0m\u001b[0;34m\u001b[0m\u001b[0;34m\u001b[0m\u001b[0m\n",
      "\u001b[0;32m~/anaconda3/lib/python3.7/site-packages/joblib/parallel.py\u001b[0m in \u001b[0;36mretrieve\u001b[0;34m(self)\u001b[0m\n\u001b[1;32m    960\u001b[0m                     \u001b[0;31m# scheduling.\u001b[0m\u001b[0;34m\u001b[0m\u001b[0;34m\u001b[0m\u001b[0;34m\u001b[0m\u001b[0m\n\u001b[1;32m    961\u001b[0m                     \u001b[0mensure_ready\u001b[0m \u001b[0;34m=\u001b[0m \u001b[0mself\u001b[0m\u001b[0;34m.\u001b[0m\u001b[0m_managed_backend\u001b[0m\u001b[0;34m\u001b[0m\u001b[0;34m\u001b[0m\u001b[0m\n\u001b[0;32m--> 962\u001b[0;31m                     \u001b[0mbackend\u001b[0m\u001b[0;34m.\u001b[0m\u001b[0mabort_everything\u001b[0m\u001b[0;34m(\u001b[0m\u001b[0mensure_ready\u001b[0m\u001b[0;34m=\u001b[0m\u001b[0mensure_ready\u001b[0m\u001b[0;34m)\u001b[0m\u001b[0;34m\u001b[0m\u001b[0;34m\u001b[0m\u001b[0m\n\u001b[0m\u001b[1;32m    963\u001b[0m                 \u001b[0;32mraise\u001b[0m\u001b[0;34m\u001b[0m\u001b[0;34m\u001b[0m\u001b[0m\n\u001b[1;32m    964\u001b[0m \u001b[0;34m\u001b[0m\u001b[0m\n",
      "\u001b[0;32m~/anaconda3/lib/python3.7/site-packages/joblib/_parallel_backends.py\u001b[0m in \u001b[0;36mabort_everything\u001b[0;34m(self, ensure_ready)\u001b[0m\n\u001b[1;32m    559\u001b[0m         \"\"\"Shutdown the workers and restart a new one with the same parameters\n\u001b[1;32m    560\u001b[0m         \"\"\"\n\u001b[0;32m--> 561\u001b[0;31m         \u001b[0mself\u001b[0m\u001b[0;34m.\u001b[0m\u001b[0m_workers\u001b[0m\u001b[0;34m.\u001b[0m\u001b[0mterminate\u001b[0m\u001b[0;34m(\u001b[0m\u001b[0mkill_workers\u001b[0m\u001b[0;34m=\u001b[0m\u001b[0;32mTrue\u001b[0m\u001b[0;34m)\u001b[0m\u001b[0;34m\u001b[0m\u001b[0;34m\u001b[0m\u001b[0m\n\u001b[0m\u001b[1;32m    562\u001b[0m         \u001b[0mself\u001b[0m\u001b[0;34m.\u001b[0m\u001b[0m_workers\u001b[0m \u001b[0;34m=\u001b[0m \u001b[0;32mNone\u001b[0m\u001b[0;34m\u001b[0m\u001b[0;34m\u001b[0m\u001b[0m\n\u001b[1;32m    563\u001b[0m \u001b[0;34m\u001b[0m\u001b[0m\n",
      "\u001b[0;32m~/anaconda3/lib/python3.7/site-packages/joblib/executor.py\u001b[0m in \u001b[0;36mterminate\u001b[0;34m(self, kill_workers)\u001b[0m\n\u001b[1;32m     72\u001b[0m \u001b[0;34m\u001b[0m\u001b[0m\n\u001b[1;32m     73\u001b[0m     \u001b[0;32mdef\u001b[0m \u001b[0mterminate\u001b[0m\u001b[0;34m(\u001b[0m\u001b[0mself\u001b[0m\u001b[0;34m,\u001b[0m \u001b[0mkill_workers\u001b[0m\u001b[0;34m=\u001b[0m\u001b[0;32mFalse\u001b[0m\u001b[0;34m)\u001b[0m\u001b[0;34m:\u001b[0m\u001b[0;34m\u001b[0m\u001b[0;34m\u001b[0m\u001b[0m\n\u001b[0;32m---> 74\u001b[0;31m         \u001b[0mself\u001b[0m\u001b[0;34m.\u001b[0m\u001b[0mshutdown\u001b[0m\u001b[0;34m(\u001b[0m\u001b[0mkill_workers\u001b[0m\u001b[0;34m=\u001b[0m\u001b[0mkill_workers\u001b[0m\u001b[0;34m)\u001b[0m\u001b[0;34m\u001b[0m\u001b[0;34m\u001b[0m\u001b[0m\n\u001b[0m\u001b[1;32m     75\u001b[0m         \u001b[0;32mif\u001b[0m \u001b[0mkill_workers\u001b[0m\u001b[0;34m:\u001b[0m\u001b[0;34m\u001b[0m\u001b[0;34m\u001b[0m\u001b[0m\n\u001b[1;32m     76\u001b[0m             \u001b[0;31m# When workers are killed in such a brutal manner, they cannot\u001b[0m\u001b[0;34m\u001b[0m\u001b[0;34m\u001b[0m\u001b[0;34m\u001b[0m\u001b[0m\n",
      "\u001b[0;32m~/anaconda3/lib/python3.7/site-packages/joblib/externals/loky/process_executor.py\u001b[0m in \u001b[0;36mshutdown\u001b[0;34m(self, wait, kill_workers)\u001b[0m\n\u001b[1;32m   1169\u001b[0m \u001b[0;34m\u001b[0m\u001b[0m\n\u001b[1;32m   1170\u001b[0m         \u001b[0;32mif\u001b[0m \u001b[0mexecutor_manager_thread\u001b[0m \u001b[0;32mis\u001b[0m \u001b[0;32mnot\u001b[0m \u001b[0;32mNone\u001b[0m \u001b[0;32mand\u001b[0m \u001b[0mwait\u001b[0m\u001b[0;34m:\u001b[0m\u001b[0;34m\u001b[0m\u001b[0;34m\u001b[0m\u001b[0m\n\u001b[0;32m-> 1171\u001b[0;31m             \u001b[0mexecutor_manager_thread\u001b[0m\u001b[0;34m.\u001b[0m\u001b[0mjoin\u001b[0m\u001b[0;34m(\u001b[0m\u001b[0;34m)\u001b[0m\u001b[0;34m\u001b[0m\u001b[0;34m\u001b[0m\u001b[0m\n\u001b[0m\u001b[1;32m   1172\u001b[0m \u001b[0;34m\u001b[0m\u001b[0m\n\u001b[1;32m   1173\u001b[0m         \u001b[0;31m# To reduce the risk of opening too many files, remove references to\u001b[0m\u001b[0;34m\u001b[0m\u001b[0;34m\u001b[0m\u001b[0;34m\u001b[0m\u001b[0m\n",
      "\u001b[0;32m~/anaconda3/lib/python3.7/threading.py\u001b[0m in \u001b[0;36mjoin\u001b[0;34m(self, timeout)\u001b[0m\n\u001b[1;32m   1042\u001b[0m \u001b[0;34m\u001b[0m\u001b[0m\n\u001b[1;32m   1043\u001b[0m         \u001b[0;32mif\u001b[0m \u001b[0mtimeout\u001b[0m \u001b[0;32mis\u001b[0m \u001b[0;32mNone\u001b[0m\u001b[0;34m:\u001b[0m\u001b[0;34m\u001b[0m\u001b[0;34m\u001b[0m\u001b[0m\n\u001b[0;32m-> 1044\u001b[0;31m             \u001b[0mself\u001b[0m\u001b[0;34m.\u001b[0m\u001b[0m_wait_for_tstate_lock\u001b[0m\u001b[0;34m(\u001b[0m\u001b[0;34m)\u001b[0m\u001b[0;34m\u001b[0m\u001b[0;34m\u001b[0m\u001b[0m\n\u001b[0m\u001b[1;32m   1045\u001b[0m         \u001b[0;32melse\u001b[0m\u001b[0;34m:\u001b[0m\u001b[0;34m\u001b[0m\u001b[0;34m\u001b[0m\u001b[0m\n\u001b[1;32m   1046\u001b[0m             \u001b[0;31m# the behavior of a negative timeout isn't documented, but\u001b[0m\u001b[0;34m\u001b[0m\u001b[0;34m\u001b[0m\u001b[0;34m\u001b[0m\u001b[0m\n",
      "\u001b[0;32m~/anaconda3/lib/python3.7/threading.py\u001b[0m in \u001b[0;36m_wait_for_tstate_lock\u001b[0;34m(self, block, timeout)\u001b[0m\n\u001b[1;32m   1058\u001b[0m         \u001b[0;32mif\u001b[0m \u001b[0mlock\u001b[0m \u001b[0;32mis\u001b[0m \u001b[0;32mNone\u001b[0m\u001b[0;34m:\u001b[0m  \u001b[0;31m# already determined that the C code is done\u001b[0m\u001b[0;34m\u001b[0m\u001b[0;34m\u001b[0m\u001b[0m\n\u001b[1;32m   1059\u001b[0m             \u001b[0;32massert\u001b[0m \u001b[0mself\u001b[0m\u001b[0;34m.\u001b[0m\u001b[0m_is_stopped\u001b[0m\u001b[0;34m\u001b[0m\u001b[0;34m\u001b[0m\u001b[0m\n\u001b[0;32m-> 1060\u001b[0;31m         \u001b[0;32melif\u001b[0m \u001b[0mlock\u001b[0m\u001b[0;34m.\u001b[0m\u001b[0macquire\u001b[0m\u001b[0;34m(\u001b[0m\u001b[0mblock\u001b[0m\u001b[0;34m,\u001b[0m \u001b[0mtimeout\u001b[0m\u001b[0;34m)\u001b[0m\u001b[0;34m:\u001b[0m\u001b[0;34m\u001b[0m\u001b[0;34m\u001b[0m\u001b[0m\n\u001b[0m\u001b[1;32m   1061\u001b[0m             \u001b[0mlock\u001b[0m\u001b[0;34m.\u001b[0m\u001b[0mrelease\u001b[0m\u001b[0;34m(\u001b[0m\u001b[0;34m)\u001b[0m\u001b[0;34m\u001b[0m\u001b[0;34m\u001b[0m\u001b[0m\n\u001b[1;32m   1062\u001b[0m             \u001b[0mself\u001b[0m\u001b[0;34m.\u001b[0m\u001b[0m_stop\u001b[0m\u001b[0;34m(\u001b[0m\u001b[0;34m)\u001b[0m\u001b[0;34m\u001b[0m\u001b[0;34m\u001b[0m\u001b[0m\n",
      "\u001b[0;31mKeyboardInterrupt\u001b[0m: "
     ]
    }
   ],
   "source": [
    "import os\n",
    "import numpy as np \n",
    "import pandas as pd\n",
    "from time import time\n",
    "\n",
    "from sklearn.preprocessing import MinMaxScaler\n",
    "from sklearn.model_selection import train_test_split\n",
    "from sklearn.model_selection import GridSearchCV\n",
    "from sklearn.metrics import mean_squared_error as MSE\n",
    "\n",
    "from RTER import RegressionTree\n",
    "from ensemble import RegressionTreeBoosting, RegressionTreeEnsemble\n",
    "\n",
    "\n",
    "\n",
    "from sklearn.tree import DecisionTreeRegressor\n",
    "from sklearn.ensemble import GradientBoostingRegressor, RandomForestRegressor\n",
    "\n",
    "\n",
    "\n",
    "\n",
    "\n",
    "\n",
    "data_file_dir = \"./data/real_data_cleaned/\"\n",
    "\n",
    "#data_file_name_seq = ['airfoil.csv','space_ga_scale.csv','whitewine.csv', 'dakbilgic.csv','mg_scale.csv','bias.csv','cpusmall_scale.csv','aquatic.csv','yacht.csv', 'abalone.csv','cbm.csv']\n",
    "data_file_name_seq = ['aquatic.csv']\n",
    "#data_seq = glob.glob(\"{}/*.csv\".format(log_file_dir))\n",
    "#data_file_name_seq = [os.path.split(data)[1] for data in data_seq]\n",
    "\n",
    "log_file_dir = \"./results/realdata_forest/\"\n",
    "\n",
    "\n",
    "for data_file_name in data_file_name_seq:\n",
    "    # load dataset\n",
    "    data_name = os.path.splitext(data_file_name)[0]\n",
    "    data_file_path = os.path.join(data_file_dir, data_file_name)\n",
    "    data = pd.read_csv(data_file_path,header = None)\n",
    "    data = np.array(data)\n",
    "    \n",
    "    X = data[:,1:]\n",
    "    y = data[:,0]\n",
    "    \n",
    "    scaler = MinMaxScaler()\n",
    "    X = scaler.fit_transform(X)\n",
    "    \n",
    "\n",
    "  \n",
    "\n",
    "    X_train, X_test, y_train, y_test = train_test_split(X, y, test_size=0.3, random_state=20)\n",
    "\n",
    "\n",
    "    # RTER ensemble\n",
    "\n",
    "    parameters={\"n_estimators\":[50], \"max_features\":[0.5,0.75,1],\n",
    "                \"max_samples\":[0.8,1,1.2],\n",
    "   \"min_samples_split\":[2,5,10], \"max_depth\":[2,3,4,5,6,7,8,9],\n",
    "   \"order\":[0,1],\"splitter\":[\"varreduction\"],\n",
    "    \"estimator\":[\"pointwise_extrapolation_estimator\"],\n",
    "   \"r_range_low\":[0],\"r_range_up\":[0.6,1],\n",
    "   \"lamda\":[0.0001,0.001,0.01,0.1],\"V\":[2,\"auto\"]}\n",
    "    cv_model_ensemble=GridSearchCV(estimator=RegressionTreeEnsemble(),param_grid=parameters, cv=3, n_jobs=50)\n",
    "    cv_model_ensemble.fit(X_train, y_train)\n",
    "    time_start=time()\n",
    "    ensemble_model = cv_model_ensemble.best_estimator_\n",
    "    ensemble_model.ensemble_parallel = 1\n",
    "    mse_score= - ensemble_model.score(X_test, y_test)\n",
    "    time_end=time()\n",
    "        \n",
    "       \n",
    "     \n",
    "    \n",
    "        "
   ]
  },
  {
   "cell_type": "code",
   "execution_count": null,
   "metadata": {},
   "outputs": [],
   "source": [
    "mse_score"
   ]
  },
  {
   "cell_type": "code",
   "execution_count": null,
   "metadata": {},
   "outputs": [],
   "source": [
    "time_end - time_start"
   ]
  },
  {
   "cell_type": "code",
   "execution_count": null,
   "metadata": {},
   "outputs": [],
   "source": [
    "cv_model_ensemble.best_params_"
   ]
  },
  {
   "cell_type": "code",
   "execution_count": 75,
   "metadata": {},
   "outputs": [
    {
     "data": {
      "text/plain": [
       "5.4243878811053285"
      ]
     },
     "execution_count": 75,
     "metadata": {},
     "output_type": "execute_result"
    }
   ],
   "source": [
    "check_model = RegressionTreeEnsemble(\n",
    "          n_estimators = 200,\n",
    "          max_features = 1,\n",
    "          max_samples = 1.2,\n",
    "          V = 140, \n",
    "          estimator = \"pointwise_extrapolation_estimator\",\n",
    "          lamda = 0.0001,\n",
    "          max_depth = 9,\n",
    "          min_samples_split = 5,\n",
    "          order = 0,\n",
    "          r_range_up =1,\n",
    "          splitter = \"varreduction\")\n",
    "check_model.fit(X_train, y_train)\n",
    "-check_model.score(X_test,y_test)"
   ]
  },
  {
   "cell_type": "code",
   "execution_count": null,
   "metadata": {},
   "outputs": [],
   "source": []
  }
 ],
 "metadata": {
  "kernelspec": {
   "display_name": "Python 3",
   "language": "python",
   "name": "python3"
  },
  "language_info": {
   "codemirror_mode": {
    "name": "ipython",
    "version": 3
   },
   "file_extension": ".py",
   "mimetype": "text/x-python",
   "name": "python",
   "nbconvert_exporter": "python",
   "pygments_lexer": "ipython3",
   "version": "3.7.9"
  }
 },
 "nbformat": 4,
 "nbformat_minor": 5
}
