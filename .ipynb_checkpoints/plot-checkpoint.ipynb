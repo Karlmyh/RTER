{
 "cells": [
  {
   "cell_type": "code",
   "execution_count": 1,
   "id": "7066732f",
   "metadata": {},
   "outputs": [],
   "source": [
    "import numpy as np\n",
    "from IPython.core.interactiveshell import InteractiveShell\n",
    "InteractiveShell.ast_node_interactivity = \"all\"\n",
    "from time import time\n",
    "import matplotlib.pyplot as plt\n",
    "import seaborn as sb\n",
    "import pandas as pd\n",
    "\n",
    "from RTER import RegressionTree\n",
    "from distribution import TestDistribution\n",
    "from comparison.ensemble import RegressionTreeBoosting, RegressionTreeEnsemble\n",
    "from comparison.EKNN import EKNN\n",
    "\n",
    "\n",
    "from sklearn.metrics import mean_squared_error as MSE\n",
    "from sklearn.model_selection import GridSearchCV\n",
    "from sklearn.ensemble import GradientBoostingRegressor\n"
   ]
  },
  {
   "cell_type": "code",
   "execution_count": null,
   "id": "dc25aeb1",
   "metadata": {},
   "outputs": [],
   "source": []
  },
  {
   "cell_type": "code",
   "execution_count": null,
   "id": "a401cfdd",
   "metadata": {},
   "outputs": [],
   "source": []
  },
  {
   "cell_type": "markdown",
   "id": "b6d89431",
   "metadata": {},
   "source": [
    "## Partition Illustration"
   ]
  },
  {
   "cell_type": "code",
   "execution_count": 23,
   "id": "f6a139ed",
   "metadata": {},
   "outputs": [
    {
     "data": {
      "text/plain": [
       "(-1.0, 2.0)"
      ]
     },
     "execution_count": 23,
     "metadata": {},
     "output_type": "execute_result"
    },
    {
     "data": {
      "text/plain": [
       "(-1.0, 2.0)"
      ]
     },
     "execution_count": 23,
     "metadata": {},
     "output_type": "execute_result"
    },
    {
     "data": {
      "text/plain": [
       "<matplotlib.collections.PathCollection at 0x7f2557123fa0>"
      ]
     },
     "execution_count": 23,
     "metadata": {},
     "output_type": "execute_result"
    },
    {
     "data": {
      "text/plain": [
       "([], [])"
      ]
     },
     "execution_count": 23,
     "metadata": {},
     "output_type": "execute_result"
    },
    {
     "data": {
      "text/plain": [
       "([], [])"
      ]
     },
     "execution_count": 23,
     "metadata": {},
     "output_type": "execute_result"
    },
    {
     "data": {
      "image/png": "[encoded data removed]",
      "text/plain": [
       "<Figure size 360x360 with 1 Axes>"
      ]
     },
     "metadata": {},
     "output_type": "display_data"
    }
   ],
   "source": [
    "np.random.seed(2)\n",
    "num = 40\n",
    "fig = plt.figure(figsize=(5,5))\n",
    "X = np.random.normal(loc = 0.5, scale = 0.5, size = num)\n",
    "Y = np.random.normal(loc = 0.5, scale = 0.5, size = num)\n",
    "plt.xlim(-1,2)\n",
    "plt.ylim(-1,2)\n",
    "plt.scatter(X,Y)\n",
    "plt.xticks([])\n",
    "plt.yticks([])\n",
    "plt.savefig(\"./results/plot/partition_0.pdf\",bbox_inches=\"tight\")\n"
   ]
  },
  {
   "cell_type": "code",
   "execution_count": null,
   "id": "b613d736",
   "metadata": {},
   "outputs": [],
   "source": []
  },
  {
   "cell_type": "code",
   "execution_count": 24,
   "id": "6ffa98e6",
   "metadata": {},
   "outputs": [
    {
     "data": {
      "text/plain": [
       "(-1.0, 2.0)"
      ]
     },
     "execution_count": 24,
     "metadata": {},
     "output_type": "execute_result"
    },
    {
     "data": {
      "text/plain": [
       "(-1.0, 2.0)"
      ]
     },
     "execution_count": 24,
     "metadata": {},
     "output_type": "execute_result"
    },
    {
     "data": {
      "text/plain": [
       "<matplotlib.collections.PathCollection at 0x7f255726fc40>"
      ]
     },
     "execution_count": 24,
     "metadata": {},
     "output_type": "execute_result"
    },
    {
     "data": {
      "text/plain": [
       "([], [])"
      ]
     },
     "execution_count": 24,
     "metadata": {},
     "output_type": "execute_result"
    },
    {
     "data": {
      "text/plain": [
       "([], [])"
      ]
     },
     "execution_count": 24,
     "metadata": {},
     "output_type": "execute_result"
    },
    {
     "data": {
      "text/plain": [
       "<matplotlib.collections.LineCollection at 0x7f255725fac0>"
      ]
     },
     "execution_count": 24,
     "metadata": {},
     "output_type": "execute_result"
    },
    {
     "data": {
      "image/png": "[encoded data removed]",
      "text/plain": [
       "<Figure size 360x360 with 1 Axes>"
      ]
     },
     "metadata": {},
     "output_type": "display_data"
    }
   ],
   "source": [
    "np.random.seed(2)\n",
    "num = 40\n",
    "fig = plt.figure(figsize=(5,5))\n",
    "X = np.random.normal(loc = 0.5, scale = 0.5, size = num)\n",
    "Y = np.random.normal(loc = 0.5, scale = 0.5, size = num)\n",
    "plt.xlim(-1,2)\n",
    "plt.ylim(-1,2)\n",
    "plt.scatter(X,Y)\n",
    "plt.xticks([])\n",
    "plt.yticks([])\n",
    "plt.hlines(0.5,-1,2,color = \"black\" )\n",
    "plt.savefig(\"./results/plot/partition_11.pdf\",bbox_inches=\"tight\")\n"
   ]
  },
  {
   "cell_type": "code",
   "execution_count": 25,
   "id": "4079469b",
   "metadata": {},
   "outputs": [
    {
     "data": {
      "text/plain": [
       "(-1.0, 2.0)"
      ]
     },
     "execution_count": 25,
     "metadata": {},
     "output_type": "execute_result"
    },
    {
     "data": {
      "text/plain": [
       "(-1.0, 2.0)"
      ]
     },
     "execution_count": 25,
     "metadata": {},
     "output_type": "execute_result"
    },
    {
     "data": {
      "text/plain": [
       "<matplotlib.collections.PathCollection at 0x7f2557588b20>"
      ]
     },
     "execution_count": 25,
     "metadata": {},
     "output_type": "execute_result"
    },
    {
     "data": {
      "text/plain": [
       "([], [])"
      ]
     },
     "execution_count": 25,
     "metadata": {},
     "output_type": "execute_result"
    },
    {
     "data": {
      "text/plain": [
       "([], [])"
      ]
     },
     "execution_count": 25,
     "metadata": {},
     "output_type": "execute_result"
    },
    {
     "data": {
      "text/plain": [
       "<matplotlib.collections.LineCollection at 0x7f25575969d0>"
      ]
     },
     "execution_count": 25,
     "metadata": {},
     "output_type": "execute_result"
    },
    {
     "data": {
      "image/png": "[encoded data removed]",
      "text/plain": [
       "<Figure size 360x360 with 1 Axes>"
      ]
     },
     "metadata": {},
     "output_type": "display_data"
    }
   ],
   "source": [
    "np.random.seed(2)\n",
    "num = 40\n",
    "fig = plt.figure(figsize=(5,5))\n",
    "X = np.random.normal(loc = 0.5, scale = 0.5, size = num)\n",
    "Y = np.random.normal(loc = 0.5, scale = 0.5, size = num)\n",
    "plt.xlim(-1,2)\n",
    "plt.ylim(-1,2)\n",
    "plt.scatter(X,Y)\n",
    "plt.xticks([])\n",
    "plt.yticks([])\n",
    "plt.vlines(0.5,-1,2,color = \"black\" )\n",
    "plt.savefig(\"./results/plot/partition_12.pdf\",bbox_inches=\"tight\")"
   ]
  },
  {
   "cell_type": "code",
   "execution_count": 26,
   "id": "fb5fbc65",
   "metadata": {},
   "outputs": [
    {
     "data": {
      "text/plain": [
       "(-1.0, 2.0)"
      ]
     },
     "execution_count": 26,
     "metadata": {},
     "output_type": "execute_result"
    },
    {
     "data": {
      "text/plain": [
       "(-1.0, 2.0)"
      ]
     },
     "execution_count": 26,
     "metadata": {},
     "output_type": "execute_result"
    },
    {
     "data": {
      "text/plain": [
       "<matplotlib.collections.PathCollection at 0x7f25571c8220>"
      ]
     },
     "execution_count": 26,
     "metadata": {},
     "output_type": "execute_result"
    },
    {
     "data": {
      "text/plain": [
       "([], [])"
      ]
     },
     "execution_count": 26,
     "metadata": {},
     "output_type": "execute_result"
    },
    {
     "data": {
      "text/plain": [
       "([], [])"
      ]
     },
     "execution_count": 26,
     "metadata": {},
     "output_type": "execute_result"
    },
    {
     "data": {
      "text/plain": [
       "<matplotlib.collections.LineCollection at 0x7f25575e35b0>"
      ]
     },
     "execution_count": 26,
     "metadata": {},
     "output_type": "execute_result"
    },
    {
     "data": {
      "text/plain": [
       "<matplotlib.collections.LineCollection at 0x7f25575e3be0>"
      ]
     },
     "execution_count": 26,
     "metadata": {},
     "output_type": "execute_result"
    },
    {
     "data": {
      "image/png": "[encoded data removed]",
      "text/plain": [
       "<Figure size 360x360 with 1 Axes>"
      ]
     },
     "metadata": {},
     "output_type": "display_data"
    }
   ],
   "source": [
    "np.random.seed(2)\n",
    "num = 40\n",
    "fig = plt.figure(figsize=(5,5))\n",
    "X = np.random.normal(loc = 0.5, scale = 0.5, size = num)\n",
    "Y = np.random.normal(loc = 0.5, scale = 0.5, size = num)\n",
    "plt.xlim(-1,2)\n",
    "plt.ylim(-1,2)\n",
    "plt.scatter(X,Y)\n",
    "plt.xticks([])\n",
    "plt.yticks([])\n",
    "plt.vlines(0.5,-1,2,color = \"black\" )\n",
    "plt.hlines(0.5,-1,2,color = \"black\" )\n",
    "plt.savefig(\"./results/plot/partition_21.pdf\",bbox_inches=\"tight\")"
   ]
  },
  {
   "cell_type": "code",
   "execution_count": 27,
   "id": "e52ed3f3",
   "metadata": {},
   "outputs": [
    {
     "data": {
      "text/plain": [
       "(-1.0, 2.0)"
      ]
     },
     "execution_count": 27,
     "metadata": {},
     "output_type": "execute_result"
    },
    {
     "data": {
      "text/plain": [
       "(-1.0, 2.0)"
      ]
     },
     "execution_count": 27,
     "metadata": {},
     "output_type": "execute_result"
    },
    {
     "data": {
      "text/plain": [
       "<matplotlib.collections.PathCollection at 0x7f25575a8250>"
      ]
     },
     "execution_count": 27,
     "metadata": {},
     "output_type": "execute_result"
    },
    {
     "data": {
      "text/plain": [
       "([], [])"
      ]
     },
     "execution_count": 27,
     "metadata": {},
     "output_type": "execute_result"
    },
    {
     "data": {
      "text/plain": [
       "([], [])"
      ]
     },
     "execution_count": 27,
     "metadata": {},
     "output_type": "execute_result"
    },
    {
     "data": {
      "text/plain": [
       "<matplotlib.collections.LineCollection at 0x7f2556e2ecd0>"
      ]
     },
     "execution_count": 27,
     "metadata": {},
     "output_type": "execute_result"
    },
    {
     "data": {
      "text/plain": [
       "<matplotlib.collections.LineCollection at 0x7f2556e2ef10>"
      ]
     },
     "execution_count": 27,
     "metadata": {},
     "output_type": "execute_result"
    },
    {
     "data": {
      "text/plain": [
       "<matplotlib.collections.LineCollection at 0x7f2557588b80>"
      ]
     },
     "execution_count": 27,
     "metadata": {},
     "output_type": "execute_result"
    },
    {
     "data": {
      "text/plain": [
       "<matplotlib.collections.LineCollection at 0x7f2556e415e0>"
      ]
     },
     "execution_count": 27,
     "metadata": {},
     "output_type": "execute_result"
    },
    {
     "data": {
      "text/plain": [
       "<matplotlib.collections.LineCollection at 0x7f2556e418e0>"
      ]
     },
     "execution_count": 27,
     "metadata": {},
     "output_type": "execute_result"
    },
    {
     "data": {
      "text/plain": [
       "<matplotlib.collections.LineCollection at 0x7f2556e41c10>"
      ]
     },
     "execution_count": 27,
     "metadata": {},
     "output_type": "execute_result"
    },
    {
     "data": {
      "image/png": "[encoded data removed]",
      "text/plain": [
       "<Figure size 360x360 with 1 Axes>"
      ]
     },
     "metadata": {},
     "output_type": "display_data"
    }
   ],
   "source": [
    "np.random.seed(2)\n",
    "num = 40\n",
    "fig = plt.figure(figsize=(5,5))\n",
    "X = np.random.normal(loc = 0.5, scale = 0.5, size = num)\n",
    "Y = np.random.normal(loc = 0.5, scale = 0.5, size = num)\n",
    "plt.xlim(-1,2)\n",
    "plt.ylim(-1,2)\n",
    "plt.scatter(X,Y)\n",
    "plt.xticks([])\n",
    "plt.yticks([])\n",
    "plt.vlines(0.5,-1,2,color = \"black\" )\n",
    "plt.hlines(0.5,-1,2,color = \"black\" )\n",
    "\n",
    "plt.hlines(-0.25,-1,0.5,color = \"black\" )\n",
    "plt.hlines(1.25,0.5,2,color = \"black\" )\n",
    "plt.hlines(-0.25,0.5,2,color = \"black\" )\n",
    "plt.hlines(1.25,-1,0.5,color = \"black\" )\n",
    "plt.savefig(\"./results/plot/partition_31.pdf\",bbox_inches=\"tight\")"
   ]
  },
  {
   "cell_type": "code",
   "execution_count": 28,
   "id": "2fd7dd9c",
   "metadata": {},
   "outputs": [
    {
     "data": {
      "text/plain": [
       "(-1.0, 2.0)"
      ]
     },
     "execution_count": 28,
     "metadata": {},
     "output_type": "execute_result"
    },
    {
     "data": {
      "text/plain": [
       "(-1.0, 2.0)"
      ]
     },
     "execution_count": 28,
     "metadata": {},
     "output_type": "execute_result"
    },
    {
     "data": {
      "text/plain": [
       "<matplotlib.collections.PathCollection at 0x7f2556dfabe0>"
      ]
     },
     "execution_count": 28,
     "metadata": {},
     "output_type": "execute_result"
    },
    {
     "data": {
      "text/plain": [
       "([], [])"
      ]
     },
     "execution_count": 28,
     "metadata": {},
     "output_type": "execute_result"
    },
    {
     "data": {
      "text/plain": [
       "([], [])"
      ]
     },
     "execution_count": 28,
     "metadata": {},
     "output_type": "execute_result"
    },
    {
     "data": {
      "text/plain": [
       "<matplotlib.collections.LineCollection at 0x7f255739eee0>"
      ]
     },
     "execution_count": 28,
     "metadata": {},
     "output_type": "execute_result"
    },
    {
     "data": {
      "text/plain": [
       "<matplotlib.collections.LineCollection at 0x7f2556e07340>"
      ]
     },
     "execution_count": 28,
     "metadata": {},
     "output_type": "execute_result"
    },
    {
     "data": {
      "text/plain": [
       "<matplotlib.collections.LineCollection at 0x7f2556e07700>"
      ]
     },
     "execution_count": 28,
     "metadata": {},
     "output_type": "execute_result"
    },
    {
     "data": {
      "text/plain": [
       "<matplotlib.collections.LineCollection at 0x7f2557182d60>"
      ]
     },
     "execution_count": 28,
     "metadata": {},
     "output_type": "execute_result"
    },
    {
     "data": {
      "text/plain": [
       "<matplotlib.collections.LineCollection at 0x7f2556e07ca0>"
      ]
     },
     "execution_count": 28,
     "metadata": {},
     "output_type": "execute_result"
    },
    {
     "data": {
      "text/plain": [
       "<matplotlib.collections.LineCollection at 0x7f2556dfab20>"
      ]
     },
     "execution_count": 28,
     "metadata": {},
     "output_type": "execute_result"
    },
    {
     "data": {
      "image/png": "[encoded data removed]",
      "text/plain": [
       "<Figure size 360x360 with 1 Axes>"
      ]
     },
     "metadata": {},
     "output_type": "display_data"
    }
   ],
   "source": [
    "np.random.seed(2)\n",
    "num = 40\n",
    "fig = plt.figure(figsize=(5,5))\n",
    "X = np.random.normal(loc = 0.5, scale = 0.5, size = num)\n",
    "Y = np.random.normal(loc = 0.5, scale = 0.5, size = num)\n",
    "plt.xlim(-1,2)\n",
    "plt.ylim(-1,2)\n",
    "plt.scatter(X,Y)\n",
    "plt.xticks([])\n",
    "plt.yticks([])\n",
    "plt.vlines(0.5,-1,2,color = \"black\" )\n",
    "plt.hlines(0.5,-1,2,color = \"black\" )\n",
    "\n",
    "plt.hlines(-0.25,-1,0.5,color = \"black\" )\n",
    "plt.hlines(1.25,0.5,2,color = \"black\" )\n",
    "plt.hlines(-0.25,0.5,2,color = \"black\" )\n",
    "plt.vlines(-0.25,0.5,2,color = \"black\" )\n",
    "plt.savefig(\"./results/plot/partition_32.pdf\",bbox_inches=\"tight\")"
   ]
  },
  {
   "cell_type": "code",
   "execution_count": 29,
   "id": "d1e9a5cb",
   "metadata": {},
   "outputs": [
    {
     "data": {
      "text/plain": [
       "(-1.0, 2.0)"
      ]
     },
     "execution_count": 29,
     "metadata": {},
     "output_type": "execute_result"
    },
    {
     "data": {
      "text/plain": [
       "(-1.0, 2.0)"
      ]
     },
     "execution_count": 29,
     "metadata": {},
     "output_type": "execute_result"
    },
    {
     "data": {
      "text/plain": [
       "<matplotlib.collections.PathCollection at 0x7f2557173790>"
      ]
     },
     "execution_count": 29,
     "metadata": {},
     "output_type": "execute_result"
    },
    {
     "data": {
      "text/plain": [
       "([], [])"
      ]
     },
     "execution_count": 29,
     "metadata": {},
     "output_type": "execute_result"
    },
    {
     "data": {
      "text/plain": [
       "([], [])"
      ]
     },
     "execution_count": 29,
     "metadata": {},
     "output_type": "execute_result"
    },
    {
     "data": {
      "text/plain": [
       "<matplotlib.collections.LineCollection at 0x7f2556d5c2e0>"
      ]
     },
     "execution_count": 29,
     "metadata": {},
     "output_type": "execute_result"
    },
    {
     "data": {
      "text/plain": [
       "<matplotlib.collections.LineCollection at 0x7f2556dd4c70>"
      ]
     },
     "execution_count": 29,
     "metadata": {},
     "output_type": "execute_result"
    },
    {
     "data": {
      "text/plain": [
       "<matplotlib.collections.LineCollection at 0x7f2556d5c460>"
      ]
     },
     "execution_count": 29,
     "metadata": {},
     "output_type": "execute_result"
    },
    {
     "data": {
      "text/plain": [
       "<matplotlib.collections.LineCollection at 0x7f2556d5c0a0>"
      ]
     },
     "execution_count": 29,
     "metadata": {},
     "output_type": "execute_result"
    },
    {
     "data": {
      "text/plain": [
       "<matplotlib.collections.LineCollection at 0x7f2556dc6fa0>"
      ]
     },
     "execution_count": 29,
     "metadata": {},
     "output_type": "execute_result"
    },
    {
     "data": {
      "text/plain": [
       "<matplotlib.collections.LineCollection at 0x7f2556d6b400>"
      ]
     },
     "execution_count": 29,
     "metadata": {},
     "output_type": "execute_result"
    },
    {
     "data": {
      "image/png": "[encoded data removed]",
      "text/plain": [
       "<Figure size 360x360 with 1 Axes>"
      ]
     },
     "metadata": {},
     "output_type": "display_data"
    }
   ],
   "source": [
    "np.random.seed(2)\n",
    "num = 40\n",
    "fig = plt.figure(figsize=(5,5))\n",
    "X = np.random.normal(loc = 0.5, scale = 0.5, size = num)\n",
    "Y = np.random.normal(loc = 0.5, scale = 0.5, size = num)\n",
    "plt.xlim(-1,2)\n",
    "plt.ylim(-1,2)\n",
    "plt.scatter(X,Y)\n",
    "plt.xticks([])\n",
    "plt.yticks([])\n",
    "plt.vlines(0.5,-1,2,color = \"black\" )\n",
    "plt.hlines(0.5,-1,2,color = \"black\" )\n",
    "\n",
    "plt.vlines(-0.25,-1,0.5,color = \"black\" )\n",
    "plt.vlines(1.25,0.5,2,color = \"black\" )\n",
    "plt.vlines(1.25,-1,0.5,color = \"black\" )\n",
    "plt.vlines(-0.25,0.5,2,color = \"black\" )\n",
    "\n",
    "plt.savefig(\"./results/plot/partition_33.pdf\",bbox_inches=\"tight\")"
   ]
  },
  {
   "cell_type": "code",
   "execution_count": null,
   "id": "53b11385",
   "metadata": {},
   "outputs": [],
   "source": []
  },
  {
   "cell_type": "code",
   "execution_count": null,
   "id": "290e08fb",
   "metadata": {},
   "outputs": [],
   "source": []
  },
  {
   "cell_type": "code",
   "execution_count": null,
   "id": "fb36c987",
   "metadata": {},
   "outputs": [],
   "source": []
  },
  {
   "cell_type": "code",
   "execution_count": null,
   "id": "0a6a2f61",
   "metadata": {},
   "outputs": [],
   "source": []
  },
  {
   "cell_type": "markdown",
   "id": "92e9b1f5",
   "metadata": {},
   "source": [
    "## Distribution of Point Estimation"
   ]
  },
  {
   "cell_type": "code",
   "execution_count": 53,
   "id": "8ef018a6",
   "metadata": {},
   "outputs": [],
   "source": [
    "sample_generator=TestDistribution(8).returnDistribution()\n",
    "n_test, n_train = 4000,2000\n",
    "df = pd.DataFrame(columns=[\"extra_est\",\"naive_est\",\"est_type\"])\n",
    "\n",
    "\n",
    "test_point = np.array([[0.25,0.25]])\n",
    "\n",
    "for i in range(50):\n",
    "    np.random.seed(i)\n",
    "    \n",
    "    X_train, Y_train = sample_generator.generate(n_train)\n",
    "\n",
    "\n",
    "    model = RegressionTree(estimator=\"pointwise_extrapolation_estimator\",\n",
    "                             splitter=\"maxedge\",\n",
    "                             min_samples_split=3,\n",
    "                             max_depth=2,\n",
    "                             order=3,\n",
    "                             random_state=4,\n",
    "                             lamda = 0.005,\n",
    "                              V=10,\n",
    "                          r_range_low = 0.3,\n",
    "                          r_range_up = 0.6)\n",
    "    model.fit(X_train, Y_train)\n",
    "    df = df.append({\"est\":model.predict(test_point).item(),\"est_type\":\"Extrapolation Estimation\"}, ignore_index=True)\n",
    "\n",
    "\n",
    "\n",
    "    model = RegressionTree(estimator=\"naive_estimator\",\n",
    "                             splitter=\"maxedge\",\n",
    "                             min_samples_split=3,\n",
    "                             max_depth=2)\n",
    "    model.fit(X_train, Y_train)\n",
    "    \n",
    "\n",
    "    df = df.append({\"est\":model.predict(test_point).item(),\"est_type\":\"Naive Estimation\"}, ignore_index=True)\n",
    "\n",
    "\n"
   ]
  },
  {
   "cell_type": "code",
   "execution_count": 54,
   "id": "fdee2c11",
   "metadata": {},
   "outputs": [
    {
     "data": {
      "text/plain": [
       "<AxesSubplot:>"
      ]
     },
     "execution_count": 54,
     "metadata": {},
     "output_type": "execute_result"
    },
    {
     "data": {
      "image/png": "[encoded data removed]",
      "text/plain": [
       "<Figure size 432x288 with 1 Axes>"
      ]
     },
     "metadata": {
      "needs_background": "light"
     },
     "output_type": "display_data"
    }
   ],
   "source": [
    "plt.subplot(1, 2, 1)\n",
    "base_color = sb.color_palette()[0]\n",
    "ax1 = sb.boxplot(data = df, x = 'est_type', y = 'est', color = base_color)"
   ]
  },
  {
   "cell_type": "code",
   "execution_count": 55,
   "id": "094b050b",
   "metadata": {},
   "outputs": [],
   "source": [
    "sample_generator=TestDistribution(8).returnDistribution()\n",
    "n_test, n_train = 4000,2000\n",
    "df = pd.DataFrame(columns=[\"extra_est\",\"naive_est\",\"est_type\"])\n",
    "\n",
    "\n",
    "test_point = np.array([[0.375,0.25]])\n",
    "\n",
    "for i in range(50):\n",
    "    np.random.seed(i)\n",
    "    \n",
    "    X_train, Y_train = sample_generator.generate(n_train)\n",
    "\n",
    "\n",
    "    model = RegressionTree(estimator=\"pointwise_extrapolation_estimator\",\n",
    "                             splitter=\"maxedge\",\n",
    "                             min_samples_split=3,\n",
    "                             max_depth=2,\n",
    "                             order=3,\n",
    "                             random_state=4,\n",
    "                             lamda = 0.01,\n",
    "                              V=10,\n",
    "                          r_range_low = 0.3,\n",
    "                          r_range_up = 0.6)\n",
    "    model.fit(X_train, Y_train)\n",
    "    df = df.append({\"est\":model.predict(test_point).item(),\"est_type\":\"Extrapolation Estimation\"}, ignore_index=True)\n",
    "\n",
    "\n",
    "\n",
    "    model = RegressionTree(estimator=\"naive_estimator\",\n",
    "                             splitter=\"maxedge\",\n",
    "                             min_samples_split=3,\n",
    "                             max_depth=2)\n",
    "    model.fit(X_train, Y_train)\n",
    "    \n",
    "\n",
    "    df = df.append({\"est\":model.predict(test_point).item(),\"est_type\":\"Naive Estimation\"}, ignore_index=True)\n",
    "\n",
    "\n"
   ]
  },
  {
   "cell_type": "code",
   "execution_count": 56,
   "id": "14fa02ff",
   "metadata": {},
   "outputs": [
    {
     "data": {
      "text/plain": [
       "<AxesSubplot:>"
      ]
     },
     "execution_count": 56,
     "metadata": {},
     "output_type": "execute_result"
    },
    {
     "data": {
      "image/png": "[encoded data removed]",
      "text/plain": [
       "<Figure size 432x288 with 1 Axes>"
      ]
     },
     "metadata": {
      "needs_background": "light"
     },
     "output_type": "display_data"
    }
   ],
   "source": [
    "plt.subplot(1, 2, 1)\n",
    "base_color = sb.color_palette()[0]\n",
    "ax1 = sb.boxplot(data = df, x = 'est_type', y = 'est', color = base_color)"
   ]
  },
  {
   "cell_type": "code",
   "execution_count": 57,
   "id": "c0060e42",
   "metadata": {},
   "outputs": [],
   "source": [
    "sample_generator=TestDistribution(8).returnDistribution()\n",
    "n_test, n_train = 4000,2000\n",
    "df = pd.DataFrame(columns=[\"extra_est\",\"naive_est\",\"est_type\"])\n",
    "\n",
    "\n",
    "test_point = np.array([[0.5,0.25]])\n",
    "\n",
    "for i in range(50):\n",
    "    np.random.seed(i)\n",
    "    \n",
    "    X_train, Y_train = sample_generator.generate(n_train)\n",
    "\n",
    "\n",
    "    model = RegressionTree(estimator=\"pointwise_extrapolation_estimator\",\n",
    "                             splitter=\"maxedge\",\n",
    "                             min_samples_split=3,\n",
    "                             max_depth=2,\n",
    "                             order=3,\n",
    "                             random_state=4,\n",
    "                             lamda = 0.0001,\n",
    "                              V=10,\n",
    "                          r_range_low = 0.3,\n",
    "                          r_range_up = 0.6)\n",
    "    model.fit(X_train, Y_train)\n",
    "    df = df.append({\"est\":model.predict(test_point).item(),\"est_type\":\"Extrapolation Estimation\"}, ignore_index=True)\n",
    "\n",
    "\n",
    "\n",
    "    model = RegressionTree(estimator=\"naive_estimator\",\n",
    "                             splitter=\"maxedge\",\n",
    "                             min_samples_split=3,\n",
    "                             max_depth=2)\n",
    "    model.fit(X_train, Y_train)\n",
    "    \n",
    "\n",
    "    df = df.append({\"est\":model.predict(test_point).item(),\"est_type\":\"Naive Estimation\"}, ignore_index=True)\n",
    "\n",
    "\n"
   ]
  },
  {
   "cell_type": "code",
   "execution_count": 59,
   "id": "4fcd3569",
   "metadata": {},
   "outputs": [
    {
     "data": {
      "text/plain": [
       "<AxesSubplot:>"
      ]
     },
     "execution_count": 59,
     "metadata": {},
     "output_type": "execute_result"
    },
    {
     "data": {
      "text/plain": [
       "array([1.2246468e-16])"
      ]
     },
     "execution_count": 59,
     "metadata": {},
     "output_type": "execute_result"
    },
    {
     "data": {
      "image/png": "[encoded data removed]",
      "text/plain": [
       "<Figure size 432x288 with 1 Axes>"
      ]
     },
     "metadata": {
      "needs_background": "light"
     },
     "output_type": "display_data"
    }
   ],
   "source": [
    "plt.subplot(1, 2, 1)\n",
    "sample_generator.evaluate(test_point)\n",
    "base_color = sb.color_palette()[0]\n",
    "ax1 = sb.boxplot(data = df, x = 'est_type', y = 'est', color = base_color)"
   ]
  },
  {
   "cell_type": "code",
   "execution_count": null,
   "id": "c41fcd14",
   "metadata": {},
   "outputs": [],
   "source": []
  },
  {
   "cell_type": "code",
   "execution_count": null,
   "id": "b9fcae77",
   "metadata": {},
   "outputs": [],
   "source": []
  },
  {
   "cell_type": "markdown",
   "id": "61a95c3e",
   "metadata": {},
   "source": [
    "## Linear Regression Plot"
   ]
  },
  {
   "cell_type": "code",
   "execution_count": 7,
   "id": "4ebedfb0",
   "metadata": {},
   "outputs": [],
   "source": [
    "def plot_polynomial(beta,r):\n",
    "    result = 0\n",
    "    for idx_b, b in enumerate(beta.ravel()):\n",
    "        result += r**idx_b * b\n",
    "    return result\n",
    "\n"
   ]
  },
  {
   "cell_type": "code",
   "execution_count": 8,
   "id": "aa43942f",
   "metadata": {},
   "outputs": [
    {
     "data": {
      "text/plain": [
       "<matplotlib.collections.LineCollection at 0x7f4b4e91c580>"
      ]
     },
     "execution_count": 8,
     "metadata": {},
     "output_type": "execute_result"
    },
    {
     "data": {
      "text/plain": [
       "<matplotlib.legend.Legend at 0x7f4b4e4a3bb0>"
      ]
     },
     "execution_count": 8,
     "metadata": {},
     "output_type": "execute_result"
    },
    {
     "data": {
      "image/png": "[encoded data removed]",
      "text/plain": [
       "<Figure size 432x288 with 1 Axes>"
      ]
     },
     "metadata": {
      "needs_background": "light"
     },
     "output_type": "display_data"
    }
   ],
   "source": [
    "\n",
    "np.random.seed(3)\n",
    "\n",
    "test_point = np.array([0.25,0.3])\n",
    "\n",
    "\n",
    "sample_generator=TestDistribution(8).returnDistribution()\n",
    "n_test, n_train = 4000,3000\n",
    "X_train, Y_train = sample_generator.generate(n_train)\n",
    "X_test, Y_test = sample_generator.generate(n_test)\n",
    "\n",
    "model = RegressionTree(estimator=\"pointwise_extrapolation_estimator\",\n",
    "                         splitter=\"maxedge\",\n",
    "                         min_samples_split=3,\n",
    "                         max_depth = 2,\n",
    "                         order=2,\n",
    "                         random_state=1,\n",
    "                         lamda = 0.0,\n",
    "                          V=9,\n",
    "                      r_range_low = 0,\n",
    "                      r_range_up = 1)\n",
    "model.fit(X_train, Y_train)\n",
    "\n",
    "_ = model.score(X_test,Y_test)\n",
    "\n",
    "pred_weights, all_r , all_y_hat  , used_r, used_y_hat = model.get_info(test_point.reshape(1,-1))\n",
    "\n",
    "\n",
    "_=plt.scatter(all_r,all_y_hat,label = \"Samples in the Cell\")\n",
    "_=plt.scatter(used_r, used_y_hat, label = \"Samples for Regression\")\n",
    "\n",
    "\n",
    "\n",
    "r_arange = np.arange(0,1,0.01)\n",
    "y_hat_regressed = np.array([plot_polynomial(pred_weights, r) for r in r_arange])\n",
    "\n",
    "_= plt.plot(r_arange, y_hat_regressed,color = \"blue\",label = \"Regression Curve\")\n",
    "\n",
    "plt.hlines(sample_generator.evaluate(test_point.reshape(1,-1)).item(),0,1,linestyles = \"--\",color = \"black\")\n",
    "#plt.plot(0,sample_generator.evaluate(test_point.reshape(1,-1)).item(), marker = \"*\",color = \"red\" )\n",
    "#plt.plot(0,pred_weights[0,0], marker = '*', color =\"blue\")\n",
    "\n",
    "\n",
    "_ = plt.xlabel(\"r\")\n",
    "_ = plt.ylabel(r\"$f_{D,r}(x)$\")\n",
    "\n",
    "plt.legend(loc = 8)\n",
    "\n",
    "plt.savefig(\"./results/plot/regression_fig.pdf\",bbox_inches=\"tight\")\n"
   ]
  },
  {
   "cell_type": "code",
   "execution_count": null,
   "id": "82dce89c",
   "metadata": {},
   "outputs": [],
   "source": []
  },
  {
   "cell_type": "code",
   "execution_count": null,
   "id": "63d45f65",
   "metadata": {},
   "outputs": [],
   "source": []
  },
  {
   "cell_type": "code",
   "execution_count": null,
   "id": "e3f7d8b0",
   "metadata": {},
   "outputs": [],
   "source": []
  },
  {
   "cell_type": "code",
   "execution_count": null,
   "id": "4a82da9e",
   "metadata": {},
   "outputs": [],
   "source": []
  }
 ],
 "metadata": {
  "kernelspec": {
   "display_name": "Python 3 (ipykernel)",
   "language": "python",
   "name": "python3"
  },
  "language_info": {
   "codemirror_mode": {
    "name": "ipython",
    "version": 3
   },
   "file_extension": ".py",
   "mimetype": "text/x-python",
   "name": "python",
   "nbconvert_exporter": "python",
   "pygments_lexer": "ipython3",
   "version": "3.9.7"
  }
 },
 "nbformat": 4,
 "nbformat_minor": 5
}
