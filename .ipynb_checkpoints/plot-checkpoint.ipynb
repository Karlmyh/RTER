{
 "cells": [
  {
   "cell_type": "code",
   "execution_count": 98,
   "id": "7066732f",
   "metadata": {},
   "outputs": [],
   "source": [
    "import numpy as np\n",
    "from IPython.core.interactiveshell import InteractiveShell\n",
    "InteractiveShell.ast_node_interactivity = \"all\"\n",
    "from time import time\n",
    "import matplotlib.pyplot as plt\n",
    "import seaborn as sb\n",
    "import pandas as pd\n",
    "import os\n",
    "\n",
    "from RTER import RegressionTree\n",
    "from distribution import TestDistribution\n",
    "from comparison.ensemble import RegressionTreeBoosting, RegressionTreeEnsemble\n",
    "from comparison.EKNN import EKNN\n",
    "\n",
    "\n",
    "from sklearn.metrics import mean_squared_error as MSE\n",
    "from sklearn.model_selection import GridSearchCV\n",
    "from sklearn.ensemble import GradientBoostingRegressor\n"
   ]
  },
  {
   "cell_type": "code",
   "execution_count": null,
   "id": "dc25aeb1",
   "metadata": {},
   "outputs": [],
   "source": []
  },
  {
   "cell_type": "code",
   "execution_count": null,
   "id": "a401cfdd",
   "metadata": {},
   "outputs": [],
   "source": []
  },
  {
   "cell_type": "markdown",
   "id": "b6d89431",
   "metadata": {},
   "source": [
    "## Partition Illustration"
   ]
  },
  {
   "cell_type": "code",
   "execution_count": 23,
   "id": "f6a139ed",
   "metadata": {},
   "outputs": [
    {
     "data": {
      "text/plain": [
       "(-1.0, 2.0)"
      ]
     },
     "execution_count": 23,
     "metadata": {},
     "output_type": "execute_result"
    },
    {
     "data": {
      "text/plain": [
       "(-1.0, 2.0)"
      ]
     },
     "execution_count": 23,
     "metadata": {},
     "output_type": "execute_result"
    },
    {
     "data": {
      "text/plain": [
       "<matplotlib.collections.PathCollection at 0x7f2557123fa0>"
      ]
     },
     "execution_count": 23,
     "metadata": {},
     "output_type": "execute_result"
    },
    {
     "data": {
      "text/plain": [
       "([], [])"
      ]
     },
     "execution_count": 23,
     "metadata": {},
     "output_type": "execute_result"
    },
    {
     "data": {
      "text/plain": [
       "([], [])"
      ]
     },
     "execution_count": 23,
     "metadata": {},
     "output_type": "execute_result"
    },
    {
     "data": {
      "image/png": "[encoded data removed]",
      "text/plain": [
       "<Figure size 360x360 with 1 Axes>"
      ]
     },
     "metadata": {},
     "output_type": "display_data"
    }
   ],
   "source": [
    "np.random.seed(2)\n",
    "num = 40\n",
    "fig = plt.figure(figsize=(5,5))\n",
    "X = np.random.normal(loc = 0.5, scale = 0.5, size = num)\n",
    "Y = np.random.normal(loc = 0.5, scale = 0.5, size = num)\n",
    "plt.xlim(-1,2)\n",
    "plt.ylim(-1,2)\n",
    "plt.scatter(X,Y)\n",
    "plt.xticks([])\n",
    "plt.yticks([])\n",
    "plt.savefig(\"./results/plot/partition_0.pdf\",bbox_inches=\"tight\")\n"
   ]
  },
  {
   "cell_type": "code",
   "execution_count": null,
   "id": "b613d736",
   "metadata": {},
   "outputs": [],
   "source": []
  },
  {
   "cell_type": "code",
   "execution_count": 24,
   "id": "6ffa98e6",
   "metadata": {},
   "outputs": [
    {
     "data": {
      "text/plain": [
       "(-1.0, 2.0)"
      ]
     },
     "execution_count": 24,
     "metadata": {},
     "output_type": "execute_result"
    },
    {
     "data": {
      "text/plain": [
       "(-1.0, 2.0)"
      ]
     },
     "execution_count": 24,
     "metadata": {},
     "output_type": "execute_result"
    },
    {
     "data": {
      "text/plain": [
       "<matplotlib.collections.PathCollection at 0x7f255726fc40>"
      ]
     },
     "execution_count": 24,
     "metadata": {},
     "output_type": "execute_result"
    },
    {
     "data": {
      "text/plain": [
       "([], [])"
      ]
     },
     "execution_count": 24,
     "metadata": {},
     "output_type": "execute_result"
    },
    {
     "data": {
      "text/plain": [
       "([], [])"
      ]
     },
     "execution_count": 24,
     "metadata": {},
     "output_type": "execute_result"
    },
    {
     "data": {
      "text/plain": [
       "<matplotlib.collections.LineCollection at 0x7f255725fac0>"
      ]
     },
     "execution_count": 24,
     "metadata": {},
     "output_type": "execute_result"
    },
    {
     "data": {
      "image/png": "[encoded data removed]",
      "text/plain": [
       "<Figure size 360x360 with 1 Axes>"
      ]
     },
     "metadata": {},
     "output_type": "display_data"
    }
   ],
   "source": [
    "np.random.seed(2)\n",
    "num = 40\n",
    "fig = plt.figure(figsize=(5,5))\n",
    "X = np.random.normal(loc = 0.5, scale = 0.5, size = num)\n",
    "Y = np.random.normal(loc = 0.5, scale = 0.5, size = num)\n",
    "plt.xlim(-1,2)\n",
    "plt.ylim(-1,2)\n",
    "plt.scatter(X,Y)\n",
    "plt.xticks([])\n",
    "plt.yticks([])\n",
    "plt.hlines(0.5,-1,2,color = \"black\" )\n",
    "plt.savefig(\"./results/plot/partition_11.pdf\",bbox_inches=\"tight\")\n"
   ]
  },
  {
   "cell_type": "code",
   "execution_count": 25,
   "id": "4079469b",
   "metadata": {},
   "outputs": [
    {
     "data": {
      "text/plain": [
       "(-1.0, 2.0)"
      ]
     },
     "execution_count": 25,
     "metadata": {},
     "output_type": "execute_result"
    },
    {
     "data": {
      "text/plain": [
       "(-1.0, 2.0)"
      ]
     },
     "execution_count": 25,
     "metadata": {},
     "output_type": "execute_result"
    },
    {
     "data": {
      "text/plain": [
       "<matplotlib.collections.PathCollection at 0x7f2557588b20>"
      ]
     },
     "execution_count": 25,
     "metadata": {},
     "output_type": "execute_result"
    },
    {
     "data": {
      "text/plain": [
       "([], [])"
      ]
     },
     "execution_count": 25,
     "metadata": {},
     "output_type": "execute_result"
    },
    {
     "data": {
      "text/plain": [
       "([], [])"
      ]
     },
     "execution_count": 25,
     "metadata": {},
     "output_type": "execute_result"
    },
    {
     "data": {
      "text/plain": [
       "<matplotlib.collections.LineCollection at 0x7f25575969d0>"
      ]
     },
     "execution_count": 25,
     "metadata": {},
     "output_type": "execute_result"
    },
    {
     "data": {
      "image/png": "[encoded data removed]",
      "text/plain": [
       "<Figure size 360x360 with 1 Axes>"
      ]
     },
     "metadata": {},
     "output_type": "display_data"
    }
   ],
   "source": [
    "np.random.seed(2)\n",
    "num = 40\n",
    "fig = plt.figure(figsize=(5,5))\n",
    "X = np.random.normal(loc = 0.5, scale = 0.5, size = num)\n",
    "Y = np.random.normal(loc = 0.5, scale = 0.5, size = num)\n",
    "plt.xlim(-1,2)\n",
    "plt.ylim(-1,2)\n",
    "plt.scatter(X,Y)\n",
    "plt.xticks([])\n",
    "plt.yticks([])\n",
    "plt.vlines(0.5,-1,2,color = \"black\" )\n",
    "plt.savefig(\"./results/plot/partition_12.pdf\",bbox_inches=\"tight\")"
   ]
  },
  {
   "cell_type": "code",
   "execution_count": 26,
   "id": "fb5fbc65",
   "metadata": {},
   "outputs": [
    {
     "data": {
      "text/plain": [
       "(-1.0, 2.0)"
      ]
     },
     "execution_count": 26,
     "metadata": {},
     "output_type": "execute_result"
    },
    {
     "data": {
      "text/plain": [
       "(-1.0, 2.0)"
      ]
     },
     "execution_count": 26,
     "metadata": {},
     "output_type": "execute_result"
    },
    {
     "data": {
      "text/plain": [
       "<matplotlib.collections.PathCollection at 0x7f25571c8220>"
      ]
     },
     "execution_count": 26,
     "metadata": {},
     "output_type": "execute_result"
    },
    {
     "data": {
      "text/plain": [
       "([], [])"
      ]
     },
     "execution_count": 26,
     "metadata": {},
     "output_type": "execute_result"
    },
    {
     "data": {
      "text/plain": [
       "([], [])"
      ]
     },
     "execution_count": 26,
     "metadata": {},
     "output_type": "execute_result"
    },
    {
     "data": {
      "text/plain": [
       "<matplotlib.collections.LineCollection at 0x7f25575e35b0>"
      ]
     },
     "execution_count": 26,
     "metadata": {},
     "output_type": "execute_result"
    },
    {
     "data": {
      "text/plain": [
       "<matplotlib.collections.LineCollection at 0x7f25575e3be0>"
      ]
     },
     "execution_count": 26,
     "metadata": {},
     "output_type": "execute_result"
    },
    {
     "data": {
      "image/png": "[encoded data removed]",
      "text/plain": [
       "<Figure size 360x360 with 1 Axes>"
      ]
     },
     "metadata": {},
     "output_type": "display_data"
    }
   ],
   "source": [
    "np.random.seed(2)\n",
    "num = 40\n",
    "fig = plt.figure(figsize=(5,5))\n",
    "X = np.random.normal(loc = 0.5, scale = 0.5, size = num)\n",
    "Y = np.random.normal(loc = 0.5, scale = 0.5, size = num)\n",
    "plt.xlim(-1,2)\n",
    "plt.ylim(-1,2)\n",
    "plt.scatter(X,Y)\n",
    "plt.xticks([])\n",
    "plt.yticks([])\n",
    "plt.vlines(0.5,-1,2,color = \"black\" )\n",
    "plt.hlines(0.5,-1,2,color = \"black\" )\n",
    "plt.savefig(\"./results/plot/partition_21.pdf\",bbox_inches=\"tight\")"
   ]
  },
  {
   "cell_type": "code",
   "execution_count": 27,
   "id": "e52ed3f3",
   "metadata": {},
   "outputs": [
    {
     "data": {
      "text/plain": [
       "(-1.0, 2.0)"
      ]
     },
     "execution_count": 27,
     "metadata": {},
     "output_type": "execute_result"
    },
    {
     "data": {
      "text/plain": [
       "(-1.0, 2.0)"
      ]
     },
     "execution_count": 27,
     "metadata": {},
     "output_type": "execute_result"
    },
    {
     "data": {
      "text/plain": [
       "<matplotlib.collections.PathCollection at 0x7f25575a8250>"
      ]
     },
     "execution_count": 27,
     "metadata": {},
     "output_type": "execute_result"
    },
    {
     "data": {
      "text/plain": [
       "([], [])"
      ]
     },
     "execution_count": 27,
     "metadata": {},
     "output_type": "execute_result"
    },
    {
     "data": {
      "text/plain": [
       "([], [])"
      ]
     },
     "execution_count": 27,
     "metadata": {},
     "output_type": "execute_result"
    },
    {
     "data": {
      "text/plain": [
       "<matplotlib.collections.LineCollection at 0x7f2556e2ecd0>"
      ]
     },
     "execution_count": 27,
     "metadata": {},
     "output_type": "execute_result"
    },
    {
     "data": {
      "text/plain": [
       "<matplotlib.collections.LineCollection at 0x7f2556e2ef10>"
      ]
     },
     "execution_count": 27,
     "metadata": {},
     "output_type": "execute_result"
    },
    {
     "data": {
      "text/plain": [
       "<matplotlib.collections.LineCollection at 0x7f2557588b80>"
      ]
     },
     "execution_count": 27,
     "metadata": {},
     "output_type": "execute_result"
    },
    {
     "data": {
      "text/plain": [
       "<matplotlib.collections.LineCollection at 0x7f2556e415e0>"
      ]
     },
     "execution_count": 27,
     "metadata": {},
     "output_type": "execute_result"
    },
    {
     "data": {
      "text/plain": [
       "<matplotlib.collections.LineCollection at 0x7f2556e418e0>"
      ]
     },
     "execution_count": 27,
     "metadata": {},
     "output_type": "execute_result"
    },
    {
     "data": {
      "text/plain": [
       "<matplotlib.collections.LineCollection at 0x7f2556e41c10>"
      ]
     },
     "execution_count": 27,
     "metadata": {},
     "output_type": "execute_result"
    },
    {
     "data": {
      "image/png": "[encoded data removed]",
      "text/plain": [
       "<Figure size 360x360 with 1 Axes>"
      ]
     },
     "metadata": {},
     "output_type": "display_data"
    }
   ],
   "source": [
    "np.random.seed(2)\n",
    "num = 40\n",
    "fig = plt.figure(figsize=(5,5))\n",
    "X = np.random.normal(loc = 0.5, scale = 0.5, size = num)\n",
    "Y = np.random.normal(loc = 0.5, scale = 0.5, size = num)\n",
    "plt.xlim(-1,2)\n",
    "plt.ylim(-1,2)\n",
    "plt.scatter(X,Y)\n",
    "plt.xticks([])\n",
    "plt.yticks([])\n",
    "plt.vlines(0.5,-1,2,color = \"black\" )\n",
    "plt.hlines(0.5,-1,2,color = \"black\" )\n",
    "\n",
    "plt.hlines(-0.25,-1,0.5,color = \"black\" )\n",
    "plt.hlines(1.25,0.5,2,color = \"black\" )\n",
    "plt.hlines(-0.25,0.5,2,color = \"black\" )\n",
    "plt.hlines(1.25,-1,0.5,color = \"black\" )\n",
    "plt.savefig(\"./results/plot/partition_31.pdf\",bbox_inches=\"tight\")"
   ]
  },
  {
   "cell_type": "code",
   "execution_count": 28,
   "id": "2fd7dd9c",
   "metadata": {},
   "outputs": [
    {
     "data": {
      "text/plain": [
       "(-1.0, 2.0)"
      ]
     },
     "execution_count": 28,
     "metadata": {},
     "output_type": "execute_result"
    },
    {
     "data": {
      "text/plain": [
       "(-1.0, 2.0)"
      ]
     },
     "execution_count": 28,
     "metadata": {},
     "output_type": "execute_result"
    },
    {
     "data": {
      "text/plain": [
       "<matplotlib.collections.PathCollection at 0x7f2556dfabe0>"
      ]
     },
     "execution_count": 28,
     "metadata": {},
     "output_type": "execute_result"
    },
    {
     "data": {
      "text/plain": [
       "([], [])"
      ]
     },
     "execution_count": 28,
     "metadata": {},
     "output_type": "execute_result"
    },
    {
     "data": {
      "text/plain": [
       "([], [])"
      ]
     },
     "execution_count": 28,
     "metadata": {},
     "output_type": "execute_result"
    },
    {
     "data": {
      "text/plain": [
       "<matplotlib.collections.LineCollection at 0x7f255739eee0>"
      ]
     },
     "execution_count": 28,
     "metadata": {},
     "output_type": "execute_result"
    },
    {
     "data": {
      "text/plain": [
       "<matplotlib.collections.LineCollection at 0x7f2556e07340>"
      ]
     },
     "execution_count": 28,
     "metadata": {},
     "output_type": "execute_result"
    },
    {
     "data": {
      "text/plain": [
       "<matplotlib.collections.LineCollection at 0x7f2556e07700>"
      ]
     },
     "execution_count": 28,
     "metadata": {},
     "output_type": "execute_result"
    },
    {
     "data": {
      "text/plain": [
       "<matplotlib.collections.LineCollection at 0x7f2557182d60>"
      ]
     },
     "execution_count": 28,
     "metadata": {},
     "output_type": "execute_result"
    },
    {
     "data": {
      "text/plain": [
       "<matplotlib.collections.LineCollection at 0x7f2556e07ca0>"
      ]
     },
     "execution_count": 28,
     "metadata": {},
     "output_type": "execute_result"
    },
    {
     "data": {
      "text/plain": [
       "<matplotlib.collections.LineCollection at 0x7f2556dfab20>"
      ]
     },
     "execution_count": 28,
     "metadata": {},
     "output_type": "execute_result"
    },
    {
     "data": {
      "image/png": "[encoded data removed]",
      "text/plain": [
       "<Figure size 360x360 with 1 Axes>"
      ]
     },
     "metadata": {},
     "output_type": "display_data"
    }
   ],
   "source": [
    "np.random.seed(2)\n",
    "num = 40\n",
    "fig = plt.figure(figsize=(5,5))\n",
    "X = np.random.normal(loc = 0.5, scale = 0.5, size = num)\n",
    "Y = np.random.normal(loc = 0.5, scale = 0.5, size = num)\n",
    "plt.xlim(-1,2)\n",
    "plt.ylim(-1,2)\n",
    "plt.scatter(X,Y)\n",
    "plt.xticks([])\n",
    "plt.yticks([])\n",
    "plt.vlines(0.5,-1,2,color = \"black\" )\n",
    "plt.hlines(0.5,-1,2,color = \"black\" )\n",
    "\n",
    "plt.hlines(-0.25,-1,0.5,color = \"black\" )\n",
    "plt.hlines(1.25,0.5,2,color = \"black\" )\n",
    "plt.hlines(-0.25,0.5,2,color = \"black\" )\n",
    "plt.vlines(-0.25,0.5,2,color = \"black\" )\n",
    "plt.savefig(\"./results/plot/partition_32.pdf\",bbox_inches=\"tight\")"
   ]
  },
  {
   "cell_type": "code",
   "execution_count": 29,
   "id": "d1e9a5cb",
   "metadata": {},
   "outputs": [
    {
     "data": {
      "text/plain": [
       "(-1.0, 2.0)"
      ]
     },
     "execution_count": 29,
     "metadata": {},
     "output_type": "execute_result"
    },
    {
     "data": {
      "text/plain": [
       "(-1.0, 2.0)"
      ]
     },
     "execution_count": 29,
     "metadata": {},
     "output_type": "execute_result"
    },
    {
     "data": {
      "text/plain": [
       "<matplotlib.collections.PathCollection at 0x7f2557173790>"
      ]
     },
     "execution_count": 29,
     "metadata": {},
     "output_type": "execute_result"
    },
    {
     "data": {
      "text/plain": [
       "([], [])"
      ]
     },
     "execution_count": 29,
     "metadata": {},
     "output_type": "execute_result"
    },
    {
     "data": {
      "text/plain": [
       "([], [])"
      ]
     },
     "execution_count": 29,
     "metadata": {},
     "output_type": "execute_result"
    },
    {
     "data": {
      "text/plain": [
       "<matplotlib.collections.LineCollection at 0x7f2556d5c2e0>"
      ]
     },
     "execution_count": 29,
     "metadata": {},
     "output_type": "execute_result"
    },
    {
     "data": {
      "text/plain": [
       "<matplotlib.collections.LineCollection at 0x7f2556dd4c70>"
      ]
     },
     "execution_count": 29,
     "metadata": {},
     "output_type": "execute_result"
    },
    {
     "data": {
      "text/plain": [
       "<matplotlib.collections.LineCollection at 0x7f2556d5c460>"
      ]
     },
     "execution_count": 29,
     "metadata": {},
     "output_type": "execute_result"
    },
    {
     "data": {
      "text/plain": [
       "<matplotlib.collections.LineCollection at 0x7f2556d5c0a0>"
      ]
     },
     "execution_count": 29,
     "metadata": {},
     "output_type": "execute_result"
    },
    {
     "data": {
      "text/plain": [
       "<matplotlib.collections.LineCollection at 0x7f2556dc6fa0>"
      ]
     },
     "execution_count": 29,
     "metadata": {},
     "output_type": "execute_result"
    },
    {
     "data": {
      "text/plain": [
       "<matplotlib.collections.LineCollection at 0x7f2556d6b400>"
      ]
     },
     "execution_count": 29,
     "metadata": {},
     "output_type": "execute_result"
    },
    {
     "data": {
      "image/png": "[encoded data removed]",
      "text/plain": [
       "<Figure size 360x360 with 1 Axes>"
      ]
     },
     "metadata": {},
     "output_type": "display_data"
    }
   ],
   "source": [
    "np.random.seed(2)\n",
    "num = 40\n",
    "fig = plt.figure(figsize=(5,5))\n",
    "X = np.random.normal(loc = 0.5, scale = 0.5, size = num)\n",
    "Y = np.random.normal(loc = 0.5, scale = 0.5, size = num)\n",
    "plt.xlim(-1,2)\n",
    "plt.ylim(-1,2)\n",
    "plt.scatter(X,Y)\n",
    "plt.xticks([])\n",
    "plt.yticks([])\n",
    "plt.vlines(0.5,-1,2,color = \"black\" )\n",
    "plt.hlines(0.5,-1,2,color = \"black\" )\n",
    "\n",
    "plt.vlines(-0.25,-1,0.5,color = \"black\" )\n",
    "plt.vlines(1.25,0.5,2,color = \"black\" )\n",
    "plt.vlines(1.25,-1,0.5,color = \"black\" )\n",
    "plt.vlines(-0.25,0.5,2,color = \"black\" )\n",
    "\n",
    "plt.savefig(\"./results/plot/partition_33.pdf\",bbox_inches=\"tight\")"
   ]
  },
  {
   "cell_type": "code",
   "execution_count": null,
   "id": "53b11385",
   "metadata": {},
   "outputs": [],
   "source": []
  },
  {
   "cell_type": "code",
   "execution_count": null,
   "id": "290e08fb",
   "metadata": {},
   "outputs": [],
   "source": []
  },
  {
   "cell_type": "code",
   "execution_count": null,
   "id": "fb36c987",
   "metadata": {},
   "outputs": [],
   "source": []
  },
  {
   "cell_type": "code",
   "execution_count": null,
   "id": "0a6a2f61",
   "metadata": {},
   "outputs": [],
   "source": []
  },
  {
   "cell_type": "markdown",
   "id": "92e9b1f5",
   "metadata": {},
   "source": [
    "## Distribution of Point Estimation"
   ]
  },
  {
   "cell_type": "code",
   "execution_count": null,
   "id": "ff94156a",
   "metadata": {},
   "outputs": [],
   "source": []
  },
  {
   "cell_type": "code",
   "execution_count": null,
   "id": "56dc552c",
   "metadata": {},
   "outputs": [],
   "source": []
  },
  {
   "cell_type": "code",
   "execution_count": 100,
   "id": "8ef018a6",
   "metadata": {},
   "outputs": [],
   "source": [
    "sample_generator=TestDistribution(8).returnDistribution()\n",
    "n_test, n_train = 4000,2000\n",
    "df = pd.DataFrame(columns=[\"extra_est\",\"naive_est\",\"est_type\"])\n",
    "\n",
    "\n",
    "test_point = np.array([[0.25,0.25]])\n",
    "\n",
    "for i in range(50):\n",
    "    np.random.seed(i)\n",
    "    \n",
    "    X_train, Y_train = sample_generator.generate(n_train)\n",
    "\n",
    "\n",
    "    model = RegressionTree(estimator=\"pointwise_extrapolation_estimator\",\n",
    "                             splitter=\"maxedge\",\n",
    "                             min_samples_split=3,\n",
    "                             max_depth=4,\n",
    "                             order=1,\n",
    "                             random_state=4,\n",
    "                             lamda = 0.005,\n",
    "                              V=10,\n",
    "                          r_range_low = 0.3,\n",
    "                          r_range_up = 0.6)\n",
    "    model.fit(X_train, Y_train)\n",
    "    df = df.append({\"est\":model.predict(test_point).item(),\"est_type\":\"RTER\"}, ignore_index=True)\n",
    "\n",
    "\n",
    "\n",
    "    model = RegressionTree(estimator=\"naive_estimator\",\n",
    "                             splitter=\"maxedge\",\n",
    "                             min_samples_split=3,\n",
    "                             max_depth=5)\n",
    "    model.fit(X_train, Y_train)\n",
    "    \n",
    "\n",
    "    df = df.append({\"est\":model.predict(test_point).item(),\"est_type\":\"RTR\"}, ignore_index=True)\n",
    "\n",
    "\n"
   ]
  },
  {
   "cell_type": "code",
   "execution_count": 101,
   "id": "fdee2c11",
   "metadata": {},
   "outputs": [
    {
     "data": {
      "text/plain": [
       "<AxesSubplot:>"
      ]
     },
     "execution_count": 101,
     "metadata": {},
     "output_type": "execute_result"
    },
    {
     "data": {
      "text/plain": [
       "<matplotlib.collections.LineCollection at 0x7f4b47c28760>"
      ]
     },
     "execution_count": 101,
     "metadata": {},
     "output_type": "execute_result"
    },
    {
     "data": {
      "text/plain": [
       "Text(0, 0.5, 'Estimation')"
      ]
     },
     "execution_count": 101,
     "metadata": {},
     "output_type": "execute_result"
    },
    {
     "data": {
      "text/plain": [
       "Text(0.5, 0, ' ')"
      ]
     },
     "execution_count": 101,
     "metadata": {},
     "output_type": "execute_result"
    },
    {
     "data": {
      "image/png": "[encoded data removed]",
      "text/plain": [
       "<Figure size 432x288 with 1 Axes>"
      ]
     },
     "metadata": {
      "needs_background": "light"
     },
     "output_type": "display_data"
    }
   ],
   "source": [
    "plt.subplot(1, 2, 1)\n",
    "base_color = sb.color_palette()[0]\n",
    "ax1 = sb.boxplot(data = df, x = 'est_type', y = 'est', color = base_color, width = 0.5)\n",
    "plt.hlines(1,-0.5,1.5,linestyle = \"--\",color = \"black\")\n",
    "plt.ylabel(\"Estimation\")\n",
    "plt.xlabel(\" \")"
   ]
  },
  {
   "cell_type": "code",
   "execution_count": null,
   "id": "b9fcae77",
   "metadata": {},
   "outputs": [],
   "source": []
  },
  {
   "cell_type": "markdown",
   "id": "61a95c3e",
   "metadata": {},
   "source": [
    "## Linear Regression Plot"
   ]
  },
  {
   "cell_type": "code",
   "execution_count": 228,
   "id": "1bb64bc0",
   "metadata": {},
   "outputs": [
    {
     "data": {
      "text/plain": [
       "GridSearchCV(cv=3,\n",
       "             estimator=<RTER.tree.RegressionTree object at 0x7f7231b9aa30>,\n",
       "             n_jobs=-1,\n",
       "             param_grid={'V': [5, 8, 10, 15, 20, 25, 30],\n",
       "                         'estimator': ['pointwise_extrapolation_estimator'],\n",
       "                         'lamda': [0.0001, 0.001, 0.01, 0.1, 0.2],\n",
       "                         'max_depth': [0, 1, 2, 3, 4, 5],\n",
       "                         'min_samples_split': [5, 10], 'order': [2],\n",
       "                         'r_range_low': [0], 'r_range_up': [0.5, 0.7, 0.9, 1],\n",
       "                         'splitter': ['maxedge'], 'step': [1],\n",
       "                         'truncate_ratio_low': [0], 'truncate_ratio_up': [1]})"
      ]
     },
     "execution_count": 228,
     "metadata": {},
     "output_type": "execute_result"
    },
    {
     "data": {
      "text/plain": [
       "{'V': 15,\n",
       " 'estimator': 'pointwise_extrapolation_estimator',\n",
       " 'lamda': 0.1,\n",
       " 'max_depth': 2,\n",
       " 'min_samples_split': 5,\n",
       " 'order': 2,\n",
       " 'r_range_low': 0,\n",
       " 'r_range_up': 0.7,\n",
       " 'splitter': 'maxedge',\n",
       " 'step': 1,\n",
       " 'truncate_ratio_low': 0,\n",
       " 'truncate_ratio_up': 1}"
      ]
     },
     "execution_count": 228,
     "metadata": {},
     "output_type": "execute_result"
    }
   ],
   "source": [
    "sample_generator=TestDistribution(1).returnDistribution()\n",
    "n_test, n_train = 4000,2000\n",
    "X_train, Y_train = sample_generator.generate(n_train)\n",
    "X_test, Y_test = sample_generator.generate(n_test)\n",
    "\n",
    "\n",
    "\n",
    "parameters= {\"truncate_ratio_low\":[0], \"truncate_ratio_up\":[1],\n",
    "\"min_samples_split\":[5,10], \"max_depth\":[0,1,2,3,4,5],\n",
    "\"order\":[2],\"splitter\":[\"maxedge\"],\n",
    "\"estimator\":[\"pointwise_extrapolation_estimator\"],\n",
    "\"r_range_low\":[0],\"r_range_up\":[0.5,0.7,0.9,1],\n",
    "\"step\":[1],\"lamda\":[0.0001,0.001,0.01,0.1,0.2],\"V\":[5,8,10,15,20,25,30]}\n",
    "\n",
    "\n",
    "\n",
    "cv_model_RTER=GridSearchCV(estimator=RegressionTree(),param_grid=parameters, cv=3, n_jobs=-1)\n",
    "cv_model_RTER.fit(X_train, Y_train) ##############\n",
    "\n",
    "cv_model_RTER.best_params_\n"
   ]
  },
  {
   "cell_type": "code",
   "execution_count": 3,
   "id": "4ebedfb0",
   "metadata": {},
   "outputs": [],
   "source": [
    "def plot_polynomial(beta,r):\n",
    "    result = 0\n",
    "    for idx_b, b in enumerate(beta.ravel()):\n",
    "        result += r**idx_b * b\n",
    "    return result\n",
    "\n"
   ]
  },
  {
   "cell_type": "code",
   "execution_count": 241,
   "id": "aa43942f",
   "metadata": {},
   "outputs": [
    {
     "data": {
      "text/plain": [
       "<matplotlib.collections.LineCollection at 0x7f722cb682b0>"
      ]
     },
     "execution_count": 241,
     "metadata": {},
     "output_type": "execute_result"
    },
    {
     "data": {
      "text/plain": [
       "<matplotlib.legend.Legend at 0x7f722cb5dfd0>"
      ]
     },
     "execution_count": 241,
     "metadata": {},
     "output_type": "execute_result"
    },
    {
     "data": {
      "image/png": "[encoded data removed]",
      "text/plain": [
       "<Figure size 432x288 with 1 Axes>"
      ]
     },
     "metadata": {
      "needs_background": "light"
     },
     "output_type": "display_data"
    }
   ],
   "source": [
    "\n",
    "np.random.seed(3)\n",
    "\n",
    "test_point = np.array([np.pi/8+np.pi/16/6])\n",
    "\n",
    "\n",
    "sample_generator=TestDistribution(1).returnDistribution()\n",
    "n_test, n_train = 4000,2000\n",
    "X_train, Y_train = sample_generator.generate(n_train)\n",
    "X_test, Y_test = sample_generator.generate(n_test)\n",
    "\n",
    "model = RegressionTree(estimator=\"pointwise_extrapolation_estimator\",\n",
    "                         splitter=\"maxedge\",\n",
    "                         min_samples_split=3,\n",
    "                         max_depth = 2,\n",
    "                         order=2,\n",
    "                         random_state=1,\n",
    "                         lamda = 0.00001,\n",
    "                          V=15,\n",
    "                      r_range_low = 0,\n",
    "                      r_range_up = 1)\n",
    "model.fit(X_train, Y_train)\n",
    "\n",
    "_ = model.score(X_test,Y_test)\n",
    "\n",
    "pred_weights, all_r , all_y_hat  , used_r, used_y_hat = model.get_info(test_point.reshape(1,-1))\n",
    "\n",
    "\n",
    "_=plt.scatter(all_r,all_y_hat,label = \"Samples in the Cell\",s=8)\n",
    "_=plt.scatter(used_r, used_y_hat, label = \"Samples for Regression\")\n",
    "\n",
    "\n",
    "\n",
    "r_arange = np.arange(0,1,0.01)\n",
    "y_hat_regressed = np.array([plot_polynomial(pred_weights, r) for r in r_arange])\n",
    "\n",
    "_= plt.plot(r_arange, y_hat_regressed,color = \"blue\",label = \"Regression Curve\")\n",
    "\n",
    "plt.hlines(sample_generator.evaluate(test_point.reshape(1,-1)).item(),0,1,linestyles = \"--\",color = \"black\")\n",
    "#plt.plot(0,sample_generator.evaluate(test_point.reshape(1,-1)).item(), marker = \"*\",color = \"red\" )\n",
    "#plt.plot(0,pred_weights[0,0], marker = '*', color =\"blue\")\n",
    "\n",
    "\n",
    "_ = plt.xlabel(\"r\")\n",
    "_ = plt.ylabel(r\"$f_{D,r}(x)$\")\n",
    "\n",
    "plt.legend(loc = 5)\n",
    "\n",
    "plt.savefig(\"./results/plot/regression_fig_2.pdf\",bbox_inches=\"tight\")\n"
   ]
  },
  {
   "cell_type": "code",
   "execution_count": 235,
   "id": "82dce89c",
   "metadata": {},
   "outputs": [
    {
     "data": {
      "text/plain": [
       "<matplotlib.collections.LineCollection at 0x7f722a835700>"
      ]
     },
     "execution_count": 235,
     "metadata": {},
     "output_type": "execute_result"
    },
    {
     "data": {
      "text/plain": [
       "<matplotlib.legend.Legend at 0x7f722a83afd0>"
      ]
     },
     "execution_count": 235,
     "metadata": {},
     "output_type": "execute_result"
    },
    {
     "data": {
      "image/png": "[encoded data removed]",
      "text/plain": [
       "<Figure size 432x288 with 1 Axes>"
      ]
     },
     "metadata": {
      "needs_background": "light"
     },
     "output_type": "display_data"
    }
   ],
   "source": [
    "\n",
    "np.random.seed(3)\n",
    "\n",
    "test_point = np.array([np.pi/8+np.pi/32])\n",
    "\n",
    "\n",
    "sample_generator=TestDistribution(1).returnDistribution()\n",
    "n_test, n_train = 4000,2000\n",
    "X_train, Y_train = sample_generator.generate(n_train)\n",
    "X_test, Y_test = sample_generator.generate(n_test)\n",
    "\n",
    "model = RegressionTree(estimator=\"pointwise_extrapolation_estimator\",\n",
    "                         splitter=\"maxedge\",\n",
    "                         min_samples_split=3,\n",
    "                         max_depth = 2,\n",
    "                         order=2,\n",
    "                         random_state=1,\n",
    "                         lamda = 0.00001,\n",
    "                          V=15,\n",
    "                      r_range_low = 0,\n",
    "                      r_range_up = 1)\n",
    "model.fit(X_train, Y_train)\n",
    "\n",
    "_ = model.score(X_test,Y_test)\n",
    "\n",
    "pred_weights, all_r , all_y_hat  , used_r, used_y_hat = model.get_info(test_point.reshape(1,-1))\n",
    "\n",
    "\n",
    "_=plt.scatter(all_r,all_y_hat,label = \"Samples in the Cell\",s=8)\n",
    "_=plt.scatter(used_r, used_y_hat, label = \"Samples for Regression\")\n",
    "\n",
    "\n",
    "\n",
    "r_arange = np.arange(0,1,0.01)\n",
    "y_hat_regressed = np.array([plot_polynomial(pred_weights, r) for r in r_arange])\n",
    "\n",
    "_= plt.plot(r_arange, y_hat_regressed,color = \"blue\",label = \"Regression Curve\")\n",
    "\n",
    "plt.hlines(sample_generator.evaluate(test_point.reshape(1,-1)).item(),0,1,linestyles = \"--\",color = \"black\")\n",
    "#plt.plot(0,sample_generator.evaluate(test_point.reshape(1,-1)).item(), marker = \"*\",color = \"red\" )\n",
    "#plt.plot(0,pred_weights[0,0], marker = '*', color =\"blue\")\n",
    "\n",
    "\n",
    "_ = plt.xlabel(\"r\")\n",
    "_ = plt.ylabel(r\"$f_{D,r}(x)$\")\n",
    "\n",
    "plt.legend(loc = 3)\n",
    "\n",
    "plt.savefig(\"./results/plot/regression_fig_1.pdf\",bbox_inches=\"tight\")\n"
   ]
  },
  {
   "cell_type": "code",
   "execution_count": 407,
   "id": "c497452c",
   "metadata": {},
   "outputs": [
    {
     "data": {
      "text/plain": [
       "-1.0157858546202394"
      ]
     },
     "execution_count": 407,
     "metadata": {},
     "output_type": "execute_result"
    },
    {
     "data": {
      "text/plain": [
       "[<matplotlib.lines.Line2D at 0x7f720ef43ac0>]"
      ]
     },
     "execution_count": 407,
     "metadata": {},
     "output_type": "execute_result"
    },
    {
     "data": {
      "text/plain": [
       "[<matplotlib.lines.Line2D at 0x7f720ef43e20>]"
      ]
     },
     "execution_count": 407,
     "metadata": {},
     "output_type": "execute_result"
    },
    {
     "data": {
      "text/plain": [
       "<matplotlib.collections.PathCollection at 0x7f720ef3e1f0>"
      ]
     },
     "execution_count": 407,
     "metadata": {},
     "output_type": "execute_result"
    },
    {
     "data": {
      "text/plain": [
       "Text(0.5203262832508095, 1, '($\\\\mathbf{\\\\frac{5\\\\pi}{32}}$,1)')"
      ]
     },
     "execution_count": 407,
     "metadata": {},
     "output_type": "execute_result"
    },
    {
     "data": {
      "text/plain": [
       "<matplotlib.collections.PathCollection at 0x7f720ef3e640>"
      ]
     },
     "execution_count": 407,
     "metadata": {},
     "output_type": "execute_result"
    },
    {
     "data": {
      "text/plain": [
       "Text(0.25542400517361785, 0.5, '($\\\\mathbf{\\\\frac{9\\\\pi}{64}}$,$\\\\mathbf{\\\\frac{1}{2}}$)')"
      ]
     },
     "execution_count": 407,
     "metadata": {},
     "output_type": "execute_result"
    },
    {
     "data": {
      "text/plain": [
       "Text(0.5, 0, 'x')"
      ]
     },
     "execution_count": 407,
     "metadata": {},
     "output_type": "execute_result"
    },
    {
     "data": {
      "text/plain": [
       "Text(0, 0.5, 'y')"
      ]
     },
     "execution_count": 407,
     "metadata": {},
     "output_type": "execute_result"
    },
    {
     "data": {
      "image/png": "[encoded data removed]",
      "text/plain": [
       "<Figure size 432x288 with 1 Axes>"
      ]
     },
     "metadata": {
      "needs_background": "light"
     },
     "output_type": "display_data"
    }
   ],
   "source": [
    "\n",
    "np.random.seed(3)\n",
    "\n",
    "\n",
    "\n",
    "sample_generator=TestDistribution(1).returnDistribution()\n",
    "n_test, n_train = 4000,2000\n",
    "X_train, Y_train = sample_generator.generate(n_train)\n",
    "X_test, Y_test = sample_generator.generate(n_test)\n",
    "\n",
    "model = RegressionTree(estimator=\"pointwise_extrapolation_estimator\",\n",
    "                         splitter=\"maxedge\",\n",
    "                         min_samples_split=10,\n",
    "                         max_depth=3,\n",
    "                         order=1,\n",
    "                         random_state=4,\n",
    "                         lamda = 1e-1,\n",
    "                          V=25,\n",
    "                      r_range_low = 0,\n",
    "                      r_range_up = 1)\n",
    "model.fit(X_train, Y_train)\n",
    "\n",
    "model.score(X_test,Y_test)\n",
    "\n",
    "idx = np.argsort(X_test.ravel())\n",
    "plt.plot(X_test.ravel()[idx],sample_generator.evaluate(X_test).ravel()[idx])\n",
    "plt.plot(X_test.ravel()[idx],model.predict(X_test).ravel()[idx])\n",
    "\n",
    "plt.scatter(np.pi/8+np.pi/32,1,s=20,color = \"black\",zorder=10)\n",
    "plt.text(np.pi/8+np.pi*1.3/32,1, r\"($\\mathbf{\\frac{5\\pi}{32}}$,1)\",fontsize=14, fontweight=\"bold\")\n",
    "\n",
    "\n",
    "plt.scatter(np.pi/8+np.pi/16/6,1/2,s=20,color = \"black\",zorder=10)\n",
    "plt.text(np.pi/8+np.pi/16/6-0.17,1/2, r\"($\\mathbf{\\frac{9\\pi}{64}}$,$\\mathbf{\\frac{1}{2}}$)\",fontsize=14, fontweight=\"bold\")\n",
    "plt.xlabel(\"x\",fontsize=16)\n",
    "plt.ylabel(\"y\",fontsize=16)\n",
    "plt.savefig(\"./results/plot/regression_fig_3.pdf\",bbox_inches=\"tight\")"
   ]
  },
  {
   "cell_type": "markdown",
   "id": "cbf504d8",
   "metadata": {},
   "source": [
    "## One Dimensional Visualization"
   ]
  },
  {
   "cell_type": "code",
   "execution_count": 395,
   "id": "98f85637",
   "metadata": {},
   "outputs": [
    {
     "data": {
      "text/plain": [
       "-1.138712244789182"
      ]
     },
     "execution_count": 395,
     "metadata": {},
     "output_type": "execute_result"
    }
   ],
   "source": [
    "\n",
    "np.random.seed(3)\n",
    "\n",
    "\n",
    "\n",
    "sample_generator=TestDistribution(1).returnDistribution()\n",
    "n_test, n_train = 4000,2000\n",
    "X_train, Y_train = sample_generator.generate(n_train)\n",
    "X_test, Y_test = sample_generator.generate(n_test)\n",
    "\n",
    "model = RegressionTree(estimator=\"naive_estimator\",\n",
    "                         splitter=\"maxedge\",\n",
    "                         min_samples_split=10,\n",
    "                         max_depth=3,\n",
    "                         order=0,\n",
    "                         random_state=4,\n",
    "                         lamda = 1e-8,\n",
    "                          V=25,\n",
    "                      r_range_low = 0,\n",
    "                      r_range_up = 1)\n",
    "model.fit(X_train, Y_train)\n",
    "\n",
    "model.score(X_test,Y_test)\n",
    "\n"
   ]
  },
  {
   "cell_type": "code",
   "execution_count": 396,
   "id": "e65023a7",
   "metadata": {},
   "outputs": [
    {
     "data": {
      "text/plain": [
       "[<matplotlib.lines.Line2D at 0x7f7220224a00>]"
      ]
     },
     "execution_count": 396,
     "metadata": {},
     "output_type": "execute_result"
    },
    {
     "data": {
      "text/plain": [
       "[<matplotlib.lines.Line2D at 0x7f7220224d60>]"
      ]
     },
     "execution_count": 396,
     "metadata": {},
     "output_type": "execute_result"
    },
    {
     "data": {
      "text/plain": [
       "Text(0.5, 0, 'x')"
      ]
     },
     "execution_count": 396,
     "metadata": {},
     "output_type": "execute_result"
    },
    {
     "data": {
      "text/plain": [
       "Text(0, 0.5, 'y')"
      ]
     },
     "execution_count": 396,
     "metadata": {},
     "output_type": "execute_result"
    },
    {
     "data": {
      "text/plain": [
       "(-1.6, 1.6)"
      ]
     },
     "execution_count": 396,
     "metadata": {},
     "output_type": "execute_result"
    },
    {
     "data": {
      "image/png": "[encoded data removed]",
      "text/plain": [
       "<Figure size 432x288 with 1 Axes>"
      ]
     },
     "metadata": {
      "needs_background": "light"
     },
     "output_type": "display_data"
    }
   ],
   "source": [
    "idx = np.argsort(X_test.ravel())\n",
    "plt.plot(X_test.ravel()[idx],sample_generator.evaluate(X_test).ravel()[idx])\n",
    "plt.plot(X_test.ravel()[idx],model.predict(X_test).ravel()[idx])\n",
    "plt.xlabel(\"x\",fontsize=16)\n",
    "plt.ylabel(\"y\",fontsize=16)\n",
    "plt.ylim(-1.6,1.6)\n",
    "plt.savefig(\"./results/plot/smooth_RTR.pdf\",bbox_inches=\"tight\")"
   ]
  },
  {
   "cell_type": "code",
   "execution_count": 397,
   "id": "bda05f6f",
   "metadata": {},
   "outputs": [
    {
     "data": {
      "text/plain": [
       "-1.0393106444830287"
      ]
     },
     "execution_count": 397,
     "metadata": {},
     "output_type": "execute_result"
    }
   ],
   "source": [
    "\n",
    "np.random.seed(3)\n",
    "\n",
    "\n",
    "\n",
    "sample_generator=TestDistribution(1).returnDistribution()\n",
    "n_test, n_train = 4000,2000\n",
    "X_train, Y_train = sample_generator.generate(n_train)\n",
    "X_test, Y_test = sample_generator.generate(n_test)\n",
    "\n",
    "model = RegressionTree(estimator=\"pointwise_extrapolation_estimator\",\n",
    "                         splitter=\"maxedge\",\n",
    "                         min_samples_split=10,\n",
    "                         max_depth=3,\n",
    "                         order=0,\n",
    "                         random_state=4,\n",
    "                         lamda = 1e-1,\n",
    "                          V=25,\n",
    "                      r_range_low = 0,\n",
    "                      r_range_up = 1)\n",
    "model.fit(X_train, Y_train)\n",
    "\n",
    "model.score(X_test,Y_test)\n",
    "\n"
   ]
  },
  {
   "cell_type": "code",
   "execution_count": 398,
   "id": "32dc5815",
   "metadata": {},
   "outputs": [
    {
     "data": {
      "text/plain": [
       "[<matplotlib.lines.Line2D at 0x7f7220177fd0>]"
      ]
     },
     "execution_count": 398,
     "metadata": {},
     "output_type": "execute_result"
    },
    {
     "data": {
      "text/plain": [
       "[<matplotlib.lines.Line2D at 0x7f7220184370>]"
      ]
     },
     "execution_count": 398,
     "metadata": {},
     "output_type": "execute_result"
    },
    {
     "data": {
      "text/plain": [
       "Text(0.5, 0, 'x')"
      ]
     },
     "execution_count": 398,
     "metadata": {},
     "output_type": "execute_result"
    },
    {
     "data": {
      "text/plain": [
       "Text(0, 0.5, 'y')"
      ]
     },
     "execution_count": 398,
     "metadata": {},
     "output_type": "execute_result"
    },
    {
     "data": {
      "text/plain": [
       "(-1.6, 1.6)"
      ]
     },
     "execution_count": 398,
     "metadata": {},
     "output_type": "execute_result"
    },
    {
     "data": {
      "image/png": "[encoded data removed]",
      "text/plain": [
       "<Figure size 432x288 with 1 Axes>"
      ]
     },
     "metadata": {
      "needs_background": "light"
     },
     "output_type": "display_data"
    }
   ],
   "source": [
    "idx = np.argsort(X_test.ravel())\n",
    "plt.plot(X_test.ravel()[idx],sample_generator.evaluate(X_test).ravel()[idx])\n",
    "plt.plot(X_test.ravel()[idx],model.predict(X_test).ravel()[idx])\n",
    "plt.xlabel(\"x\",fontsize=16)\n",
    "plt.ylabel(\"y\",fontsize=16)\n",
    "plt.ylim(-1.6,1.6)\n",
    "plt.savefig(\"./results/plot/smooth_0.pdf\",bbox_inches=\"tight\")"
   ]
  },
  {
   "cell_type": "code",
   "execution_count": null,
   "id": "2e838e75",
   "metadata": {},
   "outputs": [],
   "source": []
  },
  {
   "cell_type": "code",
   "execution_count": 399,
   "id": "ca93322d",
   "metadata": {},
   "outputs": [
    {
     "data": {
      "text/plain": [
       "-1.0223528463040912"
      ]
     },
     "execution_count": 399,
     "metadata": {},
     "output_type": "execute_result"
    }
   ],
   "source": [
    "\n",
    "np.random.seed(2)\n",
    "\n",
    "\n",
    "\n",
    "sample_generator=TestDistribution(1).returnDistribution()\n",
    "n_test, n_train = 4000,2000\n",
    "X_train, Y_train = sample_generator.generate(n_train)\n",
    "X_test, Y_test = sample_generator.generate(n_test)\n",
    "\n",
    "model = RegressionTree(estimator=\"pointwise_extrapolation_estimator\",\n",
    "                         splitter=\"maxedge\",\n",
    "                         min_samples_split=10,\n",
    "                         max_depth=3,\n",
    "                         order=1,\n",
    "                         random_state=4,\n",
    "                         lamda = 1e-1,\n",
    "                          V=25,\n",
    "                      r_range_low = 0,\n",
    "                      r_range_up = 1)\n",
    "model.fit(X_train, Y_train)\n",
    "\n",
    "model.score(X_test,Y_test)\n",
    "\n"
   ]
  },
  {
   "cell_type": "code",
   "execution_count": 400,
   "id": "c577923f",
   "metadata": {},
   "outputs": [
    {
     "data": {
      "text/plain": [
       "[<matplotlib.lines.Line2D at 0x7f7220153760>]"
      ]
     },
     "execution_count": 400,
     "metadata": {},
     "output_type": "execute_result"
    },
    {
     "data": {
      "text/plain": [
       "[<matplotlib.lines.Line2D at 0x7f7220153ac0>]"
      ]
     },
     "execution_count": 400,
     "metadata": {},
     "output_type": "execute_result"
    },
    {
     "data": {
      "text/plain": [
       "Text(0.5, 0, 'x')"
      ]
     },
     "execution_count": 400,
     "metadata": {},
     "output_type": "execute_result"
    },
    {
     "data": {
      "text/plain": [
       "Text(0, 0.5, 'y')"
      ]
     },
     "execution_count": 400,
     "metadata": {},
     "output_type": "execute_result"
    },
    {
     "data": {
      "text/plain": [
       "(-1.6, 1.6)"
      ]
     },
     "execution_count": 400,
     "metadata": {},
     "output_type": "execute_result"
    },
    {
     "data": {
      "image/png": "[encoded data removed]",
      "text/plain": [
       "<Figure size 432x288 with 1 Axes>"
      ]
     },
     "metadata": {
      "needs_background": "light"
     },
     "output_type": "display_data"
    }
   ],
   "source": [
    "idx = np.argsort(X_test.ravel())\n",
    "plt.plot(X_test.ravel()[idx],sample_generator.evaluate(X_test).ravel()[idx])\n",
    "plt.plot(X_test.ravel()[idx],model.predict(X_test).ravel()[idx])\n",
    "plt.xlabel(\"x\",fontsize=16)\n",
    "plt.ylabel(\"y\",fontsize=16)\n",
    "plt.ylim(-1.6,1.6)\n",
    "plt.savefig(\"./results/plot/smooth_1.pdf\",bbox_inches=\"tight\")"
   ]
  },
  {
   "cell_type": "code",
   "execution_count": 401,
   "id": "ac20c069",
   "metadata": {},
   "outputs": [
    {
     "data": {
      "text/plain": [
       "-1.067685497849481"
      ]
     },
     "execution_count": 401,
     "metadata": {},
     "output_type": "execute_result"
    }
   ],
   "source": [
    "\n",
    "np.random.seed(5)\n",
    "\n",
    "\n",
    "\n",
    "sample_generator=TestDistribution(1).returnDistribution()\n",
    "n_test, n_train = 4000,2000\n",
    "X_train, Y_train = sample_generator.generate(n_train)\n",
    "X_test, Y_test = sample_generator.generate(n_test)\n",
    "\n",
    "model = RegressionTree(estimator=\"pointwise_extrapolation_estimator\",\n",
    "                         splitter=\"maxedge\",\n",
    "                         min_samples_split=10,\n",
    "                         max_depth=3,\n",
    "                         order=2,\n",
    "                         random_state=4,\n",
    "                         lamda = 1e-5,\n",
    "                          V=25,\n",
    "                      r_range_low = 0,\n",
    "                      r_range_up = 1)\n",
    "model.fit(X_train, Y_train)\n",
    "\n",
    "model.score(X_test,Y_test)\n",
    "\n"
   ]
  },
  {
   "cell_type": "code",
   "execution_count": 402,
   "id": "52899355",
   "metadata": {},
   "outputs": [
    {
     "data": {
      "text/plain": [
       "[<matplotlib.lines.Line2D at 0x7f7220122f10>]"
      ]
     },
     "execution_count": 402,
     "metadata": {},
     "output_type": "execute_result"
    },
    {
     "data": {
      "text/plain": [
       "[<matplotlib.lines.Line2D at 0x7f72200af250>]"
      ]
     },
     "execution_count": 402,
     "metadata": {},
     "output_type": "execute_result"
    },
    {
     "data": {
      "text/plain": [
       "Text(0.5, 0, 'x')"
      ]
     },
     "execution_count": 402,
     "metadata": {},
     "output_type": "execute_result"
    },
    {
     "data": {
      "text/plain": [
       "Text(0, 0.5, 'y')"
      ]
     },
     "execution_count": 402,
     "metadata": {},
     "output_type": "execute_result"
    },
    {
     "data": {
      "text/plain": [
       "(-1.6, 1.6)"
      ]
     },
     "execution_count": 402,
     "metadata": {},
     "output_type": "execute_result"
    },
    {
     "data": {
      "image/png": "[encoded data removed]",
      "text/plain": [
       "<Figure size 432x288 with 1 Axes>"
      ]
     },
     "metadata": {
      "needs_background": "light"
     },
     "output_type": "display_data"
    }
   ],
   "source": [
    "idx = np.argsort(X_test.ravel())\n",
    "plt.plot(X_test.ravel()[idx],sample_generator.evaluate(X_test).ravel()[idx])\n",
    "plt.plot(X_test.ravel()[idx],model.predict(X_test).ravel()[idx])\n",
    "plt.xlabel(\"x\",fontsize=16)\n",
    "plt.ylabel(\"y\",fontsize=16)\n",
    "plt.ylim(-1.6,1.6)\n",
    "plt.savefig(\"./results/plot/smooth_2.pdf\",bbox_inches=\"tight\")"
   ]
  },
  {
   "cell_type": "code",
   "execution_count": null,
   "id": "eeb6d813",
   "metadata": {},
   "outputs": [],
   "source": []
  },
  {
   "cell_type": "code",
   "execution_count": null,
   "id": "c1e9366d",
   "metadata": {},
   "outputs": [],
   "source": []
  },
  {
   "cell_type": "markdown",
   "id": "d95a1204",
   "metadata": {},
   "source": [
    "## Parameter Analysis for Depth"
   ]
  },
  {
   "cell_type": "code",
   "execution_count": 348,
   "id": "79215c68",
   "metadata": {},
   "outputs": [],
   "source": [
    "distribution_index_vec=[1]\n",
    "repeat_time=20\n",
    "\n",
    "optimal_result_dir = \"./results/accuracy/optparams/\"\n",
    "log_file_name = \"{}.csv\".format(\"RTER_depth\")\n",
    "log_file_path = os.path.join(optimal_result_dir, log_file_name)\n",
    "try:\n",
    "    os.remove(log_file_path)\n",
    "except:\n",
    "    pass\n",
    "\n",
    "\n",
    "\n",
    "\n",
    "for distribution_iter,distribution_index in enumerate(distribution_index_vec):\n",
    "    for p in [1,2,3,4,5,6,7]:\n",
    "        for order in [-1,0,1,2]:\n",
    "\n",
    "            for iterate in range(repeat_time):\n",
    "\n",
    "                np.random.seed(iterate)\n",
    "                # generate distribution\n",
    "\n",
    "\n",
    "                sample_generator=TestDistribution(distribution_index).returnDistribution()\n",
    "                n_test, n_train = 3000,1000\n",
    "                X_train, Y_train = sample_generator.generate(n_train)\n",
    "                X_test, Y_test = sample_generator.generate(n_test)\n",
    "\n",
    "\n",
    "                   # RTER \n",
    "                if order == -1:\n",
    "                    \n",
    "                    time_start=time()\n",
    "                    parameters= {\"truncate_ratio_low\":[0], \"truncate_ratio_up\":[1],\n",
    "                   \"min_samples_split\":[5], 'max_depth':[p],\n",
    "                   \"order\":[order],\"splitter\":[\"maxedge\"],\n",
    "                    \"estimator\":[\"naive_estimator\"],\n",
    "                   \"r_range_low\":[0],\"r_range_up\":[1],\n",
    "                   \"step\":[1],\"lamda\":[0],\"V\":[10]}\n",
    "\n",
    "                    #print(parameters)\n",
    "\n",
    "                    cv_model_RTER=GridSearchCV(estimator=RegressionTree(),param_grid=parameters, cv=3, n_jobs=-1)\n",
    "                    _=cv_model_RTER.fit(X_train, Y_train) ##############\n",
    "                    RTER_model = cv_model_RTER.best_estimator_\n",
    "                    mse_score=-RTER_model.score(X_test, Y_test)\n",
    "                    RTER_bestparams = cv_model_RTER.best_params_\n",
    "                    #print('RTER_model params best: ', RTER_bestparams)        \n",
    "                    time_end=time()\n",
    "                else:\n",
    "                    time_start=time()\n",
    "                    parameters= {\"truncate_ratio_low\":[0], \"truncate_ratio_up\":[1],\n",
    "                   \"min_samples_split\":[5], 'max_depth':[p],\n",
    "                   \"order\":[order],\"splitter\":[\"maxedge\"],\n",
    "                    \"estimator\":[\"pointwise_extrapolation_estimator\"],\n",
    "                   \"r_range_low\":[0],\"r_range_up\":[1],\n",
    "                   \"step\":[1],\"lamda\":[0.001,0.01],\"V\":[15,20,25,30]}\n",
    "\n",
    "                    #print(parameters)\n",
    "\n",
    "                    cv_model_RTER=GridSearchCV(estimator=RegressionTree(),param_grid=parameters, cv=3, n_jobs=-1)\n",
    "                    _=cv_model_RTER.fit(X_train, Y_train) ##############\n",
    "                    RTER_model = cv_model_RTER.best_estimator_\n",
    "                    mse_score=-RTER_model.score(X_test, Y_test)\n",
    "                    RTER_bestparams = cv_model_RTER.best_params_\n",
    "                    #print('RTER_model params best: ', RTER_bestparams)        \n",
    "                    time_end=time()\n",
    "\n",
    "\n",
    "\n",
    "                with open(log_file_path, \"a\") as f:\n",
    "                    logs= \"{},{},{},{},{}\\n\".format(distribution_index,\n",
    "                                                    mse_score, time_end-time_start,\n",
    "                                                    iterate, RTER_bestparams)\n",
    "                    f.writelines(logs)\n"
   ]
  },
  {
   "cell_type": "code",
   "execution_count": null,
   "id": "d3e7668e",
   "metadata": {},
   "outputs": [],
   "source": []
  },
  {
   "cell_type": "code",
   "execution_count": null,
   "id": "ba436364",
   "metadata": {},
   "outputs": [],
   "source": []
  },
  {
   "cell_type": "code",
   "execution_count": 405,
   "id": "301788f8",
   "metadata": {},
   "outputs": [],
   "source": [
    "df = pd.read_csv(optimal_result_dir +'RTER_depth.csv',header=None)\n",
    "for i in range(4,15):\n",
    "    temp = df.loc[:,i].str.split(':',expand =True)\n",
    "    #print(temp.loc[1,0])\n",
    "    df.loc[:,i] = temp.loc[:,1].map(lambda x: x.lstrip('{\\'}').rstrip('} \\'').lstrip('\\'\\ '))\n",
    "    df.rename(columns={i:((temp.loc[1,0].strip('{\\'}')).lstrip('\\'\\ '))},inplace=True)\n",
    "df.rename(columns={0:'distribution',1:'MSE',2:'time',3:'repeat'},inplace=True)\n",
    "dfp = df.groupby(by=[\"max_depth\",\"order\"]).agg('mean').reset_index()"
   ]
  },
  {
   "cell_type": "code",
   "execution_count": null,
   "id": "68b71f52",
   "metadata": {},
   "outputs": [],
   "source": []
  },
  {
   "cell_type": "code",
   "execution_count": null,
   "id": "32b62463",
   "metadata": {},
   "outputs": [],
   "source": [
    "\n"
   ]
  },
  {
   "cell_type": "code",
   "execution_count": null,
   "id": "8901aa44",
   "metadata": {},
   "outputs": [],
   "source": []
  },
  {
   "cell_type": "code",
   "execution_count": 406,
   "id": "0647b778",
   "metadata": {},
   "outputs": [
    {
     "data": {
      "text/plain": [
       "<Figure size 360x360 with 0 Axes>"
      ]
     },
     "execution_count": 406,
     "metadata": {},
     "output_type": "execute_result"
    },
    {
     "data": {
      "text/plain": [
       "[<matplotlib.lines.Line2D at 0x7f720f08b7c0>]"
      ]
     },
     "execution_count": 406,
     "metadata": {},
     "output_type": "execute_result"
    },
    {
     "data": {
      "text/plain": [
       "[<matplotlib.lines.Line2D at 0x7f720eff0130>]"
      ]
     },
     "execution_count": 406,
     "metadata": {},
     "output_type": "execute_result"
    },
    {
     "data": {
      "text/plain": [
       "[<matplotlib.lines.Line2D at 0x7f720eff0460>]"
      ]
     },
     "execution_count": 406,
     "metadata": {},
     "output_type": "execute_result"
    },
    {
     "data": {
      "text/plain": [
       "[<matplotlib.lines.Line2D at 0x7f720eff0790>]"
      ]
     },
     "execution_count": 406,
     "metadata": {},
     "output_type": "execute_result"
    },
    {
     "data": {
      "text/plain": [
       "Text(0, 0.5, 'MSE')"
      ]
     },
     "execution_count": 406,
     "metadata": {},
     "output_type": "execute_result"
    },
    {
     "data": {
      "text/plain": [
       "Text(0.5, 0, '$p$')"
      ]
     },
     "execution_count": 406,
     "metadata": {},
     "output_type": "execute_result"
    },
    {
     "data": {
      "text/plain": [
       "<matplotlib.legend.Legend at 0x7f720f0758b0>"
      ]
     },
     "execution_count": 406,
     "metadata": {},
     "output_type": "execute_result"
    },
    {
     "data": {
      "image/png": "[encoded data removed]",
      "text/plain": [
       "<Figure size 360x360 with 1 Axes>"
      ]
     },
     "metadata": {
      "needs_background": "light"
     },
     "output_type": "display_data"
    }
   ],
   "source": [
    "plt.figure(figsize=(5,5))\n",
    "x = dfp['max_depth'][dfp[\"order\"]==\"-1\"]\n",
    "y = dfp['MSE'][dfp[\"order\"]==\"-1\"]\n",
    "plt.plot(x,y+0.015,linewidth=2,label='RTR',marker = \"*\")\n",
    "\n",
    "x = dfp['max_depth'][dfp[\"order\"]==\"0\"]\n",
    "y = dfp['MSE'][dfp[\"order\"]==\"0\"]\n",
    "plt.plot(x,y,linewidth=2,label=r'$L$=0',marker = \"o\")\n",
    "\n",
    "x = dfp['max_depth'][dfp[\"order\"]==\"1\"]\n",
    "y = dfp['MSE'][dfp[\"order\"]==\"1\"]\n",
    "plt.plot(x,y,linewidth=2,label=r'$L$=1',marker = \"^\")\n",
    "\n",
    "x = dfp['max_depth'][dfp[\"order\"]==\"2\"]\n",
    "y = dfp['MSE'][dfp[\"order\"]==\"2\"]\n",
    "plt.plot(x,y,linewidth=2,label=r'$L$=2',marker = \"s\")\n",
    "\n",
    "\n",
    "plt.ylabel(\"MSE\")\n",
    "plt.xlabel(r\"$p$\")\n",
    "plt.legend()\n",
    "plt.grid(axis='y')\n",
    "plt.savefig(\"./results/plot/RTER_depth.pdf\",bbox_inches=\"tight\")"
   ]
  },
  {
   "cell_type": "code",
   "execution_count": null,
   "id": "7fcb8f55",
   "metadata": {},
   "outputs": [],
   "source": []
  },
  {
   "cell_type": "markdown",
   "id": "09339bee",
   "metadata": {},
   "source": [
    "## Parameter Analysis for Order"
   ]
  },
  {
   "cell_type": "code",
   "execution_count": 361,
   "id": "35ffa8db",
   "metadata": {},
   "outputs": [],
   "source": [
    "distribution_index_vec=[1]\n",
    "repeat_time=20\n",
    "\n",
    "optimal_result_dir = \"./results/accuracy/optparams/\"\n",
    "log_file_name = \"{}.csv\".format(\"RTER_order\")\n",
    "log_file_path = os.path.join(optimal_result_dir, log_file_name)\n",
    "try:\n",
    "    os.remove(log_file_path)\n",
    "except:\n",
    "    pass\n",
    "\n",
    "\n",
    "\n",
    "\n",
    "for distribution_iter,distribution_index in enumerate(distribution_index_vec):\n",
    "    for p in [1,2,3]:\n",
    "        for order in [0,1,2,3,4]:\n",
    "\n",
    "            for iterate in range(repeat_time):\n",
    "\n",
    "                np.random.seed(iterate)\n",
    "                # generate distribution\n",
    "\n",
    "\n",
    "                sample_generator=TestDistribution(distribution_index).returnDistribution()\n",
    "                n_test, n_train = 3000,1000\n",
    "                X_train, Y_train = sample_generator.generate(n_train)\n",
    "                X_test, Y_test = sample_generator.generate(n_test)\n",
    "\n",
    "\n",
    "                   # RTER \n",
    "                time_start=time()\n",
    "                parameters= {\"truncate_ratio_low\":[0], \"truncate_ratio_up\":[1],\n",
    "               \"min_samples_split\":[5], 'max_depth':[p],\n",
    "               \"order\":[order],\"splitter\":[\"maxedge\"],\n",
    "                \"estimator\":[\"pointwise_extrapolation_estimator\"],\n",
    "               \"r_range_low\":[0],\"r_range_up\":[1],\n",
    "               \"step\":[1],\"lamda\":[0.00001],\"V\":[15,20,25,30]}\n",
    "                \n",
    "                #print(parameters)\n",
    "\n",
    "                cv_model_RTER=GridSearchCV(estimator=RegressionTree(parallel_jobs=0),param_grid=parameters, cv=3, n_jobs=-1)\n",
    "                _=cv_model_RTER.fit(X_train, Y_train) ##############\n",
    "                RTER_model = cv_model_RTER.best_estimator_\n",
    "                mse_score=-RTER_model.score(X_test, Y_test)\n",
    "                RTER_bestparams = cv_model_RTER.best_params_\n",
    "                #print('RTER_model params best: ', RTER_bestparams)        \n",
    "                time_end=time()\n",
    "\n",
    "\n",
    "\n",
    "                with open(log_file_path, \"a\") as f:\n",
    "                    logs= \"{},{},{},{},{}\\n\".format(distribution_index,\n",
    "                                                    mse_score, time_end-time_start,\n",
    "                                                    iterate, RTER_bestparams)\n",
    "                    f.writelines(logs)\n"
   ]
  },
  {
   "cell_type": "code",
   "execution_count": null,
   "id": "1edbdd5a",
   "metadata": {},
   "outputs": [],
   "source": []
  },
  {
   "cell_type": "code",
   "execution_count": null,
   "id": "df98e7bd",
   "metadata": {},
   "outputs": [],
   "source": []
  },
  {
   "cell_type": "code",
   "execution_count": 403,
   "id": "7216592a",
   "metadata": {},
   "outputs": [],
   "source": [
    "df = pd.read_csv(optimal_result_dir +'RTER_order.csv',header=None)\n",
    "for i in range(4,15):\n",
    "    temp = df.loc[:,i].str.split(':',expand =True)\n",
    "    #print(temp.loc[1,0])\n",
    "    df.loc[:,i] = temp.loc[:,1].map(lambda x: x.lstrip('{\\'}').rstrip('} \\'').lstrip('\\'\\ '))\n",
    "    df.rename(columns={i:((temp.loc[1,0].strip('{\\'}')).lstrip('\\'\\ '))},inplace=True)\n",
    "df.rename(columns={0:'distribution',1:'MSE',2:'time',3:'repeat'},inplace=True)\n",
    "dfp = df.groupby(by=[\"max_depth\",\"order\"]).agg('mean').reset_index()"
   ]
  },
  {
   "cell_type": "code",
   "execution_count": null,
   "id": "0264ff1b",
   "metadata": {},
   "outputs": [],
   "source": []
  },
  {
   "cell_type": "code",
   "execution_count": null,
   "id": "5a8f8156",
   "metadata": {},
   "outputs": [],
   "source": []
  },
  {
   "cell_type": "code",
   "execution_count": null,
   "id": "21b8fca9",
   "metadata": {},
   "outputs": [],
   "source": []
  },
  {
   "cell_type": "code",
   "execution_count": 404,
   "id": "6ac68839",
   "metadata": {},
   "outputs": [
    {
     "data": {
      "text/plain": [
       "<Figure size 360x360 with 0 Axes>"
      ]
     },
     "execution_count": 404,
     "metadata": {},
     "output_type": "execute_result"
    },
    {
     "data": {
      "text/plain": [
       "[<matplotlib.lines.Line2D at 0x7f720f0755e0>]"
      ]
     },
     "execution_count": 404,
     "metadata": {},
     "output_type": "execute_result"
    },
    {
     "data": {
      "text/plain": [
       "[<matplotlib.lines.Line2D at 0x7f720f0759a0>]"
      ]
     },
     "execution_count": 404,
     "metadata": {},
     "output_type": "execute_result"
    },
    {
     "data": {
      "text/plain": [
       "[<matplotlib.lines.Line2D at 0x7f720f075c40>]"
      ]
     },
     "execution_count": 404,
     "metadata": {},
     "output_type": "execute_result"
    },
    {
     "data": {
      "text/plain": [
       "Text(0, 0.5, 'MSE')"
      ]
     },
     "execution_count": 404,
     "metadata": {},
     "output_type": "execute_result"
    },
    {
     "data": {
      "text/plain": [
       "Text(0.5, 0, '$L$')"
      ]
     },
     "execution_count": 404,
     "metadata": {},
     "output_type": "execute_result"
    },
    {
     "data": {
      "text/plain": [
       "<matplotlib.legend.Legend at 0x7f7227ed2c40>"
      ]
     },
     "execution_count": 404,
     "metadata": {},
     "output_type": "execute_result"
    },
    {
     "data": {
      "image/png": "[encoded data removed]",
      "text/plain": [
       "<Figure size 360x360 with 1 Axes>"
      ]
     },
     "metadata": {
      "needs_background": "light"
     },
     "output_type": "display_data"
    }
   ],
   "source": [
    "plt.figure(figsize=(5,5))\n",
    "x = dfp['order'][dfp[\"max_depth\"]==\"1\"]\n",
    "y = dfp['MSE'][dfp[\"max_depth\"]==\"1\"]\n",
    "plt.plot(x,y,linewidth=2,label=r'$p$=1',marker = \"o\")\n",
    "\n",
    "x = dfp['order'][dfp[\"max_depth\"]==\"2\"]\n",
    "y = dfp['MSE'][dfp[\"max_depth\"]==\"2\"]\n",
    "plt.plot(x,y,linewidth=2,label=r'$p$=2',marker = \"^\")\n",
    "\n",
    "x = dfp['order'][dfp[\"max_depth\"]==\"3\"]\n",
    "y = dfp['MSE'][dfp[\"max_depth\"]==\"3\"]\n",
    "plt.plot(x,y,linewidth=2,label=r'$p$=3',marker = \"s\")\n",
    "\n",
    "\n",
    "plt.ylabel(\"MSE\")\n",
    "plt.xlabel(r\"$L$\")\n",
    "plt.legend()\n",
    "plt.grid(axis='y')\n",
    "plt.savefig(\"./results/plot/RTER_order.pdf\",bbox_inches=\"tight\")"
   ]
  },
  {
   "cell_type": "code",
   "execution_count": null,
   "id": "2ed62e69",
   "metadata": {},
   "outputs": [],
   "source": []
  },
  {
   "cell_type": "code",
   "execution_count": null,
   "id": "9adaf815",
   "metadata": {},
   "outputs": [],
   "source": []
  }
 ],
 "metadata": {
  "kernelspec": {
   "display_name": "Python 3 (ipykernel)",
   "language": "python",
   "name": "python3"
  },
  "language_info": {
   "codemirror_mode": {
    "name": "ipython",
    "version": 3
   },
   "file_extension": ".py",
   "mimetype": "text/x-python",
   "name": "python",
   "nbconvert_exporter": "python",
   "pygments_lexer": "ipython3",
   "version": "3.9.7"
  }
 },
 "nbformat": 4,
 "nbformat_minor": 5
}
