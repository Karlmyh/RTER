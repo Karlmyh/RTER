{
 "cells": [
  {
   "cell_type": "code",
   "execution_count": 1,
   "metadata": {},
   "outputs": [],
   "source": [
    "from distribution import TestDistribution\n",
    "\n",
    "from RTER import RegressionTree\n",
    "\n",
    "import numpy as np\n",
    "\n",
    "from sklearn.metrics import mean_squared_error as MSE\n",
    "from sklearn.model_selection import GridSearchCV\n",
    "from sklearn.ensemble import GradientBoostingRegressor, RandomForestRegressor\n",
    "\n",
    "from time import time\n",
    "import os\n",
    "\n",
    "from comparison.ensemble import RegressionTreeBoosting, RegressionTreeEnsemble\n",
    "from comparison.EKNN import EKNN\n",
    "\n",
    "import matplotlib.pyplot as plt"
   ]
  },
  {
   "cell_type": "code",
   "execution_count": null,
   "metadata": {},
   "outputs": [],
   "source": []
  },
  {
   "cell_type": "code",
   "execution_count": 2,
   "metadata": {},
   "outputs": [
    {
     "name": "stdout",
     "output_type": "stream",
     "text": [
      "RTER: mse 518.6441200641973 time 302.89986777305603\n",
      "GBRT: mse 97.50675026395433 time 35.67479872703552\n"
     ]
    },
    {
     "data": {
      "text/plain": [
       "'\\n# RF\\ntime_start=time()\\n\\nparameters = {\"n_estimators\":[10,100,200]}\\ncv_model_RFR = GridSearchCV(estimator=RandomForestRegressor(),param_grid=parameters, cv=10, n_jobs=-1) \\ncv_model_RFR.fit(X_train, Y_train)\\nmodel_RFR = cv_model_RFR.best_estimator_\\nmodel_RFR.fit(X_train, Y_train)\\n\\ny_hat=model_RFR.predict(X_test)\\nmse_score = MSE(y_hat, Y_test)\\n\\ntime_end=time()\\n\\nprint(\"RF: mse {} time {}\".format(mse_score,time_end-time_start))\\n\\n# EKNN\\ntime_start=time()\\n\\nparameters = {\"V\":[3,5,7,9,11,13,15,17,19], \"C\":[5,7,9,10,11,13,15],\"alpha\":[0.01,0.05]}\\ncv_model_EKNN = GridSearchCV(estimator=EKNN(),param_grid=parameters, cv=10, n_jobs=-1) \\ncv_model_EKNN.fit(X_train, Y_train)\\nmodel_EKNN = cv_model_EKNN.best_estimator_\\nmodel_EKNN.fit(X_train, Y_train)\\n\\ny_hat=model_EKNN.predict(X_test)\\nmse_score = MSE(y_hat, Y_test)\\n\\ntime_end=time()\\n\\nprint(\"EKNN: mse {} time {}\".format(mse_score,time_end-time_start))\\n'"
      ]
     },
     "execution_count": 2,
     "metadata": {},
     "output_type": "execute_result"
    }
   ],
   "source": [
    "\n",
    "\n",
    "#distribution_index_vec=[1,2,3,4]\n",
    "\n",
    "\n",
    "\n",
    "\n",
    "\n",
    "np.random.seed(1)\n",
    "\n",
    "\n",
    "\n",
    "sample_generator=TestDistribution(3).returnDistribution()\n",
    "n_test, n_train = 10000,3000\n",
    "X_train, Y_train = sample_generator.generate(n_train)\n",
    "X_test, Y_test = sample_generator.generate(n_test)\n",
    "\n",
    "\n",
    "\n",
    "# RTER with cv\n",
    "time_start=time()\n",
    "parameters={\"truncate_ratio_low\":[0], \"truncate_ratio_up\":[0.6,0.8 ],\n",
    "           \"min_samples_split\":[10,30], \"max_depth\":[2,4,6],\n",
    "           \"order\":[0,1,3,6],\"splitter\":[\"varreduction\",\"maxedge\"],\n",
    "            \"estimator\":[\"naive_estimator\", \"pointwise_extrapolation_estimator\"],\n",
    "           \"r_range_low\":[0],\"r_range_up\":[1],\n",
    "           \"step\":[1,2,4],\"lamda\":[0.005,0.01,0.05]}\n",
    "cv_model_RTER=GridSearchCV(estimator=RegressionTree(),param_grid=parameters, cv=10, n_jobs=20)\n",
    "cv_model_RTER.fit(X_train, Y_train)\n",
    "\n",
    "RTER_model = cv_model_RTER.best_estimator_\n",
    "mse_score= - RTER_model.score(X_test, Y_test)\n",
    "y_hat_RTER = RTER_model.predict(X_test)\n",
    "\n",
    "time_end=time()\n",
    "\n",
    "print(\"RTER: mse {} time {}\".format(mse_score,time_end-time_start))\n",
    "\n",
    "'''\n",
    "# boosting\n",
    "time_start=time()\n",
    "parameters={\"rho\":[0.01,0.05,0.1,0.2], \"boost_num\":[20,50,100],\n",
    "            \"min_samples_split\":[2,5,10,20,30], \n",
    "            \"max_depth\":[3,4,5,6,7,8],\"splitter\":[\"maxedge\"]}\n",
    "cv_model_boosting=GridSearchCV(estimator=RegressionTreeBoosting(),param_grid=parameters, cv=10, n_jobs=-1)\n",
    "cv_model_boosting.fit(X_train, Y_train)\n",
    "\n",
    "boosting_model = cv_model_boosting.best_estimator_\n",
    "mse_score= - boosting_model.score(X_test, Y_test)\n",
    "\n",
    "time_end=time()\n",
    "\n",
    "print(\"boosting: mse {} time {}\".format(mse_score,time_end-time_start))\n",
    "\n",
    "\n",
    "# ensemble\n",
    "time_start=time()\n",
    "parameters={ \"ensemble_num\":[20,50,100,200,500,1000,2000],\n",
    "            \"min_samples_split\":[2,5,10,20,30], \n",
    "            \"max_depth\":[3,4,5,6,7,8],\"splitter\":[\"maxedge\"]}\n",
    "cv_model_ensemble=GridSearchCV(estimator=RegressionTreeEnsemble(),param_grid=parameters, cv=10, n_jobs=-1)\n",
    "cv_model_ensemble.fit(X_train, Y_train)\n",
    "\n",
    "ensemble_model = cv_model_ensemble.best_estimator_\n",
    "mse_score= - ensemble_model.score(X_test, Y_test)\n",
    "\n",
    "time_end=time()\n",
    "\n",
    "print(\"ensemble: mse {} time {}\".format(mse_score,time_end-time_start))\n",
    "'''\n",
    "\n",
    "\n",
    "# GBRT\n",
    "time_start=time()\n",
    "\n",
    "parameters= {\"n_estimators\":[500,1000,2000], \"learning_rate\":[0.01,0.05]}\n",
    "cv_model_GBRT=GridSearchCV(estimator=GradientBoostingRegressor(),param_grid=parameters, cv=10, n_jobs=-1)\n",
    "cv_model_GBRT.fit(X_train, Y_train)\n",
    "model_GBRT = cv_model_GBRT.best_estimator_\n",
    "model_GBRT.fit(X_train, Y_train.ravel())\n",
    "\n",
    "y_hat=model_GBRT.predict(X_test)\n",
    "mse_score = MSE(y_hat, Y_test)\n",
    "\n",
    "time_end=time()\n",
    "\n",
    "print(\"GBRT: mse {} time {}\".format(mse_score,time_end-time_start))\n",
    "\n",
    "'''\n",
    "# RF\n",
    "time_start=time()\n",
    "\n",
    "parameters = {\"n_estimators\":[10,100,200]}\n",
    "cv_model_RFR = GridSearchCV(estimator=RandomForestRegressor(),param_grid=parameters, cv=10, n_jobs=-1) \n",
    "cv_model_RFR.fit(X_train, Y_train)\n",
    "model_RFR = cv_model_RFR.best_estimator_\n",
    "model_RFR.fit(X_train, Y_train)\n",
    "\n",
    "y_hat=model_RFR.predict(X_test)\n",
    "mse_score = MSE(y_hat, Y_test)\n",
    "\n",
    "time_end=time()\n",
    "\n",
    "print(\"RF: mse {} time {}\".format(mse_score,time_end-time_start))\n",
    "\n",
    "# EKNN\n",
    "time_start=time()\n",
    "\n",
    "parameters = {\"V\":[3,5,7,9,11,13,15,17,19], \"C\":[5,7,9,10,11,13,15],\"alpha\":[0.01,0.05]}\n",
    "cv_model_EKNN = GridSearchCV(estimator=EKNN(),param_grid=parameters, cv=10, n_jobs=-1) \n",
    "cv_model_EKNN.fit(X_train, Y_train)\n",
    "model_EKNN = cv_model_EKNN.best_estimator_\n",
    "model_EKNN.fit(X_train, Y_train)\n",
    "\n",
    "y_hat=model_EKNN.predict(X_test)\n",
    "mse_score = MSE(y_hat, Y_test)\n",
    "\n",
    "time_end=time()\n",
    "\n",
    "print(\"EKNN: mse {} time {}\".format(mse_score,time_end-time_start))\n",
    "'''"
   ]
  },
  {
   "cell_type": "code",
   "execution_count": null,
   "metadata": {},
   "outputs": [],
   "source": []
  },
  {
   "cell_type": "code",
   "execution_count": 3,
   "metadata": {},
   "outputs": [
    {
     "data": {
      "text/plain": [
       "{'estimator': 'pointwise_extrapolation_estimator',\n",
       " 'lamda': 0.01,\n",
       " 'max_depth': 4,\n",
       " 'min_samples_split': 10,\n",
       " 'order': 1,\n",
       " 'r_range_low': 0,\n",
       " 'r_range_up': 1,\n",
       " 'splitter': 'varreduction',\n",
       " 'step': 2,\n",
       " 'truncate_ratio_low': 0,\n",
       " 'truncate_ratio_up': 0.8}"
      ]
     },
     "execution_count": 3,
     "metadata": {},
     "output_type": "execute_result"
    }
   ],
   "source": [
    "cv_model_RTER.best_params_"
   ]
  },
  {
   "cell_type": "code",
   "execution_count": null,
   "metadata": {},
   "outputs": [],
   "source": []
  },
  {
   "cell_type": "code",
   "execution_count": 6,
   "metadata": {},
   "outputs": [
    {
     "data": {
      "image/png": "[encoded data removed]",
      "text/plain": [
       "<Figure size 432x288 with 1 Axes>"
      ]
     },
     "metadata": {
      "needs_background": "light"
     },
     "output_type": "display_data"
    }
   ],
   "source": [
    "node_idx=0\n",
    "order, truncate_ratio_low, truncate_ratio_up , r_range_low, r_range_up,step,lamda = 1,0,0.8,0,1,1,0\n",
    "query_obj=list(RTER_model.tree_.leafnode_fun.values())[node_idx]\n",
    "X_range,dt_X, dt_Y = query_obj.X_range, query_obj.dt_X, query_obj.dt_Y\n",
    "X_range\n",
    "X_extra= X_range.mean(axis=0)+0.01\n",
    "order, truncate_ratio_low, truncate_ratio_up , r_range_low, r_range_up= order, truncate_ratio_low, truncate_ratio_up , r_range_low, r_range_up\n",
    "\n",
    "sorted_ratio, sorted_prediction, intercept, mat = RTER_model.get_node_extrapolation(dt_X, dt_Y, X_extra, X_range, order, truncate_ratio_low, truncate_ratio_up,r_range_low, r_range_up,step,lamda)\n",
    "_=plt.scatter((sorted_ratio),sorted_prediction)\n",
    "_=plt.scatter((sorted_ratio)[int(len(sorted_ratio)*truncate_ratio_low):int(len(sorted_ratio)*truncate_ratio_up)],sorted_prediction[int(len(sorted_prediction)*truncate_ratio_low):int(len(sorted_prediction)*truncate_ratio_up)])\n",
    "_=plt.axhline(intercept,color=\"red\")\n",
    "_=plt.axhline(sample_generator.evaluate(X_extra.reshape(1,-1)),color=\"blue\")"
   ]
  },
  {
   "cell_type": "code",
   "execution_count": null,
   "metadata": {},
   "outputs": [],
   "source": []
  },
  {
   "cell_type": "code",
   "execution_count": null,
   "metadata": {},
   "outputs": [],
   "source": []
  },
  {
   "cell_type": "code",
   "execution_count": 2,
   "metadata": {},
   "outputs": [],
   "source": [
    "dic= {\"a\":[1,2],\"b\":[1,2,3]}"
   ]
  },
  {
   "cell_type": "code",
   "execution_count": 4,
   "metadata": {},
   "outputs": [
    {
     "name": "stdout",
     "output_type": "stream",
     "text": [
      "{'a': [1, 2], 'b': [1, 2, 3]}aa\n"
     ]
    }
   ],
   "source": [
    "print(\"{}aa\".format(dic))"
   ]
  },
  {
   "cell_type": "code",
   "execution_count": null,
   "metadata": {},
   "outputs": [],
   "source": []
  }
 ],
 "metadata": {
  "kernelspec": {
   "display_name": "Python 3",
   "language": "python",
   "name": "python3"
  },
  "language_info": {
   "codemirror_mode": {
    "name": "ipython",
    "version": 3
   },
   "file_extension": ".py",
   "mimetype": "text/x-python",
   "name": "python",
   "nbconvert_exporter": "python",
   "pygments_lexer": "ipython3",
   "version": "3.7.9"
  }
 },
 "nbformat": 4,
 "nbformat_minor": 5
}
