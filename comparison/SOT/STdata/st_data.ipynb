{
 "cells": [
  {
   "cell_type": "code",
   "execution_count": 31,
   "id": "5eb99230",
   "metadata": {},
   "outputs": [],
   "source": [
    "import pandas as pd\n",
    "import numpy as np\n",
    "import glob\n",
    "import os\n",
    "from sklearn.model_selection import train_test_split"
   ]
  },
  {
   "cell_type": "code",
   "execution_count": 32,
   "id": "8babc1a1",
   "metadata": {},
   "outputs": [],
   "source": [
    "# prepare data for st"
   ]
  },
  {
   "cell_type": "code",
   "execution_count": 38,
   "id": "8e527ae8",
   "metadata": {},
   "outputs": [],
   "source": [
    "data_seq = glob.glob(\"{}/*.csv\".format(\"../../../data/real_data_cleaned/\"))\n",
    "\n",
    "for data_name in data_seq:\n",
    "    data = pd.read_csv(data_name,header = None).to_numpy()\n",
    "    temp = data[:,0].copy()\n",
    "    data[:,0] = data[:,-1]\n",
    "    data[:,-1] = temp\n",
    "    \n",
    "    dataset_name = os.path.split(data_name)[1].split(\".\")[0]\n",
    "    \n",
    "    \n",
    "    for i in range(5):\n",
    "        X_train, X_test = train_test_split(data, test_size=0.3, random_state=i+10)\n",
    "        X_train, X_val = train_test_split(X_train, test_size=0.5, random_state=i+10)\n",
    "        np.savetxt(\"./train_{}_{}.txt\".format(i,dataset_name), X_train, delimiter=\",\")\n",
    "        np.savetxt(\"./validate_{}_{}.txt\".format(i,dataset_name), X_val, delimiter=\",\")\n",
    "        np.savetxt(\"./test_{}_{}.txt\".format(i,dataset_name), X_test, delimiter=\",\")"
   ]
  },
  {
   "cell_type": "code",
   "execution_count": 37,
   "id": "e9e2b0cc",
   "metadata": {},
   "outputs": [
    {
     "data": {
      "text/plain": [
       "'mpg_scale'"
      ]
     },
     "execution_count": 37,
     "metadata": {},
     "output_type": "execute_result"
    }
   ],
   "source": [
    "os.path.split(data_name)[1].split(\".\")[0]"
   ]
  },
  {
   "cell_type": "code",
   "execution_count": null,
   "id": "fe6a86c8",
   "metadata": {},
   "outputs": [],
   "source": []
  },
  {
   "cell_type": "code",
   "execution_count": null,
   "id": "ae63a4f6",
   "metadata": {},
   "outputs": [],
   "source": []
  }
 ],
 "metadata": {
  "kernelspec": {
   "display_name": "Python 3 (ipykernel)",
   "language": "python",
   "name": "python3"
  },
  "language_info": {
   "codemirror_mode": {
    "name": "ipython",
    "version": 3
   },
   "file_extension": ".py",
   "mimetype": "text/x-python",
   "name": "python",
   "nbconvert_exporter": "python",
   "pygments_lexer": "ipython3",
   "version": "3.8.2"
  }
 },
 "nbformat": 4,
 "nbformat_minor": 5
}
